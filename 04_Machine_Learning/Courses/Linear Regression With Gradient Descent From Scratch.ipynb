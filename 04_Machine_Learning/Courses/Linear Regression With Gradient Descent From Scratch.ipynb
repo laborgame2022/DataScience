{
 "cells": [
  {
   "cell_type": "markdown",
   "metadata": {},
   "source": [
    "# Linear Regression With Gradient Descent From Scratch\n",
    "Improve From this article: [Linear Regression With Gradient Descent From Scratch](https://medium.com/@shuklapratik22/linear-regression-with-gradient-descent-from-scratch-d03dfa90d04c)\n",
    "- Outline of the process :\n",
    "  1. Initialize beta 0 and beta 1 values.\n",
    "  2. Initialize learning rate and desired number of iterations.\n",
    "  3.Make a for loop which will run n times, where n is number of iterations.\n",
    "  4.Initialize the variables which will hold the error for a particular iteration.\n",
    "  5. Make prediction using the line equation.\n",
    "  6. Calculate the error and append it to the error array.\n",
    "  7. Calculate partial derivatives for both coefficients.\n",
    "  8. Increase the cost of both coefficients (As there are 3 data points in our dataset.)\n",
    "  9. Update the values of coefficients."
   ]
  },
  {
   "cell_type": "code",
   "execution_count": 1,
   "metadata": {},
   "outputs": [],
   "source": [
    "import numpy as np\n",
    "import matplotlib.pyplot as plt"
   ]
  },
  {
   "cell_type": "code",
   "execution_count": 2,
   "metadata": {},
   "outputs": [],
   "source": [
    "# Dataset\n",
    "X = np.array([2,4,5])\n",
    "Y = np.array([1.2,2.8,5.3])"
   ]
  },
  {
   "cell_type": "code",
   "execution_count": 3,
   "metadata": {},
   "outputs": [
    {
     "data": {
      "image/png": "[encoded data removed]",
      "text/plain": [
       "<Figure size 432x288 with 1 Axes>"
      ]
     },
     "metadata": {
      "needs_background": "light"
     },
     "output_type": "display_data"
    }
   ],
   "source": [
    "# Plotting the dataset\n",
    "plt.scatter(X, Y)\n",
    "plt.show()"
   ]
  },
  {
   "cell_type": "code",
   "execution_count": 4,
   "metadata": {},
   "outputs": [],
   "source": [
    "# Initialize the parameters\n",
    "b0 = 0 # Intercept\n",
    "b1 = 1 # Slope\n",
    "lr = 0.001 # Learning Rate\n",
    "iterations = 2000 # Number of iterations\n",
    "error = [] # Error array to calculate cost for each iterations\n",
    "n_samples = len(X)\n",
    "\n",
    "for itr in range(iterations):\n",
    "    error_cost = 0\n",
    "    cost_b0 = 0\n",
    "    cost_b1 = 0\n",
    "    \n",
    "    for i in range(n_samples):\n",
    "        y_pred = (b0 + b1*X[i]) # Predict the value for given X\n",
    "        error_cost = error_cost + (Y[i] - y_pred)**2 # Calculate the error prediction for all 3 points.\n",
    "        \n",
    "        for x, y in zip(X, Y):\n",
    "            y_pred = (b0 + b1*x)\n",
    "            partial_wrt_b0 = -2 * (y - y_pred) # Partial derivative 1\n",
    "            partial_wrt_b1 = (-2*x) * (y - y_pred) # Partial derivative 2\n",
    "            \n",
    "            cost_b0 = cost_b0 + partial_wrt_b0 # calculate cost for each number and add\n",
    "            cost_b1 = cost_b1 + partial_wrt_b1 # calculate cost for each number and add\n",
    "        \n",
    "        b0 = b0 - lr*cost_b0 # Update values\n",
    "        b1 = b1 - lr*cost_b1 # Update values\n",
    "    \n",
    "    error.append(error_cost) # Append the data in array"
   ]
  },
  {
   "cell_type": "code",
   "execution_count": 5,
   "metadata": {},
   "outputs": [
    {
     "data": {
      "text/plain": [
       "-1.6129107015401825"
      ]
     },
     "execution_count": 5,
     "metadata": {},
     "output_type": "execute_result"
    }
   ],
   "source": [
    "b0"
   ]
  },
  {
   "cell_type": "code",
   "execution_count": 6,
   "metadata": {},
   "outputs": [
    {
     "data": {
      "text/plain": [
       "1.285375965180478"
      ]
     },
     "execution_count": 6,
     "metadata": {},
     "output_type": "execute_result"
    }
   ],
   "source": [
    "b1"
   ]
  },
  {
   "cell_type": "code",
   "execution_count": 7,
   "metadata": {},
   "outputs": [],
   "source": [
    "y_pred = b0 + b1*X"
   ]
  },
  {
   "cell_type": "code",
   "execution_count": 8,
   "metadata": {},
   "outputs": [
    {
     "data": {
      "text/plain": [
       "[<matplotlib.lines.Line2D at 0x27765b70b08>]"
      ]
     },
     "execution_count": 8,
     "metadata": {},
     "output_type": "execute_result"
    },
    {
     "data": {
      "image/png": "[encoded data removed]",
      "text/plain": [
       "<Figure size 432x288 with 1 Axes>"
      ]
     },
     "metadata": {
      "needs_background": "light"
     },
     "output_type": "display_data"
    }
   ],
   "source": [
    "plt.scatter(X,Y)\n",
    "plt.plot(X, y_pred)"
   ]
  },
  {
   "cell_type": "code",
   "execution_count": 9,
   "metadata": {},
   "outputs": [
    {
     "name": "stdout",
     "output_type": "stream",
     "text": [
      "2.243217194001251\n"
     ]
    }
   ],
   "source": [
    "y_new_pred = b0 + b1*3\n",
    "print(y_new_pred)"
   ]
  },
  {
   "cell_type": "code",
   "execution_count": 10,
   "metadata": {},
   "outputs": [
    {
     "data": {
      "text/plain": [
       "Text(0, 0.5, 'Error')"
      ]
     },
     "execution_count": 10,
     "metadata": {},
     "output_type": "execute_result"
    },
    {
     "data": {
      "image/png": "[encoded data removed]",
      "text/plain": [
       "<Figure size 720x360 with 1 Axes>"
      ]
     },
     "metadata": {
      "needs_background": "light"
     },
     "output_type": "display_data"
    }
   ],
   "source": [
    "plt.figure(figsize=(10,5))\n",
    "plt.plot(np.arange(1, len(error)+1), error, color='red', linewidth=5)\n",
    "plt.title('Iteration vs Error')\n",
    "plt.xlabel('Iterations')\n",
    "plt.ylabel('Error')"
   ]
  },
  {
   "cell_type": "code",
   "execution_count": null,
   "metadata": {},
   "outputs": [],
   "source": []
  }
 ],
 "metadata": {
  "kernelspec": {
   "display_name": "Python 3",
   "language": "python",
   "name": "python3"
  },
  "language_info": {
   "codemirror_mode": {
    "name": "ipython",
    "version": 3
   },
   "file_extension": ".py",
   "mimetype": "text/x-python",
   "name": "python",
   "nbconvert_exporter": "python",
   "pygments_lexer": "ipython3",
   "version": "3.7.7"
  }
 },
 "nbformat": 4,
 "nbformat_minor": 4
}
