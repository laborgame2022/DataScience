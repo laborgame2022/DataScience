{
 "cells": [
  {
   "attachments": {},
   "cell_type": "markdown",
   "metadata": {},
   "source": [
    "# 作業\n",
    "* 選擇分類資料集(右下)-螺旋雙臂 - 交錯六群，限定特徵只能使用前兩個，隱藏層 2 層滿 (共 8 * 2 =16 個神經元)，  \n",
    "  遞迴次數只允許跑到500次，但可以自由調整 批次大小、學習速率、啟動函數、正規化選項與參數\n",
    "* 在上述限制下，挑戰看看測試誤差 (Test Loss) 最低能到多少? 請回答你的上述幾項參數與 Test Loss 數\n",
    "\n",
    "學習速率:0.3\n",
    "\n",
    "批次大小:15\n",
    "\n",
    "啟動函數:Tanh\n",
    "\n",
    "正規化選項:None\n",
    "\n",
    "正規化參數：0"
   ]
  },
  {
   "cell_type": "markdown",
   "metadata": {},
   "source": [
    "![](https://lh3.googleusercontent.com/o0hGB0PZ5ecrr5RD4tv0I-rjP-mpMAh-znA3G2zVnQVx3owcED_s8sjRs7lo41SQIXQGYvpeXVEOvC_lK7EcUPop36UFieBd1U_n9Ro49ENzIhmwjIFZcRVZFqo6NaH0PU9k9n8qjHMMRQeE9w17TcTlOjPMPHsmKjBxRZOdXpZRyX2FNJztq7N2N4eA8FIkYSBs33Qx5Mfh1j9a-vupnBte-HoWXmTa4N41mqH4vu3LEKGbF2A-npbyVO5iB_1Rd53xkiSDInVEZ-oWnQ7GebBMw0apqCPCQgyMv7cjglryse6Yu-brNl0ny9LXxV_VLfWYBaDThoWSSraWdXia5Wt-KsBsQi1FX38Jn2acM7tmWwquxiD3s4wUzKA7ADjJUt5YgyPCd3zgYEqKmt4IOJiVigWcQGgwcZ3xm5ZKy_JuYbwLt-RQpge4YgLS14mY-FA8U8MyyowlP5j0hNF_q_EZN7h8czqlPZ_TkRmCtCmKB3IfhU-hPkWnBBDb4tABEjd5W40Db9iQ83912tScYwrWZ265SPbpGhqVt-0sEfUzbUUZPn8ybe57oXh-ff980QUVeyTDMCBvPmqiq4bpt0hMd3Tv3Um7O8te4G7Na6vb6rCzzBM972o5hJ1kDtAAdfokY4mpovgMceLLBNQSo4YYUmtZjOjyGNco5BPkDkG6ikrHDkYfD6UPd2y6MNa2TApztOmQfv2ZrvyfBNg3SDc7=w928-h585-no)"
   ]
  },
  {
   "cell_type": "code",
   "execution_count": null,
   "metadata": {},
   "outputs": [],
   "source": []
  }
 ],
 "metadata": {
  "kernelspec": {
   "display_name": "Python 3",
   "language": "python",
   "name": "python3"
  },
  "language_info": {
   "codemirror_mode": {
    "name": "ipython",
    "version": 3
   },
   "file_extension": ".py",
   "mimetype": "text/x-python",
   "name": "python",
   "nbconvert_exporter": "python",
   "pygments_lexer": "ipython3",
   "version": "3.7.3"
  },
  "toc": {
   "base_numbering": 1,
   "nav_menu": {},
   "number_sections": true,
   "sideBar": true,
   "skip_h1_title": false,
   "title_cell": "Table of Contents",
   "title_sidebar": "Contents",
   "toc_cell": false,
   "toc_position": {},
   "toc_section_display": true,
   "toc_window_display": false
  },
  "varInspector": {
   "cols": {
    "lenName": 16,
    "lenType": 16,
    "lenVar": 40
   },
   "kernels_config": {
    "python": {
     "delete_cmd_postfix": "",
     "delete_cmd_prefix": "del ",
     "library": "var_list.py",
     "varRefreshCmd": "print(var_dic_list())"
    },
    "r": {
     "delete_cmd_postfix": ") ",
     "delete_cmd_prefix": "rm(",
     "library": "var_list.r",
     "varRefreshCmd": "cat(var_dic_list()) "
    }
   },
   "types_to_exclude": [
    "module",
    "function",
    "builtin_function_or_method",
    "instance",
    "_Feature"
   ],
   "window_display": false
  }
 },
 "nbformat": 4,
 "nbformat_minor": 2
}
