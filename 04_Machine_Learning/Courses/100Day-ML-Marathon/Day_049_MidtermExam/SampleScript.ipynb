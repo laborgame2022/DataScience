{
 "cells": [
  {
   "cell_type": "code",
   "execution_count": 1,
   "metadata": {
    "ExecuteTime": {
     "end_time": "2019-07-01T23:59:57.314368Z",
     "start_time": "2019-07-01T23:59:53.067112Z"
    }
   },
   "outputs": [],
   "source": [
    "#載入分析套件及資料集\n",
    "%matplotlib inline\n",
    "import pandas as pd\n",
    "import numpy as np\n",
    "import matplotlib.pyplot as plt\n",
    "import seaborn as sns\n",
    "from sklearn.ensemble import GradientBoostingClassifier\n",
    "from sklearn.model_selection import train_test_split,GridSearchCV,learning_curve,cross_val_score\n",
    "from sklearn.preprocessing import LabelEncoder,MinMaxScaler\n",
    "from sklearn import metrics\n",
    "\n",
    "#解決分類樣本數量不平衡的狀況的套件\n",
    "from imblearn.over_sampling import SMOTE"
   ]
  },
  {
   "cell_type": "code",
   "execution_count": 2,
   "metadata": {
    "ExecuteTime": {
     "end_time": "2019-07-02T00:00:03.326652Z",
     "start_time": "2019-07-02T00:00:03.314684Z"
    }
   },
   "outputs": [],
   "source": [
    "#建立資料清理函數\n",
    "\n",
    "def DataClean(df_temp):\n",
    "    num_col = ['salary', 'deferral_payments', 'total_payments', 'bonus', 'restricted_stock_deferred', 'deferred_income', 'total_stock_value', 'expenses', 'exercised_stock_options', 'other', 'long_term_incentive', 'restricted_stock', 'director_fees']\n",
    "    count_col = ['to_messages', 'from_poi_to_this_person', 'from_messages', 'from_this_person_to_poi', 'shared_receipt_with_poi'] \n",
    "    \n",
    "    df_clean=df_temp.copy()\n",
    "    #數字型欄位， 遺失值用欄位平均數來補 \n",
    "    for col in num_col:\n",
    "        df_clean[col] = df_clean[col].fillna(df_clean[col].mode())\n",
    "        df_clean[col] = df_clean[col].abs()  \n",
    "\n",
    "    #記數值欄都是郵件往來次數，所以遺失值補 0 比較合理\n",
    "    for col in count_col:\n",
    "        df_clean[col] = df_clean[col].fillna(0)\n",
    "        df_clean[col] = df_clean[col].abs()  \n",
    "    \n",
    "    df_clean['name'] = LabelEncoder().fit_transform(df_clean['name'])\n",
    "       \n",
    "    return df_clean\n",
    "\n",
    "#建立特徵工程函數\n",
    "def Feature_eng(df_temp):    \n",
    "    df_FE = df_temp.copy()\n",
    "    \n",
    "    ''' \n",
    "    新增特徵值\n",
    "    total_asset = 總薪資及獎金 + 總股票價值\n",
    "    total_communication = 收到來自POI 的郵件數量 + 發送給POI的郵件數量\n",
    "    '''\n",
    "\n",
    "    df_FE['total_asset'] = df_FE['total_payments'] + df_FE['total_stock_value']\n",
    "    df_FE['total_communication'] = df_FE['from_poi_to_this_person'] + df_FE['from_this_person_to_poi']\n",
    "    \n",
    "    df_FE = df_FE.fillna(0)\n",
    "   \n",
    "    return df_FE"
   ]
  },
  {
   "cell_type": "code",
   "execution_count": 3,
   "metadata": {
    "ExecuteTime": {
     "end_time": "2019-07-02T00:01:27.206534Z",
     "start_time": "2019-07-02T00:01:27.183046Z"
    }
   },
   "outputs": [
    {
     "name": "stdout",
     "output_type": "stream",
     "text": [
      "<class 'pandas.core.frame.DataFrame'>\n",
      "RangeIndex: 113 entries, 0 to 112\n",
      "Data columns (total 22 columns):\n",
      "name                         113 non-null object\n",
      "bonus                        61 non-null float64\n",
      "deferral_payments            28 non-null float64\n",
      "deferred_income              34 non-null float64\n",
      "director_fees                13 non-null float64\n",
      "email_address                83 non-null object\n",
      "exercised_stock_options      81 non-null float64\n",
      "expenses                     73 non-null float64\n",
      "from_messages                65 non-null float64\n",
      "from_poi_to_this_person      65 non-null float64\n",
      "from_this_person_to_poi      65 non-null float64\n",
      "loan_advances                2 non-null float64\n",
      "long_term_incentive          49 non-null float64\n",
      "other                        69 non-null float64\n",
      "poi                          113 non-null bool\n",
      "restricted_stock             82 non-null float64\n",
      "restricted_stock_deferred    10 non-null float64\n",
      "salary                       73 non-null float64\n",
      "shared_receipt_with_poi      65 non-null float64\n",
      "to_messages                  65 non-null float64\n",
      "total_payments               96 non-null float64\n",
      "total_stock_value            98 non-null float64\n",
      "dtypes: bool(1), float64(19), object(2)\n",
      "memory usage: 18.7+ KB\n"
     ]
    }
   ],
   "source": [
    "#讀取資料集\n",
    "df = pd.read_csv('C:/Users/TL_Yu/Documents/GitHub/100Day-ML-Marathon/Day_049_MidtermExam/train_data.csv')\n",
    "train_Y = df['poi']\n",
    "\n",
    "df.info()"
   ]
  },
  {
   "cell_type": "code",
   "execution_count": 4,
   "metadata": {
    "ExecuteTime": {
     "end_time": "2019-07-02T00:01:43.770630Z",
     "start_time": "2019-07-02T00:01:43.764646Z"
    }
   },
   "outputs": [],
   "source": [
    "#email address 欄位沒有特別意義先拿掉， loan_advances 欄位缺失值太多，不具代表意義，所以也移除，poi 是分類標籤所以也拿掉\n",
    "df= df.drop(['poi','email_address','loan_advances'],axis=1)"
   ]
  },
  {
   "cell_type": "code",
   "execution_count": 5,
   "metadata": {
    "ExecuteTime": {
     "end_time": "2019-07-02T00:01:50.213231Z",
     "start_time": "2019-07-02T00:01:50.071556Z"
    }
   },
   "outputs": [
    {
     "data": {
      "text/html": [
       "<div>\n",
       "<style scoped>\n",
       "    .dataframe tbody tr th:only-of-type {\n",
       "        vertical-align: middle;\n",
       "    }\n",
       "\n",
       "    .dataframe tbody tr th {\n",
       "        vertical-align: top;\n",
       "    }\n",
       "\n",
       "    .dataframe thead th {\n",
       "        text-align: right;\n",
       "    }\n",
       "</style>\n",
       "<table border=\"1\" class=\"dataframe\">\n",
       "  <thead>\n",
       "    <tr style=\"text-align: right;\">\n",
       "      <th></th>\n",
       "      <th>name</th>\n",
       "      <th>bonus</th>\n",
       "      <th>deferral_payments</th>\n",
       "      <th>deferred_income</th>\n",
       "      <th>director_fees</th>\n",
       "      <th>exercised_stock_options</th>\n",
       "      <th>expenses</th>\n",
       "      <th>from_messages</th>\n",
       "      <th>from_poi_to_this_person</th>\n",
       "      <th>from_this_person_to_poi</th>\n",
       "      <th>...</th>\n",
       "      <th>other</th>\n",
       "      <th>restricted_stock</th>\n",
       "      <th>restricted_stock_deferred</th>\n",
       "      <th>salary</th>\n",
       "      <th>shared_receipt_with_poi</th>\n",
       "      <th>to_messages</th>\n",
       "      <th>total_payments</th>\n",
       "      <th>total_stock_value</th>\n",
       "      <th>total_asset</th>\n",
       "      <th>total_communication</th>\n",
       "    </tr>\n",
       "  </thead>\n",
       "  <tbody>\n",
       "    <tr>\n",
       "      <th>count</th>\n",
       "      <td>113.00000</td>\n",
       "      <td>1.130000e+02</td>\n",
       "      <td>1.130000e+02</td>\n",
       "      <td>1.130000e+02</td>\n",
       "      <td>113.000000</td>\n",
       "      <td>1.130000e+02</td>\n",
       "      <td>113.000000</td>\n",
       "      <td>113.000000</td>\n",
       "      <td>113.000000</td>\n",
       "      <td>113.000000</td>\n",
       "      <td>...</td>\n",
       "      <td>1.130000e+02</td>\n",
       "      <td>1.130000e+02</td>\n",
       "      <td>113.000000</td>\n",
       "      <td>1.130000e+02</td>\n",
       "      <td>113.000000</td>\n",
       "      <td>113.000000</td>\n",
       "      <td>1.130000e+02</td>\n",
       "      <td>1.130000e+02</td>\n",
       "      <td>1.130000e+02</td>\n",
       "      <td>113.000000</td>\n",
       "    </tr>\n",
       "    <tr>\n",
       "      <th>mean</th>\n",
       "      <td>56.00000</td>\n",
       "      <td>6.194126e+05</td>\n",
       "      <td>3.033747e+05</td>\n",
       "      <td>1.391793e+05</td>\n",
       "      <td>20569.415929</td>\n",
       "      <td>2.139748e+06</td>\n",
       "      <td>32973.097345</td>\n",
       "      <td>409.168142</td>\n",
       "      <td>37.274336</td>\n",
       "      <td>23.061947</td>\n",
       "      <td>...</td>\n",
       "      <td>3.286061e+05</td>\n",
       "      <td>9.396291e+05</td>\n",
       "      <td>40832.619469</td>\n",
       "      <td>2.376472e+05</td>\n",
       "      <td>639.283186</td>\n",
       "      <td>1240.212389</td>\n",
       "      <td>2.416590e+06</td>\n",
       "      <td>3.059712e+06</td>\n",
       "      <td>5.379631e+06</td>\n",
       "      <td>60.336283</td>\n",
       "    </tr>\n",
       "    <tr>\n",
       "      <th>std</th>\n",
       "      <td>32.76431</td>\n",
       "      <td>1.242456e+06</td>\n",
       "      <td>6.766507e+05</td>\n",
       "      <td>4.883707e+05</td>\n",
       "      <td>42321.857381</td>\n",
       "      <td>5.251192e+06</td>\n",
       "      <td>45358.746287</td>\n",
       "      <td>1607.452015</td>\n",
       "      <td>76.533402</td>\n",
       "      <td>70.089392</td>\n",
       "      <td>...</td>\n",
       "      <td>1.076375e+06</td>\n",
       "      <td>2.202460e+06</td>\n",
       "      <td>117796.853724</td>\n",
       "      <td>1.965296e+05</td>\n",
       "      <td>1039.799616</td>\n",
       "      <td>2379.796707</td>\n",
       "      <td>9.784445e+06</td>\n",
       "      <td>6.791577e+06</td>\n",
       "      <td>1.519515e+07</td>\n",
       "      <td>132.743214</td>\n",
       "    </tr>\n",
       "    <tr>\n",
       "      <th>min</th>\n",
       "      <td>0.00000</td>\n",
       "      <td>0.000000e+00</td>\n",
       "      <td>0.000000e+00</td>\n",
       "      <td>0.000000e+00</td>\n",
       "      <td>0.000000</td>\n",
       "      <td>0.000000e+00</td>\n",
       "      <td>0.000000</td>\n",
       "      <td>0.000000</td>\n",
       "      <td>0.000000</td>\n",
       "      <td>0.000000</td>\n",
       "      <td>...</td>\n",
       "      <td>0.000000e+00</td>\n",
       "      <td>0.000000e+00</td>\n",
       "      <td>0.000000</td>\n",
       "      <td>0.000000e+00</td>\n",
       "      <td>0.000000</td>\n",
       "      <td>0.000000</td>\n",
       "      <td>0.000000e+00</td>\n",
       "      <td>0.000000e+00</td>\n",
       "      <td>0.000000e+00</td>\n",
       "      <td>0.000000</td>\n",
       "    </tr>\n",
       "    <tr>\n",
       "      <th>25%</th>\n",
       "      <td>28.00000</td>\n",
       "      <td>0.000000e+00</td>\n",
       "      <td>0.000000e+00</td>\n",
       "      <td>0.000000e+00</td>\n",
       "      <td>0.000000</td>\n",
       "      <td>0.000000e+00</td>\n",
       "      <td>0.000000</td>\n",
       "      <td>0.000000</td>\n",
       "      <td>0.000000</td>\n",
       "      <td>0.000000</td>\n",
       "      <td>...</td>\n",
       "      <td>1.760000e+02</td>\n",
       "      <td>0.000000e+00</td>\n",
       "      <td>0.000000</td>\n",
       "      <td>1.584030e+05</td>\n",
       "      <td>0.000000</td>\n",
       "      <td>0.000000</td>\n",
       "      <td>2.497870e+05</td>\n",
       "      <td>2.211410e+05</td>\n",
       "      <td>1.015896e+06</td>\n",
       "      <td>0.000000</td>\n",
       "    </tr>\n",
       "    <tr>\n",
       "      <th>50%</th>\n",
       "      <td>56.00000</td>\n",
       "      <td>2.500000e+05</td>\n",
       "      <td>0.000000e+00</td>\n",
       "      <td>0.000000e+00</td>\n",
       "      <td>0.000000</td>\n",
       "      <td>4.934890e+05</td>\n",
       "      <td>16514.000000</td>\n",
       "      <td>16.000000</td>\n",
       "      <td>0.000000</td>\n",
       "      <td>0.000000</td>\n",
       "      <td>...</td>\n",
       "      <td>2.856000e+03</td>\n",
       "      <td>3.605280e+05</td>\n",
       "      <td>0.000000</td>\n",
       "      <td>2.473380e+05</td>\n",
       "      <td>71.000000</td>\n",
       "      <td>232.000000</td>\n",
       "      <td>1.099100e+06</td>\n",
       "      <td>8.802900e+05</td>\n",
       "      <td>2.217774e+06</td>\n",
       "      <td>4.000000</td>\n",
       "    </tr>\n",
       "    <tr>\n",
       "      <th>75%</th>\n",
       "      <td>84.00000</td>\n",
       "      <td>7.500000e+05</td>\n",
       "      <td>1.819930e+05</td>\n",
       "      <td>2.500000e+04</td>\n",
       "      <td>0.000000</td>\n",
       "      <td>1.624396e+06</td>\n",
       "      <td>50080.000000</td>\n",
       "      <td>59.000000</td>\n",
       "      <td>37.000000</td>\n",
       "      <td>11.000000</td>\n",
       "      <td>...</td>\n",
       "      <td>2.774640e+05</td>\n",
       "      <td>6.982420e+05</td>\n",
       "      <td>0.000000</td>\n",
       "      <td>2.885420e+05</td>\n",
       "      <td>742.000000</td>\n",
       "      <td>1433.000000</td>\n",
       "      <td>1.934359e+06</td>\n",
       "      <td>2.072035e+06</td>\n",
       "      <td>4.618918e+06</td>\n",
       "      <td>50.000000</td>\n",
       "    </tr>\n",
       "    <tr>\n",
       "      <th>max</th>\n",
       "      <td>112.00000</td>\n",
       "      <td>8.000000e+06</td>\n",
       "      <td>2.964506e+06</td>\n",
       "      <td>3.504386e+06</td>\n",
       "      <td>125034.000000</td>\n",
       "      <td>3.434838e+07</td>\n",
       "      <td>228763.000000</td>\n",
       "      <td>14368.000000</td>\n",
       "      <td>528.000000</td>\n",
       "      <td>411.000000</td>\n",
       "      <td>...</td>\n",
       "      <td>1.035973e+07</td>\n",
       "      <td>1.476169e+07</td>\n",
       "      <td>560222.000000</td>\n",
       "      <td>1.111258e+06</td>\n",
       "      <td>4527.000000</td>\n",
       "      <td>15149.000000</td>\n",
       "      <td>1.035598e+08</td>\n",
       "      <td>4.911008e+07</td>\n",
       "      <td>1.526699e+08</td>\n",
       "      <td>939.000000</td>\n",
       "    </tr>\n",
       "  </tbody>\n",
       "</table>\n",
       "<p>8 rows × 21 columns</p>\n",
       "</div>"
      ],
      "text/plain": [
       "            name         bonus  deferral_payments  deferred_income  \\\n",
       "count  113.00000  1.130000e+02       1.130000e+02     1.130000e+02   \n",
       "mean    56.00000  6.194126e+05       3.033747e+05     1.391793e+05   \n",
       "std     32.76431  1.242456e+06       6.766507e+05     4.883707e+05   \n",
       "min      0.00000  0.000000e+00       0.000000e+00     0.000000e+00   \n",
       "25%     28.00000  0.000000e+00       0.000000e+00     0.000000e+00   \n",
       "50%     56.00000  2.500000e+05       0.000000e+00     0.000000e+00   \n",
       "75%     84.00000  7.500000e+05       1.819930e+05     2.500000e+04   \n",
       "max    112.00000  8.000000e+06       2.964506e+06     3.504386e+06   \n",
       "\n",
       "       director_fees  exercised_stock_options       expenses  from_messages  \\\n",
       "count     113.000000             1.130000e+02     113.000000     113.000000   \n",
       "mean    20569.415929             2.139748e+06   32973.097345     409.168142   \n",
       "std     42321.857381             5.251192e+06   45358.746287    1607.452015   \n",
       "min         0.000000             0.000000e+00       0.000000       0.000000   \n",
       "25%         0.000000             0.000000e+00       0.000000       0.000000   \n",
       "50%         0.000000             4.934890e+05   16514.000000      16.000000   \n",
       "75%         0.000000             1.624396e+06   50080.000000      59.000000   \n",
       "max    125034.000000             3.434838e+07  228763.000000   14368.000000   \n",
       "\n",
       "       from_poi_to_this_person  from_this_person_to_poi  ...         other  \\\n",
       "count               113.000000               113.000000  ...  1.130000e+02   \n",
       "mean                 37.274336                23.061947  ...  3.286061e+05   \n",
       "std                  76.533402                70.089392  ...  1.076375e+06   \n",
       "min                   0.000000                 0.000000  ...  0.000000e+00   \n",
       "25%                   0.000000                 0.000000  ...  1.760000e+02   \n",
       "50%                   0.000000                 0.000000  ...  2.856000e+03   \n",
       "75%                  37.000000                11.000000  ...  2.774640e+05   \n",
       "max                 528.000000               411.000000  ...  1.035973e+07   \n",
       "\n",
       "       restricted_stock  restricted_stock_deferred        salary  \\\n",
       "count      1.130000e+02                 113.000000  1.130000e+02   \n",
       "mean       9.396291e+05               40832.619469  2.376472e+05   \n",
       "std        2.202460e+06              117796.853724  1.965296e+05   \n",
       "min        0.000000e+00                   0.000000  0.000000e+00   \n",
       "25%        0.000000e+00                   0.000000  1.584030e+05   \n",
       "50%        3.605280e+05                   0.000000  2.473380e+05   \n",
       "75%        6.982420e+05                   0.000000  2.885420e+05   \n",
       "max        1.476169e+07              560222.000000  1.111258e+06   \n",
       "\n",
       "       shared_receipt_with_poi   to_messages  total_payments  \\\n",
       "count               113.000000    113.000000    1.130000e+02   \n",
       "mean                639.283186   1240.212389    2.416590e+06   \n",
       "std                1039.799616   2379.796707    9.784445e+06   \n",
       "min                   0.000000      0.000000    0.000000e+00   \n",
       "25%                   0.000000      0.000000    2.497870e+05   \n",
       "50%                  71.000000    232.000000    1.099100e+06   \n",
       "75%                 742.000000   1433.000000    1.934359e+06   \n",
       "max                4527.000000  15149.000000    1.035598e+08   \n",
       "\n",
       "       total_stock_value   total_asset  total_communication  \n",
       "count       1.130000e+02  1.130000e+02           113.000000  \n",
       "mean        3.059712e+06  5.379631e+06            60.336283  \n",
       "std         6.791577e+06  1.519515e+07           132.743214  \n",
       "min         0.000000e+00  0.000000e+00             0.000000  \n",
       "25%         2.211410e+05  1.015896e+06             0.000000  \n",
       "50%         8.802900e+05  2.217774e+06             4.000000  \n",
       "75%         2.072035e+06  4.618918e+06            50.000000  \n",
       "max         4.911008e+07  1.526699e+08           939.000000  \n",
       "\n",
       "[8 rows x 21 columns]"
      ]
     },
     "execution_count": 5,
     "metadata": {},
     "output_type": "execute_result"
    }
   ],
   "source": [
    "\n",
    "#對訓練資料集做資料清理及特徵工程\n",
    "df_train = DataClean(df)\n",
    "df_train = Feature_eng(df_train)\n",
    "df_train.describe()"
   ]
  },
  {
   "cell_type": "code",
   "execution_count": 6,
   "metadata": {
    "ExecuteTime": {
     "end_time": "2019-07-02T00:01:56.348194Z",
     "start_time": "2019-07-02T00:01:56.295820Z"
    }
   },
   "outputs": [
    {
     "data": {
      "text/html": [
       "<div>\n",
       "<style scoped>\n",
       "    .dataframe tbody tr th:only-of-type {\n",
       "        vertical-align: middle;\n",
       "    }\n",
       "\n",
       "    .dataframe tbody tr th {\n",
       "        vertical-align: top;\n",
       "    }\n",
       "\n",
       "    .dataframe thead th {\n",
       "        text-align: right;\n",
       "    }\n",
       "</style>\n",
       "<table border=\"1\" class=\"dataframe\">\n",
       "  <thead>\n",
       "    <tr style=\"text-align: right;\">\n",
       "      <th></th>\n",
       "      <th>name</th>\n",
       "      <th>bonus</th>\n",
       "      <th>deferral_payments</th>\n",
       "      <th>deferred_income</th>\n",
       "      <th>director_fees</th>\n",
       "      <th>exercised_stock_options</th>\n",
       "      <th>expenses</th>\n",
       "      <th>from_messages</th>\n",
       "      <th>from_poi_to_this_person</th>\n",
       "      <th>from_this_person_to_poi</th>\n",
       "      <th>...</th>\n",
       "      <th>other</th>\n",
       "      <th>restricted_stock</th>\n",
       "      <th>restricted_stock_deferred</th>\n",
       "      <th>salary</th>\n",
       "      <th>shared_receipt_with_poi</th>\n",
       "      <th>to_messages</th>\n",
       "      <th>total_payments</th>\n",
       "      <th>total_stock_value</th>\n",
       "      <th>total_asset</th>\n",
       "      <th>total_communication</th>\n",
       "    </tr>\n",
       "  </thead>\n",
       "  <tbody>\n",
       "    <tr>\n",
       "      <th>0</th>\n",
       "      <td>84</td>\n",
       "      <td>1750000.0</td>\n",
       "      <td>102500.0</td>\n",
       "      <td>3504386.0</td>\n",
       "      <td>3285.0</td>\n",
       "      <td>19794175.0</td>\n",
       "      <td>46950.0</td>\n",
       "      <td>18.0</td>\n",
       "      <td>42.0</td>\n",
       "      <td>4.0</td>\n",
       "      <td>...</td>\n",
       "      <td>174839.0</td>\n",
       "      <td>2748364.0</td>\n",
       "      <td>560222.0</td>\n",
       "      <td>420636.0</td>\n",
       "      <td>864.0</td>\n",
       "      <td>905.0</td>\n",
       "      <td>505050.0</td>\n",
       "      <td>22542539.0</td>\n",
       "      <td>23047589.0</td>\n",
       "      <td>46.0</td>\n",
       "    </tr>\n",
       "    <tr>\n",
       "      <th>1</th>\n",
       "      <td>92</td>\n",
       "      <td>5600000.0</td>\n",
       "      <td>7961.0</td>\n",
       "      <td>0.0</td>\n",
       "      <td>17500.0</td>\n",
       "      <td>19250000.0</td>\n",
       "      <td>29336.0</td>\n",
       "      <td>108.0</td>\n",
       "      <td>88.0</td>\n",
       "      <td>30.0</td>\n",
       "      <td>...</td>\n",
       "      <td>22122.0</td>\n",
       "      <td>6843672.0</td>\n",
       "      <td>472568.0</td>\n",
       "      <td>1111258.0</td>\n",
       "      <td>2042.0</td>\n",
       "      <td>3627.0</td>\n",
       "      <td>8682716.0</td>\n",
       "      <td>26093672.0</td>\n",
       "      <td>34776388.0</td>\n",
       "      <td>118.0</td>\n",
       "    </tr>\n",
       "    <tr>\n",
       "      <th>2</th>\n",
       "      <td>91</td>\n",
       "      <td>200000.0</td>\n",
       "      <td>10259.0</td>\n",
       "      <td>4167.0</td>\n",
       "      <td>36666.0</td>\n",
       "      <td>1624396.0</td>\n",
       "      <td>22884.0</td>\n",
       "      <td>39.0</td>\n",
       "      <td>13.0</td>\n",
       "      <td>14.0</td>\n",
       "      <td>...</td>\n",
       "      <td>1573324.0</td>\n",
       "      <td>869220.0</td>\n",
       "      <td>409554.0</td>\n",
       "      <td>211844.0</td>\n",
       "      <td>91.0</td>\n",
       "      <td>225.0</td>\n",
       "      <td>2003885.0</td>\n",
       "      <td>2493616.0</td>\n",
       "      <td>4497501.0</td>\n",
       "      <td>27.0</td>\n",
       "    </tr>\n",
       "    <tr>\n",
       "      <th>3</th>\n",
       "      <td>58</td>\n",
       "      <td>800000.0</td>\n",
       "      <td>16586.0</td>\n",
       "      <td>0.0</td>\n",
       "      <td>101250.0</td>\n",
       "      <td>0.0</td>\n",
       "      <td>118134.0</td>\n",
       "      <td>0.0</td>\n",
       "      <td>0.0</td>\n",
       "      <td>0.0</td>\n",
       "      <td>...</td>\n",
       "      <td>907502.0</td>\n",
       "      <td>985032.0</td>\n",
       "      <td>329825.0</td>\n",
       "      <td>224305.0</td>\n",
       "      <td>0.0</td>\n",
       "      <td>0.0</td>\n",
       "      <td>2652612.0</td>\n",
       "      <td>985032.0</td>\n",
       "      <td>3637644.0</td>\n",
       "      <td>0.0</td>\n",
       "    </tr>\n",
       "    <tr>\n",
       "      <th>4</th>\n",
       "      <td>15</td>\n",
       "      <td>1250000.0</td>\n",
       "      <td>27610.0</td>\n",
       "      <td>262500.0</td>\n",
       "      <td>102492.0</td>\n",
       "      <td>0.0</td>\n",
       "      <td>35818.0</td>\n",
       "      <td>144.0</td>\n",
       "      <td>199.0</td>\n",
       "      <td>25.0</td>\n",
       "      <td>...</td>\n",
       "      <td>486.0</td>\n",
       "      <td>126027.0</td>\n",
       "      <td>153686.0</td>\n",
       "      <td>240189.0</td>\n",
       "      <td>2188.0</td>\n",
       "      <td>2598.0</td>\n",
       "      <td>1639297.0</td>\n",
       "      <td>126027.0</td>\n",
       "      <td>1765324.0</td>\n",
       "      <td>224.0</td>\n",
       "    </tr>\n",
       "  </tbody>\n",
       "</table>\n",
       "<p>5 rows × 21 columns</p>\n",
       "</div>"
      ],
      "text/plain": [
       "   name      bonus  deferral_payments  deferred_income  director_fees  \\\n",
       "0    84  1750000.0           102500.0        3504386.0         3285.0   \n",
       "1    92  5600000.0             7961.0              0.0        17500.0   \n",
       "2    91   200000.0            10259.0           4167.0        36666.0   \n",
       "3    58   800000.0            16586.0              0.0       101250.0   \n",
       "4    15  1250000.0            27610.0         262500.0       102492.0   \n",
       "\n",
       "   exercised_stock_options  expenses  from_messages  from_poi_to_this_person  \\\n",
       "0               19794175.0   46950.0           18.0                     42.0   \n",
       "1               19250000.0   29336.0          108.0                     88.0   \n",
       "2                1624396.0   22884.0           39.0                     13.0   \n",
       "3                      0.0  118134.0            0.0                      0.0   \n",
       "4                      0.0   35818.0          144.0                    199.0   \n",
       "\n",
       "   from_this_person_to_poi  ...      other  restricted_stock  \\\n",
       "0                      4.0  ...   174839.0         2748364.0   \n",
       "1                     30.0  ...    22122.0         6843672.0   \n",
       "2                     14.0  ...  1573324.0          869220.0   \n",
       "3                      0.0  ...   907502.0          985032.0   \n",
       "4                     25.0  ...      486.0          126027.0   \n",
       "\n",
       "   restricted_stock_deferred     salary  shared_receipt_with_poi  to_messages  \\\n",
       "0                   560222.0   420636.0                    864.0        905.0   \n",
       "1                   472568.0  1111258.0                   2042.0       3627.0   \n",
       "2                   409554.0   211844.0                     91.0        225.0   \n",
       "3                   329825.0   224305.0                      0.0          0.0   \n",
       "4                   153686.0   240189.0                   2188.0       2598.0   \n",
       "\n",
       "   total_payments  total_stock_value  total_asset  total_communication  \n",
       "0        505050.0         22542539.0   23047589.0                 46.0  \n",
       "1       8682716.0         26093672.0   34776388.0                118.0  \n",
       "2       2003885.0          2493616.0    4497501.0                 27.0  \n",
       "3       2652612.0           985032.0    3637644.0                  0.0  \n",
       "4       1639297.0           126027.0    1765324.0                224.0  \n",
       "\n",
       "[5 rows x 21 columns]"
      ]
     },
     "execution_count": 6,
     "metadata": {},
     "output_type": "execute_result"
    }
   ],
   "source": [
    "df_train.head()"
   ]
  },
  {
   "cell_type": "code",
   "execution_count": 7,
   "metadata": {
    "ExecuteTime": {
     "end_time": "2019-07-02T00:02:11.226012Z",
     "start_time": "2019-07-02T00:02:08.144628Z"
    }
   },
   "outputs": [
    {
     "data": {
      "image/png": "[encoded data removed]",
      "text/plain": [
       "<Figure size 1080x5760 with 21 Axes>"
      ]
     },
     "metadata": {
      "needs_background": "light"
     },
     "output_type": "display_data"
    }
   ],
   "source": [
    "#將訓練資料集的每個特徵值畫出值發圖看資料分布\n",
    "fig_cols = 4\n",
    "fig_rows = len(df_train.columns)\n",
    "\n",
    "plt.figure(figsize=(15,80))\n",
    "for i,col in enumerate (df_train.columns):\n",
    "    plt.subplot(fig_rows,fig_cols,i+1)\n",
    "    df_train[col].hist()\n",
    "    plt.title(str(col))\n",
    "plt.show()"
   ]
  },
  {
   "cell_type": "code",
   "execution_count": 8,
   "metadata": {
    "ExecuteTime": {
     "end_time": "2019-07-02T00:02:20.774644Z",
     "start_time": "2019-07-02T00:02:20.631514Z"
    }
   },
   "outputs": [
    {
     "name": "stdout",
     "output_type": "stream",
     "text": [
      "The POI are 13 , The Non-POI are 100\n"
     ]
    },
    {
     "data": {
      "image/png": "[encoded data removed]",
      "text/plain": [
       "<Figure size 432x288 with 1 Axes>"
      ]
     },
     "metadata": {
      "needs_background": "light"
     },
     "output_type": "display_data"
    }
   ],
   "source": [
    "#顯示訓練資料集中 POI 的數量 \n",
    "POI_num = [len(train_Y[train_Y==True]),len(train_Y[train_Y==False])]\n",
    "print(f'The POI are {POI_num[0]} , The Non-POI are {POI_num[1]}')\n",
    "plt.title('POI summary')\n",
    "plt.bar(['POI', 'Non_POI'],POI_num);"
   ]
  },
  {
   "cell_type": "code",
   "execution_count": 9,
   "metadata": {
    "ExecuteTime": {
     "end_time": "2019-07-02T00:02:30.237099Z",
     "start_time": "2019-07-02T00:02:30.220117Z"
    }
   },
   "outputs": [],
   "source": [
    "#將訓練資料集透過 SMOTE 技術，將不平衡的 POI Label 調整為 True :Fales = 1:1  \n",
    "sm = SMOTE(random_state=4)\n",
    "train_data_res,train_Y_res = sm.fit_sample(df_train, train_Y.ravel())\n",
    "train_data_res = pd.DataFrame(train_data_res,columns=df_train.columns)"
   ]
  },
  {
   "cell_type": "code",
   "execution_count": 10,
   "metadata": {
    "ExecuteTime": {
     "end_time": "2019-07-02T00:02:37.591280Z",
     "start_time": "2019-07-02T00:02:37.520470Z"
    }
   },
   "outputs": [
    {
     "data": {
      "text/plain": [
       "director_fees                7.699116e-01\n",
       "total_asset                  2.300884e-01\n",
       "restricted_stock_deferred    9.225829e-08\n",
       "total_communication          0.000000e+00\n",
       "from_poi_to_this_person      0.000000e+00\n",
       "bonus                        0.000000e+00\n",
       "deferral_payments            0.000000e+00\n",
       "deferred_income              0.000000e+00\n",
       "exercised_stock_options      0.000000e+00\n",
       "expenses                     0.000000e+00\n",
       "from_messages                0.000000e+00\n",
       "long_term_incentive          0.000000e+00\n",
       "from_this_person_to_poi      0.000000e+00\n",
       "other                        0.000000e+00\n",
       "restricted_stock             0.000000e+00\n",
       "salary                       0.000000e+00\n",
       "shared_receipt_with_poi      0.000000e+00\n",
       "to_messages                  0.000000e+00\n",
       "total_payments               0.000000e+00\n",
       "total_stock_value            0.000000e+00\n",
       "name                         0.000000e+00\n",
       "dtype: float64"
      ]
     },
     "execution_count": 10,
     "metadata": {},
     "output_type": "execute_result"
    }
   ],
   "source": [
    "#建立梯度提升機\n",
    "GBclf = GradientBoostingClassifier()\n",
    "\n",
    "#特徵選擇\n",
    "GBclf.fit(train_data_res, train_Y_res)\n",
    "feats = pd.Series(data=GBclf.feature_importances_, index=train_data_res.columns)\n",
    "feats = feats.sort_values(ascending=False)\n",
    "feats"
   ]
  },
  {
   "cell_type": "code",
   "execution_count": 11,
   "metadata": {
    "ExecuteTime": {
     "end_time": "2019-07-02T00:02:49.504748Z",
     "start_time": "2019-07-02T00:02:49.258893Z"
    }
   },
   "outputs": [
    {
     "data": {
      "image/png": "[encoded data removed]",
      "text/plain": [
       "<Figure size 432x288 with 1 Axes>"
      ]
     },
     "metadata": {
      "needs_background": "light"
     },
     "output_type": "display_data"
    }
   ],
   "source": [
    "plt.title('Top features')\n",
    "plt.barh(feats.index,feats*100)\n",
    "plt.show()"
   ]
  },
  {
   "cell_type": "code",
   "execution_count": 12,
   "metadata": {
    "ExecuteTime": {
     "end_time": "2019-07-02T00:03:02.177650Z",
     "start_time": "2019-07-02T00:02:59.404775Z"
    }
   },
   "outputs": [],
   "source": [
    "vaidScore=[]\n",
    "accScore=[]\n",
    "recallScore=[]\n",
    "F1Score=[]\n",
    "randomState=4\n",
    "\n",
    "for i in range(1,(len(train_data_res.columns)+1)//2):\n",
    "    topfeatures = list(feats[:i].index)\n",
    "    x_train, x_test, y_train, y_test = train_test_split(train_data_res[topfeatures],train_Y_res,\n",
    "                                                    test_size=0.25, random_state=randomState)  \n",
    "    GBclf.fit(x_train, y_train)\n",
    "    y_pred = GBclf.predict(x_test)\n",
    "\n",
    "    accScore.append(GBclf.score(x_test,y_test))\n",
    "    vaidScore.append(cross_val_score(GBclf, x_train, y_train, cv=7).mean())\n",
    "    recallScore.append(metrics.recall_score(y_true=y_test,y_pred=y_pred))\n",
    "    F1Score.append(metrics.f1_score(y_true=y_test,y_pred=y_pred))"
   ]
  },
  {
   "cell_type": "code",
   "execution_count": 13,
   "metadata": {
    "ExecuteTime": {
     "end_time": "2019-07-02T00:03:07.868438Z",
     "start_time": "2019-07-02T00:03:07.662470Z"
    }
   },
   "outputs": [
    {
     "data": {
      "image/png": "[encoded data removed]",
      "text/plain": [
       "<Figure size 432x288 with 1 Axes>"
      ]
     },
     "metadata": {
      "needs_background": "light"
     },
     "output_type": "display_data"
    }
   ],
   "source": [
    "plt.plot(range(len(train_data_res.columns)//2),accScore,color='blue',label='training accuracy Score')\n",
    "plt.plot(range(len(train_data_res.columns)//2),vaidScore,color='red',label='valid cccuracy Score')\n",
    "\n",
    "plt.legend(loc='lower right')\n",
    "plt.title('The Accuracy Score for top_frature numbers')\n",
    "plt.xlabel('number of top_features')\n",
    "plt.ylabel('Accuracy score')\n",
    "plt.show()"
   ]
  },
  {
   "cell_type": "code",
   "execution_count": 14,
   "metadata": {
    "ExecuteTime": {
     "end_time": "2019-07-02T00:03:17.428217Z",
     "start_time": "2019-07-02T00:03:17.251657Z"
    }
   },
   "outputs": [
    {
     "data": {
      "image/png": "[encoded data removed]",
      "text/plain": [
       "<Figure size 432x288 with 1 Axes>"
      ]
     },
     "metadata": {
      "needs_background": "light"
     },
     "output_type": "display_data"
    }
   ],
   "source": [
    "\n",
    "plt.plot(range(len(train_data_res.columns)//2),recallScore,color='green',label='recall accuracy Score')\n",
    "plt.plot(range(len(train_data_res.columns)//2),F1Score,linestyle='--',color='red',label='F1 Score')\n",
    "plt.legend(loc='lower right')\n",
    "plt.title('The F1 Score for top_frature numbers')\n",
    "plt.xlabel('number of top_features')\n",
    "plt.ylabel('score')\n",
    "plt.show()"
   ]
  },
  {
   "cell_type": "code",
   "execution_count": 15,
   "metadata": {
    "ExecuteTime": {
     "end_time": "2019-07-02T00:03:24.720476Z",
     "start_time": "2019-07-02T00:03:24.709504Z"
    }
   },
   "outputs": [],
   "source": [
    "#分割訓練資料集及驗證資料集\n",
    "topfeatures = list(feats[:5].index)\n",
    "\n",
    "x_train, x_test, y_train, y_test = train_test_split(train_data_res[topfeatures],train_Y_res,\n",
    "                                                    test_size=0.25, random_state=randomState)"
   ]
  },
  {
   "cell_type": "code",
   "execution_count": 16,
   "metadata": {
    "ExecuteTime": {
     "end_time": "2019-07-02T00:03:39.716715Z",
     "start_time": "2019-07-02T00:03:34.216561Z"
    }
   },
   "outputs": [],
   "source": [
    "#使用前五大特徵值來畫模型的學習曲線\n",
    "cv=7\n",
    "\n",
    "train_sizes,train_scores,test_scores=learning_curve(estimator=GBclf,X=x_train,y=y_train,\n",
    "                                                    train_sizes=np.linspace(0.1,1.0,10),\n",
    "                                                     cv=cv,n_jobs=-1)\n",
    "train_mean=np.mean(train_scores,axis=1)\n",
    "train_std=np.std(train_scores,axis=1)\n",
    "test_mean=np.mean(test_scores,axis=1)\n",
    "test_std=np.std(test_scores,axis=1)"
   ]
  },
  {
   "cell_type": "code",
   "execution_count": 17,
   "metadata": {
    "ExecuteTime": {
     "end_time": "2019-07-02T00:03:41.743642Z",
     "start_time": "2019-07-02T00:03:41.563066Z"
    }
   },
   "outputs": [
    {
     "data": {
      "image/png": "[encoded data removed]",
      "text/plain": [
       "<Figure size 432x288 with 1 Axes>"
      ]
     },
     "metadata": {
      "needs_background": "light"
     },
     "output_type": "display_data"
    }
   ],
   "source": [
    "plt.plot(train_sizes,train_mean,color='blue',marker='o',markersize=5,label='training accuracy')\n",
    "plt.fill_between(train_sizes,train_mean+train_std,train_mean-train_std,alpha=0.15,color='blue')\n",
    "\n",
    "plt.plot(train_sizes,test_mean,color='green',linestyle='--',marker='s',markersize=5,label='validation accuracy')\n",
    "plt.fill_between(train_sizes,test_mean+test_std,test_mean-test_std,alpha=0.15,color='green')\n",
    "\n",
    "plt.grid()\n",
    "plt.xlabel('Number of training samples')\n",
    "plt.ylabel('Accuracy')\n",
    "plt.legend(loc='lower right')\n",
    "plt.ylim([0.8,1.05])\n",
    "plt.title('The Learning Curve with top_5 features ')\n",
    "plt.show()"
   ]
  },
  {
   "cell_type": "code",
   "execution_count": 18,
   "metadata": {
    "ExecuteTime": {
     "end_time": "2019-07-02T00:03:50.768644Z",
     "start_time": "2019-07-02T00:03:50.763657Z"
    }
   },
   "outputs": [
    {
     "name": "stdout",
     "output_type": "stream",
     "text": [
      "The size of training data : 150\n"
     ]
    }
   ],
   "source": [
    "\n",
    "print(f'The size of training data : {len(x_train)}')"
   ]
  },
  {
   "cell_type": "code",
   "execution_count": 19,
   "metadata": {
    "ExecuteTime": {
     "end_time": "2019-07-02T00:03:58.645530Z",
     "start_time": "2019-07-02T00:03:58.434085Z"
    }
   },
   "outputs": [
    {
     "name": "stdout",
     "output_type": "stream",
     "text": [
      "Gradient Boosting Clf Score : 0.9931972789115646\n"
     ]
    }
   ],
   "source": [
    "#先交叉驗證一下模型分數\n",
    "print(f'Gradient Boosting Clf Score : {cross_val_score(GBclf, x_train, y_train, cv=cv).mean()}')"
   ]
  },
  {
   "cell_type": "code",
   "execution_count": 20,
   "metadata": {
    "ExecuteTime": {
     "end_time": "2019-07-02T00:04:07.139698Z",
     "start_time": "2019-07-02T00:04:07.092798Z"
    }
   },
   "outputs": [
    {
     "name": "stdout",
     "output_type": "stream",
     "text": [
      "Acc score : 1.0 \n",
      "\n",
      "              precision    recall  f1-score   support\n",
      "\n",
      "       False       1.00      1.00      1.00        23\n",
      "        True       1.00      1.00      1.00        27\n",
      "\n",
      "    accuracy                           1.00        50\n",
      "   macro avg       1.00      1.00      1.00        50\n",
      "weighted avg       1.00      1.00      1.00        50\n",
      "\n"
     ]
    }
   ],
   "source": [
    "\n",
    "#開始訓練模型及驗證模型能力\n",
    "GBclf.fit(x_train, y_train)\n",
    "y_pred = GBclf.predict(x_test)\n",
    "\n",
    "print(f'Acc score : {GBclf.score(x_test,y_test)} \\n')\n",
    "print(metrics.classification_report(y_test, y_pred))"
   ]
  },
  {
   "cell_type": "code",
   "execution_count": 21,
   "metadata": {
    "ExecuteTime": {
     "end_time": "2019-07-02T00:04:18.558389Z",
     "start_time": "2019-07-02T00:04:18.371976Z"
    }
   },
   "outputs": [
    {
     "data": {
      "image/png": "[encoded data removed]",
      "text/plain": [
       "<Figure size 432x288 with 2 Axes>"
      ]
     },
     "metadata": {
      "needs_background": "light"
     },
     "output_type": "display_data"
    }
   ],
   "source": [
    "\n",
    "#使用混淆矩陣驗證分類的正確率\n",
    "confmat = metrics.confusion_matrix(y_test, y_pred)\n",
    "sns.heatmap(confmat, cmap='YlGnBu_r', annot=True, fmt='d');"
   ]
  },
  {
   "cell_type": "code",
   "execution_count": 22,
   "metadata": {
    "ExecuteTime": {
     "end_time": "2019-07-02T00:04:38.141555Z",
     "start_time": "2019-07-02T00:04:32.111980Z"
    }
   },
   "outputs": [
    {
     "name": "stdout",
     "output_type": "stream",
     "text": [
      "Best Accuracy: 0.9933333333333333 using {'max_depth': 1, 'n_estimators': 150}\n"
     ]
    }
   ],
   "source": [
    "# 設定要訓練的超參數組合\n",
    "n_estimators = [50 ,100, 150, 200, 250, 500]\n",
    "max_depth = [1,3, 5, 7, 9, 11]\n",
    "param_grid = dict(n_estimators=n_estimators, max_depth=max_depth)\n",
    "\n",
    "#建立搜尋物件，放入模型及參數組合字典 (n_jobs=-1 會使用全部 cpu 平行運算)\n",
    "grid_search = GridSearchCV(GBclf, param_grid, scoring='accuracy', n_jobs=-1,cv=cv,iid =True)\n",
    "\n",
    "# 開始搜尋最佳參數\n",
    "grid_result = grid_search.fit(x_train, y_train)\n",
    "print(f'Best Accuracy: {grid_result.best_score_} using {grid_result.best_params_}')"
   ]
  },
  {
   "cell_type": "code",
   "execution_count": 23,
   "metadata": {
    "ExecuteTime": {
     "end_time": "2019-07-02T00:04:43.579442Z",
     "start_time": "2019-07-02T00:04:43.574454Z"
    }
   },
   "outputs": [],
   "source": [
    "# 使用最佳參數重新建立模型\n",
    "clf_bestparam = GradientBoostingClassifier(max_depth = grid_result.best_params_['max_depth'],\n",
    "                                           n_estimators = grid_result.best_params_['n_estimators'],\\\n",
    "                                           random_state = randomState)"
   ]
  },
  {
   "cell_type": "code",
   "execution_count": 24,
   "metadata": {
    "ExecuteTime": {
     "end_time": "2019-07-02T00:04:58.474745Z",
     "start_time": "2019-07-02T00:04:57.253977Z"
    }
   },
   "outputs": [],
   "source": [
    "#使用前五大特徵值來畫模型的學習曲線\n",
    "train_sizes,train_scores,test_scores=learning_curve(estimator=clf_bestparam,X=x_train,\n",
    "                                                     y=y_train,train_sizes=np.linspace(0.1,1.0,10),\n",
    "                                                     cv=cv,n_jobs=-1)\n",
    "train_mean=np.mean(train_scores,axis=1)\n",
    "train_std=np.std(train_scores,axis=1)\n",
    "\n",
    "test_mean=np.mean(test_scores,axis=1)\n",
    "test_std=np.std(test_scores,axis=1)"
   ]
  },
  {
   "cell_type": "code",
   "execution_count": 25,
   "metadata": {
    "ExecuteTime": {
     "end_time": "2019-07-02T00:05:04.954251Z",
     "start_time": "2019-07-02T00:05:04.749251Z"
    }
   },
   "outputs": [
    {
     "data": {
      "image/png": "[encoded data removed]",
      "text/plain": [
       "<Figure size 432x288 with 1 Axes>"
      ]
     },
     "metadata": {
      "needs_background": "light"
     },
     "output_type": "display_data"
    }
   ],
   "source": [
    "plt.plot(train_sizes,train_mean,color='blue',marker='o',markersize=5,label='training accuracy')\n",
    "plt.fill_between(train_sizes,train_mean+train_std,train_mean-train_std,alpha=0.15,color='blue')\n",
    "\n",
    "plt.plot(train_sizes,test_mean,color='green',linestyle='--',marker='s',markersize=5,\n",
    "         label='validation accuracy')\n",
    "plt.fill_between(train_sizes,test_mean+test_std,test_mean-test_std,alpha=0.15,color='green')\n",
    "\n",
    "plt.grid()\n",
    "plt.xlabel('Number of training samples')\n",
    "plt.ylabel('Accuracy')\n",
    "plt.legend(loc='lower right')\n",
    "plt.ylim([0.8,1.05])\n",
    "plt.title('The Learning Curve with top_5 features ')\n",
    "plt.show()"
   ]
  },
  {
   "cell_type": "code",
   "execution_count": 26,
   "metadata": {
    "ExecuteTime": {
     "end_time": "2019-07-02T00:05:14.425385Z",
     "start_time": "2019-07-02T00:05:14.352065Z"
    }
   },
   "outputs": [
    {
     "name": "stdout",
     "output_type": "stream",
     "text": [
      "Acuuracy of Best Param: 1.0 \n",
      "\n",
      "              precision    recall  f1-score   support\n",
      "\n",
      "       False       1.00      1.00      1.00        23\n",
      "        True       1.00      1.00      1.00        27\n",
      "\n",
      "    accuracy                           1.00        50\n",
      "   macro avg       1.00      1.00      1.00        50\n",
      "weighted avg       1.00      1.00      1.00        50\n",
      "\n"
     ]
    }
   ],
   "source": [
    "# 訓練模型\n",
    "clf_bestparam.fit(x_train, y_train)\n",
    "\n",
    "# 預測測試集\n",
    "y_pred = clf_bestparam.predict(x_test)\n",
    "\n",
    "print(f'Acuuracy of Best Param: {clf_bestparam.score(x_test,y_test)} \\n')\n",
    "print(metrics.classification_report(y_test, y_pred))"
   ]
  },
  {
   "cell_type": "code",
   "execution_count": 27,
   "metadata": {
    "ExecuteTime": {
     "end_time": "2019-07-02T00:05:23.314015Z",
     "start_time": "2019-07-02T00:05:23.144435Z"
    }
   },
   "outputs": [
    {
     "data": {
      "image/png": "[encoded data removed]",
      "text/plain": [
       "<Figure size 432x288 with 2 Axes>"
      ]
     },
     "metadata": {
      "needs_background": "light"
     },
     "output_type": "display_data"
    }
   ],
   "source": [
    "#使用混淆矩陣驗證分類的正確率\n",
    "confmat = metrics.confusion_matrix(y_test, y_pred)\n",
    "sns.heatmap(confmat, cmap='YlGnBu_r', annot=True, fmt='d');"
   ]
  },
  {
   "cell_type": "code",
   "execution_count": 30,
   "metadata": {
    "ExecuteTime": {
     "end_time": "2019-07-02T00:06:17.224606Z",
     "start_time": "2019-07-02T00:06:17.206604Z"
    }
   },
   "outputs": [
    {
     "name": "stdout",
     "output_type": "stream",
     "text": [
      "<class 'pandas.core.frame.DataFrame'>\n",
      "RangeIndex: 33 entries, 0 to 32\n",
      "Data columns (total 19 columns):\n",
      "name                         33 non-null object\n",
      "bonus                        21 non-null float64\n",
      "deferral_payments            11 non-null float64\n",
      "deferred_income              15 non-null float64\n",
      "director_fees                4 non-null float64\n",
      "exercised_stock_options      21 non-null float64\n",
      "expenses                     22 non-null float64\n",
      "from_messages                21 non-null float64\n",
      "from_poi_to_this_person      21 non-null float64\n",
      "from_this_person_to_poi      21 non-null float64\n",
      "long_term_incentive          17 non-null float64\n",
      "other                        24 non-null float64\n",
      "restricted_stock             28 non-null float64\n",
      "restricted_stock_deferred    8 non-null float64\n",
      "salary                       22 non-null float64\n",
      "shared_receipt_with_poi      21 non-null float64\n",
      "to_messages                  21 non-null float64\n",
      "total_payments               29 non-null float64\n",
      "total_stock_value            28 non-null float64\n",
      "dtypes: float64(18), object(1)\n",
      "memory usage: 5.0+ KB\n"
     ]
    }
   ],
   "source": [
    "#使用測試資料集套入模型進行最後預測\n",
    "df1 = pd.read_csv('C:/Users/TL_Yu/Documents/GitHub/100Day-ML-Marathon/Day_049_MidtermExam/test_features.csv')\n",
    "df1 = df1.drop(['email_address','loan_advances'],axis=1)\n",
    "\n",
    "df1.info()"
   ]
  },
  {
   "cell_type": "code",
   "execution_count": 31,
   "metadata": {
    "ExecuteTime": {
     "end_time": "2019-07-02T00:06:25.484017Z",
     "start_time": "2019-07-02T00:06:25.447639Z"
    }
   },
   "outputs": [],
   "source": [
    "df_test = DataClean(df1)\n",
    "df_test = Feature_eng(df_test)"
   ]
  },
  {
   "cell_type": "code",
   "execution_count": 32,
   "metadata": {
    "ExecuteTime": {
     "end_time": "2019-07-02T00:06:32.542520Z",
     "start_time": "2019-07-02T00:06:32.533541Z"
    }
   },
   "outputs": [],
   "source": [
    "#最後將測試資料集套入模型預測\n",
    "y_pred = clf_bestparam.predict_proba(df_test[topfeatures]) \n",
    "POI_P = pd.DataFrame(y_pred)"
   ]
  },
  {
   "cell_type": "code",
   "execution_count": 33,
   "metadata": {
    "ExecuteTime": {
     "end_time": "2019-07-02T00:06:38.329233Z",
     "start_time": "2019-07-02T00:06:38.316268Z"
    }
   },
   "outputs": [
    {
     "name": "stdout",
     "output_type": "stream",
     "text": [
      "                    name       poi\n",
      "0       BELDEN TIMOTHY N  0.001506\n",
      "1     BOWEN JR RAYMOND M  0.001506\n",
      "2         HANNON KEVIN P  0.001506\n",
      "3       DELAINEY DAVID W  0.001506\n",
      "4       CAUSEY RICHARD A  0.995005\n",
      "5       HICKERSON GARY J  0.995005\n",
      "6         FREVERT MARK A  0.995005\n",
      "7            CHAN RONNIE  0.003855\n",
      "8   DONAHUE JR JEFFREY M  0.998476\n",
      "9      REYNOLDS LAWRENCE  0.996281\n",
      "10      HORTON STANLEY C  0.998476\n",
      "11         LEWIS RICHARD  0.999201\n",
      "12    SHERRICK JEFFREY B  0.998476\n",
      "13        MEYER JEROME J  0.006627\n",
      "14   DERRICK JR. JAMES V  0.995005\n",
      "15              PIRO JIM  0.999406\n",
      "16   DETMERING TIMOTHY J  0.996281\n",
      "17     KISHKILL JOSEPH G  0.998867\n",
      "18        BAY FRANKLIN R  0.998048\n",
      "19        PRENTICE JAMES  0.999406\n",
      "20                 TOTAL  0.002024\n",
      "21        FALLON JAMES B  0.998476\n",
      "22            METTS MARK  0.999201\n",
      "23         WODRASKA JOHN  0.998867\n",
      "24   MORDAUNT KRISTINA M  0.999406\n",
      "25      CARTER REBECCA C  0.995005\n",
      "26      BHATNAGAR SANJAY  0.002024\n",
      "27      WALTERS GARETH W  0.999406\n",
      "28       BIBI PHILIPPE A  0.998476\n",
      "29       SHERRIFF JOHN R  0.998476\n",
      "30          GIBBS DANA R  0.998867\n",
      "31        LINDHOLM TOD A  0.998867\n",
      "32       MCMAHON JEFFREY  0.998476\n"
     ]
    }
   ],
   "source": [
    "#輸出測試資料集的預測結果\n",
    "submit = pd.DataFrame(df1['name'],columns=['name'])\n",
    "submit['poi'] = POI_P[0]\n",
    "print(submit)"
   ]
  },
  {
   "cell_type": "code",
   "execution_count": 34,
   "metadata": {
    "ExecuteTime": {
     "end_time": "2019-07-02T00:06:47.032823Z",
     "start_time": "2019-07-02T00:06:47.022848Z"
    }
   },
   "outputs": [
    {
     "name": "stdout",
     "output_type": "stream",
     "text": [
      "33 筆的資料中有 8 個詐欺嫌疑人!\n",
      "8 個嫌疑人的姓名是 :\n",
      "\n",
      "0       BELDEN TIMOTHY N\n",
      "1     BOWEN JR RAYMOND M\n",
      "2         HANNON KEVIN P\n",
      "3       DELAINEY DAVID W\n",
      "7            CHAN RONNIE\n",
      "13        MEYER JEROME J\n",
      "20                 TOTAL\n",
      "26      BHATNAGAR SANJAY\n",
      "Name: name, dtype: object\n"
     ]
    }
   ],
   "source": [
    "\n",
    "#輸出預測的嫌疑人數量及名單\n",
    "POI_num =len(submit[submit['poi'] < 0.1]['name'])\n",
    "print(f'{len(df1)} 筆的資料中有 {POI_num} 個詐欺嫌疑人!')\n",
    "print(f'{POI_num} 個嫌疑人的姓名是 :\\n')      \n",
    "print(submit[submit['poi'] < 0.1]['name'])"
   ]
  },
  {
   "cell_type": "code",
   "execution_count": 35,
   "metadata": {
    "ExecuteTime": {
     "end_time": "2019-07-02T00:07:30.196812Z",
     "start_time": "2019-07-02T00:07:30.178770Z"
    }
   },
   "outputs": [],
   "source": [
    "submit.to_csv('C:/Users/TL_Yu/Desktop/Enron Fraund predict.csv',index = False)"
   ]
  },
  {
   "cell_type": "code",
   "execution_count": null,
   "metadata": {},
   "outputs": [],
   "source": []
  }
 ],
 "metadata": {
  "kernelspec": {
   "display_name": "Python 3",
   "language": "python",
   "name": "python3"
  },
  "language_info": {
   "codemirror_mode": {
    "name": "ipython",
    "version": 3
   },
   "file_extension": ".py",
   "mimetype": "text/x-python",
   "name": "python",
   "nbconvert_exporter": "python",
   "pygments_lexer": "ipython3",
   "version": "3.7.3"
  },
  "toc": {
   "base_numbering": 1,
   "nav_menu": {},
   "number_sections": true,
   "sideBar": true,
   "skip_h1_title": false,
   "title_cell": "Table of Contents",
   "title_sidebar": "Contents",
   "toc_cell": false,
   "toc_position": {},
   "toc_section_display": true,
   "toc_window_display": false
  },
  "varInspector": {
   "cols": {
    "lenName": 16,
    "lenType": 16,
    "lenVar": 40
   },
   "kernels_config": {
    "python": {
     "delete_cmd_postfix": "",
     "delete_cmd_prefix": "del ",
     "library": "var_list.py",
     "varRefreshCmd": "print(var_dic_list())"
    },
    "r": {
     "delete_cmd_postfix": ") ",
     "delete_cmd_prefix": "rm(",
     "library": "var_list.r",
     "varRefreshCmd": "cat(var_dic_list()) "
    }
   },
   "types_to_exclude": [
    "module",
    "function",
    "builtin_function_or_method",
    "instance",
    "_Feature"
   ],
   "window_display": false
  }
 },
 "nbformat": 4,
 "nbformat_minor": 2
}
