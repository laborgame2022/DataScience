{
 "cells": [
  {
   "cell_type": "code",
   "execution_count": 1,
   "metadata": {
    "ExecuteTime": {
     "end_time": "2019-07-28T22:50:25.291157Z",
     "start_time": "2019-07-28T22:50:16.530404Z"
    }
   },
   "outputs": [
    {
     "name": "stderr",
     "output_type": "stream",
     "text": [
      "Using TensorFlow backend.\n"
     ]
    }
   ],
   "source": [
    "import os\n",
    "import keras\n",
    "\n",
    "# Disable GPU\n",
    "os.environ[\"CUDA_VISIBLE_DEVICES\"] = \"\""
   ]
  },
  {
   "cell_type": "code",
   "execution_count": 2,
   "metadata": {
    "ExecuteTime": {
     "end_time": "2019-07-28T22:50:25.838856Z",
     "start_time": "2019-07-28T22:50:25.293141Z"
    }
   },
   "outputs": [],
   "source": [
    "train, test = keras.datasets.cifar10.load_data()"
   ]
  },
  {
   "cell_type": "code",
   "execution_count": 3,
   "metadata": {
    "ExecuteTime": {
     "end_time": "2019-07-28T22:50:25.850761Z",
     "start_time": "2019-07-28T22:50:25.841337Z"
    }
   },
   "outputs": [],
   "source": [
    "## 資料前處理\n",
    "def preproc_x(x, flatten=True):\n",
    "    x = x / 255.\n",
    "    if flatten:\n",
    "        x = x.reshape((len(x), -1))\n",
    "    return x\n",
    "\n",
    "def preproc_y(y, num_classes=10):\n",
    "    if y.shape[-1] == 1:\n",
    "        y = keras.utils.to_categorical(y, num_classes)\n",
    "    return y    "
   ]
  },
  {
   "cell_type": "code",
   "execution_count": 4,
   "metadata": {
    "ExecuteTime": {
     "end_time": "2019-07-28T22:50:28.137813Z",
     "start_time": "2019-07-28T22:50:25.860185Z"
    }
   },
   "outputs": [],
   "source": [
    "x_train, y_train = train\n",
    "x_test, y_test = test\n",
    "\n",
    "# Preproc the inputs\n",
    "x_train = preproc_x(x_train)\n",
    "x_test = preproc_x(x_test)\n",
    "\n",
    "# Preprc the outputs\n",
    "y_train = preproc_y(y_train)\n",
    "y_test = preproc_y(y_test)"
   ]
  },
  {
   "cell_type": "markdown",
   "metadata": {},
   "source": [
    "# 範例"
   ]
  },
  {
   "cell_type": "code",
   "execution_count": 5,
   "metadata": {
    "ExecuteTime": {
     "end_time": "2019-07-28T22:51:32.565726Z",
     "start_time": "2019-07-28T22:51:32.557790Z"
    }
   },
   "outputs": [],
   "source": [
    "from keras.layers import BatchNormalization\n",
    "def build_mlp(input_shape, output_units=10, num_neurons=[512, 256, 128]):\n",
    "    input_layer = keras.layers.Input(input_shape)\n",
    "    \n",
    "    for i, n_units in enumerate(num_neurons):\n",
    "        if i == 0:\n",
    "            x = keras.layers.Dense(units=n_units, \n",
    "                                   activation=\"relu\", \n",
    "                                   name=\"hidden_layer\"+str(i+1))(input_layer)\n",
    "            x = BatchNormalization()(x)\n",
    "        else:\n",
    "            x = keras.layers.Dense(units=n_units, \n",
    "                                   activation=\"relu\", \n",
    "                                   name=\"hidden_layer\"+str(i+1))(x)\n",
    "            x = BatchNormalization()(x)\n",
    "    \n",
    "    out = keras.layers.Dense(units=output_units, activation=\"softmax\", name=\"output\")(x)\n",
    "    \n",
    "    model = keras.models.Model(inputs=[input_layer], outputs=[out])\n",
    "    return model"
   ]
  },
  {
   "cell_type": "code",
   "execution_count": 6,
   "metadata": {
    "ExecuteTime": {
     "end_time": "2019-07-28T22:51:42.946748Z",
     "start_time": "2019-07-28T22:51:42.943273Z"
    }
   },
   "outputs": [],
   "source": [
    "## 超參數設定\n",
    "LEARNING_RATE = 1e-3\n",
    "EPOCHS = 50\n",
    "BATCH_SIZE = 1024\n",
    "MOMENTUM = 0.95"
   ]
  },
  {
   "cell_type": "code",
   "execution_count": 7,
   "metadata": {
    "ExecuteTime": {
     "end_time": "2019-07-28T22:52:16.855212Z",
     "start_time": "2019-07-28T22:52:16.850254Z"
    }
   },
   "outputs": [],
   "source": [
    "# 載入 Callbacks\n",
    "from keras.callbacks import ModelCheckpoint\n",
    "\n",
    "model_ckpt = ModelCheckpoint(filepath=\"./tmp.h5\", \n",
    "                             monitor=\"val_loss\", \n",
    "                             save_best_only=True)"
   ]
  },
  {
   "cell_type": "code",
   "execution_count": 8,
   "metadata": {
    "ExecuteTime": {
     "end_time": "2019-07-28T22:55:31.590680Z",
     "start_time": "2019-07-28T22:52:48.710455Z"
    },
    "scrolled": false
   },
   "outputs": [
    {
     "name": "stderr",
     "output_type": "stream",
     "text": [
      "WARNING: Logging before flag parsing goes to stderr.\n",
      "W0729 06:52:48.715416  9624 deprecation_wrapper.py:119] From C:\\ProgramData\\Anaconda3\\envs\\TensorFlow\\lib\\site-packages\\keras\\backend\\tensorflow_backend.py:74: The name tf.get_default_graph is deprecated. Please use tf.compat.v1.get_default_graph instead.\n",
      "\n",
      "W0729 06:52:48.740217  9624 deprecation_wrapper.py:119] From C:\\ProgramData\\Anaconda3\\envs\\TensorFlow\\lib\\site-packages\\keras\\backend\\tensorflow_backend.py:517: The name tf.placeholder is deprecated. Please use tf.compat.v1.placeholder instead.\n",
      "\n",
      "W0729 06:52:48.747656  9624 deprecation_wrapper.py:119] From C:\\ProgramData\\Anaconda3\\envs\\TensorFlow\\lib\\site-packages\\keras\\backend\\tensorflow_backend.py:4138: The name tf.random_uniform is deprecated. Please use tf.random.uniform instead.\n",
      "\n",
      "W0729 06:52:48.849410  9624 deprecation_wrapper.py:119] From C:\\ProgramData\\Anaconda3\\envs\\TensorFlow\\lib\\site-packages\\keras\\backend\\tensorflow_backend.py:133: The name tf.placeholder_with_default is deprecated. Please use tf.compat.v1.placeholder_with_default instead.\n",
      "\n",
      "W0729 06:52:49.051743  9624 deprecation_wrapper.py:119] From C:\\ProgramData\\Anaconda3\\envs\\TensorFlow\\lib\\site-packages\\keras\\optimizers.py:790: The name tf.train.Optimizer is deprecated. Please use tf.compat.v1.train.Optimizer instead.\n",
      "\n",
      "W0729 06:52:49.062159  9624 deprecation_wrapper.py:119] From C:\\ProgramData\\Anaconda3\\envs\\TensorFlow\\lib\\site-packages\\keras\\backend\\tensorflow_backend.py:3295: The name tf.log is deprecated. Please use tf.math.log instead.\n",
      "\n",
      "W0729 06:52:49.176734  9624 deprecation.py:323] From C:\\ProgramData\\Anaconda3\\envs\\TensorFlow\\lib\\site-packages\\tensorflow\\python\\ops\\math_grad.py:1250: add_dispatch_support.<locals>.wrapper (from tensorflow.python.ops.array_ops) is deprecated and will be removed in a future version.\n",
      "Instructions for updating:\n",
      "Use tf.where in 2.0, which has the same broadcast rule as np.where\n"
     ]
    },
    {
     "name": "stdout",
     "output_type": "stream",
     "text": [
      "_________________________________________________________________\n",
      "Layer (type)                 Output Shape              Param #   \n",
      "=================================================================\n",
      "input_1 (InputLayer)         (None, 3072)              0         \n",
      "_________________________________________________________________\n",
      "hidden_layer1 (Dense)        (None, 512)               1573376   \n",
      "_________________________________________________________________\n",
      "batch_normalization_1 (Batch (None, 512)               2048      \n",
      "_________________________________________________________________\n",
      "hidden_layer2 (Dense)        (None, 256)               131328    \n",
      "_________________________________________________________________\n",
      "batch_normalization_2 (Batch (None, 256)               1024      \n",
      "_________________________________________________________________\n",
      "hidden_layer3 (Dense)        (None, 128)               32896     \n",
      "_________________________________________________________________\n",
      "batch_normalization_3 (Batch (None, 128)               512       \n",
      "_________________________________________________________________\n",
      "output (Dense)               (None, 10)                1290      \n",
      "=================================================================\n",
      "Total params: 1,742,474\n",
      "Trainable params: 1,740,682\n",
      "Non-trainable params: 1,792\n",
      "_________________________________________________________________\n",
      "Train on 50000 samples, validate on 10000 samples\n",
      "Epoch 1/50\n",
      "50000/50000 [==============================] - 6s 117us/step - loss: 2.2319 - acc: 0.2673 - val_loss: 2.0959 - val_acc: 0.3293\n",
      "Epoch 2/50\n",
      "50000/50000 [==============================] - 3s 62us/step - loss: 1.7484 - acc: 0.3902 - val_loss: 1.7905 - val_acc: 0.3798\n",
      "Epoch 3/50\n",
      "50000/50000 [==============================] - 3s 62us/step - loss: 1.6194 - acc: 0.4303 - val_loss: 1.6798 - val_acc: 0.4135\n",
      "Epoch 4/50\n",
      "50000/50000 [==============================] - 3s 60us/step - loss: 1.5459 - acc: 0.4604 - val_loss: 1.6156 - val_acc: 0.4309\n",
      "Epoch 5/50\n",
      "50000/50000 [==============================] - 3s 60us/step - loss: 1.4898 - acc: 0.4777 - val_loss: 1.5861 - val_acc: 0.4453\n",
      "Epoch 6/50\n",
      "50000/50000 [==============================] - 3s 61us/step - loss: 1.4458 - acc: 0.4940 - val_loss: 1.5671 - val_acc: 0.4470\n",
      "Epoch 7/50\n",
      "50000/50000 [==============================] - 3s 60us/step - loss: 1.4049 - acc: 0.5100 - val_loss: 1.5605 - val_acc: 0.4460\n",
      "Epoch 8/50\n",
      "50000/50000 [==============================] - 3s 60us/step - loss: 1.3700 - acc: 0.5226 - val_loss: 1.5329 - val_acc: 0.4627\n",
      "Epoch 9/50\n",
      "50000/50000 [==============================] - 3s 61us/step - loss: 1.3373 - acc: 0.5353 - val_loss: 1.5164 - val_acc: 0.4679\n",
      "Epoch 10/50\n",
      "50000/50000 [==============================] - 3s 67us/step - loss: 1.3077 - acc: 0.5448 - val_loss: 1.4963 - val_acc: 0.4793\n",
      "Epoch 11/50\n",
      "50000/50000 [==============================] - 3s 67us/step - loss: 1.2793 - acc: 0.5554 - val_loss: 1.4970 - val_acc: 0.4744\n",
      "Epoch 12/50\n",
      "50000/50000 [==============================] - 3s 61us/step - loss: 1.2516 - acc: 0.5646 - val_loss: 1.4930 - val_acc: 0.4784\n",
      "Epoch 13/50\n",
      "50000/50000 [==============================] - 3s 62us/step - loss: 1.2256 - acc: 0.5767 - val_loss: 1.4760 - val_acc: 0.4846\n",
      "Epoch 14/50\n",
      "50000/50000 [==============================] - 3s 63us/step - loss: 1.2000 - acc: 0.5865 - val_loss: 1.4766 - val_acc: 0.4842\n",
      "Epoch 15/50\n",
      "50000/50000 [==============================] - 3s 64us/step - loss: 1.1765 - acc: 0.5958 - val_loss: 1.4701 - val_acc: 0.4886\n",
      "Epoch 16/50\n",
      "50000/50000 [==============================] - 3s 60us/step - loss: 1.1517 - acc: 0.6027 - val_loss: 1.4620 - val_acc: 0.4850\n",
      "Epoch 17/50\n",
      "50000/50000 [==============================] - 3s 60us/step - loss: 1.1264 - acc: 0.6143 - val_loss: 1.4611 - val_acc: 0.4908\n",
      "Epoch 18/50\n",
      "50000/50000 [==============================] - 3s 61us/step - loss: 1.1050 - acc: 0.6220 - val_loss: 1.4538 - val_acc: 0.4945\n",
      "Epoch 19/50\n",
      "50000/50000 [==============================] - 3s 65us/step - loss: 1.0818 - acc: 0.6309 - val_loss: 1.4548 - val_acc: 0.490695 - ac\n",
      "Epoch 20/50\n",
      "50000/50000 [==============================] - 3s 60us/step - loss: 1.0612 - acc: 0.6387 - val_loss: 1.4588 - val_acc: 0.4927\n",
      "Epoch 21/50\n",
      "50000/50000 [==============================] - 3s 60us/step - loss: 1.0393 - acc: 0.6485 - val_loss: 1.4540 - val_acc: 0.4922\n",
      "Epoch 22/50\n",
      "50000/50000 [==============================] - 3s 63us/step - loss: 1.0172 - acc: 0.6562 - val_loss: 1.4551 - val_acc: 0.4933\n",
      "Epoch 23/50\n",
      "50000/50000 [==============================] - 3s 58us/step - loss: 0.9961 - acc: 0.6646 - val_loss: 1.4504 - val_acc: 0.4943\n",
      "Epoch 24/50\n",
      "50000/50000 [==============================] - 3s 59us/step - loss: 0.9756 - acc: 0.6712 - val_loss: 1.4595 - val_acc: 0.4945\n",
      "Epoch 25/50\n",
      "50000/50000 [==============================] - 3s 58us/step - loss: 0.9531 - acc: 0.6801 - val_loss: 1.4793 - val_acc: 0.4903\n",
      "Epoch 26/50\n",
      "50000/50000 [==============================] - 3s 58us/step - loss: 0.9332 - acc: 0.6885 - val_loss: 1.4609 - val_acc: 0.5019\n",
      "Epoch 27/50\n",
      "50000/50000 [==============================] - 3s 63us/step - loss: 0.9132 - acc: 0.6955 - val_loss: 1.4773 - val_acc: 0.4949\n",
      "Epoch 28/50\n",
      "50000/50000 [==============================] - 3s 61us/step - loss: 0.8924 - acc: 0.7043 - val_loss: 1.4708 - val_acc: 0.4940\n",
      "Epoch 29/50\n",
      "50000/50000 [==============================] - 3s 61us/step - loss: 0.8718 - acc: 0.7124 - val_loss: 1.4803 - val_acc: 0.4972\n",
      "Epoch 30/50\n",
      "50000/50000 [==============================] - 3s 61us/step - loss: 0.8515 - acc: 0.7215 - val_loss: 1.4840 - val_acc: 0.5002\n",
      "Epoch 31/50\n",
      "50000/50000 [==============================] - 3s 62us/step - loss: 0.8325 - acc: 0.7279 - val_loss: 1.4863 - val_acc: 0.4946\n",
      "Epoch 32/50\n",
      "50000/50000 [==============================] - 3s 62us/step - loss: 0.8122 - acc: 0.7347 - val_loss: 1.4961 - val_acc: 0.4967\n",
      "Epoch 33/50\n",
      "50000/50000 [==============================] - 3s 66us/step - loss: 0.7957 - acc: 0.7406 - val_loss: 1.5033 - val_acc: 0.5046\n",
      "Epoch 34/50\n",
      "50000/50000 [==============================] - 3s 61us/step - loss: 0.7749 - acc: 0.7499 - val_loss: 1.5102 - val_acc: 0.4984\n",
      "Epoch 35/50\n",
      "50000/50000 [==============================] - 3s 60us/step - loss: 0.7555 - acc: 0.7577 - val_loss: 1.5193 - val_acc: 0.4954\n",
      "Epoch 36/50\n",
      "50000/50000 [==============================] - 3s 69us/step - loss: 0.7377 - acc: 0.7640 - val_loss: 1.5136 - val_acc: 0.5026\n",
      "Epoch 37/50\n",
      "50000/50000 [==============================] - 3s 66us/step - loss: 0.7171 - acc: 0.7738 - val_loss: 1.5209 - val_acc: 0.4986\n",
      "Epoch 38/50\n",
      "50000/50000 [==============================] - 3s 64us/step - loss: 0.6978 - acc: 0.7801 - val_loss: 1.5377 - val_acc: 0.4980\n",
      "Epoch 39/50\n",
      "50000/50000 [==============================] - 3s 62us/step - loss: 0.6817 - acc: 0.7863 - val_loss: 1.5317 - val_acc: 0.5002\n",
      "Epoch 40/50\n",
      "50000/50000 [==============================] - 3s 66us/step - loss: 0.6601 - acc: 0.7967 - val_loss: 1.5606 - val_acc: 0.4951\n",
      "Epoch 41/50\n",
      "50000/50000 [==============================] - 3s 61us/step - loss: 0.6429 - acc: 0.8033 - val_loss: 1.5489 - val_acc: 0.5026\n",
      "Epoch 42/50\n",
      "50000/50000 [==============================] - 3s 62us/step - loss: 0.6231 - acc: 0.8115 - val_loss: 1.5912 - val_acc: 0.4923\n",
      "Epoch 43/50\n",
      "50000/50000 [==============================] - 3s 63us/step - loss: 0.6047 - acc: 0.8191 - val_loss: 1.5804 - val_acc: 0.4962\n",
      "Epoch 44/50\n",
      "50000/50000 [==============================] - 3s 64us/step - loss: 0.5890 - acc: 0.8240 - val_loss: 1.6006 - val_acc: 0.4909\n",
      "Epoch 45/50\n",
      "50000/50000 [==============================] - 3s 64us/step - loss: 0.5725 - acc: 0.8309 - val_loss: 1.6049 - val_acc: 0.4972\n",
      "Epoch 46/50\n",
      "50000/50000 [==============================] - 3s 62us/step - loss: 0.5547 - acc: 0.8367 - val_loss: 1.6237 - val_acc: 0.4935\n",
      "Epoch 47/50\n",
      "50000/50000 [==============================] - 3s 61us/step - loss: 0.5381 - acc: 0.8430 - val_loss: 1.6220 - val_acc: 0.5004\n",
      "Epoch 48/50\n",
      "50000/50000 [==============================] - 3s 61us/step - loss: 0.5214 - acc: 0.8486 - val_loss: 1.6403 - val_acc: 0.5000\n",
      "Epoch 49/50\n",
      "50000/50000 [==============================] - 3s 61us/step - loss: 0.5044 - acc: 0.8564 - val_loss: 1.6635 - val_acc: 0.4884\n"
     ]
    },
    {
     "name": "stdout",
     "output_type": "stream",
     "text": [
      "Epoch 50/50\n",
      "50000/50000 [==============================] - 3s 59us/step - loss: 0.4887 - acc: 0.8613 - val_loss: 1.6653 - val_acc: 0.4972\n",
      "10000/10000 [==============================] - 1s 113us/step\n"
     ]
    }
   ],
   "source": [
    "model = build_mlp(input_shape=x_train.shape[1:])\n",
    "model.summary()\n",
    "optimizer = keras.optimizers.SGD(lr=LEARNING_RATE, nesterov=True, momentum=MOMENTUM)\n",
    "model.compile(loss=\"categorical_crossentropy\", metrics=[\"accuracy\"], optimizer=optimizer)\n",
    "\n",
    "model.fit(x_train, y_train, \n",
    "          epochs=EPOCHS, \n",
    "          batch_size=BATCH_SIZE, \n",
    "          validation_data=(x_test, y_test), \n",
    "          shuffle=True,\n",
    "          callbacks=[model_ckpt]\n",
    "         )\n",
    "\n",
    "# Collect results\n",
    "train_loss = model.history.history[\"loss\"]\n",
    "valid_loss = model.history.history[\"val_loss\"]\n",
    "train_acc = model.history.history[\"acc\"]\n",
    "valid_acc = model.history.history[\"val_acc\"]\n",
    "\n",
    "# Load back\n",
    "model = keras.models.load_model(\"./tmp.h5\")\n",
    "loss_loadback, acc_loadback = model.evaluate(x_test, y_test)"
   ]
  },
  {
   "cell_type": "code",
   "execution_count": 9,
   "metadata": {
    "ExecuteTime": {
     "end_time": "2019-07-28T22:55:36.150592Z",
     "start_time": "2019-07-28T22:55:35.377496Z"
    }
   },
   "outputs": [
    {
     "data": {
      "image/png": "[encoded data removed]",
      "text/plain": [
       "<Figure size 432x288 with 1 Axes>"
      ]
     },
     "metadata": {
      "needs_background": "light"
     },
     "output_type": "display_data"
    },
    {
     "data": {
      "image/png": "[encoded data removed]",
      "text/plain": [
       "<Figure size 432x288 with 1 Axes>"
      ]
     },
     "metadata": {
      "needs_background": "light"
     },
     "output_type": "display_data"
    }
   ],
   "source": [
    "import matplotlib.pyplot as plt\n",
    "%matplotlib inline\n",
    "\n",
    "plt.plot(range(len(train_loss)), train_loss, label=\"train loss\")\n",
    "plt.plot(range(len(valid_loss)), valid_loss, label=\"valid loss\")\n",
    "plt.hlines(y=loss_loadback, xmin=0, xmax=len(train_loss), colors='r', linestyles='--')\n",
    "plt.legend()\n",
    "plt.title(\"Loss\")\n",
    "plt.show()\n",
    "\n",
    "plt.plot(range(len(train_acc)), train_acc, label=\"train accuracy\")\n",
    "plt.plot(range(len(valid_acc)), valid_acc, label=\"valid accuracy\")\n",
    "plt.hlines(y=acc_loadback, xmin=0, xmax=len(train_loss), colors='r', linestyles='--')\n",
    "plt.legend()\n",
    "plt.title(\"Accuracy\")\n",
    "plt.show()"
   ]
  },
  {
   "cell_type": "markdown",
   "metadata": {},
   "source": [
    "# Homework\n",
    "1. 試比較 save_best_only 與否的差異\n",
    "2. 請僅存入將 save_weights_only 設定為 True, 並嘗試 reset ipynb 並將模型與權重重新建回並預測 x_test"
   ]
  },
  {
   "cell_type": "markdown",
   "metadata": {},
   "source": [
    "## save best only"
   ]
  },
  {
   "cell_type": "code",
   "execution_count": 12,
   "metadata": {
    "ExecuteTime": {
     "end_time": "2019-07-28T22:57:16.329091Z",
     "start_time": "2019-07-28T22:57:16.324626Z"
    }
   },
   "outputs": [],
   "source": [
    "# 載入 Callbacks\n",
    "from keras.callbacks import ModelCheckpoint\n",
    "\n",
    "model_ckpt = ModelCheckpoint(filepath=\"./tmp.h5\", \n",
    "                             monitor=\"val_loss\", \n",
    "                             save_best_only=False)"
   ]
  },
  {
   "cell_type": "code",
   "execution_count": 13,
   "metadata": {
    "ExecuteTime": {
     "end_time": "2019-07-28T23:00:36.102302Z",
     "start_time": "2019-07-28T22:57:49.535012Z"
    }
   },
   "outputs": [
    {
     "name": "stdout",
     "output_type": "stream",
     "text": [
      "_________________________________________________________________\n",
      "Layer (type)                 Output Shape              Param #   \n",
      "=================================================================\n",
      "input_1 (InputLayer)         (None, 3072)              0         \n",
      "_________________________________________________________________\n",
      "hidden_layer1 (Dense)        (None, 512)               1573376   \n",
      "_________________________________________________________________\n",
      "batch_normalization_1 (Batch (None, 512)               2048      \n",
      "_________________________________________________________________\n",
      "hidden_layer2 (Dense)        (None, 256)               131328    \n",
      "_________________________________________________________________\n",
      "batch_normalization_2 (Batch (None, 256)               1024      \n",
      "_________________________________________________________________\n",
      "hidden_layer3 (Dense)        (None, 128)               32896     \n",
      "_________________________________________________________________\n",
      "batch_normalization_3 (Batch (None, 128)               512       \n",
      "_________________________________________________________________\n",
      "output (Dense)               (None, 10)                1290      \n",
      "=================================================================\n",
      "Total params: 1,742,474\n",
      "Trainable params: 1,740,682\n",
      "Non-trainable params: 1,792\n",
      "_________________________________________________________________\n",
      "Train on 50000 samples, validate on 10000 samples\n",
      "Epoch 1/50\n",
      "50000/50000 [==============================] - 5s 99us/step - loss: 2.1830 - acc: 0.2765 - val_loss: 2.0758 - val_acc: 0.3434\n",
      "Epoch 2/50\n",
      "50000/50000 [==============================] - 3s 65us/step - loss: 1.7440 - acc: 0.3919 - val_loss: 1.8123 - val_acc: 0.3829\n",
      "Epoch 3/50\n",
      "50000/50000 [==============================] - 3s 65us/step - loss: 1.6169 - acc: 0.4378 - val_loss: 1.6800 - val_acc: 0.4163\n",
      "Epoch 4/50\n",
      "50000/50000 [==============================] - 3s 68us/step - loss: 1.5398 - acc: 0.4647 - val_loss: 1.6167 - val_acc: 0.4302\n",
      "Epoch 5/50\n",
      "50000/50000 [==============================] - 3s 65us/step - loss: 1.4841 - acc: 0.4831 - val_loss: 1.5924 - val_acc: 0.4367\n",
      "Epoch 6/50\n",
      "50000/50000 [==============================] - 3s 64us/step - loss: 1.4379 - acc: 0.5006 - val_loss: 1.5658 - val_acc: 0.4494\n",
      "Epoch 7/50\n",
      "50000/50000 [==============================] - 3s 60us/step - loss: 1.3977 - acc: 0.5140 - val_loss: 1.5364 - val_acc: 0.4564\n",
      "Epoch 8/50\n",
      "50000/50000 [==============================] - 3s 62us/step - loss: 1.3594 - acc: 0.5277 - val_loss: 1.5252 - val_acc: 0.4619\n",
      "Epoch 9/50\n",
      "50000/50000 [==============================] - 3s 61us/step - loss: 1.3276 - acc: 0.5398 - val_loss: 1.5042 - val_acc: 0.4673\n",
      "Epoch 10/50\n",
      "50000/50000 [==============================] - 3s 61us/step - loss: 1.2967 - acc: 0.5505 - val_loss: 1.4987 - val_acc: 0.4717\n",
      "Epoch 11/50\n",
      "50000/50000 [==============================] - 3s 61us/step - loss: 1.2666 - acc: 0.5627 - val_loss: 1.4753 - val_acc: 0.4775\n",
      "Epoch 12/50\n",
      "50000/50000 [==============================] - 3s 60us/step - loss: 1.2401 - acc: 0.5718 - val_loss: 1.4747 - val_acc: 0.4791\n",
      "Epoch 13/50\n",
      "50000/50000 [==============================] - 3s 60us/step - loss: 1.2148 - acc: 0.5819 - val_loss: 1.4693 - val_acc: 0.4786\n",
      "Epoch 14/50\n",
      "50000/50000 [==============================] - 3s 60us/step - loss: 1.1906 - acc: 0.5901 - val_loss: 1.4608 - val_acc: 0.4846\n",
      "Epoch 15/50\n",
      "50000/50000 [==============================] - 3s 60us/step - loss: 1.1653 - acc: 0.5998 - val_loss: 1.4586 - val_acc: 0.4852\n",
      "Epoch 16/50\n",
      "50000/50000 [==============================] - 3s 60us/step - loss: 1.1414 - acc: 0.6080 - val_loss: 1.4572 - val_acc: 0.4902\n",
      "Epoch 17/50\n",
      "50000/50000 [==============================] - 3s 62us/step - loss: 1.1188 - acc: 0.6180 - val_loss: 1.4511 - val_acc: 0.4914\n",
      "Epoch 18/50\n",
      "50000/50000 [==============================] - 3s 64us/step - loss: 1.0954 - acc: 0.6259 - val_loss: 1.4467 - val_acc: 0.4974\n",
      "Epoch 19/50\n",
      "50000/50000 [==============================] - 3s 63us/step - loss: 1.0720 - acc: 0.6345 - val_loss: 1.4638 - val_acc: 0.4948\n",
      "Epoch 20/50\n",
      "50000/50000 [==============================] - 3s 62us/step - loss: 1.0492 - acc: 0.6435 - val_loss: 1.4458 - val_acc: 0.4961\n",
      "Epoch 21/50\n",
      "50000/50000 [==============================] - 3s 62us/step - loss: 1.0283 - acc: 0.6517 - val_loss: 1.4413 - val_acc: 0.4982\n",
      "Epoch 22/50\n",
      "50000/50000 [==============================] - 3s 65us/step - loss: 1.0078 - acc: 0.6584 - val_loss: 1.4612 - val_acc: 0.4945\n",
      "Epoch 23/50\n",
      "50000/50000 [==============================] - 3s 64us/step - loss: 0.9858 - acc: 0.6673 - val_loss: 1.4413 - val_acc: 0.5013\n",
      "Epoch 24/50\n",
      "50000/50000 [==============================] - 3s 63us/step - loss: 0.9656 - acc: 0.6739 - val_loss: 1.4592 - val_acc: 0.4988\n",
      "Epoch 25/50\n",
      "50000/50000 [==============================] - 3s 63us/step - loss: 0.9449 - acc: 0.6816 - val_loss: 1.4608 - val_acc: 0.5022\n",
      "Epoch 26/50\n",
      "50000/50000 [==============================] - 3s 66us/step - loss: 0.9243 - acc: 0.6921 - val_loss: 1.4591 - val_acc: 0.5034\n",
      "Epoch 27/50\n",
      "50000/50000 [==============================] - 3s 62us/step - loss: 0.9030 - acc: 0.6987 - val_loss: 1.4777 - val_acc: 0.5016\n",
      "Epoch 28/50\n",
      "50000/50000 [==============================] - 3s 62us/step - loss: 0.8860 - acc: 0.7067 - val_loss: 1.4762 - val_acc: 0.4989\n",
      "Epoch 29/50\n",
      "50000/50000 [==============================] - 3s 64us/step - loss: 0.8639 - acc: 0.7147 - val_loss: 1.4796 - val_acc: 0.5015\n",
      "Epoch 30/50\n",
      "50000/50000 [==============================] - 3s 62us/step - loss: 0.8438 - acc: 0.7219 - val_loss: 1.4797 - val_acc: 0.4999\n",
      "Epoch 31/50\n",
      "50000/50000 [==============================] - 3s 62us/step - loss: 0.8255 - acc: 0.7294 - val_loss: 1.4847 - val_acc: 0.5001\n",
      "Epoch 32/50\n",
      "50000/50000 [==============================] - 3s 64us/step - loss: 0.8058 - acc: 0.7374 - val_loss: 1.4962 - val_acc: 0.4947\n",
      "Epoch 33/50\n",
      "50000/50000 [==============================] - 3s 63us/step - loss: 0.7862 - acc: 0.7456 - val_loss: 1.5010 - val_acc: 0.5029\n",
      "Epoch 34/50\n",
      "50000/50000 [==============================] - 3s 62us/step - loss: 0.7670 - acc: 0.7525 - val_loss: 1.5094 - val_acc: 0.4951\n",
      "Epoch 35/50\n",
      "50000/50000 [==============================] - 3s 69us/step - loss: 0.7476 - acc: 0.7618 - val_loss: 1.5209 - val_acc: 0.5004\n",
      "Epoch 36/50\n",
      "50000/50000 [==============================] - 3s 66us/step - loss: 0.7301 - acc: 0.7668 - val_loss: 1.5255 - val_acc: 0.4994\n",
      "Epoch 37/50\n",
      "50000/50000 [==============================] - 3s 64us/step - loss: 0.7099 - acc: 0.7757 - val_loss: 1.5301 - val_acc: 0.5016\n",
      "Epoch 38/50\n",
      "50000/50000 [==============================] - 3s 64us/step - loss: 0.6924 - acc: 0.7830 - val_loss: 1.5380 - val_acc: 0.5001\n",
      "Epoch 39/50\n",
      "50000/50000 [==============================] - 3s 63us/step - loss: 0.6746 - acc: 0.7888 - val_loss: 1.5470 - val_acc: 0.5005\n",
      "Epoch 40/50\n",
      "50000/50000 [==============================] - 3s 63us/step - loss: 0.6542 - acc: 0.7989 - val_loss: 1.5836 - val_acc: 0.4963\n",
      "Epoch 41/50\n",
      "50000/50000 [==============================] - 3s 63us/step - loss: 0.6369 - acc: 0.8040 - val_loss: 1.5830 - val_acc: 0.4982\n",
      "Epoch 42/50\n",
      "50000/50000 [==============================] - 3s 62us/step - loss: 0.6206 - acc: 0.8106 - val_loss: 1.5777 - val_acc: 0.4919\n",
      "Epoch 43/50\n",
      "50000/50000 [==============================] - 3s 62us/step - loss: 0.6027 - acc: 0.8188 - val_loss: 1.6008 - val_acc: 0.4936\n",
      "Epoch 44/50\n",
      "50000/50000 [==============================] - 3s 64us/step - loss: 0.5838 - acc: 0.8283 - val_loss: 1.5996 - val_acc: 0.4985\n",
      "Epoch 45/50\n",
      "50000/50000 [==============================] - 4s 71us/step - loss: 0.5681 - acc: 0.8333 - val_loss: 1.6226 - val_acc: 0.4907\n",
      "Epoch 46/50\n",
      "50000/50000 [==============================] - 3s 67us/step - loss: 0.5501 - acc: 0.8394 - val_loss: 1.6323 - val_acc: 0.4957\n",
      "Epoch 47/50\n",
      "50000/50000 [==============================] - 3s 64us/step - loss: 0.5331 - acc: 0.8458 - val_loss: 1.6393 - val_acc: 0.4972\n",
      "Epoch 48/50\n",
      "50000/50000 [==============================] - 3s 64us/step - loss: 0.5162 - acc: 0.8528 - val_loss: 1.6748 - val_acc: 0.4925\n",
      "Epoch 49/50\n",
      "50000/50000 [==============================] - 3s 62us/step - loss: 0.4996 - acc: 0.8601 - val_loss: 1.6649 - val_acc: 0.4949\n"
     ]
    },
    {
     "name": "stdout",
     "output_type": "stream",
     "text": [
      "Epoch 50/50\n",
      "50000/50000 [==============================] - 3s 59us/step - loss: 0.4859 - acc: 0.8647 - val_loss: 1.6767 - val_acc: 0.4891\n",
      "10000/10000 [==============================] - 1s 121us/step\n"
     ]
    }
   ],
   "source": [
    "keras.backend.clear_session()\n",
    "model = build_mlp(input_shape=x_train.shape[1:])\n",
    "model.summary()\n",
    "optimizer = keras.optimizers.SGD(lr=LEARNING_RATE, nesterov=True, momentum=MOMENTUM)\n",
    "model.compile(loss=\"categorical_crossentropy\", metrics=[\"accuracy\"], optimizer=optimizer)\n",
    "\n",
    "model.fit(x_train, y_train, \n",
    "          epochs=EPOCHS, \n",
    "          batch_size=BATCH_SIZE, \n",
    "          validation_data=(x_test, y_test), \n",
    "          shuffle=True,\n",
    "          callbacks=[model_ckpt]\n",
    "         )\n",
    "\n",
    "# Collect results\n",
    "train_loss = model.history.history[\"loss\"]\n",
    "valid_loss = model.history.history[\"val_loss\"]\n",
    "train_acc = model.history.history[\"acc\"]\n",
    "valid_acc = model.history.history[\"val_acc\"]\n",
    "\n",
    "# Load back\n",
    "model = keras.models.load_model(\"./tmp.h5\")\n",
    "loss_loadback, acc_loadback = model.evaluate(x_test, y_test)"
   ]
  },
  {
   "cell_type": "code",
   "execution_count": 14,
   "metadata": {
    "ExecuteTime": {
     "end_time": "2019-07-28T23:00:37.058064Z",
     "start_time": "2019-07-28T23:00:36.733724Z"
    }
   },
   "outputs": [
    {
     "data": {
      "image/png": "[encoded data removed]",
      "text/plain": [
       "<Figure size 432x288 with 1 Axes>"
      ]
     },
     "metadata": {
      "needs_background": "light"
     },
     "output_type": "display_data"
    },
    {
     "data": {
      "image/png": "[encoded data removed]",
      "text/plain": [
       "<Figure size 432x288 with 1 Axes>"
      ]
     },
     "metadata": {
      "needs_background": "light"
     },
     "output_type": "display_data"
    }
   ],
   "source": [
    "import matplotlib.pyplot as plt\n",
    "%matplotlib inline\n",
    "\n",
    "plt.plot(range(len(train_loss)), train_loss, label=\"train loss\")\n",
    "plt.plot(range(len(valid_loss)), valid_loss, label=\"valid loss\")\n",
    "plt.hlines(y=loss_loadback, xmin=0, xmax=len(train_loss), colors='r', linestyles='--')\n",
    "plt.legend()\n",
    "plt.title(\"Loss\")\n",
    "plt.show()\n",
    "\n",
    "plt.plot(range(len(train_acc)), train_acc, label=\"train accuracy\")\n",
    "plt.plot(range(len(valid_acc)), valid_acc, label=\"valid accuracy\")\n",
    "plt.hlines(y=acc_loadback, xmin=0, xmax=len(train_loss), colors='r', linestyles='--')\n",
    "plt.legend()\n",
    "plt.title(\"Accuracy\")\n",
    "plt.show()"
   ]
  },
  {
   "cell_type": "markdown",
   "metadata": {},
   "source": [
    "# Save weights only"
   ]
  },
  {
   "cell_type": "code",
   "execution_count": 15,
   "metadata": {
    "ExecuteTime": {
     "end_time": "2019-07-28T23:04:23.468276Z",
     "start_time": "2019-07-28T23:04:23.464307Z"
    },
    "scrolled": true
   },
   "outputs": [],
   "source": [
    "model_ckpt = ModelCheckpoint(filepath=\"./tmp2.h5\", \n",
    "                             monitor=\"val_loss\", \n",
    "                             save_best_only=False,\n",
    "                             save_weights_only = True)"
   ]
  },
  {
   "cell_type": "code",
   "execution_count": 16,
   "metadata": {
    "ExecuteTime": {
     "end_time": "2019-07-28T23:07:31.526512Z",
     "start_time": "2019-07-28T23:04:34.439676Z"
    }
   },
   "outputs": [
    {
     "name": "stdout",
     "output_type": "stream",
     "text": [
      "_________________________________________________________________\n",
      "Layer (type)                 Output Shape              Param #   \n",
      "=================================================================\n",
      "input_1 (InputLayer)         (None, 3072)              0         \n",
      "_________________________________________________________________\n",
      "hidden_layer1 (Dense)        (None, 512)               1573376   \n",
      "_________________________________________________________________\n",
      "batch_normalization_1 (Batch (None, 512)               2048      \n",
      "_________________________________________________________________\n",
      "hidden_layer2 (Dense)        (None, 256)               131328    \n",
      "_________________________________________________________________\n",
      "batch_normalization_2 (Batch (None, 256)               1024      \n",
      "_________________________________________________________________\n",
      "hidden_layer3 (Dense)        (None, 128)               32896     \n",
      "_________________________________________________________________\n",
      "batch_normalization_3 (Batch (None, 128)               512       \n",
      "_________________________________________________________________\n",
      "output (Dense)               (None, 10)                1290      \n",
      "=================================================================\n",
      "Total params: 1,742,474\n",
      "Trainable params: 1,740,682\n",
      "Non-trainable params: 1,792\n",
      "_________________________________________________________________\n",
      "Train on 50000 samples, validate on 10000 samples\n",
      "Epoch 1/50\n",
      "50000/50000 [==============================] - 5s 91us/step - loss: 2.2137 - acc: 0.2703 - val_loss: 2.0800 - val_acc: 0.3208\n",
      "Epoch 2/50\n",
      "50000/50000 [==============================] - 3s 62us/step - loss: 1.7470 - acc: 0.3933 - val_loss: 1.8249 - val_acc: 0.3769\n",
      "Epoch 3/50\n",
      "50000/50000 [==============================] - 3s 63us/step - loss: 1.6191 - acc: 0.4354 - val_loss: 1.6746 - val_acc: 0.4220\n",
      "Epoch 4/50\n",
      "50000/50000 [==============================] - 3s 64us/step - loss: 1.5453 - acc: 0.4627 - val_loss: 1.6444 - val_acc: 0.4350\n",
      "Epoch 5/50\n",
      "50000/50000 [==============================] - 3s 60us/step - loss: 1.4879 - acc: 0.4809 - val_loss: 1.5971 - val_acc: 0.4402\n",
      "Epoch 6/50\n",
      "50000/50000 [==============================] - 3s 62us/step - loss: 1.4420 - acc: 0.4988 - val_loss: 1.5706 - val_acc: 0.4497\n",
      "Epoch 7/50\n",
      "50000/50000 [==============================] - 3s 63us/step - loss: 1.4028 - acc: 0.5121 - val_loss: 1.5515 - val_acc: 0.4550\n",
      "Epoch 8/50\n",
      "50000/50000 [==============================] - 3s 61us/step - loss: 1.3650 - acc: 0.5275 - val_loss: 1.5279 - val_acc: 0.4629\n",
      "Epoch 9/50\n",
      "50000/50000 [==============================] - 3s 64us/step - loss: 1.3331 - acc: 0.5376 - val_loss: 1.5063 - val_acc: 0.4715\n",
      "Epoch 10/50\n",
      "50000/50000 [==============================] - 3s 63us/step - loss: 1.3038 - acc: 0.5483 - val_loss: 1.5083 - val_acc: 0.4702\n",
      "Epoch 11/50\n",
      "50000/50000 [==============================] - 3s 62us/step - loss: 1.2744 - acc: 0.5595 - val_loss: 1.4922 - val_acc: 0.4769\n",
      "Epoch 12/50\n",
      "50000/50000 [==============================] - 3s 61us/step - loss: 1.2466 - acc: 0.5703 - val_loss: 1.4879 - val_acc: 0.4822\n",
      "Epoch 13/50\n",
      "50000/50000 [==============================] - 3s 69us/step - loss: 1.2212 - acc: 0.5799 - val_loss: 1.4814 - val_acc: 0.4841\n",
      "Epoch 14/50\n",
      "50000/50000 [==============================] - 3s 63us/step - loss: 1.1961 - acc: 0.5879 - val_loss: 1.4897 - val_acc: 0.4794\n",
      "Epoch 15/50\n",
      "50000/50000 [==============================] - 3s 62us/step - loss: 1.1723 - acc: 0.5969 - val_loss: 1.4852 - val_acc: 0.4827\n",
      "Epoch 16/50\n",
      "50000/50000 [==============================] - 5s 93us/step - loss: 1.1480 - acc: 0.6070 - val_loss: 1.4733 - val_acc: 0.4871\n",
      "Epoch 17/50\n",
      "50000/50000 [==============================] - 3s 69us/step - loss: 1.1250 - acc: 0.6157 - val_loss: 1.4545 - val_acc: 0.4905\n",
      "Epoch 18/50\n",
      "50000/50000 [==============================] - 3s 67us/step - loss: 1.1003 - acc: 0.6241 - val_loss: 1.4819 - val_acc: 0.4883\n",
      "Epoch 19/50\n",
      "50000/50000 [==============================] - 3s 68us/step - loss: 1.0788 - acc: 0.6330 - val_loss: 1.4535 - val_acc: 0.4939\n",
      "Epoch 20/50\n",
      "50000/50000 [==============================] - 3s 69us/step - loss: 1.0559 - acc: 0.6418 - val_loss: 1.4631 - val_acc: 0.4896\n",
      "Epoch 21/50\n",
      "50000/50000 [==============================] - 3s 68us/step - loss: 1.0329 - acc: 0.6512 - val_loss: 1.4600 - val_acc: 0.4955\n",
      "Epoch 22/50\n",
      "50000/50000 [==============================] - 4s 71us/step - loss: 1.0126 - acc: 0.6596 - val_loss: 1.4666 - val_acc: 0.4876\n",
      "Epoch 23/50\n",
      "50000/50000 [==============================] - 3s 69us/step - loss: 0.9933 - acc: 0.6661 - val_loss: 1.4659 - val_acc: 0.4923\n",
      "Epoch 24/50\n",
      "50000/50000 [==============================] - 3s 67us/step - loss: 0.9685 - acc: 0.6742 - val_loss: 1.4597 - val_acc: 0.4917\n",
      "Epoch 25/50\n",
      "50000/50000 [==============================] - 3s 69us/step - loss: 0.9475 - acc: 0.6827 - val_loss: 1.4705 - val_acc: 0.4952\n",
      "Epoch 26/50\n",
      "50000/50000 [==============================] - 3s 70us/step - loss: 0.9273 - acc: 0.6913 - val_loss: 1.4680 - val_acc: 0.4952\n",
      "Epoch 27/50\n",
      "50000/50000 [==============================] - 3s 69us/step - loss: 0.9096 - acc: 0.6965 - val_loss: 1.4678 - val_acc: 0.4959\n",
      "Epoch 28/50\n",
      "50000/50000 [==============================] - 3s 69us/step - loss: 0.8865 - acc: 0.7052 - val_loss: 1.4799 - val_acc: 0.4955\n",
      "Epoch 29/50\n",
      "50000/50000 [==============================] - 4s 74us/step - loss: 0.8657 - acc: 0.7140 - val_loss: 1.4892 - val_acc: 0.4896\n",
      "Epoch 30/50\n",
      "50000/50000 [==============================] - 4s 70us/step - loss: 0.8434 - acc: 0.7235 - val_loss: 1.4902 - val_acc: 0.4955\n",
      "Epoch 31/50\n",
      "50000/50000 [==============================] - 3s 69us/step - loss: 0.8271 - acc: 0.7268 - val_loss: 1.4891 - val_acc: 0.5001\n",
      "Epoch 32/50\n",
      "50000/50000 [==============================] - 3s 68us/step - loss: 0.8056 - acc: 0.7364 - val_loss: 1.4958 - val_acc: 0.4993\n",
      "Epoch 33/50\n",
      "50000/50000 [==============================] - 4s 71us/step - loss: 0.7875 - acc: 0.7457 - val_loss: 1.5242 - val_acc: 0.4926\n",
      "Epoch 34/50\n",
      "50000/50000 [==============================] - 4s 71us/step - loss: 0.7671 - acc: 0.7524 - val_loss: 1.5170 - val_acc: 0.4927\n",
      "Epoch 35/50\n",
      "50000/50000 [==============================] - 4s 71us/step - loss: 0.7466 - acc: 0.7594 - val_loss: 1.5210 - val_acc: 0.4930\n",
      "Epoch 36/50\n",
      "50000/50000 [==============================] - 4s 71us/step - loss: 0.7303 - acc: 0.7664 - val_loss: 1.5406 - val_acc: 0.4895\n",
      "Epoch 37/50\n",
      "50000/50000 [==============================] - 4s 73us/step - loss: 0.7092 - acc: 0.7753 - val_loss: 1.5461 - val_acc: 0.4908\n",
      "Epoch 38/50\n",
      "50000/50000 [==============================] - 4s 71us/step - loss: 0.6913 - acc: 0.7821 - val_loss: 1.5816 - val_acc: 0.4843\n",
      "Epoch 39/50\n",
      "50000/50000 [==============================] - 3s 69us/step - loss: 0.6724 - acc: 0.7892 - val_loss: 1.5605 - val_acc: 0.4892\n",
      "Epoch 40/50\n",
      "50000/50000 [==============================] - 3s 69us/step - loss: 0.6539 - acc: 0.7970 - val_loss: 1.6031 - val_acc: 0.4916\n",
      "Epoch 41/50\n",
      "50000/50000 [==============================] - 4s 72us/step - loss: 0.6365 - acc: 0.8036 - val_loss: 1.5805 - val_acc: 0.4905\n",
      "Epoch 42/50\n",
      "50000/50000 [==============================] - 4s 71us/step - loss: 0.6187 - acc: 0.8109 - val_loss: 1.6031 - val_acc: 0.4863\n",
      "Epoch 43/50\n",
      "50000/50000 [==============================] - 4s 73us/step - loss: 0.6014 - acc: 0.8191 - val_loss: 1.6165 - val_acc: 0.4899\n",
      "Epoch 44/50\n",
      "50000/50000 [==============================] - 4s 71us/step - loss: 0.5835 - acc: 0.8244 - val_loss: 1.6280 - val_acc: 0.4852\n",
      "Epoch 45/50\n",
      "50000/50000 [==============================] - 3s 69us/step - loss: 0.5652 - acc: 0.8331 - val_loss: 1.6383 - val_acc: 0.4875\n",
      "Epoch 46/50\n",
      "50000/50000 [==============================] - 3s 70us/step - loss: 0.5475 - acc: 0.8399 - val_loss: 1.6507 - val_acc: 0.4867\n",
      "Epoch 47/50\n",
      "50000/50000 [==============================] - 3s 68us/step - loss: 0.5314 - acc: 0.8456 - val_loss: 1.6569 - val_acc: 0.4828\n",
      "Epoch 48/50\n",
      "50000/50000 [==============================] - 3s 61us/step - loss: 0.5142 - acc: 0.8531 - val_loss: 1.6726 - val_acc: 0.4880\n",
      "Epoch 49/50\n",
      "50000/50000 [==============================] - 3s 61us/step - loss: 0.4995 - acc: 0.8586 - val_loss: 1.6990 - val_acc: 0.4823\n"
     ]
    },
    {
     "name": "stdout",
     "output_type": "stream",
     "text": [
      "Epoch 50/50\n",
      "50000/50000 [==============================] - 3s 59us/step - loss: 0.4841 - acc: 0.8650 - val_loss: 1.7093 - val_acc: 0.4850\n",
      "10000/10000 [==============================] - 1s 108us/step\n"
     ]
    }
   ],
   "source": [
    "keras.backend.clear_session()\n",
    "model = build_mlp(input_shape=x_train.shape[1:])\n",
    "model.summary()\n",
    "optimizer = keras.optimizers.SGD(lr=LEARNING_RATE, nesterov=True, momentum=MOMENTUM)\n",
    "model.compile(loss=\"categorical_crossentropy\", metrics=[\"accuracy\"], optimizer=optimizer)\n",
    "\n",
    "model.fit(x_train, y_train, \n",
    "          epochs=EPOCHS, \n",
    "          batch_size=BATCH_SIZE, \n",
    "          validation_data=(x_test, y_test), \n",
    "          shuffle=True,\n",
    "          callbacks=[model_ckpt]\n",
    "         )\n",
    "\n",
    "# Collect results\n",
    "train_loss = model.history.history[\"loss\"]\n",
    "valid_loss = model.history.history[\"val_loss\"]\n",
    "train_acc = model.history.history[\"acc\"]\n",
    "valid_acc = model.history.history[\"val_acc\"]\n",
    "\n",
    "# Load back\n",
    "model = keras.models.load_model(\"./tmp.h5\")\n",
    "loss_loadback, acc_loadback = model.evaluate(x_test, y_test)"
   ]
  },
  {
   "cell_type": "code",
   "execution_count": 17,
   "metadata": {
    "ExecuteTime": {
     "end_time": "2019-07-28T23:07:32.008621Z",
     "start_time": "2019-07-28T23:07:31.574620Z"
    }
   },
   "outputs": [
    {
     "data": {
      "image/png": "[encoded data removed]",
      "text/plain": [
       "<Figure size 432x288 with 1 Axes>"
      ]
     },
     "metadata": {
      "needs_background": "light"
     },
     "output_type": "display_data"
    },
    {
     "data": {
      "image/png": "[encoded data removed]",
      "text/plain": [
       "<Figure size 432x288 with 1 Axes>"
      ]
     },
     "metadata": {
      "needs_background": "light"
     },
     "output_type": "display_data"
    }
   ],
   "source": [
    "import matplotlib.pyplot as plt\n",
    "%matplotlib inline\n",
    "\n",
    "plt.plot(range(len(train_loss)), train_loss, label=\"train loss\")\n",
    "plt.plot(range(len(valid_loss)), valid_loss, label=\"valid loss\")\n",
    "plt.hlines(y=loss_loadback, xmin=0, xmax=len(train_loss), colors='r', linestyles='--')\n",
    "plt.legend()\n",
    "plt.title(\"Loss\")\n",
    "plt.show()\n",
    "\n",
    "plt.plot(range(len(train_acc)), train_acc, label=\"train accuracy\")\n",
    "plt.plot(range(len(valid_acc)), valid_acc, label=\"valid accuracy\")\n",
    "plt.hlines(y=acc_loadback, xmin=0, xmax=len(train_loss), colors='r', linestyles='--')\n",
    "plt.legend()\n",
    "plt.title(\"Accuracy\")\n",
    "plt.show()"
   ]
  },
  {
   "cell_type": "code",
   "execution_count": null,
   "metadata": {},
   "outputs": [],
   "source": []
  }
 ],
 "metadata": {
  "anaconda-cloud": {},
  "kernelspec": {
   "display_name": "Python 3",
   "language": "python",
   "name": "python3"
  },
  "language_info": {
   "codemirror_mode": {
    "name": "ipython",
    "version": 3
   },
   "file_extension": ".py",
   "mimetype": "text/x-python",
   "name": "python",
   "nbconvert_exporter": "python",
   "pygments_lexer": "ipython3",
   "version": "3.7.3"
  },
  "toc": {
   "base_numbering": 1,
   "nav_menu": {},
   "number_sections": true,
   "sideBar": true,
   "skip_h1_title": false,
   "title_cell": "Table of Contents",
   "title_sidebar": "Contents",
   "toc_cell": false,
   "toc_position": {},
   "toc_section_display": true,
   "toc_window_display": false
  },
  "varInspector": {
   "cols": {
    "lenName": 16,
    "lenType": 16,
    "lenVar": 40
   },
   "kernels_config": {
    "python": {
     "delete_cmd_postfix": "",
     "delete_cmd_prefix": "del ",
     "library": "var_list.py",
     "varRefreshCmd": "print(var_dic_list())"
    },
    "r": {
     "delete_cmd_postfix": ") ",
     "delete_cmd_prefix": "rm(",
     "library": "var_list.r",
     "varRefreshCmd": "cat(var_dic_list()) "
    }
   },
   "types_to_exclude": [
    "module",
    "function",
    "builtin_function_or_method",
    "instance",
    "_Feature"
   ],
   "window_display": false
  }
 },
 "nbformat": 4,
 "nbformat_minor": 2
}
