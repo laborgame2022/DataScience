{
 "cells": [
  {
   "cell_type": "markdown",
   "metadata": {},
   "source": [
    "# 目標\n",
    "知道如何在 keras 中加入 dropout\n",
    "\n",
    "了解 dropout 中 ratio 的意義與對訓練的影響"
   ]
  },
  {
   "cell_type": "code",
   "execution_count": 5,
   "metadata": {
    "ExecuteTime": {
     "end_time": "2019-07-25T15:58:32.277607Z",
     "start_time": "2019-07-25T15:58:32.271159Z"
    }
   },
   "outputs": [],
   "source": [
    "import os\n",
    "import keras\n",
    "import itertools\n",
    "from keras.layers import Dropout\n",
    "import matplotlib.pyplot as plt\n",
    "%matplotlib inline\n",
    "\n",
    "# Disable GPU\n",
    "os.environ[\"CUDA_VISIBLE_DEVICES\"] = \"\""
   ]
  },
  {
   "cell_type": "code",
   "execution_count": 6,
   "metadata": {
    "ExecuteTime": {
     "end_time": "2019-07-25T15:58:33.000166Z",
     "start_time": "2019-07-25T15:58:32.689177Z"
    }
   },
   "outputs": [],
   "source": [
    "train, test = keras.datasets.cifar10.load_data()"
   ]
  },
  {
   "cell_type": "code",
   "execution_count": 7,
   "metadata": {
    "ExecuteTime": {
     "end_time": "2019-07-25T15:58:33.716632Z",
     "start_time": "2019-07-25T15:58:33.709161Z"
    }
   },
   "outputs": [],
   "source": [
    "## 資料前處理\n",
    "def preproc_x(x, flatten=True):\n",
    "    x = x / 255.\n",
    "    if flatten:\n",
    "        x = x.reshape((len(x), -1))\n",
    "    return x\n",
    "\n",
    "def preproc_y(y, num_classes=10):\n",
    "    if y.shape[-1] == 1:\n",
    "        y = keras.utils.to_categorical(y, num_classes)\n",
    "    return y    "
   ]
  },
  {
   "cell_type": "code",
   "execution_count": 8,
   "metadata": {
    "ExecuteTime": {
     "end_time": "2019-07-25T15:58:35.867626Z",
     "start_time": "2019-07-25T15:58:33.948109Z"
    }
   },
   "outputs": [],
   "source": [
    "x_train, y_train = train\n",
    "x_test, y_test = test\n",
    "\n",
    "# Preproc the inputs\n",
    "x_train = preproc_x(x_train)\n",
    "x_test = preproc_x(x_test)\n",
    "\n",
    "# Preprc the outputs\n",
    "y_train = preproc_y(y_train)\n",
    "y_test = preproc_y(y_test)"
   ]
  },
  {
   "cell_type": "markdown",
   "metadata": {},
   "source": [
    "# 範例"
   ]
  },
  {
   "cell_type": "code",
   "execution_count": 7,
   "metadata": {
    "ExecuteTime": {
     "end_time": "2019-07-25T15:48:41.315775Z",
     "start_time": "2019-07-25T15:48:41.304863Z"
    }
   },
   "outputs": [],
   "source": [
    "def build_mlp(input_shape, output_units=10, num_neurons=[512, 256, 128], drp_ratio=0.2):\n",
    "    input_layer = keras.layers.Input(input_shape)\n",
    "    \n",
    "    for i, n_units in enumerate(num_neurons):\n",
    "        if i == 0:\n",
    "            x = keras.layers.Dense(units=n_units, \n",
    "                                   activation=\"relu\", \n",
    "                                   name=\"hidden_layer\"+str(i+1))(input_layer)\n",
    "            x = Dropout(drp_ratio)(x)\n",
    "        else:\n",
    "            x = keras.layers.Dense(units=n_units, \n",
    "                                   activation=\"relu\", \n",
    "                                   name=\"hidden_layer\"+str(i+1))(x)\n",
    "            x = Dropout(drp_ratio)(x)\n",
    "    \n",
    "    out = keras.layers.Dense(units=output_units, activation=\"softmax\", name=\"output\")(x)\n",
    "    \n",
    "    model = keras.models.Model(inputs=[input_layer], outputs=[out])\n",
    "    return model"
   ]
  },
  {
   "cell_type": "code",
   "execution_count": 8,
   "metadata": {
    "ExecuteTime": {
     "end_time": "2019-07-25T15:48:42.017995Z",
     "start_time": "2019-07-25T15:48:42.012536Z"
    }
   },
   "outputs": [],
   "source": [
    "## 超參數設定\n",
    "LEARNING_RATE = 1e-3\n",
    "EPOCHS = 50\n",
    "BATCH_SIZE = 256\n",
    "MOMENTUM = 0.95\n",
    "Dropout_EXP = 0.25"
   ]
  },
  {
   "cell_type": "code",
   "execution_count": 9,
   "metadata": {
    "ExecuteTime": {
     "end_time": "2019-07-25T15:52:20.290861Z",
     "start_time": "2019-07-25T15:48:43.554864Z"
    },
    "scrolled": true
   },
   "outputs": [
    {
     "name": "stderr",
     "output_type": "stream",
     "text": [
      "WARNING: Logging before flag parsing goes to stderr.\n",
      "W0725 23:48:43.560819  4548 deprecation_wrapper.py:119] From C:\\ProgramData\\Anaconda3\\envs\\TensorFlow\\lib\\site-packages\\keras\\backend\\tensorflow_backend.py:74: The name tf.get_default_graph is deprecated. Please use tf.compat.v1.get_default_graph instead.\n",
      "\n",
      "W0725 23:48:43.622125  4548 deprecation_wrapper.py:119] From C:\\ProgramData\\Anaconda3\\envs\\TensorFlow\\lib\\site-packages\\keras\\backend\\tensorflow_backend.py:517: The name tf.placeholder is deprecated. Please use tf.compat.v1.placeholder instead.\n",
      "\n",
      "W0725 23:48:43.632048  4548 deprecation_wrapper.py:119] From C:\\ProgramData\\Anaconda3\\envs\\TensorFlow\\lib\\site-packages\\keras\\backend\\tensorflow_backend.py:4138: The name tf.random_uniform is deprecated. Please use tf.random.uniform instead.\n",
      "\n",
      "W0725 23:48:43.667264  4548 deprecation_wrapper.py:119] From C:\\ProgramData\\Anaconda3\\envs\\TensorFlow\\lib\\site-packages\\keras\\backend\\tensorflow_backend.py:133: The name tf.placeholder_with_default is deprecated. Please use tf.compat.v1.placeholder_with_default instead.\n",
      "\n",
      "W0725 23:48:43.679170  4548 deprecation.py:506] From C:\\ProgramData\\Anaconda3\\envs\\TensorFlow\\lib\\site-packages\\keras\\backend\\tensorflow_backend.py:3445: calling dropout (from tensorflow.python.ops.nn_ops) with keep_prob is deprecated and will be removed in a future version.\n",
      "Instructions for updating:\n",
      "Please use `rate` instead of `keep_prob`. Rate should be set to `rate = 1 - keep_prob`.\n",
      "W0725 23:48:43.784824  4548 deprecation_wrapper.py:119] From C:\\ProgramData\\Anaconda3\\envs\\TensorFlow\\lib\\site-packages\\keras\\optimizers.py:790: The name tf.train.Optimizer is deprecated. Please use tf.compat.v1.train.Optimizer instead.\n",
      "\n",
      "W0725 23:48:43.795317  4548 deprecation_wrapper.py:119] From C:\\ProgramData\\Anaconda3\\envs\\TensorFlow\\lib\\site-packages\\keras\\backend\\tensorflow_backend.py:3295: The name tf.log is deprecated. Please use tf.math.log instead.\n",
      "\n",
      "W0725 23:48:43.909925  4548 deprecation.py:323] From C:\\ProgramData\\Anaconda3\\envs\\TensorFlow\\lib\\site-packages\\tensorflow\\python\\ops\\math_grad.py:1250: add_dispatch_support.<locals>.wrapper (from tensorflow.python.ops.array_ops) is deprecated and will be removed in a future version.\n",
      "Instructions for updating:\n",
      "Use tf.where in 2.0, which has the same broadcast rule as np.where\n"
     ]
    },
    {
     "name": "stdout",
     "output_type": "stream",
     "text": [
      "_________________________________________________________________\n",
      "Layer (type)                 Output Shape              Param #   \n",
      "=================================================================\n",
      "input_1 (InputLayer)         (None, 3072)              0         \n",
      "_________________________________________________________________\n",
      "hidden_layer1 (Dense)        (None, 512)               1573376   \n",
      "_________________________________________________________________\n",
      "dropout_1 (Dropout)          (None, 512)               0         \n",
      "_________________________________________________________________\n",
      "hidden_layer2 (Dense)        (None, 256)               131328    \n",
      "_________________________________________________________________\n",
      "dropout_2 (Dropout)          (None, 256)               0         \n",
      "_________________________________________________________________\n",
      "hidden_layer3 (Dense)        (None, 128)               32896     \n",
      "_________________________________________________________________\n",
      "dropout_3 (Dropout)          (None, 128)               0         \n",
      "_________________________________________________________________\n",
      "output (Dense)               (None, 10)                1290      \n",
      "=================================================================\n",
      "Total params: 1,738,890\n",
      "Trainable params: 1,738,890\n",
      "Non-trainable params: 0\n",
      "_________________________________________________________________\n",
      "Train on 50000 samples, validate on 10000 samples\n",
      "Epoch 1/50\n",
      "50000/50000 [==============================] - 7s 134us/step - loss: 2.1919 - acc: 0.1863 - val_loss: 1.9903 - val_acc: 0.3022\n",
      "Epoch 2/50\n",
      "50000/50000 [==============================] - 4s 78us/step - loss: 1.9941 - acc: 0.2691 - val_loss: 1.8679 - val_acc: 0.3456\n",
      "Epoch 3/50\n",
      "50000/50000 [==============================] - 4s 77us/step - loss: 1.9070 - acc: 0.3109 - val_loss: 1.7980 - val_acc: 0.3654\n",
      "Epoch 4/50\n",
      "50000/50000 [==============================] - 4s 81us/step - loss: 1.8555 - acc: 0.3308 - val_loss: 1.7432 - val_acc: 0.3941\n",
      "Epoch 5/50\n",
      "50000/50000 [==============================] - 4s 85us/step - loss: 1.8053 - acc: 0.3526 - val_loss: 1.6970 - val_acc: 0.4032\n",
      "Epoch 6/50\n",
      "50000/50000 [==============================] - 4s 84us/step - loss: 1.7722 - acc: 0.3644 - val_loss: 1.6644 - val_acc: 0.4148\n",
      "Epoch 7/50\n",
      "50000/50000 [==============================] - 4s 85us/step - loss: 1.7400 - acc: 0.3790 - val_loss: 1.6386 - val_acc: 0.4261\n",
      "Epoch 8/50\n",
      "50000/50000 [==============================] - 4s 83us/step - loss: 1.7172 - acc: 0.3882 - val_loss: 1.6179 - val_acc: 0.4374\n",
      "Epoch 9/50\n",
      "50000/50000 [==============================] - 4s 81us/step - loss: 1.6920 - acc: 0.3970 - val_loss: 1.5946 - val_acc: 0.4430\n",
      "Epoch 10/50\n",
      "50000/50000 [==============================] - 4s 82us/step - loss: 1.6737 - acc: 0.4044 - val_loss: 1.5763 - val_acc: 0.4404\n",
      "Epoch 11/50\n",
      "50000/50000 [==============================] - 4s 81us/step - loss: 1.6512 - acc: 0.4116 - val_loss: 1.5611 - val_acc: 0.4489\n",
      "Epoch 12/50\n",
      "50000/50000 [==============================] - 5s 92us/step - loss: 1.6364 - acc: 0.4170 - val_loss: 1.5441 - val_acc: 0.4514\n",
      "Epoch 13/50\n",
      "50000/50000 [==============================] - 4s 82us/step - loss: 1.6192 - acc: 0.4229 - val_loss: 1.5240 - val_acc: 0.4608\n",
      "Epoch 14/50\n",
      "50000/50000 [==============================] - 4s 81us/step - loss: 1.6052 - acc: 0.4271 - val_loss: 1.5202 - val_acc: 0.4602\n",
      "Epoch 15/50\n",
      "50000/50000 [==============================] - 4s 86us/step - loss: 1.5884 - acc: 0.4341 - val_loss: 1.5060 - val_acc: 0.4667\n",
      "Epoch 16/50\n",
      "50000/50000 [==============================] - 4s 88us/step - loss: 1.5749 - acc: 0.4404 - val_loss: 1.4849 - val_acc: 0.4745\n",
      "Epoch 17/50\n",
      "50000/50000 [==============================] - 6s 116us/step - loss: 1.5615 - acc: 0.4485 - val_loss: 1.4785 - val_acc: 0.4775\n",
      "Epoch 18/50\n",
      "50000/50000 [==============================] - 5s 105us/step - loss: 1.5512 - acc: 0.4470 - val_loss: 1.4760 - val_acc: 0.4737\n",
      "Epoch 19/50\n",
      "50000/50000 [==============================] - 6s 119us/step - loss: 1.5413 - acc: 0.4507 - val_loss: 1.4596 - val_acc: 0.4835\n",
      "Epoch 20/50\n",
      "50000/50000 [==============================] - 5s 108us/step - loss: 1.5275 - acc: 0.4569 - val_loss: 1.4527 - val_acc: 0.4846\n",
      "Epoch 21/50\n",
      "50000/50000 [==============================] - 4s 84us/step - loss: 1.5140 - acc: 0.4589 - val_loss: 1.4410 - val_acc: 0.4888\n",
      "Epoch 22/50\n",
      "50000/50000 [==============================] - 4s 82us/step - loss: 1.5038 - acc: 0.4653 - val_loss: 1.4302 - val_acc: 0.4945\n",
      "Epoch 23/50\n",
      "50000/50000 [==============================] - 4s 83us/step - loss: 1.4966 - acc: 0.4680 - val_loss: 1.4312 - val_acc: 0.4916\n",
      "Epoch 24/50\n",
      "50000/50000 [==============================] - 4s 84us/step - loss: 1.4843 - acc: 0.4699 - val_loss: 1.4210 - val_acc: 0.4913\n",
      "Epoch 25/50\n",
      "50000/50000 [==============================] - 4s 84us/step - loss: 1.4759 - acc: 0.4751 - val_loss: 1.4148 - val_acc: 0.4971\n",
      "Epoch 26/50\n",
      "50000/50000 [==============================] - 4s 87us/step - loss: 1.4659 - acc: 0.4759 - val_loss: 1.4077 - val_acc: 0.4999\n",
      "Epoch 27/50\n",
      "50000/50000 [==============================] - 4s 80us/step - loss: 1.4563 - acc: 0.4804 - val_loss: 1.4114 - val_acc: 0.4997\n",
      "Epoch 28/50\n",
      "50000/50000 [==============================] - 4s 81us/step - loss: 1.4465 - acc: 0.4839 - val_loss: 1.4039 - val_acc: 0.4977\n",
      "Epoch 29/50\n",
      "50000/50000 [==============================] - 4s 81us/step - loss: 1.4408 - acc: 0.4879 - val_loss: 1.3887 - val_acc: 0.5098\n",
      "Epoch 30/50\n",
      "50000/50000 [==============================] - 4s 81us/step - loss: 1.4296 - acc: 0.4900 - val_loss: 1.3799 - val_acc: 0.5086\n",
      "Epoch 31/50\n",
      "50000/50000 [==============================] - 4s 82us/step - loss: 1.4212 - acc: 0.4918 - val_loss: 1.3773 - val_acc: 0.5131\n",
      "Epoch 32/50\n",
      "50000/50000 [==============================] - 4s 81us/step - loss: 1.4158 - acc: 0.4957 - val_loss: 1.3739 - val_acc: 0.5109\n",
      "Epoch 33/50\n",
      "50000/50000 [==============================] - 4s 81us/step - loss: 1.4081 - acc: 0.4976 - val_loss: 1.3725 - val_acc: 0.5091\n",
      "Epoch 34/50\n",
      "50000/50000 [==============================] - 4s 82us/step - loss: 1.3952 - acc: 0.5003 - val_loss: 1.3575 - val_acc: 0.5160\n",
      "Epoch 35/50\n",
      "50000/50000 [==============================] - 4s 82us/step - loss: 1.3923 - acc: 0.5053 - val_loss: 1.3644 - val_acc: 0.5132\n",
      "Epoch 36/50\n",
      "50000/50000 [==============================] - 4s 82us/step - loss: 1.3804 - acc: 0.5061 - val_loss: 1.3681 - val_acc: 0.5109\n",
      "Epoch 37/50\n",
      "50000/50000 [==============================] - 4s 83us/step - loss: 1.3722 - acc: 0.5094 - val_loss: 1.3558 - val_acc: 0.5159\n",
      "Epoch 38/50\n",
      "50000/50000 [==============================] - 4s 83us/step - loss: 1.3669 - acc: 0.5118 - val_loss: 1.3477 - val_acc: 0.5260\n",
      "Epoch 39/50\n",
      "50000/50000 [==============================] - 4s 83us/step - loss: 1.3587 - acc: 0.5138 - val_loss: 1.3389 - val_acc: 0.5187\n",
      "Epoch 40/50\n",
      "50000/50000 [==============================] - 4s 84us/step - loss: 1.3544 - acc: 0.5153 - val_loss: 1.3417 - val_acc: 0.5216\n",
      "Epoch 41/50\n",
      "50000/50000 [==============================] - 4s 83us/step - loss: 1.3462 - acc: 0.5179 - val_loss: 1.3352 - val_acc: 0.5263\n",
      "Epoch 42/50\n",
      "50000/50000 [==============================] - 4s 83us/step - loss: 1.3417 - acc: 0.5222 - val_loss: 1.3355 - val_acc: 0.5216\n",
      "Epoch 43/50\n",
      "50000/50000 [==============================] - 4s 88us/step - loss: 1.3300 - acc: 0.5229 - val_loss: 1.3373 - val_acc: 0.5200\n",
      "Epoch 44/50\n",
      "50000/50000 [==============================] - 4s 85us/step - loss: 1.3228 - acc: 0.5263 - val_loss: 1.3222 - val_acc: 0.5250\n",
      "Epoch 45/50\n",
      "50000/50000 [==============================] - 4s 84us/step - loss: 1.3193 - acc: 0.5281 - val_loss: 1.3276 - val_acc: 0.5291\n",
      "Epoch 46/50\n",
      "50000/50000 [==============================] - 4s 83us/step - loss: 1.3105 - acc: 0.5282 - val_loss: 1.3148 - val_acc: 0.5322\n",
      "Epoch 47/50\n",
      "50000/50000 [==============================] - 4s 87us/step - loss: 1.3062 - acc: 0.5317 - val_loss: 1.3140 - val_acc: 0.5238\n",
      "Epoch 48/50\n",
      "50000/50000 [==============================] - 4s 87us/step - loss: 1.2990 - acc: 0.5350 - val_loss: 1.3223 - val_acc: 0.5290\n",
      "Epoch 49/50\n",
      "50000/50000 [==============================] - 4s 86us/step - loss: 1.2935 - acc: 0.5351 - val_loss: 1.3075 - val_acc: 0.5325\n"
     ]
    },
    {
     "name": "stdout",
     "output_type": "stream",
     "text": [
      "Epoch 50/50\n",
      "50000/50000 [==============================] - 4s 79us/step - loss: 1.2895 - acc: 0.5403 - val_loss: 1.3210 - val_acc: 0.5278\n"
     ]
    }
   ],
   "source": [
    "keras.backend.clear_session()\n",
    "model = build_mlp(input_shape=x_train.shape[1:], drp_ratio=Dropout_EXP)\n",
    "model.summary()\n",
    "optimizer = keras.optimizers.SGD(lr=LEARNING_RATE, nesterov=True, momentum=MOMENTUM)\n",
    "model.compile(loss=\"categorical_crossentropy\", metrics=[\"accuracy\"], optimizer=optimizer)\n",
    "\n",
    "model.fit(x_train, y_train, \n",
    "          epochs=EPOCHS, \n",
    "          batch_size=BATCH_SIZE, \n",
    "          validation_data=(x_test, y_test), \n",
    "          shuffle=True)\n",
    "\n",
    "# Collect results\n",
    "train_loss = model.history.history[\"loss\"]\n",
    "valid_loss = model.history.history[\"val_loss\"]\n",
    "train_acc = model.history.history[\"acc\"]\n",
    "valid_acc = model.history.history[\"val_acc\"]"
   ]
  },
  {
   "cell_type": "code",
   "execution_count": 10,
   "metadata": {
    "ExecuteTime": {
     "end_time": "2019-07-25T15:53:54.517765Z",
     "start_time": "2019-07-25T15:53:54.191811Z"
    }
   },
   "outputs": [
    {
     "data": {
      "image/png": "[encoded data removed]",
      "text/plain": [
       "<Figure size 432x288 with 1 Axes>"
      ]
     },
     "metadata": {
      "needs_background": "light"
     },
     "output_type": "display_data"
    },
    {
     "data": {
      "image/png": "[encoded data removed]",
      "text/plain": [
       "<Figure size 432x288 with 1 Axes>"
      ]
     },
     "metadata": {
      "needs_background": "light"
     },
     "output_type": "display_data"
    }
   ],
   "source": [
    "plt.plot(range(len(train_loss)), train_loss, label=\"train loss\")\n",
    "plt.plot(range(len(valid_loss)), valid_loss, label=\"valid loss\")\n",
    "plt.legend()\n",
    "plt.title(\"Loss\")\n",
    "plt.show()\n",
    "\n",
    "plt.plot(range(len(train_acc)), train_acc, label=\"train accuracy\")\n",
    "plt.plot(range(len(valid_acc)), valid_acc, label=\"valid accuracy\")\n",
    "plt.legend()\n",
    "plt.title(\"Accuracy\")\n",
    "plt.show()"
   ]
  },
  {
   "cell_type": "markdown",
   "metadata": {},
   "source": [
    "# Homework\n",
    "1. 請比較使用不同層數以及不同 Dropout rate 對訓練的效果\n",
    "2. 將 optimizer 改成使用 Adam 並加上適當的 dropout rate 檢視結果"
   ]
  },
  {
   "cell_type": "markdown",
   "metadata": {},
   "source": [
    "## 增加層數"
   ]
  },
  {
   "cell_type": "code",
   "execution_count": 9,
   "metadata": {
    "ExecuteTime": {
     "end_time": "2019-07-25T15:58:47.065849Z",
     "start_time": "2019-07-25T15:58:47.054440Z"
    }
   },
   "outputs": [],
   "source": [
    "def build_mlp(input_shape, output_units=10, num_neurons=[1024, 512, 256, 128, 64], drp_ratio=0.2):\n",
    "    input_layer = keras.layers.Input(input_shape)\n",
    "    \n",
    "    for i, n_units in enumerate(num_neurons):\n",
    "        if i == 0:\n",
    "            x = keras.layers.Dense(units=n_units, \n",
    "                                   activation=\"relu\", \n",
    "                                   name=\"hidden_layer\"+str(i+1))(input_layer)\n",
    "            x = Dropout(drp_ratio)(x)\n",
    "        else:\n",
    "            x = keras.layers.Dense(units=n_units, \n",
    "                                   activation=\"relu\", \n",
    "                                   name=\"hidden_layer\"+str(i+1))(x)\n",
    "            x = Dropout(drp_ratio)(x)\n",
    "    \n",
    "    out = keras.layers.Dense(units=output_units, activation=\"softmax\", name=\"output\")(x)\n",
    "    \n",
    "    model = keras.models.Model(inputs=[input_layer], outputs=[out])\n",
    "    return model"
   ]
  },
  {
   "cell_type": "code",
   "execution_count": 10,
   "metadata": {
    "ExecuteTime": {
     "end_time": "2019-07-25T15:58:47.447025Z",
     "start_time": "2019-07-25T15:58:47.442066Z"
    }
   },
   "outputs": [],
   "source": [
    "## 超參數設定\n",
    "LEARNING_RATE = 1e-3\n",
    "EPOCHS = 50\n",
    "BATCH_SIZE = 256\n",
    "MOMENTUM = 0.95\n",
    "Dropout_EXP = 0.25"
   ]
  },
  {
   "cell_type": "code",
   "execution_count": 11,
   "metadata": {
    "ExecuteTime": {
     "end_time": "2019-07-25T16:03:55.114155Z",
     "start_time": "2019-07-25T15:58:52.860468Z"
    }
   },
   "outputs": [
    {
     "name": "stderr",
     "output_type": "stream",
     "text": [
      "WARNING: Logging before flag parsing goes to stderr.\n",
      "W0725 23:58:52.869395 11900 deprecation_wrapper.py:119] From C:\\ProgramData\\Anaconda3\\envs\\TensorFlow\\lib\\site-packages\\keras\\backend\\tensorflow_backend.py:74: The name tf.get_default_graph is deprecated. Please use tf.compat.v1.get_default_graph instead.\n",
      "\n",
      "W0725 23:58:52.889701 11900 deprecation_wrapper.py:119] From C:\\ProgramData\\Anaconda3\\envs\\TensorFlow\\lib\\site-packages\\keras\\backend\\tensorflow_backend.py:517: The name tf.placeholder is deprecated. Please use tf.compat.v1.placeholder instead.\n",
      "\n",
      "W0725 23:58:52.892675 11900 deprecation_wrapper.py:119] From C:\\ProgramData\\Anaconda3\\envs\\TensorFlow\\lib\\site-packages\\keras\\backend\\tensorflow_backend.py:4138: The name tf.random_uniform is deprecated. Please use tf.random.uniform instead.\n",
      "\n",
      "W0725 23:58:52.917973 11900 deprecation_wrapper.py:119] From C:\\ProgramData\\Anaconda3\\envs\\TensorFlow\\lib\\site-packages\\keras\\backend\\tensorflow_backend.py:133: The name tf.placeholder_with_default is deprecated. Please use tf.compat.v1.placeholder_with_default instead.\n",
      "\n",
      "W0725 23:58:52.927398 11900 deprecation.py:506] From C:\\ProgramData\\Anaconda3\\envs\\TensorFlow\\lib\\site-packages\\keras\\backend\\tensorflow_backend.py:3445: calling dropout (from tensorflow.python.ops.nn_ops) with keep_prob is deprecated and will be removed in a future version.\n",
      "Instructions for updating:\n",
      "Please use `rate` instead of `keep_prob`. Rate should be set to `rate = 1 - keep_prob`.\n",
      "W0725 23:58:53.091102 11900 deprecation_wrapper.py:119] From C:\\ProgramData\\Anaconda3\\envs\\TensorFlow\\lib\\site-packages\\keras\\optimizers.py:790: The name tf.train.Optimizer is deprecated. Please use tf.compat.v1.train.Optimizer instead.\n",
      "\n",
      "W0725 23:58:53.100499 11900 deprecation_wrapper.py:119] From C:\\ProgramData\\Anaconda3\\envs\\TensorFlow\\lib\\site-packages\\keras\\backend\\tensorflow_backend.py:3295: The name tf.log is deprecated. Please use tf.math.log instead.\n",
      "\n",
      "W0725 23:58:53.202180 11900 deprecation.py:323] From C:\\ProgramData\\Anaconda3\\envs\\TensorFlow\\lib\\site-packages\\tensorflow\\python\\ops\\math_grad.py:1250: add_dispatch_support.<locals>.wrapper (from tensorflow.python.ops.array_ops) is deprecated and will be removed in a future version.\n",
      "Instructions for updating:\n",
      "Use tf.where in 2.0, which has the same broadcast rule as np.where\n"
     ]
    },
    {
     "name": "stdout",
     "output_type": "stream",
     "text": [
      "_________________________________________________________________\n",
      "Layer (type)                 Output Shape              Param #   \n",
      "=================================================================\n",
      "input_1 (InputLayer)         (None, 3072)              0         \n",
      "_________________________________________________________________\n",
      "hidden_layer1 (Dense)        (None, 1024)              3146752   \n",
      "_________________________________________________________________\n",
      "dropout_1 (Dropout)          (None, 1024)              0         \n",
      "_________________________________________________________________\n",
      "hidden_layer2 (Dense)        (None, 512)               524800    \n",
      "_________________________________________________________________\n",
      "dropout_2 (Dropout)          (None, 512)               0         \n",
      "_________________________________________________________________\n",
      "hidden_layer3 (Dense)        (None, 256)               131328    \n",
      "_________________________________________________________________\n",
      "dropout_3 (Dropout)          (None, 256)               0         \n",
      "_________________________________________________________________\n",
      "hidden_layer4 (Dense)        (None, 128)               32896     \n",
      "_________________________________________________________________\n",
      "dropout_4 (Dropout)          (None, 128)               0         \n",
      "_________________________________________________________________\n",
      "hidden_layer5 (Dense)        (None, 64)                8256      \n",
      "_________________________________________________________________\n",
      "dropout_5 (Dropout)          (None, 64)                0         \n",
      "_________________________________________________________________\n",
      "output (Dense)               (None, 10)                650       \n",
      "=================================================================\n",
      "Total params: 3,844,682\n",
      "Trainable params: 3,844,682\n",
      "Non-trainable params: 0\n",
      "_________________________________________________________________\n",
      "Train on 50000 samples, validate on 10000 samples\n",
      "Epoch 1/50\n",
      "50000/50000 [==============================] - 8s 158us/step - loss: 2.2758 - acc: 0.1319 - val_loss: 2.1377 - val_acc: 0.1845\n",
      "Epoch 2/50\n",
      "50000/50000 [==============================] - 6s 117us/step - loss: 2.1338 - acc: 0.1900 - val_loss: 2.0153 - val_acc: 0.2680\n",
      "Epoch 3/50\n",
      "50000/50000 [==============================] - 6s 114us/step - loss: 2.0484 - acc: 0.2268 - val_loss: 1.9271 - val_acc: 0.3086\n",
      "Epoch 4/50\n",
      "50000/50000 [==============================] - 6s 113us/step - loss: 1.9811 - acc: 0.2642 - val_loss: 1.8611 - val_acc: 0.3393\n",
      "Epoch 5/50\n",
      "50000/50000 [==============================] - 6s 117us/step - loss: 1.9305 - acc: 0.2851 - val_loss: 1.8224 - val_acc: 0.3531\n",
      "Epoch 6/50\n",
      "50000/50000 [==============================] - 6s 116us/step - loss: 1.8946 - acc: 0.3025 - val_loss: 1.7739 - val_acc: 0.3653\n",
      "Epoch 7/50\n",
      "50000/50000 [==============================] - 6s 121us/step - loss: 1.8630 - acc: 0.3166 - val_loss: 1.7392 - val_acc: 0.3819\n",
      "Epoch 8/50\n",
      "50000/50000 [==============================] - 6s 118us/step - loss: 1.8280 - acc: 0.3322 - val_loss: 1.7087 - val_acc: 0.3857\n",
      "Epoch 9/50\n",
      "50000/50000 [==============================] - 6s 121us/step - loss: 1.8026 - acc: 0.3421 - val_loss: 1.6716 - val_acc: 0.4006\n",
      "Epoch 10/50\n",
      "50000/50000 [==============================] - 6s 118us/step - loss: 1.7794 - acc: 0.3508 - val_loss: 1.6531 - val_acc: 0.4000\n",
      "Epoch 11/50\n",
      "50000/50000 [==============================] - 6s 117us/step - loss: 1.7547 - acc: 0.3655 - val_loss: 1.6280 - val_acc: 0.4128\n",
      "Epoch 12/50\n",
      "50000/50000 [==============================] - 6s 117us/step - loss: 1.7262 - acc: 0.3738 - val_loss: 1.5995 - val_acc: 0.4288\n",
      "Epoch 13/50\n",
      "50000/50000 [==============================] - 6s 118us/step - loss: 1.7057 - acc: 0.3822 - val_loss: 1.5910 - val_acc: 0.4258\n",
      "Epoch 14/50\n",
      "50000/50000 [==============================] - 6s 119us/step - loss: 1.6924 - acc: 0.3882 - val_loss: 1.5753 - val_acc: 0.4345\n",
      "Epoch 15/50\n",
      "50000/50000 [==============================] - 6s 126us/step - loss: 1.6719 - acc: 0.3930 - val_loss: 1.5471 - val_acc: 0.4486\n",
      "Epoch 16/50\n",
      "50000/50000 [==============================] - 6s 123us/step - loss: 1.6565 - acc: 0.4007 - val_loss: 1.5460 - val_acc: 0.4491\n",
      "Epoch 17/50\n",
      "50000/50000 [==============================] - 6s 118us/step - loss: 1.6397 - acc: 0.4093 - val_loss: 1.5267 - val_acc: 0.4595\n",
      "Epoch 18/50\n",
      "50000/50000 [==============================] - 6s 120us/step - loss: 1.6258 - acc: 0.4116 - val_loss: 1.5230 - val_acc: 0.4537\n",
      "Epoch 19/50\n",
      "50000/50000 [==============================] - 6s 117us/step - loss: 1.6079 - acc: 0.4210 - val_loss: 1.4974 - val_acc: 0.4619\n",
      "Epoch 20/50\n",
      "50000/50000 [==============================] - 6s 117us/step - loss: 1.5972 - acc: 0.4248 - val_loss: 1.4985 - val_acc: 0.4645\n",
      "Epoch 21/50\n",
      "50000/50000 [==============================] - 6s 117us/step - loss: 1.5884 - acc: 0.4285 - val_loss: 1.4844 - val_acc: 0.4681\n",
      "Epoch 22/50\n",
      "50000/50000 [==============================] - 6s 117us/step - loss: 1.5687 - acc: 0.4378 - val_loss: 1.4707 - val_acc: 0.4741\n",
      "Epoch 23/50\n",
      "50000/50000 [==============================] - 6s 118us/step - loss: 1.5590 - acc: 0.4405 - val_loss: 1.4696 - val_acc: 0.4737\n",
      "Epoch 24/50\n",
      "50000/50000 [==============================] - 6s 118us/step - loss: 1.5534 - acc: 0.4412 - val_loss: 1.4590 - val_acc: 0.4779\n",
      "Epoch 25/50\n",
      "50000/50000 [==============================] - 6s 117us/step - loss: 1.5424 - acc: 0.4465 - val_loss: 1.4489 - val_acc: 0.4814\n",
      "Epoch 26/50\n",
      "50000/50000 [==============================] - 6s 118us/step - loss: 1.5273 - acc: 0.4504 - val_loss: 1.4388 - val_acc: 0.4813\n",
      "Epoch 27/50\n",
      "50000/50000 [==============================] - 6s 119us/step - loss: 1.5198 - acc: 0.4554 - val_loss: 1.4331 - val_acc: 0.4894\n",
      "Epoch 28/50\n",
      "50000/50000 [==============================] - 6s 118us/step - loss: 1.5118 - acc: 0.4565 - val_loss: 1.4300 - val_acc: 0.4905\n",
      "Epoch 29/50\n",
      "50000/50000 [==============================] - 6s 119us/step - loss: 1.4944 - acc: 0.4642 - val_loss: 1.4232 - val_acc: 0.4952\n",
      "Epoch 30/50\n",
      "50000/50000 [==============================] - 6s 125us/step - loss: 1.4900 - acc: 0.4649 - val_loss: 1.4178 - val_acc: 0.4970\n",
      "Epoch 31/50\n",
      "50000/50000 [==============================] - 6s 121us/step - loss: 1.4835 - acc: 0.4680 - val_loss: 1.4203 - val_acc: 0.4914\n",
      "Epoch 32/50\n",
      "50000/50000 [==============================] - 6s 120us/step - loss: 1.4757 - acc: 0.4727 - val_loss: 1.4161 - val_acc: 0.4944\n",
      "Epoch 33/50\n",
      "50000/50000 [==============================] - 6s 120us/step - loss: 1.4633 - acc: 0.4747 - val_loss: 1.4217 - val_acc: 0.4923\n",
      "Epoch 34/50\n",
      "50000/50000 [==============================] - 6s 119us/step - loss: 1.4629 - acc: 0.4757 - val_loss: 1.4169 - val_acc: 0.5021\n",
      "Epoch 35/50\n",
      "50000/50000 [==============================] - 6s 121us/step - loss: 1.4475 - acc: 0.4824 - val_loss: 1.4009 - val_acc: 0.4992\n",
      "Epoch 36/50\n",
      "50000/50000 [==============================] - 6s 121us/step - loss: 1.4425 - acc: 0.4837 - val_loss: 1.3820 - val_acc: 0.5068\n",
      "Epoch 37/50\n",
      "50000/50000 [==============================] - 6s 121us/step - loss: 1.4309 - acc: 0.4887 - val_loss: 1.4040 - val_acc: 0.4933\n",
      "Epoch 38/50\n",
      "50000/50000 [==============================] - 6s 121us/step - loss: 1.4299 - acc: 0.4871 - val_loss: 1.3807 - val_acc: 0.5073\n",
      "Epoch 39/50\n",
      "50000/50000 [==============================] - 6s 121us/step - loss: 1.4233 - acc: 0.4901 - val_loss: 1.3801 - val_acc: 0.5082\n",
      "Epoch 40/50\n",
      "50000/50000 [==============================] - 6s 121us/step - loss: 1.4147 - acc: 0.4923 - val_loss: 1.3755 - val_acc: 0.5114\n",
      "Epoch 41/50\n",
      "50000/50000 [==============================] - 6s 122us/step - loss: 1.4018 - acc: 0.4979 - val_loss: 1.3957 - val_acc: 0.5001\n",
      "Epoch 42/50\n",
      "50000/50000 [==============================] - 6s 121us/step - loss: 1.4028 - acc: 0.5000 - val_loss: 1.3822 - val_acc: 0.5094\n",
      "Epoch 43/50\n",
      "50000/50000 [==============================] - 6s 124us/step - loss: 1.3969 - acc: 0.4995 - val_loss: 1.3939 - val_acc: 0.5073\n",
      "Epoch 44/50\n",
      "50000/50000 [==============================] - 6s 129us/step - loss: 1.3883 - acc: 0.5032 - val_loss: 1.3891 - val_acc: 0.4997 1.3809 - acc:  - ETA: 2s - loss: 1.3826 - acc: 0\n",
      "Epoch 45/50\n"
     ]
    },
    {
     "name": "stdout",
     "output_type": "stream",
     "text": [
      "50000/50000 [==============================] - 6s 121us/step - loss: 1.3827 - acc: 0.5057 - val_loss: 1.3560 - val_acc: 0.5164\n",
      "Epoch 46/50\n",
      "50000/50000 [==============================] - 6s 122us/step - loss: 1.3702 - acc: 0.5105 - val_loss: 1.3620 - val_acc: 0.5210\n",
      "Epoch 47/50\n",
      "50000/50000 [==============================] - 6s 124us/step - loss: 1.3692 - acc: 0.5124 - val_loss: 1.3720 - val_acc: 0.5139\n",
      "Epoch 48/50\n",
      "50000/50000 [==============================] - 6s 128us/step - loss: 1.3560 - acc: 0.5156 - val_loss: 1.3479 - val_acc: 0.5250\n",
      "Epoch 49/50\n",
      "50000/50000 [==============================] - 6s 122us/step - loss: 1.3578 - acc: 0.5161 - val_loss: 1.3650 - val_acc: 0.5171\n",
      "Epoch 50/50\n",
      "50000/50000 [==============================] - 6s 123us/step - loss: 1.3474 - acc: 0.5190 - val_loss: 1.3607 - val_acc: 0.5194\n"
     ]
    }
   ],
   "source": [
    "keras.backend.clear_session()\n",
    "model = build_mlp(input_shape=x_train.shape[1:], drp_ratio=Dropout_EXP)\n",
    "model.summary()\n",
    "optimizer = keras.optimizers.SGD(lr=LEARNING_RATE, nesterov=True, momentum=MOMENTUM)\n",
    "model.compile(loss=\"categorical_crossentropy\", metrics=[\"accuracy\"], optimizer=optimizer)\n",
    "\n",
    "model.fit(x_train, y_train, \n",
    "          epochs=EPOCHS, \n",
    "          batch_size=BATCH_SIZE, \n",
    "          validation_data=(x_test, y_test), \n",
    "          shuffle=True)\n",
    "\n",
    "# Collect results\n",
    "train_loss = model.history.history[\"loss\"]\n",
    "valid_loss = model.history.history[\"val_loss\"]\n",
    "train_acc = model.history.history[\"acc\"]\n",
    "valid_acc = model.history.history[\"val_acc\"]"
   ]
  },
  {
   "cell_type": "code",
   "execution_count": 12,
   "metadata": {
    "ExecuteTime": {
     "end_time": "2019-07-25T16:03:55.529838Z",
     "start_time": "2019-07-25T16:03:55.178636Z"
    }
   },
   "outputs": [
    {
     "data": {
      "image/png": "[encoded data removed]",
      "text/plain": [
       "<Figure size 432x288 with 1 Axes>"
      ]
     },
     "metadata": {
      "needs_background": "light"
     },
     "output_type": "display_data"
    },
    {
     "data": {
      "image/png": "[encoded data removed]",
      "text/plain": [
       "<Figure size 432x288 with 1 Axes>"
      ]
     },
     "metadata": {
      "needs_background": "light"
     },
     "output_type": "display_data"
    }
   ],
   "source": [
    "plt.plot(range(len(train_loss)), train_loss, label=\"train loss\")\n",
    "plt.plot(range(len(valid_loss)), valid_loss, label=\"valid loss\")\n",
    "plt.legend()\n",
    "plt.title(\"Loss\")\n",
    "plt.show()\n",
    "\n",
    "plt.plot(range(len(train_acc)), train_acc, label=\"train accuracy\")\n",
    "plt.plot(range(len(valid_acc)), valid_acc, label=\"valid accuracy\")\n",
    "plt.legend()\n",
    "plt.title(\"Accuracy\")\n",
    "plt.show()"
   ]
  },
  {
   "cell_type": "markdown",
   "metadata": {},
   "source": [
    "## 不增加層數，改Dropout rate"
   ]
  },
  {
   "cell_type": "code",
   "execution_count": 13,
   "metadata": {
    "ExecuteTime": {
     "end_time": "2019-07-25T16:03:55.608700Z",
     "start_time": "2019-07-25T16:03:55.596766Z"
    }
   },
   "outputs": [],
   "source": [
    "def build_mlp(input_shape, output_units=10, num_neurons=[512, 256, 128], drp_ratio=0.5):\n",
    "    input_layer = keras.layers.Input(input_shape)\n",
    "    \n",
    "    for i, n_units in enumerate(num_neurons):\n",
    "        if i == 0:\n",
    "            x = keras.layers.Dense(units=n_units, \n",
    "                                   activation=\"relu\", \n",
    "                                   name=\"hidden_layer\"+str(i+1))(input_layer)\n",
    "            x = Dropout(drp_ratio)(x)\n",
    "        else:\n",
    "            x = keras.layers.Dense(units=n_units, \n",
    "                                   activation=\"relu\", \n",
    "                                   name=\"hidden_layer\"+str(i+1))(x)\n",
    "            x = Dropout(drp_ratio)(x)\n",
    "    \n",
    "    out = keras.layers.Dense(units=output_units, activation=\"softmax\", name=\"output\")(x)\n",
    "    \n",
    "    model = keras.models.Model(inputs=[input_layer], outputs=[out])\n",
    "    return model"
   ]
  },
  {
   "cell_type": "code",
   "execution_count": 14,
   "metadata": {
    "ExecuteTime": {
     "end_time": "2019-07-25T16:03:55.678106Z",
     "start_time": "2019-07-25T16:03:55.673643Z"
    }
   },
   "outputs": [],
   "source": [
    "## 超參數設定\n",
    "LEARNING_RATE = 1e-3\n",
    "EPOCHS = 50\n",
    "BATCH_SIZE = 256\n",
    "MOMENTUM = 0.95\n",
    "Dropout_EXP = 0.25"
   ]
  },
  {
   "cell_type": "code",
   "execution_count": 15,
   "metadata": {
    "ExecuteTime": {
     "end_time": "2019-07-25T16:07:42.150772Z",
     "start_time": "2019-07-25T16:03:55.746556Z"
    }
   },
   "outputs": [
    {
     "name": "stdout",
     "output_type": "stream",
     "text": [
      "_________________________________________________________________\n",
      "Layer (type)                 Output Shape              Param #   \n",
      "=================================================================\n",
      "input_1 (InputLayer)         (None, 3072)              0         \n",
      "_________________________________________________________________\n",
      "hidden_layer1 (Dense)        (None, 512)               1573376   \n",
      "_________________________________________________________________\n",
      "dropout_1 (Dropout)          (None, 512)               0         \n",
      "_________________________________________________________________\n",
      "hidden_layer2 (Dense)        (None, 256)               131328    \n",
      "_________________________________________________________________\n",
      "dropout_2 (Dropout)          (None, 256)               0         \n",
      "_________________________________________________________________\n",
      "hidden_layer3 (Dense)        (None, 128)               32896     \n",
      "_________________________________________________________________\n",
      "dropout_3 (Dropout)          (None, 128)               0         \n",
      "_________________________________________________________________\n",
      "output (Dense)               (None, 10)                1290      \n",
      "=================================================================\n",
      "Total params: 1,738,890\n",
      "Trainable params: 1,738,890\n",
      "Non-trainable params: 0\n",
      "_________________________________________________________________\n",
      "Train on 50000 samples, validate on 10000 samples\n",
      "Epoch 1/50\n",
      "50000/50000 [==============================] - 5s 106us/step - loss: 2.1940 - acc: 0.1838 - val_loss: 1.9856 - val_acc: 0.3100\n",
      "Epoch 2/50\n",
      "50000/50000 [==============================] - 4s 90us/step - loss: 1.9936 - acc: 0.2726 - val_loss: 1.8650 - val_acc: 0.3466\n",
      "Epoch 3/50\n",
      "50000/50000 [==============================] - 4s 87us/step - loss: 1.9112 - acc: 0.3071 - val_loss: 1.8077 - val_acc: 0.3620\n",
      "Epoch 4/50\n",
      "50000/50000 [==============================] - 4s 82us/step - loss: 1.8564 - acc: 0.3314 - val_loss: 1.7511 - val_acc: 0.3846\n",
      "Epoch 5/50\n",
      "50000/50000 [==============================] - 5s 107us/step - loss: 1.8146 - acc: 0.3504 - val_loss: 1.7080 - val_acc: 0.3978\n",
      "Epoch 6/50\n",
      "50000/50000 [==============================] - 5s 91us/step - loss: 1.7759 - acc: 0.3645 - val_loss: 1.6759 - val_acc: 0.4090\n",
      "Epoch 7/50\n",
      "50000/50000 [==============================] - 4s 87us/step - loss: 1.7511 - acc: 0.3729 - val_loss: 1.6465 - val_acc: 0.4205\n",
      "Epoch 8/50\n",
      "50000/50000 [==============================] - 4s 88us/step - loss: 1.7217 - acc: 0.3824 - val_loss: 1.6199 - val_acc: 0.4278\n",
      "Epoch 9/50\n",
      "50000/50000 [==============================] - 4s 84us/step - loss: 1.6991 - acc: 0.3921 - val_loss: 1.5992 - val_acc: 0.4322\n",
      "Epoch 10/50\n",
      "50000/50000 [==============================] - 5s 94us/step - loss: 1.6780 - acc: 0.3997 - val_loss: 1.5820 - val_acc: 0.4380\n",
      "Epoch 11/50\n",
      "50000/50000 [==============================] - 5s 96us/step - loss: 1.6563 - acc: 0.4116 - val_loss: 1.5666 - val_acc: 0.4474\n",
      "Epoch 12/50\n",
      "50000/50000 [==============================] - 4s 89us/step - loss: 1.6375 - acc: 0.4175 - val_loss: 1.5441 - val_acc: 0.4498\n",
      "Epoch 13/50\n",
      "50000/50000 [==============================] - 4s 88us/step - loss: 1.6206 - acc: 0.4277 - val_loss: 1.5290 - val_acc: 0.4583\n",
      "Epoch 14/50\n",
      "50000/50000 [==============================] - 4s 88us/step - loss: 1.6075 - acc: 0.4273 - val_loss: 1.5185 - val_acc: 0.4562\n",
      "Epoch 15/50\n",
      "50000/50000 [==============================] - 4s 84us/step - loss: 1.5937 - acc: 0.4347 - val_loss: 1.5049 - val_acc: 0.4697\n",
      "Epoch 16/50\n",
      "50000/50000 [==============================] - 4s 86us/step - loss: 1.5748 - acc: 0.4400 - val_loss: 1.4927 - val_acc: 0.4639\n",
      "Epoch 17/50\n",
      "50000/50000 [==============================] - 5s 96us/step - loss: 1.5620 - acc: 0.4427 - val_loss: 1.4775 - val_acc: 0.4738\n",
      "Epoch 18/50\n",
      "50000/50000 [==============================] - 4s 85us/step - loss: 1.5509 - acc: 0.4515 - val_loss: 1.4721 - val_acc: 0.4755\n",
      "Epoch 19/50\n",
      "50000/50000 [==============================] - 4s 85us/step - loss: 1.5348 - acc: 0.4540 - val_loss: 1.4668 - val_acc: 0.4755\n",
      "Epoch 20/50\n",
      "50000/50000 [==============================] - 4s 89us/step - loss: 1.5254 - acc: 0.4570 - val_loss: 1.4531 - val_acc: 0.4821\n",
      "Epoch 21/50\n",
      "50000/50000 [==============================] - 4s 87us/step - loss: 1.5160 - acc: 0.4603 - val_loss: 1.4431 - val_acc: 0.4885\n",
      "Epoch 22/50\n",
      "50000/50000 [==============================] - 5s 93us/step - loss: 1.5060 - acc: 0.4663 - val_loss: 1.4363 - val_acc: 0.4922\n",
      "Epoch 23/50\n",
      "50000/50000 [==============================] - 4s 90us/step - loss: 1.4893 - acc: 0.4692 - val_loss: 1.4273 - val_acc: 0.4892\n",
      "Epoch 24/50\n",
      "50000/50000 [==============================] - 4s 90us/step - loss: 1.4822 - acc: 0.4744 - val_loss: 1.4187 - val_acc: 0.4933\n",
      "Epoch 25/50\n",
      "50000/50000 [==============================] - 5s 90us/step - loss: 1.4706 - acc: 0.4776 - val_loss: 1.4227 - val_acc: 0.4959\n",
      "Epoch 26/50\n",
      "50000/50000 [==============================] - 4s 88us/step - loss: 1.4602 - acc: 0.4825 - val_loss: 1.4009 - val_acc: 0.4956\n",
      "Epoch 27/50\n",
      "50000/50000 [==============================] - 4s 89us/step - loss: 1.4542 - acc: 0.4839 - val_loss: 1.3970 - val_acc: 0.5042\n",
      "Epoch 28/50\n",
      "50000/50000 [==============================] - 5s 94us/step - loss: 1.4463 - acc: 0.4847 - val_loss: 1.3900 - val_acc: 0.5100\n",
      "Epoch 29/50\n",
      "50000/50000 [==============================] - 5s 90us/step - loss: 1.4381 - acc: 0.4857 - val_loss: 1.3856 - val_acc: 0.5067\n",
      "Epoch 30/50\n",
      "50000/50000 [==============================] - 4s 86us/step - loss: 1.4282 - acc: 0.4929 - val_loss: 1.3881 - val_acc: 0.5057\n",
      "Epoch 31/50\n",
      "50000/50000 [==============================] - 5s 94us/step - loss: 1.4151 - acc: 0.4967 - val_loss: 1.3673 - val_acc: 0.5165\n",
      "Epoch 32/50\n",
      "50000/50000 [==============================] - 5s 91us/step - loss: 1.4101 - acc: 0.4985 - val_loss: 1.3810 - val_acc: 0.5061\n",
      "Epoch 33/50\n",
      "50000/50000 [==============================] - 5s 92us/step - loss: 1.4080 - acc: 0.4965 - val_loss: 1.3676 - val_acc: 0.5176\n",
      "Epoch 34/50\n",
      "50000/50000 [==============================] - 4s 90us/step - loss: 1.3915 - acc: 0.5058 - val_loss: 1.3603 - val_acc: 0.5175\n",
      "Epoch 35/50\n",
      "50000/50000 [==============================] - 4s 87us/step - loss: 1.3804 - acc: 0.5095 - val_loss: 1.3599 - val_acc: 0.5141\n",
      "Epoch 36/50\n",
      "50000/50000 [==============================] - 4s 85us/step - loss: 1.3824 - acc: 0.5098 - val_loss: 1.3514 - val_acc: 0.5206\n",
      "Epoch 37/50\n",
      "50000/50000 [==============================] - 4s 86us/step - loss: 1.3744 - acc: 0.5103 - val_loss: 1.3440 - val_acc: 0.5213\n",
      "Epoch 38/50\n",
      "50000/50000 [==============================] - 5s 93us/step - loss: 1.3604 - acc: 0.5160 - val_loss: 1.3390 - val_acc: 0.5267\n",
      "Epoch 39/50\n",
      "50000/50000 [==============================] - 5s 99us/step - loss: 1.3596 - acc: 0.5184 - val_loss: 1.3368 - val_acc: 0.5265\n",
      "Epoch 40/50\n",
      "50000/50000 [==============================] - 4s 88us/step - loss: 1.3528 - acc: 0.5197 - val_loss: 1.3336 - val_acc: 0.5290\n",
      "Epoch 41/50\n",
      "50000/50000 [==============================] - 4s 88us/step - loss: 1.3432 - acc: 0.5202 - val_loss: 1.3328 - val_acc: 0.5271\n",
      "Epoch 42/50\n",
      "50000/50000 [==============================] - 5s 91us/step - loss: 1.3368 - acc: 0.5243 - val_loss: 1.3354 - val_acc: 0.5268\n",
      "Epoch 43/50\n",
      "50000/50000 [==============================] - 5s 96us/step - loss: 1.3265 - acc: 0.5303 - val_loss: 1.3302 - val_acc: 0.5288\n",
      "Epoch 44/50\n",
      "50000/50000 [==============================] - 5s 92us/step - loss: 1.3219 - acc: 0.5303 - val_loss: 1.3300 - val_acc: 0.5285\n",
      "Epoch 45/50\n",
      "50000/50000 [==============================] - 5s 93us/step - loss: 1.3178 - acc: 0.5311 - val_loss: 1.3179 - val_acc: 0.5306\n",
      "Epoch 46/50\n",
      "50000/50000 [==============================] - 5s 92us/step - loss: 1.3114 - acc: 0.5302 - val_loss: 1.3198 - val_acc: 0.5312\n",
      "Epoch 47/50\n",
      "50000/50000 [==============================] - 5s 93us/step - loss: 1.3038 - acc: 0.5346 - val_loss: 1.3186 - val_acc: 0.5318\n",
      "Epoch 48/50\n",
      "50000/50000 [==============================] - 5s 90us/step - loss: 1.3018 - acc: 0.5357 - val_loss: 1.3135 - val_acc: 0.5358\n",
      "Epoch 49/50\n",
      "50000/50000 [==============================] - 4s 90us/step - loss: 1.2846 - acc: 0.5423 - val_loss: 1.3162 - val_acc: 0.5311\n"
     ]
    },
    {
     "name": "stdout",
     "output_type": "stream",
     "text": [
      "Epoch 50/50\n",
      "50000/50000 [==============================] - 4s 85us/step - loss: 1.2893 - acc: 0.5409 - val_loss: 1.3004 - val_acc: 0.5420\n"
     ]
    }
   ],
   "source": [
    "keras.backend.clear_session()\n",
    "model = build_mlp(input_shape=x_train.shape[1:], drp_ratio=Dropout_EXP)\n",
    "model.summary()\n",
    "optimizer = keras.optimizers.SGD(lr=LEARNING_RATE, nesterov=True, momentum=MOMENTUM)\n",
    "model.compile(loss=\"categorical_crossentropy\", metrics=[\"accuracy\"], optimizer=optimizer)\n",
    "\n",
    "model.fit(x_train, y_train, \n",
    "          epochs=EPOCHS, \n",
    "          batch_size=BATCH_SIZE, \n",
    "          validation_data=(x_test, y_test), \n",
    "          shuffle=True)\n",
    "\n",
    "# Collect results\n",
    "train_loss = model.history.history[\"loss\"]\n",
    "valid_loss = model.history.history[\"val_loss\"]\n",
    "train_acc = model.history.history[\"acc\"]\n",
    "valid_acc = model.history.history[\"val_acc\"]"
   ]
  },
  {
   "cell_type": "code",
   "execution_count": 16,
   "metadata": {
    "ExecuteTime": {
     "end_time": "2019-07-25T16:07:42.617013Z",
     "start_time": "2019-07-25T16:07:42.208308Z"
    },
    "scrolled": true
   },
   "outputs": [
    {
     "data": {
      "image/png": "[encoded data removed]",
      "text/plain": [
       "<Figure size 432x288 with 1 Axes>"
      ]
     },
     "metadata": {
      "needs_background": "light"
     },
     "output_type": "display_data"
    },
    {
     "data": {
      "image/png": "[encoded data removed]",
      "text/plain": [
       "<Figure size 432x288 with 1 Axes>"
      ]
     },
     "metadata": {
      "needs_background": "light"
     },
     "output_type": "display_data"
    }
   ],
   "source": [
    "plt.plot(range(len(train_loss)), train_loss, label=\"train loss\")\n",
    "plt.plot(range(len(valid_loss)), valid_loss, label=\"valid loss\")\n",
    "plt.legend()\n",
    "plt.title(\"Loss\")\n",
    "plt.show()\n",
    "\n",
    "plt.plot(range(len(train_acc)), train_acc, label=\"train accuracy\")\n",
    "plt.plot(range(len(valid_acc)), valid_acc, label=\"valid accuracy\")\n",
    "plt.legend()\n",
    "plt.title(\"Accuracy\")\n",
    "plt.show()"
   ]
  },
  {
   "cell_type": "markdown",
   "metadata": {},
   "source": [
    "## 調整優化器"
   ]
  },
  {
   "cell_type": "code",
   "execution_count": 17,
   "metadata": {
    "ExecuteTime": {
     "end_time": "2019-07-25T16:08:21.067006Z",
     "start_time": "2019-07-25T16:08:21.059070Z"
    },
    "scrolled": true
   },
   "outputs": [],
   "source": [
    "def build_mlp(input_shape, output_units=10, num_neurons=[512, 256, 128], drp_ratio=0.2):\n",
    "    input_layer = keras.layers.Input(input_shape)\n",
    "    \n",
    "    for i, n_units in enumerate(num_neurons):\n",
    "        if i == 0:\n",
    "            x = keras.layers.Dense(units=n_units, \n",
    "                                   activation=\"relu\", \n",
    "                                   name=\"hidden_layer\"+str(i+1))(input_layer)\n",
    "            x = Dropout(drp_ratio)(x)\n",
    "        else:\n",
    "            x = keras.layers.Dense(units=n_units, \n",
    "                                   activation=\"relu\", \n",
    "                                   name=\"hidden_layer\"+str(i+1))(x)\n",
    "            x = Dropout(drp_ratio)(x)\n",
    "    \n",
    "    out = keras.layers.Dense(units=output_units, activation=\"softmax\", name=\"output\")(x)\n",
    "    \n",
    "    model = keras.models.Model(inputs=[input_layer], outputs=[out])\n",
    "    return model"
   ]
  },
  {
   "cell_type": "code",
   "execution_count": 18,
   "metadata": {
    "ExecuteTime": {
     "end_time": "2019-07-25T16:08:21.499829Z",
     "start_time": "2019-07-25T16:08:21.495826Z"
    }
   },
   "outputs": [],
   "source": [
    "## 超參數設定\n",
    "LEARNING_RATE = 1e-3\n",
    "EPOCHS = 50\n",
    "BATCH_SIZE = 256\n",
    "MOMENTUM = 0.95\n",
    "Dropout_EXP = 0.25"
   ]
  },
  {
   "cell_type": "code",
   "execution_count": 19,
   "metadata": {
    "ExecuteTime": {
     "end_time": "2019-07-25T16:12:50.734266Z",
     "start_time": "2019-07-25T16:08:23.062826Z"
    }
   },
   "outputs": [
    {
     "name": "stdout",
     "output_type": "stream",
     "text": [
      "_________________________________________________________________\n",
      "Layer (type)                 Output Shape              Param #   \n",
      "=================================================================\n",
      "input_1 (InputLayer)         (None, 3072)              0         \n",
      "_________________________________________________________________\n",
      "hidden_layer1 (Dense)        (None, 512)               1573376   \n",
      "_________________________________________________________________\n",
      "dropout_1 (Dropout)          (None, 512)               0         \n",
      "_________________________________________________________________\n",
      "hidden_layer2 (Dense)        (None, 256)               131328    \n",
      "_________________________________________________________________\n",
      "dropout_2 (Dropout)          (None, 256)               0         \n",
      "_________________________________________________________________\n",
      "hidden_layer3 (Dense)        (None, 128)               32896     \n",
      "_________________________________________________________________\n",
      "dropout_3 (Dropout)          (None, 128)               0         \n",
      "_________________________________________________________________\n",
      "output (Dense)               (None, 10)                1290      \n",
      "=================================================================\n",
      "Total params: 1,738,890\n",
      "Trainable params: 1,738,890\n",
      "Non-trainable params: 0\n",
      "_________________________________________________________________\n",
      "Train on 50000 samples, validate on 10000 samples\n",
      "Epoch 1/50\n",
      "50000/50000 [==============================] - 6s 125us/step - loss: 2.0694 - acc: 0.2375 - val_loss: 1.8343 - val_acc: 0.3419\n",
      "Epoch 2/50\n",
      "50000/50000 [==============================] - 5s 105us/step - loss: 1.8764 - acc: 0.3192 - val_loss: 1.7465 - val_acc: 0.3757\n",
      "Epoch 3/50\n",
      "50000/50000 [==============================] - 5s 107us/step - loss: 1.8325 - acc: 0.3362 - val_loss: 1.7140 - val_acc: 0.3876\n",
      "Epoch 4/50\n",
      "50000/50000 [==============================] - 5s 102us/step - loss: 1.7790 - acc: 0.3545 - val_loss: 1.6733 - val_acc: 0.4078\n",
      "Epoch 5/50\n",
      "50000/50000 [==============================] - 5s 105us/step - loss: 1.7517 - acc: 0.3652 - val_loss: 1.6708 - val_acc: 0.4160\n",
      "Epoch 6/50\n",
      "50000/50000 [==============================] - 5s 107us/step - loss: 1.7347 - acc: 0.3723 - val_loss: 1.6329 - val_acc: 0.4223\n",
      "Epoch 7/50\n",
      "50000/50000 [==============================] - 5s 100us/step - loss: 1.7081 - acc: 0.3827 - val_loss: 1.6313 - val_acc: 0.4189\n",
      "Epoch 8/50\n",
      "50000/50000 [==============================] - 5s 103us/step - loss: 1.6922 - acc: 0.3881 - val_loss: 1.6169 - val_acc: 0.4302\n",
      "Epoch 9/50\n",
      "50000/50000 [==============================] - 5s 99us/step - loss: 1.6760 - acc: 0.3939 - val_loss: 1.5903 - val_acc: 0.4470\n",
      "Epoch 10/50\n",
      "50000/50000 [==============================] - 5s 107us/step - loss: 1.6683 - acc: 0.3995 - val_loss: 1.5794 - val_acc: 0.4468\n",
      "Epoch 11/50\n",
      "50000/50000 [==============================] - 5s 105us/step - loss: 1.6541 - acc: 0.4056 - val_loss: 1.5711 - val_acc: 0.4473\n",
      "Epoch 12/50\n",
      "50000/50000 [==============================] - 5s 107us/step - loss: 1.6445 - acc: 0.4079 - val_loss: 1.5592 - val_acc: 0.4502\n",
      "Epoch 13/50\n",
      "50000/50000 [==============================] - 5s 101us/step - loss: 1.6301 - acc: 0.4127 - val_loss: 1.5651 - val_acc: 0.4482\n",
      "Epoch 14/50\n",
      "50000/50000 [==============================] - 5s 104us/step - loss: 1.6222 - acc: 0.4146 - val_loss: 1.5306 - val_acc: 0.4562\n",
      "Epoch 15/50\n",
      "50000/50000 [==============================] - 5s 103us/step - loss: 1.6115 - acc: 0.4207 - val_loss: 1.5401 - val_acc: 0.4548\n",
      "Epoch 16/50\n",
      "50000/50000 [==============================] - 5s 103us/step - loss: 1.6105 - acc: 0.4188 - val_loss: 1.5618 - val_acc: 0.4473\n",
      "Epoch 17/50\n",
      "50000/50000 [==============================] - 5s 104us/step - loss: 1.6101 - acc: 0.4198 - val_loss: 1.5448 - val_acc: 0.4544\n",
      "Epoch 18/50\n",
      "50000/50000 [==============================] - 5s 103us/step - loss: 1.5890 - acc: 0.4276 - val_loss: 1.5264 - val_acc: 0.4519\n",
      "Epoch 19/50\n",
      "50000/50000 [==============================] - 5s 103us/step - loss: 1.5874 - acc: 0.4276 - val_loss: 1.5407 - val_acc: 0.4543\n",
      "Epoch 20/50\n",
      "50000/50000 [==============================] - 5s 104us/step - loss: 1.5820 - acc: 0.4312 - val_loss: 1.5322 - val_acc: 0.4599\n",
      "Epoch 21/50\n",
      "50000/50000 [==============================] - 5s 104us/step - loss: 1.5716 - acc: 0.4333 - val_loss: 1.5082 - val_acc: 0.4656\n",
      "Epoch 22/50\n",
      "50000/50000 [==============================] - 5s 106us/step - loss: 1.5734 - acc: 0.4350 - val_loss: 1.4898 - val_acc: 0.4741\n",
      "Epoch 23/50\n",
      "50000/50000 [==============================] - 5s 105us/step - loss: 1.5716 - acc: 0.4347 - val_loss: 1.4942 - val_acc: 0.4739\n",
      "Epoch 24/50\n",
      "50000/50000 [==============================] - 5s 103us/step - loss: 1.5648 - acc: 0.4353 - val_loss: 1.5179 - val_acc: 0.4695\n",
      "Epoch 25/50\n",
      "50000/50000 [==============================] - 5s 109us/step - loss: 1.5626 - acc: 0.4392 - val_loss: 1.5107 - val_acc: 0.4642\n",
      "Epoch 26/50\n",
      "50000/50000 [==============================] - 5s 103us/step - loss: 1.5568 - acc: 0.4390 - val_loss: 1.4914 - val_acc: 0.4727\n",
      "Epoch 27/50\n",
      "50000/50000 [==============================] - 5s 109us/step - loss: 1.5469 - acc: 0.4439 - val_loss: 1.4842 - val_acc: 0.4716\n",
      "Epoch 28/50\n",
      "50000/50000 [==============================] - 5s 105us/step - loss: 1.5442 - acc: 0.4417 - val_loss: 1.4902 - val_acc: 0.4702\n",
      "Epoch 29/50\n",
      "50000/50000 [==============================] - 5s 103us/step - loss: 1.5540 - acc: 0.4424 - val_loss: 1.4965 - val_acc: 0.4752\n",
      "Epoch 30/50\n",
      "50000/50000 [==============================] - 5s 102us/step - loss: 1.5356 - acc: 0.4456 - val_loss: 1.4755 - val_acc: 0.4772\n",
      "Epoch 31/50\n",
      "50000/50000 [==============================] - 5s 107us/step - loss: 1.5369 - acc: 0.4466 - val_loss: 1.4986 - val_acc: 0.4727\n",
      "Epoch 32/50\n",
      "50000/50000 [==============================] - 5s 104us/step - loss: 1.5285 - acc: 0.4491 - val_loss: 1.4667 - val_acc: 0.4846\n",
      "Epoch 33/50\n",
      "50000/50000 [==============================] - 5s 104us/step - loss: 1.5268 - acc: 0.4512 - val_loss: 1.4830 - val_acc: 0.4733\n",
      "Epoch 34/50\n",
      "50000/50000 [==============================] - 5s 101us/step - loss: 1.5215 - acc: 0.4535 - val_loss: 1.4785 - val_acc: 0.4755\n",
      "Epoch 35/50\n",
      "50000/50000 [==============================] - 5s 107us/step - loss: 1.5229 - acc: 0.4518 - val_loss: 1.5064 - val_acc: 0.4652\n",
      "Epoch 36/50\n",
      "50000/50000 [==============================] - 6s 120us/step - loss: 1.5226 - acc: 0.4536 - val_loss: 1.4806 - val_acc: 0.4689\n",
      "Epoch 37/50\n",
      "50000/50000 [==============================] - 6s 116us/step - loss: 1.5131 - acc: 0.4561 - val_loss: 1.4759 - val_acc: 0.4746\n",
      "Epoch 38/50\n",
      "50000/50000 [==============================] - 5s 106us/step - loss: 1.5077 - acc: 0.4594 - val_loss: 1.4791 - val_acc: 0.4740\n",
      "Epoch 39/50\n",
      "50000/50000 [==============================] - 5s 106us/step - loss: 1.5119 - acc: 0.4582 - val_loss: 1.4723 - val_acc: 0.4840\n",
      "Epoch 40/50\n",
      "50000/50000 [==============================] - 5s 104us/step - loss: 1.5053 - acc: 0.4593 - val_loss: 1.4713 - val_acc: 0.4712\n",
      "Epoch 41/50\n",
      "50000/50000 [==============================] - 5s 105us/step - loss: 1.5135 - acc: 0.4549 - val_loss: 1.4870 - val_acc: 0.4750\n",
      "Epoch 42/50\n",
      "50000/50000 [==============================] - 5s 108us/step - loss: 1.4996 - acc: 0.4610 - val_loss: 1.4854 - val_acc: 0.4728\n",
      "Epoch 43/50\n",
      "50000/50000 [==============================] - 6s 125us/step - loss: 1.5016 - acc: 0.4593 - val_loss: 1.4624 - val_acc: 0.4844\n",
      "Epoch 44/50\n",
      "50000/50000 [==============================] - 6s 124us/step - loss: 1.4973 - acc: 0.4641 - val_loss: 1.4643 - val_acc: 0.4749\n",
      "Epoch 45/50\n",
      "50000/50000 [==============================] - 6s 117us/step - loss: 1.4906 - acc: 0.4660 - val_loss: 1.4620 - val_acc: 0.4799\n",
      "Epoch 46/50\n",
      "50000/50000 [==============================] - 6s 110us/step - loss: 1.4859 - acc: 0.4660 - val_loss: 1.4523 - val_acc: 0.4855\n",
      "Epoch 47/50\n",
      "50000/50000 [==============================] - 5s 108us/step - loss: 1.4860 - acc: 0.4699 - val_loss: 1.4660 - val_acc: 0.4802\n",
      "Epoch 48/50\n",
      "50000/50000 [==============================] - 6s 113us/step - loss: 1.4836 - acc: 0.4680 - val_loss: 1.4585 - val_acc: 0.4826\n",
      "Epoch 49/50\n"
     ]
    },
    {
     "name": "stdout",
     "output_type": "stream",
     "text": [
      "50000/50000 [==============================] - 5s 105us/step - loss: 1.4904 - acc: 0.4635 - val_loss: 1.4374 - val_acc: 0.4860\n",
      "Epoch 50/50\n",
      "50000/50000 [==============================] - 5s 102us/step - loss: 1.4778 - acc: 0.4705 - val_loss: 1.4439 - val_acc: 0.4899\n"
     ]
    }
   ],
   "source": [
    "keras.backend.clear_session()\n",
    "model = build_mlp(input_shape=x_train.shape[1:], drp_ratio=Dropout_EXP)\n",
    "model.summary()\n",
    "optimizer = keras.optimizers.Adam(lr=LEARNING_RATE)\n",
    "model.compile(loss=\"categorical_crossentropy\", metrics=[\"accuracy\"], optimizer=optimizer)\n",
    "\n",
    "model.fit(x_train, y_train, \n",
    "          epochs=EPOCHS, \n",
    "          batch_size=BATCH_SIZE, \n",
    "          validation_data=(x_test, y_test), \n",
    "          shuffle=True)\n",
    "\n",
    "# Collect results\n",
    "train_loss = model.history.history[\"loss\"]\n",
    "valid_loss = model.history.history[\"val_loss\"]\n",
    "train_acc = model.history.history[\"acc\"]\n",
    "valid_acc = model.history.history[\"val_acc\"]"
   ]
  },
  {
   "cell_type": "code",
   "execution_count": 20,
   "metadata": {
    "ExecuteTime": {
     "end_time": "2019-07-25T16:12:51.210890Z",
     "start_time": "2019-07-25T16:12:50.805657Z"
    }
   },
   "outputs": [
    {
     "data": {
      "image/png": "[encoded data removed]",
      "text/plain": [
       "<Figure size 432x288 with 1 Axes>"
      ]
     },
     "metadata": {
      "needs_background": "light"
     },
     "output_type": "display_data"
    },
    {
     "data": {
      "image/png": "[encoded data removed]",
      "text/plain": [
       "<Figure size 432x288 with 1 Axes>"
      ]
     },
     "metadata": {
      "needs_background": "light"
     },
     "output_type": "display_data"
    }
   ],
   "source": [
    "plt.plot(range(len(train_loss)), train_loss, label=\"train loss\")\n",
    "plt.plot(range(len(valid_loss)), valid_loss, label=\"valid loss\")\n",
    "plt.legend()\n",
    "plt.title(\"Loss\")\n",
    "plt.show()\n",
    "\n",
    "plt.plot(range(len(train_acc)), train_acc, label=\"train accuracy\")\n",
    "plt.plot(range(len(valid_acc)), valid_acc, label=\"valid accuracy\")\n",
    "plt.legend()\n",
    "plt.title(\"Accuracy\")\n",
    "plt.show()"
   ]
  }
 ],
 "metadata": {
  "kernelspec": {
   "display_name": "Python 3",
   "language": "python",
   "name": "python3"
  },
  "language_info": {
   "codemirror_mode": {
    "name": "ipython",
    "version": 3
   },
   "file_extension": ".py",
   "mimetype": "text/x-python",
   "name": "python",
   "nbconvert_exporter": "python",
   "pygments_lexer": "ipython3",
   "version": "3.7.3"
  },
  "toc": {
   "base_numbering": 1,
   "nav_menu": {},
   "number_sections": true,
   "sideBar": true,
   "skip_h1_title": false,
   "title_cell": "Table of Contents",
   "title_sidebar": "Contents",
   "toc_cell": false,
   "toc_position": {},
   "toc_section_display": true,
   "toc_window_display": false
  },
  "varInspector": {
   "cols": {
    "lenName": 16,
    "lenType": 16,
    "lenVar": 40
   },
   "kernels_config": {
    "python": {
     "delete_cmd_postfix": "",
     "delete_cmd_prefix": "del ",
     "library": "var_list.py",
     "varRefreshCmd": "print(var_dic_list())"
    },
    "r": {
     "delete_cmd_postfix": ") ",
     "delete_cmd_prefix": "rm(",
     "library": "var_list.r",
     "varRefreshCmd": "cat(var_dic_list()) "
    }
   },
   "types_to_exclude": [
    "module",
    "function",
    "builtin_function_or_method",
    "instance",
    "_Feature"
   ],
   "window_display": false
  }
 },
 "nbformat": 4,
 "nbformat_minor": 2
}
