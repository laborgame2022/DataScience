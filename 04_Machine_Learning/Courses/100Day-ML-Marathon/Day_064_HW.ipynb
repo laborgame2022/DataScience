{
 "cells": [
  {
   "cell_type": "markdown",
   "metadata": {},
   "source": [
    "# 作業\n",
    "* 選擇迴歸資料集(右) - 交錯六群，在其他參數保持預設值的情況下，只允許調整隱藏層層數與神經元數量，且遵守下列限制   \n",
    "> * 隱藏層神經元總數最多 8 個 (即 : 可以單層 8 個，或兩層 5 個與 3 個)   \n",
    "> * 遞迴次數只允許跑到500次  \n",
    "* 在上述限制下，挑戰看看測試誤差 (Test Loss) 最低能到多少? 請回答你的神經元參數與 Test Loss 數\n",
    "\n",
    "HIDDEN LAYERS:2\n",
    "1st: 6\n",
    "2nd: 2\n",
    "Test Loss:0.013\n",
    "![](https://lh3.googleusercontent.com/t0F6wg838EVYs0xxJRMmtZo1wYJTxn1J-V9cNTtm0MwHqO9J-3S4HTXtL232nLwXZMPL3kOHwrwmeBOquMj3XrmYO4ONhKSbs39ql487dwmRgdtIu6UD1haKIfjy-R6Cymbd7sWjFH7qc088N8XXGwhNiQvMnMmzZmNHRsjgHL2Bl5r2RQB41BC1-JAE3XsHbNMa5FhmX2tG83YhFvOeF8Azm_ZgCwkS_ccH7wx51FW3jdcPPpysbXxoUxN8UTYWwgK33aVRHzt4lFCRSe4SlcAeFOt0LpGEwPL6WHPhhN0OxSlbxs4m7oerWAwOaHjELMXp3M0jcP6efLnBgJ7sxzLNLq9MjQ6nTr69ohF2Ke8tx2QOtq13Dtg2IPJ-N_ezKYx1n5wjDsej1H9qfPK2IfQpE-ji8vKgA_bPY5f2OGB2GjhhePQQq12tTdseBjNlTEFQedr8OYjY_z_DKJEMgY-iqilL-k2CNbLh_Fg3lFFCKXtaHEVtZCxkSXZiubP37EzueJn-yKSqN_zs6D5U4hKZvrM0o1KJKNGEQPLO0WVAzxQSCdW5VOOBbjl5zWpW0m6izirSv1muhCBcAMnknSHg_ODVElQXpodDOkJXwoM5J9hPH8D5qjGzcCMKxSUboGwHmYx9MEb7HCUlghYTPF8TTnjj1lg=w1045-h682-no)"
   ]
  },
  {
   "cell_type": "markdown",
   "metadata": {
    "collapsed": true
   },
   "source": []
  }
 ],
 "metadata": {
  "kernelspec": {
   "display_name": "Python 3",
   "language": "python",
   "name": "python3"
  },
  "language_info": {
   "codemirror_mode": {
    "name": "ipython",
    "version": 3
   },
   "file_extension": ".py",
   "mimetype": "text/x-python",
   "name": "python",
   "nbconvert_exporter": "python",
   "pygments_lexer": "ipython3",
   "version": "3.7.3"
  },
  "toc": {
   "base_numbering": 1,
   "nav_menu": {},
   "number_sections": true,
   "sideBar": true,
   "skip_h1_title": false,
   "title_cell": "Table of Contents",
   "title_sidebar": "Contents",
   "toc_cell": false,
   "toc_position": {},
   "toc_section_display": true,
   "toc_window_display": false
  },
  "varInspector": {
   "cols": {
    "lenName": 16,
    "lenType": 16,
    "lenVar": 40
   },
   "kernels_config": {
    "python": {
     "delete_cmd_postfix": "",
     "delete_cmd_prefix": "del ",
     "library": "var_list.py",
     "varRefreshCmd": "print(var_dic_list())"
    },
    "r": {
     "delete_cmd_postfix": ") ",
     "delete_cmd_prefix": "rm(",
     "library": "var_list.r",
     "varRefreshCmd": "cat(var_dic_list()) "
    }
   },
   "types_to_exclude": [
    "module",
    "function",
    "builtin_function_or_method",
    "instance",
    "_Feature"
   ],
   "window_display": false
  }
 },
 "nbformat": 4,
 "nbformat_minor": 2
}
