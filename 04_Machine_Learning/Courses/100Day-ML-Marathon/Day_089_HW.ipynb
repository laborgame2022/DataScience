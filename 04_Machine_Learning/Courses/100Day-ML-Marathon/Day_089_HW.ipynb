{
 "cells": [
  {
   "cell_type": "code",
   "execution_count": 1,
   "metadata": {
    "ExecuteTime": {
     "end_time": "2019-08-03T11:22:35.590198Z",
     "start_time": "2019-08-03T11:22:30.614032Z"
    }
   },
   "outputs": [
    {
     "name": "stderr",
     "output_type": "stream",
     "text": [
      "Using TensorFlow backend.\n"
     ]
    }
   ],
   "source": [
    "import os\n",
    "import keras\n",
    "\n",
    "# Disable GPU\n",
    "os.environ[\"CUDA_VISIBLE_DEVICES\"] = \"\""
   ]
  },
  {
   "cell_type": "code",
   "execution_count": 6,
   "metadata": {
    "ExecuteTime": {
     "end_time": "2019-08-03T11:22:52.587741Z",
     "start_time": "2019-08-03T11:22:52.268141Z"
    }
   },
   "outputs": [],
   "source": [
    "train, test = keras.datasets.cifar10.load_data()"
   ]
  },
  {
   "cell_type": "code",
   "execution_count": 7,
   "metadata": {
    "ExecuteTime": {
     "end_time": "2019-08-03T11:22:52.650461Z",
     "start_time": "2019-08-03T11:22:52.640008Z"
    }
   },
   "outputs": [],
   "source": [
    "## 資料前處理\n",
    "def preproc_x(x, flatten=True):\n",
    "    x = x / 255.\n",
    "    if flatten:\n",
    "        x = x.reshape((len(x), -1))\n",
    "    return x\n",
    "\n",
    "def preproc_y(y, num_classes=10):\n",
    "    if y.shape[-1] == 1:\n",
    "        y = keras.utils.to_categorical(y, num_classes)\n",
    "    return y    "
   ]
  },
  {
   "cell_type": "code",
   "execution_count": 8,
   "metadata": {
    "ExecuteTime": {
     "end_time": "2019-08-03T11:22:54.446462Z",
     "start_time": "2019-08-03T11:22:52.926749Z"
    }
   },
   "outputs": [],
   "source": [
    "x_train, y_train = train\n",
    "x_test, y_test = test\n",
    "\n",
    "# Preproc the inputs\n",
    "x_train = preproc_x(x_train)\n",
    "x_test = preproc_x(x_test)\n",
    "\n",
    "# Preprc the outputs\n",
    "y_train = preproc_y(y_train)\n",
    "y_test = preproc_y(y_test)"
   ]
  },
  {
   "cell_type": "code",
   "execution_count": 9,
   "metadata": {
    "ExecuteTime": {
     "end_time": "2019-08-03T11:22:54.917817Z",
     "start_time": "2019-08-03T11:22:54.908143Z"
    }
   },
   "outputs": [],
   "source": [
    "from keras.layers import BatchNormalization\n",
    "def build_mlp(input_shape, output_units=10, num_neurons=[512, 256, 128]):\n",
    "    input_layer = keras.layers.Input(input_shape)\n",
    "    \n",
    "    for i, n_units in enumerate(num_neurons):\n",
    "        if i == 0:\n",
    "            x = keras.layers.Dense(units=n_units,\n",
    "                                   activation='relu',\n",
    "                                   name='hidden_layer'+str(i+1))(input_layer)\n",
    "            x = BatchNormalization()(x)\n",
    "        else:\n",
    "            x = keras.layers.Dense(units=n_units,\n",
    "                                   activation='relu',\n",
    "                                   name='hidden_layer'+str(i+1))(x)\n",
    "            x = BatchNormalization()(x)\n",
    "            \n",
    "    out = keras.layers.Dense(units=output_units, activation='softmax', name='output')(x)\n",
    "    \n",
    "    model = keras.models.Model(inputs=[input_layer], outputs=[out])\n",
    "    return model"
   ]
  },
  {
   "cell_type": "code",
   "execution_count": 10,
   "metadata": {
    "ExecuteTime": {
     "end_time": "2019-08-03T11:22:56.138440Z",
     "start_time": "2019-08-03T11:22:56.133960Z"
    }
   },
   "outputs": [],
   "source": [
    "## 超參數設定\n",
    "LEARNING_RATE = 1e-3\n",
    "EPOCHS = 25\n",
    "BATCH_SIZE = 1024\n",
    "MOMENTUM = 0.95"
   ]
  },
  {
   "cell_type": "markdown",
   "metadata": {},
   "source": [
    "# 範例\n",
    "Focal loss for multi-classification\n",
    "\n",
    "$FL(p_t)=-alpha(1-p_t)^{gamma}ln(p_t)$"
   ]
  },
  {
   "cell_type": "code",
   "execution_count": 9,
   "metadata": {
    "ExecuteTime": {
     "end_time": "2019-08-03T10:45:18.006980Z",
     "start_time": "2019-08-03T10:45:17.996528Z"
    }
   },
   "outputs": [],
   "source": [
    "import tensorflow as tf\n",
    "import keras.backend as K\n",
    "\n",
    "def focal_loss(gamma=2., alpha=4.):\n",
    "    gamma = float(gamma)\n",
    "    alpha = float(alpha)\n",
    "    def focal_loss_fixed(y_true, y_pred):\n",
    "        epsilon = 1e-8\n",
    "        y_true = tf.convert_to_tensor(y_true, tf.float32)\n",
    "        y_pred = tf.convert_to_tensor(y_pred, tf.float32)\n",
    "\n",
    "        model_out = tf.add(y_pred, epsilon)\n",
    "        \n",
    "        ce = tf.multiply(y_true, -tf.log(model_out))\n",
    "        \n",
    "        weight = tf.multiply(y_true, tf.pow(tf.subtract(1., model_out), gamma))\n",
    "        fl = tf.multiply(alpha, tf.multiply(weight, ce))\n",
    "        reduced_fl = tf.reduce_max(fl, axis=1)\n",
    "        return tf.reduce_mean(reduced_fl)\n",
    "    return focal_loss_fixed"
   ]
  },
  {
   "cell_type": "code",
   "execution_count": 10,
   "metadata": {
    "ExecuteTime": {
     "end_time": "2019-08-03T10:46:37.979794Z",
     "start_time": "2019-08-03T10:45:19.316007Z"
    }
   },
   "outputs": [
    {
     "name": "stderr",
     "output_type": "stream",
     "text": [
      "WARNING: Logging before flag parsing goes to stderr.\n",
      "W0803 18:45:19.321982  5808 deprecation_wrapper.py:119] From C:\\ProgramData\\Anaconda3\\envs\\TensorFlow\\lib\\site-packages\\keras\\backend\\tensorflow_backend.py:74: The name tf.get_default_graph is deprecated. Please use tf.compat.v1.get_default_graph instead.\n",
      "\n",
      "W0803 18:45:19.376049  5808 deprecation_wrapper.py:119] From C:\\ProgramData\\Anaconda3\\envs\\TensorFlow\\lib\\site-packages\\keras\\backend\\tensorflow_backend.py:517: The name tf.placeholder is deprecated. Please use tf.compat.v1.placeholder instead.\n",
      "\n",
      "W0803 18:45:19.391730  5808 deprecation_wrapper.py:119] From C:\\ProgramData\\Anaconda3\\envs\\TensorFlow\\lib\\site-packages\\keras\\backend\\tensorflow_backend.py:4138: The name tf.random_uniform is deprecated. Please use tf.random.uniform instead.\n",
      "\n",
      "W0803 18:45:19.524127  5808 deprecation_wrapper.py:119] From C:\\ProgramData\\Anaconda3\\envs\\TensorFlow\\lib\\site-packages\\keras\\backend\\tensorflow_backend.py:133: The name tf.placeholder_with_default is deprecated. Please use tf.compat.v1.placeholder_with_default instead.\n",
      "\n",
      "W0803 18:45:19.786875  5808 deprecation_wrapper.py:119] From C:\\ProgramData\\Anaconda3\\envs\\TensorFlow\\lib\\site-packages\\keras\\optimizers.py:790: The name tf.train.Optimizer is deprecated. Please use tf.compat.v1.train.Optimizer instead.\n",
      "\n",
      "W0803 18:45:19.915030  5808 deprecation.py:323] From C:\\ProgramData\\Anaconda3\\envs\\TensorFlow\\lib\\site-packages\\tensorflow\\python\\ops\\math_grad.py:1205: add_dispatch_support.<locals>.wrapper (from tensorflow.python.ops.array_ops) is deprecated and will be removed in a future version.\n",
      "Instructions for updating:\n",
      "Use tf.where in 2.0, which has the same broadcast rule as np.where\n"
     ]
    },
    {
     "name": "stdout",
     "output_type": "stream",
     "text": [
      "_________________________________________________________________\n",
      "Layer (type)                 Output Shape              Param #   \n",
      "=================================================================\n",
      "input_1 (InputLayer)         (None, 3072)              0         \n",
      "_________________________________________________________________\n",
      "hidden_layer1 (Dense)        (None, 512)               1573376   \n",
      "_________________________________________________________________\n",
      "batch_normalization_1 (Batch (None, 512)               2048      \n",
      "_________________________________________________________________\n",
      "hidden_layer2 (Dense)        (None, 256)               131328    \n",
      "_________________________________________________________________\n",
      "batch_normalization_2 (Batch (None, 256)               1024      \n",
      "_________________________________________________________________\n",
      "hidden_layer3 (Dense)        (None, 128)               32896     \n",
      "_________________________________________________________________\n",
      "batch_normalization_3 (Batch (None, 128)               512       \n",
      "_________________________________________________________________\n",
      "output (Dense)               (None, 10)                1290      \n",
      "=================================================================\n",
      "Total params: 1,742,474\n",
      "Trainable params: 1,740,682\n",
      "Non-trainable params: 1,792\n",
      "_________________________________________________________________\n"
     ]
    },
    {
     "name": "stderr",
     "output_type": "stream",
     "text": [
      "W0803 18:45:20.282968  5808 deprecation_wrapper.py:119] From C:\\ProgramData\\Anaconda3\\envs\\TensorFlow\\lib\\site-packages\\keras\\backend\\tensorflow_backend.py:986: The name tf.assign_add is deprecated. Please use tf.compat.v1.assign_add instead.\n",
      "\n"
     ]
    },
    {
     "name": "stdout",
     "output_type": "stream",
     "text": [
      "Train on 50000 samples, validate on 10000 samples\n",
      "Epoch 1/25\n",
      "50000/50000 [==============================] - 7s 136us/step - loss: 6.0406 - acc: 0.3333 - val_loss: 6.2535 - val_acc: 0.3462\n",
      "Epoch 2/25\n",
      "50000/50000 [==============================] - 3s 59us/step - loss: 4.3790 - acc: 0.4443 - val_loss: 4.9267 - val_acc: 0.3968\n",
      "Epoch 3/25\n",
      "50000/50000 [==============================] - 3s 59us/step - loss: 3.9835 - acc: 0.4803 - val_loss: 4.4931 - val_acc: 0.4356\n",
      "Epoch 4/25\n",
      "50000/50000 [==============================] - 3s 59us/step - loss: 3.7196 - acc: 0.5074 - val_loss: 4.3201 - val_acc: 0.4444\n",
      "Epoch 5/25\n",
      "50000/50000 [==============================] - 3s 59us/step - loss: 3.5130 - acc: 0.5270 - val_loss: 4.1466 - val_acc: 0.4559\n",
      "Epoch 6/25\n",
      "50000/50000 [==============================] - 3s 58us/step - loss: 3.3150 - acc: 0.5485 - val_loss: 4.1044 - val_acc: 0.4651\n",
      "Epoch 7/25\n",
      "50000/50000 [==============================] - 3s 59us/step - loss: 3.1541 - acc: 0.5658 - val_loss: 4.0323 - val_acc: 0.4714\n",
      "Epoch 8/25\n",
      "50000/50000 [==============================] - 3s 59us/step - loss: 2.9876 - acc: 0.5814 - val_loss: 4.0902 - val_acc: 0.4666\n",
      "Epoch 9/25\n",
      "50000/50000 [==============================] - 3s 59us/step - loss: 2.8429 - acc: 0.5984 - val_loss: 4.0726 - val_acc: 0.4707\n",
      "Epoch 10/25\n",
      "50000/50000 [==============================] - 3s 59us/step - loss: 2.7007 - acc: 0.6126 - val_loss: 3.9605 - val_acc: 0.4856\n",
      "Epoch 11/25\n",
      "50000/50000 [==============================] - 3s 59us/step - loss: 2.5748 - acc: 0.6255 - val_loss: 3.9090 - val_acc: 0.4932\n",
      "Epoch 12/25\n",
      "50000/50000 [==============================] - 3s 58us/step - loss: 2.4358 - acc: 0.6400 - val_loss: 4.1808 - val_acc: 0.4666\n",
      "Epoch 13/25\n",
      "50000/50000 [==============================] - 3s 59us/step - loss: 2.3022 - acc: 0.6553 - val_loss: 3.9659 - val_acc: 0.4914\n",
      "Epoch 14/25\n",
      "50000/50000 [==============================] - 3s 59us/step - loss: 2.1875 - acc: 0.6699 - val_loss: 3.8892 - val_acc: 0.4967\n",
      "Epoch 15/25\n",
      "50000/50000 [==============================] - 3s 58us/step - loss: 2.0744 - acc: 0.6854 - val_loss: 4.0091 - val_acc: 0.4905\n",
      "Epoch 16/25\n",
      "50000/50000 [==============================] - 3s 60us/step - loss: 1.9490 - acc: 0.6996 - val_loss: 4.0264 - val_acc: 0.4854\n",
      "Epoch 17/25\n",
      "50000/50000 [==============================] - 3s 59us/step - loss: 1.8357 - acc: 0.7122 - val_loss: 4.1828 - val_acc: 0.4680\n",
      "Epoch 18/25\n",
      "50000/50000 [==============================] - 3s 59us/step - loss: 1.7216 - acc: 0.7277 - val_loss: 4.0973 - val_acc: 0.4907\n",
      "Epoch 19/25\n",
      "50000/50000 [==============================] - 3s 59us/step - loss: 1.6031 - acc: 0.7411 - val_loss: 4.1981 - val_acc: 0.4916\n",
      "Epoch 20/25\n",
      "50000/50000 [==============================] - 3s 59us/step - loss: 1.4958 - acc: 0.7586 - val_loss: 4.3483 - val_acc: 0.4856\n",
      "Epoch 21/25\n",
      "50000/50000 [==============================] - 3s 59us/step - loss: 1.3933 - acc: 0.7691 - val_loss: 4.1735 - val_acc: 0.4921\n",
      "Epoch 22/25\n",
      "50000/50000 [==============================] - 3s 59us/step - loss: 1.2940 - acc: 0.7861 - val_loss: 4.3540 - val_acc: 0.4922\n",
      "Epoch 23/25\n",
      "50000/50000 [==============================] - 3s 59us/step - loss: 1.2066 - acc: 0.7967 - val_loss: 4.6191 - val_acc: 0.4797\n",
      "Epoch 24/25\n",
      "50000/50000 [==============================] - 3s 60us/step - loss: 1.1143 - acc: 0.8101 - val_loss: 4.6189 - val_acc: 0.4871\n",
      "Epoch 25/25\n",
      "50000/50000 [==============================] - 3s 60us/step - loss: 1.0330 - acc: 0.8226 - val_loss: 4.9727 - val_acc: 0.4614\n"
     ]
    }
   ],
   "source": [
    "model = build_mlp(input_shape=x_train.shape[1:])\n",
    "model.summary()\n",
    "optimizer = keras.optimizers.SGD(lr = LEARNING_RATE, nesterov=True, momentum=MOMENTUM)\n",
    "model.compile(loss=focal_loss(), metrics=['accuracy'], optimizer=optimizer)\n",
    "\n",
    "model.fit(x_train, y_train,\n",
    "         epochs=EPOCHS,\n",
    "         batch_size=BATCH_SIZE,\n",
    "          validation_data=(x_test, y_test),\n",
    "          shuffle=True)\n",
    "\n",
    "# Collection results\n",
    "train_loss = model.history.history['loss']\n",
    "valid_loss = model.history.history['val_loss']\n",
    "train_acc = model.history.history['acc']\n",
    "valid_acc = model.history.history['val_acc']"
   ]
  },
  {
   "cell_type": "code",
   "execution_count": 11,
   "metadata": {
    "ExecuteTime": {
     "end_time": "2019-08-03T10:46:38.912774Z",
     "start_time": "2019-08-03T10:46:38.005183Z"
    }
   },
   "outputs": [
    {
     "data": {
      "image/png": "[encoded data removed]",
      "text/plain": [
       "<Figure size 432x288 with 1 Axes>"
      ]
     },
     "metadata": {
      "needs_background": "light"
     },
     "output_type": "display_data"
    },
    {
     "data": {
      "image/png": "[encoded data removed]",
      "text/plain": [
       "<Figure size 432x288 with 1 Axes>"
      ]
     },
     "metadata": {
      "needs_background": "light"
     },
     "output_type": "display_data"
    }
   ],
   "source": [
    "import matplotlib.pyplot as plt\n",
    "%matplotlib inline\n",
    "\n",
    "plt.plot(range(len(train_loss)), train_loss, label=\"train loss\")\n",
    "plt.plot(range(len(valid_loss)), valid_loss, label=\"valid loss\")\n",
    "plt.legend()\n",
    "plt.title(\"Loss\")\n",
    "plt.show()\n",
    "\n",
    "plt.plot(range(len(train_acc)), train_acc, label=\"train accuracy\")\n",
    "plt.plot(range(len(valid_acc)), valid_acc, label=\"valid accuracy\")\n",
    "plt.legend()\n",
    "plt.title(\"Accuracy\")\n",
    "plt.show()"
   ]
  },
  {
   "cell_type": "markdown",
   "metadata": {},
   "source": [
    "## Hpmework\n",
    "1. 請自行定義一個 loss function, 為 0.3 * focal loss + 0.7 cross-entropy，訓練並比較結果\n",
    "\n",
    "$FL(p_t)=-alpha(1-p_t)^{gamma}ln(p_t)$"
   ]
  },
  {
   "cell_type": "code",
   "execution_count": 11,
   "metadata": {
    "ExecuteTime": {
     "end_time": "2019-08-03T11:22:59.742581Z",
     "start_time": "2019-08-03T11:22:59.729023Z"
    }
   },
   "outputs": [],
   "source": [
    "import tensorflow as tf\n",
    "import keras.backend as K\n",
    "\n",
    "def focal_loss(y_true, y_pred,gamma=2., alpha=4.):\n",
    "    gamma = float(gamma)\n",
    "    alpha = float(alpha)\n",
    "    epsilon = 1e-8\n",
    "    y_true = tf.convert_to_tensor(y_true, tf.float32)\n",
    "    y_pred = tf.convert_to_tensor(y_pred, tf.float32)\n",
    "\n",
    "    model_out = tf.add(y_pred, epsilon)\n",
    "    ce = tf.multiply(y_true, -tf.log(model_out))\n",
    "    weight = tf.multiply(y_true, tf.pow(tf.subtract(1., model_out), gamma))\n",
    "    fl = tf.multiply(alpha, tf.multiply(weight, ce))\n",
    "    reduced_fl = tf.reduce_max(fl, axis=1)\n",
    "    return tf.reduce_mean(reduced_fl)\n",
    "\n",
    "def cross_entropy(y_true, y_pred):         \n",
    "    y_true = tf.convert_to_tensor(y_true, tf.float32)\n",
    "    y_pred = tf.convert_to_tensor(y_pred, tf.float32)\n",
    "            \n",
    "    entropy = tf.nn.softmax_cross_entropy_with_logits(labels = y_true, logits = y_pred)\n",
    "    return tf.reduce_mean(entropy)\n",
    "\n",
    "\n",
    "def combined_loss(W1=0.3,W2=0.7):    \n",
    "    def combined_loss_fixed(y_true, y_pred):\n",
    "        f_loss = focal_loss(y_true, y_pred)\n",
    "        cr = cross_entropy(y_true, y_pred)\n",
    "        conbin_loss = f_loss * W1 + cr * W2\n",
    "        return conbin_loss\n",
    "    return combined_loss_fixed\n",
    "\n",
    "ce_weights_list = [0., 0.3, 0.5, 0.7, 1]"
   ]
  },
  {
   "cell_type": "code",
   "execution_count": 12,
   "metadata": {
    "ExecuteTime": {
     "end_time": "2019-08-03T11:29:52.016875Z",
     "start_time": "2019-08-03T11:23:00.702270Z"
    },
    "scrolled": false
   },
   "outputs": [
    {
     "name": "stderr",
     "output_type": "stream",
     "text": [
      "W0803 19:23:00.710762 11552 deprecation_wrapper.py:119] From C:\\ProgramData\\Anaconda3\\envs\\TensorFlow\\lib\\site-packages\\keras\\backend\\tensorflow_backend.py:517: The name tf.placeholder is deprecated. Please use tf.compat.v1.placeholder instead.\n",
      "\n",
      "W0803 19:23:00.713748 11552 deprecation_wrapper.py:119] From C:\\ProgramData\\Anaconda3\\envs\\TensorFlow\\lib\\site-packages\\keras\\backend\\tensorflow_backend.py:4138: The name tf.random_uniform is deprecated. Please use tf.random.uniform instead.\n",
      "\n"
     ]
    },
    {
     "name": "stdout",
     "output_type": "stream",
     "text": [
      "Numbers of exp: 0, ce_weight: 0.00\n"
     ]
    },
    {
     "name": "stderr",
     "output_type": "stream",
     "text": [
      "W0803 19:23:01.064852 11552 deprecation_wrapper.py:119] From C:\\ProgramData\\Anaconda3\\envs\\TensorFlow\\lib\\site-packages\\keras\\optimizers.py:790: The name tf.train.Optimizer is deprecated. Please use tf.compat.v1.train.Optimizer instead.\n",
      "\n",
      "W0803 19:23:01.080496 11552 deprecation.py:323] From <ipython-input-11-459e89a3602e>:22: softmax_cross_entropy_with_logits (from tensorflow.python.ops.nn_ops) is deprecated and will be removed in a future version.\n",
      "Instructions for updating:\n",
      "\n",
      "Future major versions of TensorFlow will allow gradients to flow\n",
      "into the labels input on backprop by default.\n",
      "\n",
      "See `tf.nn.softmax_cross_entropy_with_logits_v2`.\n",
      "\n",
      "W0803 19:23:01.248529 11552 deprecation.py:323] From C:\\ProgramData\\Anaconda3\\envs\\TensorFlow\\lib\\site-packages\\tensorflow\\python\\ops\\math_grad.py:1205: add_dispatch_support.<locals>.wrapper (from tensorflow.python.ops.array_ops) is deprecated and will be removed in a future version.\n",
      "Instructions for updating:\n",
      "Use tf.where in 2.0, which has the same broadcast rule as np.where\n"
     ]
    },
    {
     "name": "stdout",
     "output_type": "stream",
     "text": [
      "_________________________________________________________________\n",
      "Layer (type)                 Output Shape              Param #   \n",
      "=================================================================\n",
      "input_1 (InputLayer)         (None, 3072)              0         \n",
      "_________________________________________________________________\n",
      "hidden_layer1 (Dense)        (None, 512)               1573376   \n",
      "_________________________________________________________________\n",
      "batch_normalization_1 (Batch (None, 512)               2048      \n",
      "_________________________________________________________________\n",
      "hidden_layer2 (Dense)        (None, 256)               131328    \n",
      "_________________________________________________________________\n",
      "batch_normalization_2 (Batch (None, 256)               1024      \n",
      "_________________________________________________________________\n",
      "hidden_layer3 (Dense)        (None, 128)               32896     \n",
      "_________________________________________________________________\n",
      "batch_normalization_3 (Batch (None, 128)               512       \n",
      "_________________________________________________________________\n",
      "output (Dense)               (None, 10)                1290      \n",
      "=================================================================\n",
      "Total params: 1,742,474\n",
      "Trainable params: 1,740,682\n",
      "Non-trainable params: 1,792\n",
      "_________________________________________________________________\n",
      "Train on 50000 samples, validate on 10000 samples\n",
      "Epoch 1/25\n",
      "50000/50000 [==============================] - 6s 114us/step - loss: 3.5790 - acc: 0.2904 - val_loss: 3.4833 - val_acc: 0.3276\n",
      "Epoch 2/25\n",
      "50000/50000 [==============================] - 3s 61us/step - loss: 2.9677 - acc: 0.4063 - val_loss: 3.0866 - val_acc: 0.3772\n",
      "Epoch 3/25\n",
      "50000/50000 [==============================] - 3s 63us/step - loss: 2.8040 - acc: 0.4495 - val_loss: 2.9306 - val_acc: 0.4209\n",
      "Epoch 4/25\n",
      "50000/50000 [==============================] - 3s 61us/step - loss: 2.7068 - acc: 0.4742 - val_loss: 2.8519 - val_acc: 0.4281\n",
      "Epoch 5/25\n",
      "50000/50000 [==============================] - 3s 62us/step - loss: 2.6358 - acc: 0.4952 - val_loss: 2.8149 - val_acc: 0.4365\n",
      "Epoch 6/25\n",
      "50000/50000 [==============================] - 3s 65us/step - loss: 2.5779 - acc: 0.5109 - val_loss: 2.7892 - val_acc: 0.4488\n",
      "Epoch 7/25\n",
      "50000/50000 [==============================] - 4s 80us/step - loss: 2.5231 - acc: 0.5244 - val_loss: 2.7661 - val_acc: 0.4477\n",
      "Epoch 8/25\n",
      "50000/50000 [==============================] - 3s 61us/step - loss: 2.4790 - acc: 0.5376 - val_loss: 2.7250 - val_acc: 0.4629\n",
      "Epoch 9/25\n",
      "50000/50000 [==============================] - 3s 62us/step - loss: 2.4331 - acc: 0.5517 - val_loss: 2.7148 - val_acc: 0.4609\n",
      "Epoch 10/25\n",
      "50000/50000 [==============================] - 3s 63us/step - loss: 2.3933 - acc: 0.5640 - val_loss: 2.6892 - val_acc: 0.4741\n",
      "Epoch 11/25\n",
      "50000/50000 [==============================] - 3s 65us/step - loss: 2.3583 - acc: 0.5729 - val_loss: 2.6925 - val_acc: 0.4716\n",
      "Epoch 12/25\n",
      "50000/50000 [==============================] - 3s 62us/step - loss: 2.3177 - acc: 0.5867 - val_loss: 2.6783 - val_acc: 0.4763\n",
      "Epoch 13/25\n",
      "50000/50000 [==============================] - 3s 63us/step - loss: 2.2832 - acc: 0.5966 - val_loss: 2.6608 - val_acc: 0.4791\n",
      "Epoch 14/25\n",
      "50000/50000 [==============================] - 3s 63us/step - loss: 2.2503 - acc: 0.6058 - val_loss: 2.6627 - val_acc: 0.4806\n",
      "Epoch 15/25\n",
      "50000/50000 [==============================] - 3s 62us/step - loss: 2.2180 - acc: 0.6153 - val_loss: 2.6886 - val_acc: 0.4719\n",
      "Epoch 16/25\n",
      "50000/50000 [==============================] - 3s 65us/step - loss: 2.1852 - acc: 0.6272 - val_loss: 2.6715 - val_acc: 0.4788\n",
      "Epoch 17/25\n",
      "50000/50000 [==============================] - 3s 68us/step - loss: 2.1580 - acc: 0.6346 - val_loss: 2.6665 - val_acc: 0.4830\n",
      "Epoch 18/25\n",
      "50000/50000 [==============================] - 3s 63us/step - loss: 2.1274 - acc: 0.6424 - val_loss: 2.6910 - val_acc: 0.4817\n",
      "Epoch 19/25\n",
      "50000/50000 [==============================] - 3s 63us/step - loss: 2.0943 - acc: 0.6538 - val_loss: 2.6749 - val_acc: 0.4851\n",
      "Epoch 20/25\n",
      "50000/50000 [==============================] - 3s 59us/step - loss: 2.0650 - acc: 0.6646 - val_loss: 2.6744 - val_acc: 0.4856\n",
      "Epoch 21/25\n",
      "50000/50000 [==============================] - 3s 63us/step - loss: 2.0343 - acc: 0.6756 - val_loss: 2.6587 - val_acc: 0.4926\n",
      "Epoch 22/25\n",
      "50000/50000 [==============================] - 3s 60us/step - loss: 2.0055 - acc: 0.6845 - val_loss: 2.6853 - val_acc: 0.4845\n",
      "Epoch 23/25\n",
      "50000/50000 [==============================] - 3s 59us/step - loss: 1.9803 - acc: 0.6931 - val_loss: 2.6818 - val_acc: 0.4843\n",
      "Epoch 24/25\n",
      "50000/50000 [==============================] - 3s 62us/step - loss: 1.9501 - acc: 0.7037 - val_loss: 2.6856 - val_acc: 0.4882\n",
      "Epoch 25/25\n",
      "50000/50000 [==============================] - 3s 57us/step - loss: 1.9244 - acc: 0.7112 - val_loss: 2.7057 - val_acc: 0.4833\n",
      "Numbers of exp: 1, ce_weight: 0.30\n",
      "_________________________________________________________________\n",
      "Layer (type)                 Output Shape              Param #   \n",
      "=================================================================\n",
      "input_1 (InputLayer)         (None, 3072)              0         \n",
      "_________________________________________________________________\n",
      "hidden_layer1 (Dense)        (None, 512)               1573376   \n",
      "_________________________________________________________________\n",
      "batch_normalization_1 (Batch (None, 512)               2048      \n",
      "_________________________________________________________________\n",
      "hidden_layer2 (Dense)        (None, 256)               131328    \n",
      "_________________________________________________________________\n",
      "batch_normalization_2 (Batch (None, 256)               1024      \n",
      "_________________________________________________________________\n",
      "hidden_layer3 (Dense)        (None, 128)               32896     \n",
      "_________________________________________________________________\n",
      "batch_normalization_3 (Batch (None, 128)               512       \n",
      "_________________________________________________________________\n",
      "output (Dense)               (None, 10)                1290      \n",
      "=================================================================\n",
      "Total params: 1,742,474\n",
      "Trainable params: 1,740,682\n",
      "Non-trainable params: 1,792\n",
      "_________________________________________________________________\n",
      "Train on 50000 samples, validate on 10000 samples\n",
      "Epoch 1/25\n",
      "50000/50000 [==============================] - 4s 75us/step - loss: 3.6140 - acc: 0.2866 - val_loss: 3.9707 - val_acc: 0.2834\n",
      "Epoch 2/25\n",
      "50000/50000 [==============================] - 3s 59us/step - loss: 2.9800 - acc: 0.4037 - val_loss: 3.1741 - val_acc: 0.3711\n",
      "Epoch 3/25\n",
      "50000/50000 [==============================] - 3s 58us/step - loss: 2.8160 - acc: 0.4478 - val_loss: 2.9337 - val_acc: 0.4187\n",
      "Epoch 4/25\n",
      "50000/50000 [==============================] - 3s 59us/step - loss: 2.7199 - acc: 0.4729 - val_loss: 2.8820 - val_acc: 0.4211\n",
      "Epoch 5/25\n",
      "50000/50000 [==============================] - 3s 58us/step - loss: 2.6473 - acc: 0.4937 - val_loss: 2.8369 - val_acc: 0.4290\n",
      "Epoch 6/25\n",
      "50000/50000 [==============================] - 3s 58us/step - loss: 2.5911 - acc: 0.5075 - val_loss: 2.7734 - val_acc: 0.4523\n",
      "Epoch 7/25\n",
      "50000/50000 [==============================] - 3s 64us/step - loss: 2.5357 - acc: 0.5238 - val_loss: 2.7845 - val_acc: 0.4520\n",
      "Epoch 8/25\n",
      "50000/50000 [==============================] - 3s 60us/step - loss: 2.4871 - acc: 0.5382 - val_loss: 2.7607 - val_acc: 0.4566\n",
      "Epoch 9/25\n",
      "50000/50000 [==============================] - 3s 59us/step - loss: 2.4462 - acc: 0.5493 - val_loss: 2.7403 - val_acc: 0.4669\n",
      "Epoch 10/25\n",
      "50000/50000 [==============================] - 4s 71us/step - loss: 2.4033 - acc: 0.5628 - val_loss: 2.7040 - val_acc: 0.4750\n",
      "Epoch 11/25\n",
      "50000/50000 [==============================] - 3s 61us/step - loss: 2.3674 - acc: 0.5724 - val_loss: 2.6991 - val_acc: 0.4728\n",
      "Epoch 12/25\n",
      "50000/50000 [==============================] - 3s 57us/step - loss: 2.3318 - acc: 0.5830 - val_loss: 2.6923 - val_acc: 0.4787\n",
      "Epoch 13/25\n",
      "50000/50000 [==============================] - 3s 57us/step - loss: 2.2976 - acc: 0.5959 - val_loss: 2.6990 - val_acc: 0.4771\n",
      "Epoch 14/25\n"
     ]
    },
    {
     "name": "stdout",
     "output_type": "stream",
     "text": [
      "50000/50000 [==============================] - 3s 57us/step - loss: 2.2649 - acc: 0.6036 - val_loss: 2.6890 - val_acc: 0.4757\n",
      "Epoch 15/25\n",
      "50000/50000 [==============================] - 3s 58us/step - loss: 2.2311 - acc: 0.6152 - val_loss: 2.6860 - val_acc: 0.4779\n",
      "Epoch 16/25\n",
      "50000/50000 [==============================] - 3s 57us/step - loss: 2.2032 - acc: 0.6234 - val_loss: 2.6648 - val_acc: 0.4858\n",
      "Epoch 17/25\n",
      "50000/50000 [==============================] - 3s 57us/step - loss: 2.1676 - acc: 0.6352 - val_loss: 2.6607 - val_acc: 0.4890\n",
      "Epoch 18/25\n",
      "50000/50000 [==============================] - 3s 58us/step - loss: 2.1391 - acc: 0.6430 - val_loss: 2.6688 - val_acc: 0.4852\n",
      "Epoch 19/25\n",
      "50000/50000 [==============================] - 3s 57us/step - loss: 2.1086 - acc: 0.6542 - val_loss: 2.6859 - val_acc: 0.4855\n",
      "Epoch 20/25\n",
      "50000/50000 [==============================] - 3s 62us/step - loss: 2.0809 - acc: 0.6625 - val_loss: 2.6771 - val_acc: 0.4831\n",
      "Epoch 21/25\n",
      "50000/50000 [==============================] - 3s 62us/step - loss: 2.0530 - acc: 0.6711 - val_loss: 2.6802 - val_acc: 0.4855\n",
      "Epoch 22/25\n",
      "50000/50000 [==============================] - 3s 62us/step - loss: 2.0218 - acc: 0.6819 - val_loss: 2.6936 - val_acc: 0.4816\n",
      "Epoch 23/25\n",
      "50000/50000 [==============================] - 3s 63us/step - loss: 1.9950 - acc: 0.6897 - val_loss: 2.6890 - val_acc: 0.4893\n",
      "Epoch 24/25\n",
      "50000/50000 [==============================] - 3s 61us/step - loss: 1.9690 - acc: 0.6978 - val_loss: 2.6861 - val_acc: 0.4856\n",
      "Epoch 25/25\n",
      "50000/50000 [==============================] - 3s 61us/step - loss: 1.9419 - acc: 0.7062 - val_loss: 2.7030 - val_acc: 0.4822\n",
      "Numbers of exp: 2, ce_weight: 0.50\n",
      "_________________________________________________________________\n",
      "Layer (type)                 Output Shape              Param #   \n",
      "=================================================================\n",
      "input_1 (InputLayer)         (None, 3072)              0         \n",
      "_________________________________________________________________\n",
      "hidden_layer1 (Dense)        (None, 512)               1573376   \n",
      "_________________________________________________________________\n",
      "batch_normalization_1 (Batch (None, 512)               2048      \n",
      "_________________________________________________________________\n",
      "hidden_layer2 (Dense)        (None, 256)               131328    \n",
      "_________________________________________________________________\n",
      "batch_normalization_2 (Batch (None, 256)               1024      \n",
      "_________________________________________________________________\n",
      "hidden_layer3 (Dense)        (None, 128)               32896     \n",
      "_________________________________________________________________\n",
      "batch_normalization_3 (Batch (None, 128)               512       \n",
      "_________________________________________________________________\n",
      "output (Dense)               (None, 10)                1290      \n",
      "=================================================================\n",
      "Total params: 1,742,474\n",
      "Trainable params: 1,740,682\n",
      "Non-trainable params: 1,792\n",
      "_________________________________________________________________\n",
      "Train on 50000 samples, validate on 10000 samples\n",
      "Epoch 1/25\n",
      "50000/50000 [==============================] - 4s 77us/step - loss: 3.6021 - acc: 0.2849 - val_loss: 3.4693 - val_acc: 0.3261\n",
      "Epoch 2/25\n",
      "50000/50000 [==============================] - 3s 61us/step - loss: 2.9855 - acc: 0.3983 - val_loss: 3.0812 - val_acc: 0.3791\n",
      "Epoch 3/25\n",
      "50000/50000 [==============================] - 3s 60us/step - loss: 2.8278 - acc: 0.4417 - val_loss: 2.9233 - val_acc: 0.4106\n",
      "Epoch 4/25\n",
      "50000/50000 [==============================] - 3s 62us/step - loss: 2.7316 - acc: 0.4652 - val_loss: 2.8558 - val_acc: 0.4231\n",
      "Epoch 5/25\n",
      "50000/50000 [==============================] - 3s 65us/step - loss: 2.6568 - acc: 0.4877 - val_loss: 2.7935 - val_acc: 0.4359\n",
      "Epoch 6/25\n",
      "50000/50000 [==============================] - 3s 68us/step - loss: 2.5958 - acc: 0.5045 - val_loss: 2.7691 - val_acc: 0.4427\n",
      "Epoch 7/25\n",
      "50000/50000 [==============================] - 4s 70us/step - loss: 2.5448 - acc: 0.5174 - val_loss: 2.7431 - val_acc: 0.4560\n",
      "Epoch 8/25\n",
      "50000/50000 [==============================] - 3s 67us/step - loss: 2.4955 - acc: 0.5320 - val_loss: 2.7140 - val_acc: 0.4650\n",
      "Epoch 9/25\n",
      "50000/50000 [==============================] - 3s 69us/step - loss: 2.4519 - acc: 0.5454 - val_loss: 2.7096 - val_acc: 0.4649\n",
      "Epoch 10/25\n",
      "50000/50000 [==============================] - 3s 65us/step - loss: 2.4118 - acc: 0.5582 - val_loss: 2.6766 - val_acc: 0.4716\n",
      "Epoch 11/25\n",
      "50000/50000 [==============================] - 3s 67us/step - loss: 2.3723 - acc: 0.5702 - val_loss: 2.6724 - val_acc: 0.4736\n",
      "Epoch 12/25\n",
      "50000/50000 [==============================] - 3s 66us/step - loss: 2.3344 - acc: 0.5817 - val_loss: 2.6842 - val_acc: 0.4718\n",
      "Epoch 13/25\n",
      "50000/50000 [==============================] - 4s 79us/step - loss: 2.3031 - acc: 0.5920 - val_loss: 2.6699 - val_acc: 0.4788\n",
      "Epoch 14/25\n",
      "50000/50000 [==============================] - 4s 74us/step - loss: 2.2695 - acc: 0.6000 - val_loss: 2.6770 - val_acc: 0.4758\n",
      "Epoch 15/25\n",
      "50000/50000 [==============================] - 4s 75us/step - loss: 2.2357 - acc: 0.6142 - val_loss: 2.7025 - val_acc: 0.4704\n",
      "Epoch 16/25\n",
      "50000/50000 [==============================] - 4s 71us/step - loss: 2.2035 - acc: 0.6232 - val_loss: 2.6665 - val_acc: 0.4799\n",
      "Epoch 17/25\n",
      "50000/50000 [==============================] - 4s 70us/step - loss: 2.1726 - acc: 0.6313 - val_loss: 2.6583 - val_acc: 0.4866\n",
      "Epoch 18/25\n",
      "50000/50000 [==============================] - 3s 62us/step - loss: 2.1412 - acc: 0.6422 - val_loss: 2.6779 - val_acc: 0.4736\n",
      "Epoch 19/25\n",
      "50000/50000 [==============================] - 3s 64us/step - loss: 2.1117 - acc: 0.6524 - val_loss: 2.6588 - val_acc: 0.4799\n",
      "Epoch 20/25\n",
      "50000/50000 [==============================] - 3s 65us/step - loss: 2.0809 - acc: 0.6620 - val_loss: 2.6447 - val_acc: 0.4895\n",
      "Epoch 21/25\n",
      "50000/50000 [==============================] - 3s 62us/step - loss: 2.0520 - acc: 0.6721 - val_loss: 2.6540 - val_acc: 0.4868\n",
      "Epoch 22/25\n",
      "50000/50000 [==============================] - 3s 63us/step - loss: 2.0217 - acc: 0.6815 - val_loss: 2.6632 - val_acc: 0.4901\n",
      "Epoch 23/25\n",
      "50000/50000 [==============================] - 3s 64us/step - loss: 1.9951 - acc: 0.6904 - val_loss: 2.6924 - val_acc: 0.4823\n",
      "Epoch 24/25\n",
      "50000/50000 [==============================] - 3s 69us/step - loss: 1.9674 - acc: 0.7003 - val_loss: 2.6716 - val_acc: 0.4882\n",
      "Epoch 25/25\n",
      "50000/50000 [==============================] - 3s 64us/step - loss: 1.9390 - acc: 0.7076 - val_loss: 2.6704 - val_acc: 0.4855\n",
      "Numbers of exp: 3, ce_weight: 0.70\n",
      "_________________________________________________________________\n",
      "Layer (type)                 Output Shape              Param #   \n",
      "=================================================================\n",
      "input_1 (InputLayer)         (None, 3072)              0         \n",
      "_________________________________________________________________\n",
      "hidden_layer1 (Dense)        (None, 512)               1573376   \n",
      "_________________________________________________________________\n",
      "batch_normalization_1 (Batch (None, 512)               2048      \n",
      "_________________________________________________________________\n",
      "hidden_layer2 (Dense)        (None, 256)               131328    \n",
      "_________________________________________________________________\n",
      "batch_normalization_2 (Batch (None, 256)               1024      \n",
      "_________________________________________________________________\n",
      "hidden_layer3 (Dense)        (None, 128)               32896     \n",
      "_________________________________________________________________\n",
      "batch_normalization_3 (Batch (None, 128)               512       \n",
      "_________________________________________________________________\n",
      "output (Dense)               (None, 10)                1290      \n",
      "=================================================================\n",
      "Total params: 1,742,474\n",
      "Trainable params: 1,740,682\n",
      "Non-trainable params: 1,792\n",
      "_________________________________________________________________\n",
      "Train on 50000 samples, validate on 10000 samples\n",
      "Epoch 1/25\n",
      "50000/50000 [==============================] - 4s 85us/step - loss: 3.5992 - acc: 0.2859 - val_loss: 3.3884 - val_acc: 0.3384\n",
      "Epoch 2/25\n"
     ]
    },
    {
     "name": "stdout",
     "output_type": "stream",
     "text": [
      "50000/50000 [==============================] - 3s 61us/step - loss: 2.9685 - acc: 0.4093 - val_loss: 3.0531 - val_acc: 0.3882\n",
      "Epoch 3/25\n",
      "50000/50000 [==============================] - 3s 65us/step - loss: 2.8094 - acc: 0.4490 - val_loss: 2.9714 - val_acc: 0.4030\n",
      "Epoch 4/25\n",
      "50000/50000 [==============================] - 3s 67us/step - loss: 2.7125 - acc: 0.4745 - val_loss: 2.8480 - val_acc: 0.4303\n",
      "Epoch 5/25\n",
      "50000/50000 [==============================] - 3s 70us/step - loss: 2.6416 - acc: 0.4937 - val_loss: 2.8077 - val_acc: 0.4410\n",
      "Epoch 6/25\n",
      "50000/50000 [==============================] - 3s 66us/step - loss: 2.5822 - acc: 0.5105 - val_loss: 2.7778 - val_acc: 0.4526\n",
      "Epoch 7/25\n",
      "50000/50000 [==============================] - 3s 62us/step - loss: 2.5278 - acc: 0.5274 - val_loss: 2.7437 - val_acc: 0.4559\n",
      "Epoch 8/25\n",
      "50000/50000 [==============================] - 3s 65us/step - loss: 2.4850 - acc: 0.5368 - val_loss: 2.7162 - val_acc: 0.4626\n",
      "Epoch 9/25\n",
      "50000/50000 [==============================] - 3s 61us/step - loss: 2.4402 - acc: 0.5512 - val_loss: 2.7135 - val_acc: 0.4672\n",
      "Epoch 10/25\n",
      "50000/50000 [==============================] - 3s 67us/step - loss: 2.4005 - acc: 0.5620 - val_loss: 2.7086 - val_acc: 0.4686\n",
      "Epoch 11/25\n",
      "50000/50000 [==============================] - 3s 65us/step - loss: 2.3632 - acc: 0.5754 - val_loss: 2.6990 - val_acc: 0.4674\n",
      "Epoch 12/25\n",
      "50000/50000 [==============================] - 3s 64us/step - loss: 2.3259 - acc: 0.5857 - val_loss: 2.6955 - val_acc: 0.4667\n",
      "Epoch 13/25\n",
      "50000/50000 [==============================] - 3s 67us/step - loss: 2.2935 - acc: 0.5946 - val_loss: 2.6672 - val_acc: 0.4792\n",
      "Epoch 14/25\n",
      "50000/50000 [==============================] - 3s 65us/step - loss: 2.2571 - acc: 0.6054 - val_loss: 2.6744 - val_acc: 0.4818\n",
      "Epoch 15/25\n",
      "50000/50000 [==============================] - 3s 67us/step - loss: 2.2233 - acc: 0.6171 - val_loss: 2.6692 - val_acc: 0.4865\n",
      "Epoch 16/25\n",
      "50000/50000 [==============================] - 3s 63us/step - loss: 2.1959 - acc: 0.6263 - val_loss: 2.6604 - val_acc: 0.4853\n",
      "Epoch 17/25\n",
      "50000/50000 [==============================] - 3s 66us/step - loss: 2.1643 - acc: 0.6342 - val_loss: 2.6756 - val_acc: 0.4849\n",
      "Epoch 18/25\n",
      "50000/50000 [==============================] - 3s 66us/step - loss: 2.1323 - acc: 0.6453 - val_loss: 2.6667 - val_acc: 0.4864\n",
      "Epoch 19/25\n",
      "50000/50000 [==============================] - 3s 66us/step - loss: 2.1044 - acc: 0.6558 - val_loss: 2.6874 - val_acc: 0.4803\n",
      "Epoch 20/25\n",
      "50000/50000 [==============================] - 3s 63us/step - loss: 2.0742 - acc: 0.6651 - val_loss: 2.6688 - val_acc: 0.4894\n",
      "Epoch 21/25\n",
      "50000/50000 [==============================] - 3s 64us/step - loss: 2.0418 - acc: 0.6761 - val_loss: 2.6735 - val_acc: 0.4922\n",
      "Epoch 22/25\n",
      "50000/50000 [==============================] - 3s 62us/step - loss: 2.0141 - acc: 0.6844 - val_loss: 2.6822 - val_acc: 0.4871\n",
      "Epoch 23/25\n",
      "50000/50000 [==============================] - 3s 64us/step - loss: 1.9869 - acc: 0.6922 - val_loss: 2.7088 - val_acc: 0.4879\n",
      "Epoch 24/25\n",
      "50000/50000 [==============================] - 3s 65us/step - loss: 1.9588 - acc: 0.7028 - val_loss: 2.6840 - val_acc: 0.4911\n",
      "Epoch 25/25\n",
      "50000/50000 [==============================] - 3s 64us/step - loss: 1.9314 - acc: 0.7112 - val_loss: 2.7092 - val_acc: 0.4853\n",
      "Numbers of exp: 4, ce_weight: 1.00\n",
      "_________________________________________________________________\n",
      "Layer (type)                 Output Shape              Param #   \n",
      "=================================================================\n",
      "input_1 (InputLayer)         (None, 3072)              0         \n",
      "_________________________________________________________________\n",
      "hidden_layer1 (Dense)        (None, 512)               1573376   \n",
      "_________________________________________________________________\n",
      "batch_normalization_1 (Batch (None, 512)               2048      \n",
      "_________________________________________________________________\n",
      "hidden_layer2 (Dense)        (None, 256)               131328    \n",
      "_________________________________________________________________\n",
      "batch_normalization_2 (Batch (None, 256)               1024      \n",
      "_________________________________________________________________\n",
      "hidden_layer3 (Dense)        (None, 128)               32896     \n",
      "_________________________________________________________________\n",
      "batch_normalization_3 (Batch (None, 128)               512       \n",
      "_________________________________________________________________\n",
      "output (Dense)               (None, 10)                1290      \n",
      "=================================================================\n",
      "Total params: 1,742,474\n",
      "Trainable params: 1,740,682\n",
      "Non-trainable params: 1,792\n",
      "_________________________________________________________________\n",
      "Train on 50000 samples, validate on 10000 samples\n",
      "Epoch 1/25\n",
      "50000/50000 [==============================] - 4s 84us/step - loss: 3.5950 - acc: 0.2905 - val_loss: 3.4004 - val_acc: 0.3335\n",
      "Epoch 2/25\n",
      "50000/50000 [==============================] - 3s 67us/step - loss: 2.9571 - acc: 0.4093 - val_loss: 3.0289 - val_acc: 0.3918\n",
      "Epoch 3/25\n",
      "50000/50000 [==============================] - 3s 64us/step - loss: 2.7958 - acc: 0.4507 - val_loss: 2.8917 - val_acc: 0.4251\n",
      "Epoch 4/25\n",
      "50000/50000 [==============================] - 3s 65us/step - loss: 2.7014 - acc: 0.4758 - val_loss: 2.8674 - val_acc: 0.4175\n",
      "Epoch 5/25\n",
      "50000/50000 [==============================] - 3s 67us/step - loss: 2.6337 - acc: 0.4937 - val_loss: 2.7887 - val_acc: 0.4438\n",
      "Epoch 6/25\n",
      "50000/50000 [==============================] - 3s 67us/step - loss: 2.5733 - acc: 0.5119 - val_loss: 2.8033 - val_acc: 0.4473\n",
      "Epoch 7/25\n",
      "50000/50000 [==============================] - 3s 70us/step - loss: 2.5215 - acc: 0.5245 - val_loss: 2.7269 - val_acc: 0.4640\n",
      "Epoch 8/25\n",
      "50000/50000 [==============================] - 3s 64us/step - loss: 2.4726 - acc: 0.5405 - val_loss: 2.7413 - val_acc: 0.4677\n",
      "Epoch 9/25\n",
      "50000/50000 [==============================] - 3s 63us/step - loss: 2.4319 - acc: 0.5524 - val_loss: 2.6953 - val_acc: 0.4744\n",
      "Epoch 10/25\n",
      "50000/50000 [==============================] - 3s 63us/step - loss: 2.3880 - acc: 0.5646 - val_loss: 2.6832 - val_acc: 0.4785\n",
      "Epoch 11/25\n",
      "50000/50000 [==============================] - 3s 67us/step - loss: 2.3532 - acc: 0.5768 - val_loss: 2.6780 - val_acc: 0.4792\n",
      "Epoch 12/25\n",
      "50000/50000 [==============================] - 3s 69us/step - loss: 2.3183 - acc: 0.5869 - val_loss: 2.6602 - val_acc: 0.4834\n",
      "Epoch 13/25\n",
      "50000/50000 [==============================] - 3s 63us/step - loss: 2.2814 - acc: 0.5974 - val_loss: 2.6540 - val_acc: 0.4813\n",
      "Epoch 14/25\n",
      "50000/50000 [==============================] - 3s 64us/step - loss: 2.2480 - acc: 0.6092 - val_loss: 2.6596 - val_acc: 0.4831\n",
      "Epoch 15/25\n",
      "50000/50000 [==============================] - 3s 66us/step - loss: 2.2170 - acc: 0.6178 - val_loss: 2.6481 - val_acc: 0.4864\n",
      "Epoch 16/25\n",
      "50000/50000 [==============================] - 3s 65us/step - loss: 2.1852 - acc: 0.6292 - val_loss: 2.6433 - val_acc: 0.4903\n",
      "Epoch 17/25\n",
      "50000/50000 [==============================] - 3s 69us/step - loss: 2.1544 - acc: 0.6364 - val_loss: 2.6574 - val_acc: 0.4841\n",
      "Epoch 18/25\n",
      "50000/50000 [==============================] - 3s 65us/step - loss: 2.1239 - acc: 0.6491 - val_loss: 2.6393 - val_acc: 0.4902\n",
      "Epoch 19/25\n",
      "50000/50000 [==============================] - 3s 63us/step - loss: 2.0938 - acc: 0.6573 - val_loss: 2.6644 - val_acc: 0.4841 0s - loss: 2.0950 - acc: 0.65\n",
      "Epoch 20/25\n",
      "50000/50000 [==============================] - 3s 63us/step - loss: 2.0645 - acc: 0.6672 - val_loss: 2.6469 - val_acc: 0.4939\n",
      "Epoch 21/25\n",
      "50000/50000 [==============================] - 3s 65us/step - loss: 2.0361 - acc: 0.6749 - val_loss: 2.6515 - val_acc: 0.4948\n",
      "Epoch 22/25\n",
      "50000/50000 [==============================] - 3s 68us/step - loss: 2.0082 - acc: 0.6843 - val_loss: 2.6533 - val_acc: 0.4942\n",
      "Epoch 23/25\n",
      "50000/50000 [==============================] - 3s 64us/step - loss: 1.9799 - acc: 0.6956 - val_loss: 2.6764 - val_acc: 0.4927\n",
      "Epoch 24/25\n",
      "50000/50000 [==============================] - 3s 63us/step - loss: 1.9532 - acc: 0.7046 - val_loss: 2.6619 - val_acc: 0.4978\n",
      "Epoch 25/25\n"
     ]
    },
    {
     "name": "stdout",
     "output_type": "stream",
     "text": [
      "50000/50000 [==============================] - 3s 67us/step - loss: 1.9224 - acc: 0.7151 - val_loss: 2.6808 - val_acc: 0.4961\n"
     ]
    }
   ],
   "source": [
    "import itertools\n",
    "results = {}\n",
    "\n",
    "for i, ce_w in enumerate(ce_weights_list):\n",
    "    keras.backend.clear_session()\n",
    "    print(\"Numbers of exp: %i, ce_weight: %.2f\" % (i, ce_w))\n",
    "\n",
    "    model = build_mlp(input_shape=x_train.shape[1:])\n",
    "    model.summary()\n",
    "    optimizer = keras.optimizers.SGD(lr=LEARNING_RATE, nesterov=True, momentum=MOMENTUM)\n",
    "    \"\"\"\n",
    "    TO DO:\n",
    "    Compile your model with customized loss\n",
    "    \"\"\"\n",
    "    model.compile(loss = combined_loss(), metrics = ['accuracy'], optimizer = optimizer)\n",
    "\n",
    "    model.fit(x_train, y_train, \n",
    "              epochs=EPOCHS, \n",
    "              batch_size=BATCH_SIZE, \n",
    "              validation_data=(x_test, y_test), \n",
    "              shuffle=True\n",
    "             )\n",
    "    \n",
    "    # Collect results\n",
    "    exp_name_tag = (\"exp-%s\" % (i))\n",
    "    results[exp_name_tag] = {'train-loss': model.history.history[\"loss\"],\n",
    "                             'valid-loss': model.history.history[\"val_loss\"],\n",
    "                             'train-acc': model.history.history[\"acc\"],\n",
    "                             'valid-acc': model.history.history[\"val_acc\"]}"
   ]
  },
  {
   "cell_type": "code",
   "execution_count": 14,
   "metadata": {
    "ExecuteTime": {
     "end_time": "2019-08-03T11:30:04.790462Z",
     "start_time": "2019-08-03T11:30:04.388029Z"
    }
   },
   "outputs": [
    {
     "data": {
      "image/png": "[encoded data removed]",
      "text/plain": [
       "<Figure size 576x432 with 1 Axes>"
      ]
     },
     "metadata": {
      "needs_background": "light"
     },
     "output_type": "display_data"
    },
    {
     "data": {
      "image/png": "[encoded data removed]",
      "text/plain": [
       "<Figure size 576x432 with 1 Axes>"
      ]
     },
     "metadata": {
      "needs_background": "light"
     },
     "output_type": "display_data"
    }
   ],
   "source": [
    "import matplotlib.pyplot as plt\n",
    "import matplotlib.cm as mplcm\n",
    "import matplotlib.colors as colors\n",
    "%matplotlib inline\n",
    "NUM_COLORS = len(results.keys())\n",
    "\n",
    "cm = plt.get_cmap('gist_rainbow')\n",
    "cNorm  = colors.Normalize(vmin=0, vmax=NUM_COLORS-1)\n",
    "scalarMap = mplcm.ScalarMappable(norm=cNorm, cmap=cm)\n",
    "color_bar = [scalarMap.to_rgba(i) for i in range(NUM_COLORS)]\n",
    "\n",
    "plt.figure(figsize=(8,6))\n",
    "for i, cond in enumerate(results.keys()):\n",
    "    plt.plot(range(len(results[cond]['train-loss'])),results[cond]['train-loss'], '-', label=cond, color=color_bar[i])\n",
    "    plt.plot(range(len(results[cond]['valid-loss'])),results[cond]['valid-loss'], '--', label=cond, color=color_bar[i])\n",
    "plt.title(\"Loss\")\n",
    "plt.legend(loc='center left', bbox_to_anchor=(1, 0.5))\n",
    "plt.show()\n",
    "\n",
    "plt.figure(figsize=(8,6))\n",
    "for i, cond in enumerate(results.keys()):\n",
    "    plt.plot(range(len(results[cond]['train-acc'])),results[cond]['train-acc'], '-', label=cond, color=color_bar[i])\n",
    "    plt.plot(range(len(results[cond]['valid-acc'])),results[cond]['valid-acc'], '--', label=cond, color=color_bar[i])\n",
    "plt.title(\"Accuracy\")\n",
    "plt.legend(loc='center left', bbox_to_anchor=(1, 0.5))\n",
    "plt.show()"
   ]
  },
  {
   "cell_type": "code",
   "execution_count": null,
   "metadata": {},
   "outputs": [],
   "source": []
  }
 ],
 "metadata": {
  "kernelspec": {
   "display_name": "Python 3",
   "language": "python",
   "name": "python3"
  },
  "toc": {
   "base_numbering": 1,
   "nav_menu": {},
   "number_sections": true,
   "sideBar": true,
   "skip_h1_title": false,
   "title_cell": "Table of Contents",
   "title_sidebar": "Contents",
   "toc_cell": false,
   "toc_position": {},
   "toc_section_display": true,
   "toc_window_display": false
  },
  "varInspector": {
   "cols": {
    "lenName": 16,
    "lenType": 16,
    "lenVar": 40
   },
   "kernels_config": {
    "python": {
     "delete_cmd_postfix": "",
     "delete_cmd_prefix": "del ",
     "library": "var_list.py",
     "varRefreshCmd": "print(var_dic_list())"
    },
    "r": {
     "delete_cmd_postfix": ") ",
     "delete_cmd_prefix": "rm(",
     "library": "var_list.r",
     "varRefreshCmd": "cat(var_dic_list()) "
    }
   },
   "types_to_exclude": [
    "module",
    "function",
    "builtin_function_or_method",
    "instance",
    "_Feature"
   ],
   "window_display": false
  }
 },
 "nbformat": 4,
 "nbformat_minor": 2
}
