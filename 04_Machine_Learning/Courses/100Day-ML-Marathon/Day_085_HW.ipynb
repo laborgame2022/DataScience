{
 "cells": [
  {
   "cell_type": "markdown",
   "metadata": {},
   "source": [
    "# 學習目標\n",
    "學習如何在 keras 中加入 EarlyStop\n",
    "\n",
    "知道如何設定監控目標\n",
    "\n",
    "比較有無 earlystopping 對 validation 的影響"
   ]
  },
  {
   "cell_type": "code",
   "execution_count": 1,
   "metadata": {
    "ExecuteTime": {
     "end_time": "2019-07-28T08:25:13.341503Z",
     "start_time": "2019-07-28T08:25:04.410842Z"
    }
   },
   "outputs": [
    {
     "name": "stderr",
     "output_type": "stream",
     "text": [
      "Using TensorFlow backend.\n"
     ]
    }
   ],
   "source": [
    "import os\n",
    "import keras\n",
    "import matplotlib.pyplot as plt\n",
    "%matplotlib inline\n",
    "\n",
    "\n",
    "# Disable GPU\n",
    "os.environ[\"CUDA_VISIBLE_DEVICES\"] = \"\""
   ]
  },
  {
   "cell_type": "code",
   "execution_count": 2,
   "metadata": {
    "ExecuteTime": {
     "end_time": "2019-07-28T08:25:13.791479Z",
     "start_time": "2019-07-28T08:25:13.362772Z"
    }
   },
   "outputs": [],
   "source": [
    "train, test = keras.datasets.cifar10.load_data()"
   ]
  },
  {
   "cell_type": "code",
   "execution_count": 3,
   "metadata": {
    "ExecuteTime": {
     "end_time": "2019-07-28T08:25:13.827192Z",
     "start_time": "2019-07-28T08:25:13.821736Z"
    }
   },
   "outputs": [],
   "source": [
    "## 資料前處理\n",
    "def preproc_x(x, flatten=True):\n",
    "    x = x / 255.\n",
    "    if flatten:\n",
    "        x = x.reshape((len(x), -1))\n",
    "    return x\n",
    "\n",
    "def preproc_y(y, num_classes=10):\n",
    "    if y.shape[-1] == 1:\n",
    "        y = keras.utils.to_categorical(y, num_classes)\n",
    "    return y    "
   ]
  },
  {
   "cell_type": "code",
   "execution_count": 4,
   "metadata": {
    "ExecuteTime": {
     "end_time": "2019-07-28T08:25:16.082997Z",
     "start_time": "2019-07-28T08:25:13.882249Z"
    }
   },
   "outputs": [],
   "source": [
    "x_train, y_train = train\n",
    "x_test, y_test = test\n",
    "\n",
    "# Preproc the inputs\n",
    "x_train = preproc_x(x_train)\n",
    "x_test = preproc_x(x_test)\n",
    "\n",
    "# Preprc the outputs\n",
    "y_train = preproc_y(y_train)\n",
    "y_test = preproc_y(y_test)"
   ]
  },
  {
   "cell_type": "markdown",
   "metadata": {},
   "source": [
    "# 範例"
   ]
  },
  {
   "cell_type": "code",
   "execution_count": 5,
   "metadata": {
    "ExecuteTime": {
     "end_time": "2019-07-28T08:26:03.891750Z",
     "start_time": "2019-07-28T08:26:03.881333Z"
    }
   },
   "outputs": [],
   "source": [
    "from keras.layers import BatchNormalization\n",
    "\n",
    "def build_mlp(input_shape, output_units=10, num_neurons=[512, 256, 128]):\n",
    "    input_layer = keras.layers.Input(input_shape)\n",
    "    \n",
    "    for i, n_units in enumerate(num_neurons):\n",
    "        if i == 0:\n",
    "            x = keras.layers.Dense(units=n_units, \n",
    "                                   activation=\"relu\", \n",
    "                                   name=\"hidden_layer\"+str(i+1))(input_layer)\n",
    "            x = BatchNormalization()(x)\n",
    "        else:\n",
    "            x = keras.layers.Dense(units=n_units, \n",
    "                                   activation=\"relu\", \n",
    "                                   name=\"hidden_layer\"+str(i+1))(x)\n",
    "            x = BatchNormalization()(x)\n",
    "    \n",
    "    out = keras.layers.Dense(units=output_units, activation=\"softmax\", name=\"output\")(x)\n",
    "    \n",
    "    model = keras.models.Model(inputs=[input_layer], outputs=[out])\n",
    "    return model"
   ]
  },
  {
   "cell_type": "code",
   "execution_count": 6,
   "metadata": {
    "ExecuteTime": {
     "end_time": "2019-07-28T08:26:13.665703Z",
     "start_time": "2019-07-28T08:26:13.661239Z"
    }
   },
   "outputs": [],
   "source": [
    "## 超參數設定\n",
    "LEARNING_RATE = 1e-3\n",
    "EPOCHS = 50\n",
    "BATCH_SIZE = 1024\n",
    "MOMENTUM = 0.95"
   ]
  },
  {
   "cell_type": "code",
   "execution_count": 7,
   "metadata": {
    "ExecuteTime": {
     "end_time": "2019-07-28T08:26:50.201628Z",
     "start_time": "2019-07-28T08:26:50.197165Z"
    }
   },
   "outputs": [],
   "source": [
    "# 載入 Callbacks, 並將 monitor 設定為監控 validation loss\n",
    "from keras.callbacks import EarlyStopping\n",
    "\n",
    "earlystop = EarlyStopping(monitor=\"val_loss\", \n",
    "                          patience=5, \n",
    "                          verbose=1)"
   ]
  },
  {
   "cell_type": "code",
   "execution_count": 8,
   "metadata": {
    "ExecuteTime": {
     "end_time": "2019-07-28T08:29:33.843197Z",
     "start_time": "2019-07-28T08:28:10.398960Z"
    }
   },
   "outputs": [
    {
     "name": "stderr",
     "output_type": "stream",
     "text": [
      "WARNING: Logging before flag parsing goes to stderr.\n",
      "W0728 16:28:10.405409  9616 deprecation_wrapper.py:119] From C:\\ProgramData\\Anaconda3\\envs\\TensorFlow\\lib\\site-packages\\keras\\backend\\tensorflow_backend.py:74: The name tf.get_default_graph is deprecated. Please use tf.compat.v1.get_default_graph instead.\n",
      "\n",
      "W0728 16:28:10.462252  9616 deprecation_wrapper.py:119] From C:\\ProgramData\\Anaconda3\\envs\\TensorFlow\\lib\\site-packages\\keras\\backend\\tensorflow_backend.py:517: The name tf.placeholder is deprecated. Please use tf.compat.v1.placeholder instead.\n",
      "\n",
      "W0728 16:28:10.475331  9616 deprecation_wrapper.py:119] From C:\\ProgramData\\Anaconda3\\envs\\TensorFlow\\lib\\site-packages\\keras\\backend\\tensorflow_backend.py:4138: The name tf.random_uniform is deprecated. Please use tf.random.uniform instead.\n",
      "\n",
      "W0728 16:28:10.582704  9616 deprecation_wrapper.py:119] From C:\\ProgramData\\Anaconda3\\envs\\TensorFlow\\lib\\site-packages\\keras\\backend\\tensorflow_backend.py:133: The name tf.placeholder_with_default is deprecated. Please use tf.compat.v1.placeholder_with_default instead.\n",
      "\n",
      "W0728 16:28:10.804910  9616 deprecation_wrapper.py:119] From C:\\ProgramData\\Anaconda3\\envs\\TensorFlow\\lib\\site-packages\\keras\\optimizers.py:790: The name tf.train.Optimizer is deprecated. Please use tf.compat.v1.train.Optimizer instead.\n",
      "\n",
      "W0728 16:28:10.813839  9616 deprecation_wrapper.py:119] From C:\\ProgramData\\Anaconda3\\envs\\TensorFlow\\lib\\site-packages\\keras\\backend\\tensorflow_backend.py:3295: The name tf.log is deprecated. Please use tf.math.log instead.\n",
      "\n",
      "W0728 16:28:10.930924  9616 deprecation.py:323] From C:\\ProgramData\\Anaconda3\\envs\\TensorFlow\\lib\\site-packages\\tensorflow\\python\\ops\\math_grad.py:1250: add_dispatch_support.<locals>.wrapper (from tensorflow.python.ops.array_ops) is deprecated and will be removed in a future version.\n",
      "Instructions for updating:\n",
      "Use tf.where in 2.0, which has the same broadcast rule as np.where\n"
     ]
    },
    {
     "name": "stdout",
     "output_type": "stream",
     "text": [
      "_________________________________________________________________\n",
      "Layer (type)                 Output Shape              Param #   \n",
      "=================================================================\n",
      "input_1 (InputLayer)         (None, 3072)              0         \n",
      "_________________________________________________________________\n",
      "hidden_layer1 (Dense)        (None, 512)               1573376   \n",
      "_________________________________________________________________\n",
      "batch_normalization_1 (Batch (None, 512)               2048      \n",
      "_________________________________________________________________\n",
      "hidden_layer2 (Dense)        (None, 256)               131328    \n",
      "_________________________________________________________________\n",
      "batch_normalization_2 (Batch (None, 256)               1024      \n",
      "_________________________________________________________________\n",
      "hidden_layer3 (Dense)        (None, 128)               32896     \n",
      "_________________________________________________________________\n",
      "batch_normalization_3 (Batch (None, 128)               512       \n",
      "_________________________________________________________________\n",
      "output (Dense)               (None, 10)                1290      \n",
      "=================================================================\n",
      "Total params: 1,742,474\n",
      "Trainable params: 1,740,682\n",
      "Non-trainable params: 1,792\n",
      "_________________________________________________________________\n",
      "Train on 50000 samples, validate on 10000 samples\n",
      "Epoch 1/50\n",
      "50000/50000 [==============================] - 7s 147us/step - loss: 2.2324 - acc: 0.2631 - val_loss: 2.0862 - val_acc: 0.3140\n",
      "Epoch 2/50\n",
      "50000/50000 [==============================] - 3s 61us/step - loss: 1.7527 - acc: 0.3864 - val_loss: 1.7881 - val_acc: 0.3879\n",
      "Epoch 3/50\n",
      "50000/50000 [==============================] - 3s 69us/step - loss: 1.6244 - acc: 0.4296 - val_loss: 1.6916 - val_acc: 0.4092\n",
      "Epoch 4/50\n",
      "50000/50000 [==============================] - 4s 74us/step - loss: 1.5502 - acc: 0.4552 - val_loss: 1.6281 - val_acc: 0.4246\n",
      "Epoch 5/50\n",
      "50000/50000 [==============================] - 4s 83us/step - loss: 1.4916 - acc: 0.4776 - val_loss: 1.5964 - val_acc: 0.4362\n",
      "Epoch 6/50\n",
      "50000/50000 [==============================] - 3s 66us/step - loss: 1.4460 - acc: 0.4945 - val_loss: 1.5608 - val_acc: 0.4496\n",
      "Epoch 7/50\n",
      "50000/50000 [==============================] - 3s 64us/step - loss: 1.4060 - acc: 0.5071 - val_loss: 1.5458 - val_acc: 0.4524\n",
      "Epoch 8/50\n",
      "50000/50000 [==============================] - 3s 62us/step - loss: 1.3708 - acc: 0.5203 - val_loss: 1.5259 - val_acc: 0.4585\n",
      "Epoch 9/50\n",
      "50000/50000 [==============================] - 3s 60us/step - loss: 1.3359 - acc: 0.5326 - val_loss: 1.5095 - val_acc: 0.4679\n",
      "Epoch 10/50\n",
      "50000/50000 [==============================] - 3s 63us/step - loss: 1.3059 - acc: 0.5431 - val_loss: 1.5095 - val_acc: 0.4699\n",
      "Epoch 11/50\n",
      "50000/50000 [==============================] - 3s 62us/step - loss: 1.2786 - acc: 0.5535 - val_loss: 1.4889 - val_acc: 0.4752\n",
      "Epoch 12/50\n",
      "50000/50000 [==============================] - 3s 62us/step - loss: 1.2501 - acc: 0.5651 - val_loss: 1.4883 - val_acc: 0.4796\n",
      "Epoch 13/50\n",
      "50000/50000 [==============================] - 3s 60us/step - loss: 1.2236 - acc: 0.5741 - val_loss: 1.4827 - val_acc: 0.4761\n",
      "Epoch 14/50\n",
      "50000/50000 [==============================] - 3s 62us/step - loss: 1.1986 - acc: 0.5833 - val_loss: 1.4707 - val_acc: 0.4841\n",
      "Epoch 15/50\n",
      "50000/50000 [==============================] - 3s 66us/step - loss: 1.1737 - acc: 0.5949 - val_loss: 1.4605 - val_acc: 0.4844\n",
      "Epoch 16/50\n",
      "50000/50000 [==============================] - 3s 61us/step - loss: 1.1499 - acc: 0.6040 - val_loss: 1.4599 - val_acc: 0.4872\n",
      "Epoch 17/50\n",
      "50000/50000 [==============================] - 3s 62us/step - loss: 1.1265 - acc: 0.6114 - val_loss: 1.4706 - val_acc: 0.4815\n",
      "Epoch 18/50\n",
      "50000/50000 [==============================] - 3s 63us/step - loss: 1.1027 - acc: 0.6200 - val_loss: 1.4563 - val_acc: 0.4912\n",
      "Epoch 19/50\n",
      "50000/50000 [==============================] - 3s 64us/step - loss: 1.0807 - acc: 0.6294 - val_loss: 1.4527 - val_acc: 0.4961\n",
      "Epoch 20/50\n",
      "50000/50000 [==============================] - 3s 69us/step - loss: 1.0588 - acc: 0.6389 - val_loss: 1.4595 - val_acc: 0.4895\n",
      "Epoch 21/50\n",
      "50000/50000 [==============================] - 3s 64us/step - loss: 1.0361 - acc: 0.6485 - val_loss: 1.4581 - val_acc: 0.4941\n",
      "Epoch 22/50\n",
      "50000/50000 [==============================] - 3s 62us/step - loss: 1.0161 - acc: 0.6555 - val_loss: 1.4662 - val_acc: 0.4883\n",
      "Epoch 23/50\n",
      "50000/50000 [==============================] - 3s 68us/step - loss: 0.9961 - acc: 0.6638 - val_loss: 1.4603 - val_acc: 0.4948\n",
      "Epoch 24/50\n",
      "50000/50000 [==============================] - 3s 68us/step - loss: 0.9761 - acc: 0.6717 - val_loss: 1.4593 - val_acc: 0.4973\n",
      "Epoch 00024: early stopping\n"
     ]
    }
   ],
   "source": [
    "model = build_mlp(input_shape=x_train.shape[1:])\n",
    "model.summary()\n",
    "optimizer = keras.optimizers.SGD(lr=LEARNING_RATE, nesterov=True, momentum=MOMENTUM)\n",
    "model.compile(loss=\"categorical_crossentropy\", metrics=[\"accuracy\"], optimizer=optimizer)\n",
    "\n",
    "model.fit(x_train, y_train, \n",
    "          epochs=EPOCHS, \n",
    "          batch_size=BATCH_SIZE, \n",
    "          validation_data=(x_test, y_test), \n",
    "          shuffle=True,\n",
    "          callbacks=[earlystop]\n",
    "         )\n",
    "\n",
    "# Collect results\n",
    "train_loss = model.history.history[\"loss\"]\n",
    "valid_loss = model.history.history[\"val_loss\"]\n",
    "train_acc = model.history.history[\"acc\"]\n",
    "valid_acc = model.history.history[\"val_acc\"]"
   ]
  },
  {
   "cell_type": "code",
   "execution_count": 9,
   "metadata": {
    "ExecuteTime": {
     "end_time": "2019-07-28T08:29:34.318879Z",
     "start_time": "2019-07-28T08:29:33.899743Z"
    }
   },
   "outputs": [
    {
     "data": {
      "image/png": "[encoded data removed]",
      "text/plain": [
       "<Figure size 432x288 with 1 Axes>"
      ]
     },
     "metadata": {
      "needs_background": "light"
     },
     "output_type": "display_data"
    },
    {
     "data": {
      "image/png": "[encoded data removed]",
      "text/plain": [
       "<Figure size 432x288 with 1 Axes>"
      ]
     },
     "metadata": {
      "needs_background": "light"
     },
     "output_type": "display_data"
    }
   ],
   "source": [
    "import matplotlib.pyplot as plt\n",
    "%matplotlib inline\n",
    "\n",
    "plt.plot(range(len(train_loss)), train_loss, label=\"train loss\")\n",
    "plt.plot(range(len(valid_loss)), valid_loss, label=\"valid loss\")\n",
    "plt.legend()\n",
    "plt.title(\"Loss\")\n",
    "plt.show()\n",
    "\n",
    "plt.plot(range(len(train_acc)), train_acc, label=\"train accuracy\")\n",
    "plt.plot(range(len(valid_acc)), valid_acc, label=\"valid accuracy\")\n",
    "plt.legend()\n",
    "plt.title(\"Accuracy\")\n",
    "plt.show()"
   ]
  },
  {
   "cell_type": "markdown",
   "metadata": {},
   "source": [
    "# Homework\n",
    "1. 試改變 monitor \"Validation Accuracy\" 並比較結果\n",
    "2. 調整 earlystop 的等待次數至 10, 25 並比較結果"
   ]
  },
  {
   "cell_type": "markdown",
   "metadata": {},
   "source": [
    "## Monitor 改為 'validation accuracy'"
   ]
  },
  {
   "cell_type": "code",
   "execution_count": 10,
   "metadata": {
    "ExecuteTime": {
     "end_time": "2019-07-28T08:32:32.698325Z",
     "start_time": "2019-07-28T08:32:32.693366Z"
    }
   },
   "outputs": [],
   "source": [
    "from keras.callbacks import EarlyStopping\n",
    "\n",
    "earlystop = EarlyStopping(monitor='val_acc', \n",
    "                          patience=5, \n",
    "                          verbose=1)"
   ]
  },
  {
   "cell_type": "code",
   "execution_count": 11,
   "metadata": {
    "ExecuteTime": {
     "end_time": "2019-07-28T08:33:53.087510Z",
     "start_time": "2019-07-28T08:32:33.317102Z"
    }
   },
   "outputs": [
    {
     "name": "stdout",
     "output_type": "stream",
     "text": [
      "_________________________________________________________________\n",
      "Layer (type)                 Output Shape              Param #   \n",
      "=================================================================\n",
      "input_1 (InputLayer)         (None, 3072)              0         \n",
      "_________________________________________________________________\n",
      "hidden_layer1 (Dense)        (None, 512)               1573376   \n",
      "_________________________________________________________________\n",
      "batch_normalization_1 (Batch (None, 512)               2048      \n",
      "_________________________________________________________________\n",
      "hidden_layer2 (Dense)        (None, 256)               131328    \n",
      "_________________________________________________________________\n",
      "batch_normalization_2 (Batch (None, 256)               1024      \n",
      "_________________________________________________________________\n",
      "hidden_layer3 (Dense)        (None, 128)               32896     \n",
      "_________________________________________________________________\n",
      "batch_normalization_3 (Batch (None, 128)               512       \n",
      "_________________________________________________________________\n",
      "output (Dense)               (None, 10)                1290      \n",
      "=================================================================\n",
      "Total params: 1,742,474\n",
      "Trainable params: 1,740,682\n",
      "Non-trainable params: 1,792\n",
      "_________________________________________________________________\n",
      "Train on 50000 samples, validate on 10000 samples\n",
      "Epoch 1/50\n",
      "50000/50000 [==============================] - 4s 89us/step - loss: 2.2023 - acc: 0.2767 - val_loss: 2.1495 - val_acc: 0.3085\n",
      "Epoch 2/50\n",
      "50000/50000 [==============================] - 3s 63us/step - loss: 1.7321 - acc: 0.3992 - val_loss: 1.8411 - val_acc: 0.3733\n",
      "Epoch 3/50\n",
      "50000/50000 [==============================] - 3s 66us/step - loss: 1.6098 - acc: 0.4361 - val_loss: 1.6967 - val_acc: 0.4068\n",
      "Epoch 4/50\n",
      "50000/50000 [==============================] - 3s 61us/step - loss: 1.5412 - acc: 0.4625 - val_loss: 1.6263 - val_acc: 0.4282\n",
      "Epoch 5/50\n",
      "50000/50000 [==============================] - 3s 68us/step - loss: 1.4845 - acc: 0.4830 - val_loss: 1.6116 - val_acc: 0.4286\n",
      "Epoch 6/50\n",
      "50000/50000 [==============================] - 3s 63us/step - loss: 1.4415 - acc: 0.4978 - val_loss: 1.5698 - val_acc: 0.4482\n",
      "Epoch 7/50\n",
      "50000/50000 [==============================] - 3s 59us/step - loss: 1.4023 - acc: 0.5114 - val_loss: 1.5605 - val_acc: 0.4537\n",
      "Epoch 8/50\n",
      "50000/50000 [==============================] - 3s 68us/step - loss: 1.3668 - acc: 0.5232 - val_loss: 1.5281 - val_acc: 0.4601\n",
      "Epoch 9/50\n",
      "50000/50000 [==============================] - 3s 62us/step - loss: 1.3336 - acc: 0.5370 - val_loss: 1.5161 - val_acc: 0.4638\n",
      "Epoch 10/50\n",
      "50000/50000 [==============================] - 3s 68us/step - loss: 1.3039 - acc: 0.5489 - val_loss: 1.5137 - val_acc: 0.4636\n",
      "Epoch 11/50\n",
      "50000/50000 [==============================] - 3s 64us/step - loss: 1.2769 - acc: 0.5572 - val_loss: 1.5026 - val_acc: 0.4718\n",
      "Epoch 12/50\n",
      "50000/50000 [==============================] - 3s 68us/step - loss: 1.2480 - acc: 0.5680 - val_loss: 1.4911 - val_acc: 0.4747\n",
      "Epoch 13/50\n",
      "50000/50000 [==============================] - 3s 64us/step - loss: 1.2218 - acc: 0.5791 - val_loss: 1.4880 - val_acc: 0.4739\n",
      "Epoch 14/50\n",
      "50000/50000 [==============================] - 3s 64us/step - loss: 1.1969 - acc: 0.5870 - val_loss: 1.4908 - val_acc: 0.4764\n",
      "Epoch 15/50\n",
      "50000/50000 [==============================] - 3s 62us/step - loss: 1.1723 - acc: 0.5969 - val_loss: 1.4743 - val_acc: 0.4805\n",
      "Epoch 16/50\n",
      "50000/50000 [==============================] - 3s 66us/step - loss: 1.1492 - acc: 0.6060 - val_loss: 1.4678 - val_acc: 0.4788\n",
      "Epoch 17/50\n",
      "50000/50000 [==============================] - 3s 68us/step - loss: 1.1247 - acc: 0.6158 - val_loss: 1.4663 - val_acc: 0.4847\n",
      "Epoch 18/50\n",
      "50000/50000 [==============================] - 3s 63us/step - loss: 1.1020 - acc: 0.6225 - val_loss: 1.4632 - val_acc: 0.4899\n",
      "Epoch 19/50\n",
      "50000/50000 [==============================] - 3s 62us/step - loss: 1.0795 - acc: 0.6318 - val_loss: 1.4563 - val_acc: 0.4908\n",
      "Epoch 20/50\n",
      "50000/50000 [==============================] - 3s 63us/step - loss: 1.0573 - acc: 0.6398 - val_loss: 1.4564 - val_acc: 0.4877\n",
      "Epoch 21/50\n",
      "50000/50000 [==============================] - 3s 65us/step - loss: 1.0349 - acc: 0.6487 - val_loss: 1.4711 - val_acc: 0.4843\n",
      "Epoch 22/50\n",
      "50000/50000 [==============================] - 3s 66us/step - loss: 1.0167 - acc: 0.6559 - val_loss: 1.4859 - val_acc: 0.4862\n",
      "Epoch 23/50\n",
      "50000/50000 [==============================] - 3s 65us/step - loss: 0.9948 - acc: 0.6646 - val_loss: 1.4675 - val_acc: 0.4849\n",
      "Epoch 24/50\n",
      "50000/50000 [==============================] - 3s 64us/step - loss: 0.9720 - acc: 0.6732 - val_loss: 1.4820 - val_acc: 0.4862\n",
      "Epoch 00024: early stopping\n"
     ]
    }
   ],
   "source": [
    "keras.backend.clear_session()\n",
    "model = build_mlp(input_shape=x_train.shape[1:])\n",
    "model.summary()\n",
    "optimizer = keras.optimizers.SGD(lr=LEARNING_RATE, nesterov=True, momentum=MOMENTUM)\n",
    "model.compile(loss=\"categorical_crossentropy\", metrics=[\"accuracy\"], optimizer=optimizer)\n",
    "\n",
    "model.fit(x_train, y_train, \n",
    "          epochs=EPOCHS, \n",
    "          batch_size=BATCH_SIZE, \n",
    "          validation_data=(x_test, y_test), \n",
    "          shuffle=True,\n",
    "          callbacks=[earlystop]\n",
    "         )\n",
    "\n",
    "# Collect results\n",
    "train_loss = model.history.history[\"loss\"]\n",
    "valid_loss = model.history.history[\"val_loss\"]\n",
    "train_acc = model.history.history[\"acc\"]\n",
    "valid_acc = model.history.history[\"val_acc\"]"
   ]
  },
  {
   "cell_type": "code",
   "execution_count": 12,
   "metadata": {
    "ExecuteTime": {
     "end_time": "2019-07-28T08:34:21.855839Z",
     "start_time": "2019-07-28T08:34:21.552785Z"
    }
   },
   "outputs": [
    {
     "data": {
      "image/png": "[encoded data removed]",
      "text/plain": [
       "<Figure size 432x288 with 1 Axes>"
      ]
     },
     "metadata": {
      "needs_background": "light"
     },
     "output_type": "display_data"
    },
    {
     "data": {
      "image/png": "[encoded data removed]",
      "text/plain": [
       "<Figure size 432x288 with 1 Axes>"
      ]
     },
     "metadata": {
      "needs_background": "light"
     },
     "output_type": "display_data"
    }
   ],
   "source": [
    "import matplotlib.pyplot as plt\n",
    "%matplotlib inline\n",
    "\n",
    "plt.plot(range(len(train_loss)), train_loss, label=\"train loss\")\n",
    "plt.plot(range(len(valid_loss)), valid_loss, label=\"valid loss\")\n",
    "plt.legend()\n",
    "plt.title(\"Loss\")\n",
    "plt.show()\n",
    "\n",
    "plt.plot(range(len(train_acc)), train_acc, label=\"train accuracy\")\n",
    "plt.plot(range(len(valid_acc)), valid_acc, label=\"valid accuracy\")\n",
    "plt.legend()\n",
    "plt.title(\"Accuracy\")\n",
    "plt.show()"
   ]
  },
  {
   "cell_type": "markdown",
   "metadata": {},
   "source": [
    "## patience"
   ]
  },
  {
   "cell_type": "code",
   "execution_count": 18,
   "metadata": {
    "ExecuteTime": {
     "end_time": "2019-07-28T08:45:53.837978Z",
     "start_time": "2019-07-28T08:45:53.834856Z"
    }
   },
   "outputs": [],
   "source": [
    "from keras.callbacks import EarlyStopping\n",
    "patience = [3, 5, 10, 15]"
   ]
  },
  {
   "cell_type": "code",
   "execution_count": 26,
   "metadata": {
    "ExecuteTime": {
     "end_time": "2019-07-28T08:48:32.475368Z",
     "start_time": "2019-07-28T08:48:32.468920Z"
    }
   },
   "outputs": [
    {
     "data": {
      "text/plain": [
       "[<keras.callbacks.EarlyStopping at 0x16880b11ef0>]"
      ]
     },
     "execution_count": 26,
     "metadata": {},
     "output_type": "execute_result"
    }
   ],
   "source": []
  },
  {
   "cell_type": "code",
   "execution_count": 27,
   "metadata": {
    "ExecuteTime": {
     "end_time": "2019-07-28T08:48:47.748125Z",
     "start_time": "2019-07-28T08:48:47.741679Z"
    }
   },
   "outputs": [
    {
     "data": {
      "text/plain": [
       "[<keras.callbacks.EarlyStopping at 0x16880b11ac8>]"
      ]
     },
     "execution_count": 27,
     "metadata": {},
     "output_type": "execute_result"
    }
   ],
   "source": [
    "[EarlyStopping(monitor='val_acc', \n",
    "                          patience=5, \n",
    "                          verbose=1)]"
   ]
  },
  {
   "cell_type": "code",
   "execution_count": 22,
   "metadata": {
    "ExecuteTime": {
     "end_time": "2019-07-28T08:47:05.668272Z",
     "start_time": "2019-07-28T08:47:05.662814Z"
    }
   },
   "outputs": [
    {
     "data": {
      "text/plain": [
       "[<keras.callbacks.EarlyStopping at 0x168801956a0>]"
      ]
     },
     "execution_count": 22,
     "metadata": {},
     "output_type": "execute_result"
    }
   ],
   "source": [
    "keras.backend.clear_session()\n",
    "model = build_mlp(input_shape=x_train.shape[1:])\n",
    "model.summary()\n",
    "optimizer = keras.optimizers.SGD(lr=LEARNING_RATE, nesterov=True, momentum=MOMENTUM)\n",
    "model.compile(loss=\"categorical_crossentropy\", metrics=[\"accuracy\"], optimizer=optimizer)\n",
    "\n",
    "model.fit(x_train, y_train, \n",
    "          epochs=EPOCHS, \n",
    "          batch_size=BATCH_SIZE, \n",
    "          validation_data=(x_test, y_test), \n",
    "          shuffle=True,\n",
    "          callbacks=[earlystop]\n",
    "         )\n",
    "\n",
    "# Collect results\n",
    "train_loss = model.history.history[\"loss\"]\n",
    "valid_loss = model.history.history[\"val_loss\"]\n",
    "train_acc = model.history.history[\"acc\"]\n",
    "valid_acc = model.history.history[\"val_acc\"]"
   ]
  },
  {
   "cell_type": "code",
   "execution_count": 36,
   "metadata": {
    "ExecuteTime": {
     "end_time": "2019-07-28T09:14:29.552101Z",
     "start_time": "2019-07-28T09:05:51.234797Z"
    }
   },
   "outputs": [
    {
     "name": "stdout",
     "output_type": "stream",
     "text": [
      "_________________________________________________________________\n",
      "Layer (type)                 Output Shape              Param #   \n",
      "=================================================================\n",
      "input_1 (InputLayer)         (None, 3072)              0         \n",
      "_________________________________________________________________\n",
      "hidden_layer1 (Dense)        (None, 512)               1573376   \n",
      "_________________________________________________________________\n",
      "batch_normalization_1 (Batch (None, 512)               2048      \n",
      "_________________________________________________________________\n",
      "hidden_layer2 (Dense)        (None, 256)               131328    \n",
      "_________________________________________________________________\n",
      "batch_normalization_2 (Batch (None, 256)               1024      \n",
      "_________________________________________________________________\n",
      "hidden_layer3 (Dense)        (None, 128)               32896     \n",
      "_________________________________________________________________\n",
      "batch_normalization_3 (Batch (None, 128)               512       \n",
      "_________________________________________________________________\n",
      "output (Dense)               (None, 10)                1290      \n",
      "=================================================================\n",
      "Total params: 1,742,474\n",
      "Trainable params: 1,740,682\n",
      "Non-trainable params: 1,792\n",
      "_________________________________________________________________\n",
      "Train on 50000 samples, validate on 10000 samples\n",
      "Epoch 1/50\n",
      "50000/50000 [==============================] - 5s 97us/step - loss: 2.2248 - acc: 0.2665 - val_loss: 2.1314 - val_acc: 0.3307\n",
      "Epoch 2/50\n",
      "50000/50000 [==============================] - 3s 69us/step - loss: 1.7469 - acc: 0.3925 - val_loss: 1.7925 - val_acc: 0.3941\n",
      "Epoch 3/50\n",
      "50000/50000 [==============================] - 4s 71us/step - loss: 1.6189 - acc: 0.4340 - val_loss: 1.6824 - val_acc: 0.4228\n",
      "Epoch 4/50\n",
      "50000/50000 [==============================] - 4s 78us/step - loss: 1.5431 - acc: 0.4611 - val_loss: 1.6249 - val_acc: 0.4359\n",
      "Epoch 5/50\n",
      "50000/50000 [==============================] - 4s 79us/step - loss: 1.4879 - acc: 0.4804 - val_loss: 1.5926 - val_acc: 0.4442\n",
      "Epoch 6/50\n",
      "50000/50000 [==============================] - 4s 85us/step - loss: 1.4425 - acc: 0.4967 - val_loss: 1.5583 - val_acc: 0.4523\n",
      "Epoch 7/50\n",
      "50000/50000 [==============================] - 4s 88us/step - loss: 1.4020 - acc: 0.5100 - val_loss: 1.5480 - val_acc: 0.4564\n",
      "Epoch 8/50\n",
      "50000/50000 [==============================] - 4s 85us/step - loss: 1.3678 - acc: 0.5224 - val_loss: 1.5231 - val_acc: 0.4628\n",
      "Epoch 9/50\n",
      "50000/50000 [==============================] - 4s 75us/step - loss: 1.3349 - acc: 0.5359 - val_loss: 1.5305 - val_acc: 0.4650\n",
      "Epoch 10/50\n",
      "50000/50000 [==============================] - 3s 70us/step - loss: 1.3040 - acc: 0.5454 - val_loss: 1.4983 - val_acc: 0.4731\n",
      "Epoch 11/50\n",
      "50000/50000 [==============================] - 4s 76us/step - loss: 1.2744 - acc: 0.5574 - val_loss: 1.4964 - val_acc: 0.4730\n",
      "Epoch 12/50\n",
      "50000/50000 [==============================] - 4s 73us/step - loss: 1.2509 - acc: 0.5651 - val_loss: 1.4998 - val_acc: 0.4744\n",
      "Epoch 13/50\n",
      "50000/50000 [==============================] - 3s 70us/step - loss: 1.2241 - acc: 0.5759 - val_loss: 1.4789 - val_acc: 0.4821\n",
      "Epoch 14/50\n",
      "50000/50000 [==============================] - 4s 75us/step - loss: 1.1990 - acc: 0.5860 - val_loss: 1.4837 - val_acc: 0.4827\n",
      "Epoch 15/50\n",
      "50000/50000 [==============================] - 4s 70us/step - loss: 1.1756 - acc: 0.5930 - val_loss: 1.4754 - val_acc: 0.4837\n",
      "Epoch 16/50\n",
      "50000/50000 [==============================] - 4s 71us/step - loss: 1.1533 - acc: 0.6018 - val_loss: 1.4583 - val_acc: 0.4880\n",
      "Epoch 17/50\n",
      "50000/50000 [==============================] - 4s 70us/step - loss: 1.1312 - acc: 0.6106 - val_loss: 1.4637 - val_acc: 0.4895\n",
      "Epoch 18/50\n",
      "50000/50000 [==============================] - 4s 75us/step - loss: 1.1071 - acc: 0.6190 - val_loss: 1.4595 - val_acc: 0.4897\n",
      "Epoch 19/50\n",
      "50000/50000 [==============================] - 4s 74us/step - loss: 1.0852 - acc: 0.6261 - val_loss: 1.4569 - val_acc: 0.4914\n",
      "Epoch 20/50\n",
      "50000/50000 [==============================] - 4s 74us/step - loss: 1.0640 - acc: 0.6356 - val_loss: 1.4510 - val_acc: 0.4941\n",
      "Epoch 21/50\n",
      "50000/50000 [==============================] - 4s 75us/step - loss: 1.0444 - acc: 0.6418 - val_loss: 1.4671 - val_acc: 0.4890\n",
      "Epoch 22/50\n",
      "50000/50000 [==============================] - 4s 76us/step - loss: 1.0220 - acc: 0.6504 - val_loss: 1.4529 - val_acc: 0.4997\n",
      "Epoch 23/50\n",
      "50000/50000 [==============================] - 4s 77us/step - loss: 1.0016 - acc: 0.6585 - val_loss: 1.4520 - val_acc: 0.4992\n",
      "Epoch 24/50\n",
      "50000/50000 [==============================] - 4s 73us/step - loss: 0.9819 - acc: 0.6674 - val_loss: 1.4733 - val_acc: 0.4963\n",
      "Epoch 25/50\n",
      "50000/50000 [==============================] - 4s 74us/step - loss: 0.9591 - acc: 0.6754 - val_loss: 1.4769 - val_acc: 0.4905\n",
      "Epoch 00025: early stopping\n",
      "_________________________________________________________________\n",
      "Layer (type)                 Output Shape              Param #   \n",
      "=================================================================\n",
      "input_1 (InputLayer)         (None, 3072)              0         \n",
      "_________________________________________________________________\n",
      "hidden_layer1 (Dense)        (None, 512)               1573376   \n",
      "_________________________________________________________________\n",
      "batch_normalization_1 (Batch (None, 512)               2048      \n",
      "_________________________________________________________________\n",
      "hidden_layer2 (Dense)        (None, 256)               131328    \n",
      "_________________________________________________________________\n",
      "batch_normalization_2 (Batch (None, 256)               1024      \n",
      "_________________________________________________________________\n",
      "hidden_layer3 (Dense)        (None, 128)               32896     \n",
      "_________________________________________________________________\n",
      "batch_normalization_3 (Batch (None, 128)               512       \n",
      "_________________________________________________________________\n",
      "output (Dense)               (None, 10)                1290      \n",
      "=================================================================\n",
      "Total params: 1,742,474\n",
      "Trainable params: 1,740,682\n",
      "Non-trainable params: 1,792\n",
      "_________________________________________________________________\n",
      "Train on 50000 samples, validate on 10000 samples\n",
      "Epoch 1/50\n",
      "50000/50000 [==============================] - 5s 93us/step - loss: 2.2504 - acc: 0.2662 - val_loss: 2.2391 - val_acc: 0.3038\n",
      "Epoch 2/50\n",
      "50000/50000 [==============================] - 4s 73us/step - loss: 1.7683 - acc: 0.3852 - val_loss: 1.8689 - val_acc: 0.3726\n",
      "Epoch 3/50\n",
      "50000/50000 [==============================] - 4s 77us/step - loss: 1.6373 - acc: 0.4312 - val_loss: 1.6995 - val_acc: 0.4179\n",
      "Epoch 4/50\n",
      "50000/50000 [==============================] - 4s 73us/step - loss: 1.5608 - acc: 0.4565 - val_loss: 1.6478 - val_acc: 0.4288\n",
      "Epoch 5/50\n",
      "50000/50000 [==============================] - 4s 75us/step - loss: 1.5046 - acc: 0.4770 - val_loss: 1.6028 - val_acc: 0.4432\n",
      "Epoch 6/50\n",
      "50000/50000 [==============================] - 4s 71us/step - loss: 1.4577 - acc: 0.4938 - val_loss: 1.5767 - val_acc: 0.4489\n",
      "Epoch 7/50\n",
      "50000/50000 [==============================] - 4s 72us/step - loss: 1.4176 - acc: 0.5084 - val_loss: 1.5479 - val_acc: 0.4591\n",
      "Epoch 8/50\n",
      "50000/50000 [==============================] - 4s 73us/step - loss: 1.3808 - acc: 0.5212 - val_loss: 1.5305 - val_acc: 0.4635\n",
      "Epoch 9/50\n",
      "50000/50000 [==============================] - 4s 72us/step - loss: 1.3474 - acc: 0.5336 - val_loss: 1.5106 - val_acc: 0.4776\n",
      "Epoch 10/50\n",
      "50000/50000 [==============================] - 4s 75us/step - loss: 1.3160 - acc: 0.5456 - val_loss: 1.5018 - val_acc: 0.4732\n",
      "Epoch 11/50\n",
      "50000/50000 [==============================] - 4s 77us/step - loss: 1.2883 - acc: 0.5557 - val_loss: 1.4860 - val_acc: 0.4770\n",
      "Epoch 12/50\n",
      "50000/50000 [==============================] - 4s 73us/step - loss: 1.2603 - acc: 0.5647 - val_loss: 1.4840 - val_acc: 0.4804\n",
      "Epoch 13/50\n",
      "50000/50000 [==============================] - 4s 71us/step - loss: 1.2332 - acc: 0.5754 - val_loss: 1.4792 - val_acc: 0.4829\n",
      "Epoch 14/50\n"
     ]
    },
    {
     "name": "stdout",
     "output_type": "stream",
     "text": [
      "50000/50000 [==============================] - 4s 72us/step - loss: 1.2095 - acc: 0.5830 - val_loss: 1.4683 - val_acc: 0.4848\n",
      "Epoch 15/50\n",
      "50000/50000 [==============================] - 4s 72us/step - loss: 1.1851 - acc: 0.5935 - val_loss: 1.4605 - val_acc: 0.4913\n",
      "Epoch 16/50\n",
      "50000/50000 [==============================] - 3s 69us/step - loss: 1.1613 - acc: 0.6028 - val_loss: 1.4602 - val_acc: 0.4879\n",
      "Epoch 17/50\n",
      "50000/50000 [==============================] - 3s 69us/step - loss: 1.1387 - acc: 0.6112 - val_loss: 1.4518 - val_acc: 0.4939\n",
      "Epoch 18/50\n",
      "50000/50000 [==============================] - 4s 70us/step - loss: 1.1136 - acc: 0.6205 - val_loss: 1.4519 - val_acc: 0.4931\n",
      "Epoch 19/50\n",
      "50000/50000 [==============================] - 4s 72us/step - loss: 1.0934 - acc: 0.6281 - val_loss: 1.4539 - val_acc: 0.4982\n",
      "Epoch 20/50\n",
      "50000/50000 [==============================] - 4s 72us/step - loss: 1.0699 - acc: 0.6381 - val_loss: 1.4475 - val_acc: 0.4948\n",
      "Epoch 21/50\n",
      "50000/50000 [==============================] - 4s 72us/step - loss: 1.0497 - acc: 0.6454 - val_loss: 1.4498 - val_acc: 0.5002\n",
      "Epoch 22/50\n",
      "50000/50000 [==============================] - 4s 72us/step - loss: 1.0271 - acc: 0.6519 - val_loss: 1.4491 - val_acc: 0.4975\n",
      "Epoch 23/50\n",
      "50000/50000 [==============================] - 4s 74us/step - loss: 1.0082 - acc: 0.6599 - val_loss: 1.4507 - val_acc: 0.4965\n",
      "Epoch 24/50\n",
      "50000/50000 [==============================] - 4s 71us/step - loss: 0.9859 - acc: 0.6694 - val_loss: 1.4679 - val_acc: 0.4947\n",
      "Epoch 25/50\n",
      "50000/50000 [==============================] - 3s 69us/step - loss: 0.9655 - acc: 0.6768 - val_loss: 1.4589 - val_acc: 0.4956\n",
      "Epoch 26/50\n",
      "50000/50000 [==============================] - 4s 72us/step - loss: 0.9449 - acc: 0.6851 - val_loss: 1.4681 - val_acc: 0.4923\n",
      "Epoch 00026: early stopping\n",
      "_________________________________________________________________\n",
      "Layer (type)                 Output Shape              Param #   \n",
      "=================================================================\n",
      "input_1 (InputLayer)         (None, 3072)              0         \n",
      "_________________________________________________________________\n",
      "hidden_layer1 (Dense)        (None, 512)               1573376   \n",
      "_________________________________________________________________\n",
      "batch_normalization_1 (Batch (None, 512)               2048      \n",
      "_________________________________________________________________\n",
      "hidden_layer2 (Dense)        (None, 256)               131328    \n",
      "_________________________________________________________________\n",
      "batch_normalization_2 (Batch (None, 256)               1024      \n",
      "_________________________________________________________________\n",
      "hidden_layer3 (Dense)        (None, 128)               32896     \n",
      "_________________________________________________________________\n",
      "batch_normalization_3 (Batch (None, 128)               512       \n",
      "_________________________________________________________________\n",
      "output (Dense)               (None, 10)                1290      \n",
      "=================================================================\n",
      "Total params: 1,742,474\n",
      "Trainable params: 1,740,682\n",
      "Non-trainable params: 1,792\n",
      "_________________________________________________________________\n",
      "Train on 50000 samples, validate on 10000 samples\n",
      "Epoch 1/50\n",
      "50000/50000 [==============================] - 5s 93us/step - loss: 2.2396 - acc: 0.2670 - val_loss: 2.0825 - val_acc: 0.3157\n",
      "Epoch 2/50\n",
      "50000/50000 [==============================] - 3s 70us/step - loss: 1.7480 - acc: 0.3929 - val_loss: 1.8198 - val_acc: 0.3787\n",
      "Epoch 3/50\n",
      "50000/50000 [==============================] - 4s 73us/step - loss: 1.6213 - acc: 0.4324 - val_loss: 1.7193 - val_acc: 0.3977\n",
      "Epoch 4/50\n",
      "50000/50000 [==============================] - 4s 72us/step - loss: 1.5471 - acc: 0.4594 - val_loss: 1.6477 - val_acc: 0.4208\n",
      "Epoch 5/50\n",
      "50000/50000 [==============================] - 4s 72us/step - loss: 1.4917 - acc: 0.4784 - val_loss: 1.6236 - val_acc: 0.4284\n",
      "Epoch 6/50\n",
      "50000/50000 [==============================] - 4s 75us/step - loss: 1.4465 - acc: 0.4947 - val_loss: 1.5893 - val_acc: 0.4430\n",
      "Epoch 7/50\n",
      "50000/50000 [==============================] - 4s 73us/step - loss: 1.4074 - acc: 0.5075 - val_loss: 1.5505 - val_acc: 0.4583\n",
      "Epoch 8/50\n",
      "50000/50000 [==============================] - 4s 75us/step - loss: 1.3723 - acc: 0.5220 - val_loss: 1.5359 - val_acc: 0.4608\n",
      "Epoch 9/50\n",
      "50000/50000 [==============================] - 4s 72us/step - loss: 1.3392 - acc: 0.5318 - val_loss: 1.5323 - val_acc: 0.4639\n",
      "Epoch 10/50\n",
      "50000/50000 [==============================] - 4s 75us/step - loss: 1.3074 - acc: 0.5457 - val_loss: 1.5094 - val_acc: 0.4746\n",
      "Epoch 11/50\n",
      "50000/50000 [==============================] - 4s 76us/step - loss: 1.2818 - acc: 0.5547 - val_loss: 1.5040 - val_acc: 0.4744\n",
      "Epoch 12/50\n",
      "50000/50000 [==============================] - 4s 72us/step - loss: 1.2540 - acc: 0.5645 - val_loss: 1.4936 - val_acc: 0.4816\n",
      "Epoch 13/50\n",
      "50000/50000 [==============================] - 4s 74us/step - loss: 1.2253 - acc: 0.5752 - val_loss: 1.4837 - val_acc: 0.4837\n",
      "Epoch 14/50\n",
      "50000/50000 [==============================] - 4s 74us/step - loss: 1.2017 - acc: 0.5849 - val_loss: 1.4761 - val_acc: 0.4887\n",
      "Epoch 15/50\n",
      "50000/50000 [==============================] - 4s 79us/step - loss: 1.1774 - acc: 0.5956 - val_loss: 1.4731 - val_acc: 0.4902\n",
      "Epoch 16/50\n",
      "50000/50000 [==============================] - 4s 77us/step - loss: 1.1538 - acc: 0.6013 - val_loss: 1.4737 - val_acc: 0.4916\n",
      "Epoch 17/50\n",
      "50000/50000 [==============================] - 4s 77us/step - loss: 1.1301 - acc: 0.6136 - val_loss: 1.4663 - val_acc: 0.4916\n",
      "Epoch 18/50\n",
      "50000/50000 [==============================] - 4s 76us/step - loss: 1.1077 - acc: 0.6198 - val_loss: 1.4634 - val_acc: 0.4956\n",
      "Epoch 19/50\n",
      "50000/50000 [==============================] - 4s 73us/step - loss: 1.0835 - acc: 0.6288 - val_loss: 1.4828 - val_acc: 0.4911\n",
      "Epoch 20/50\n",
      "50000/50000 [==============================] - 4s 73us/step - loss: 1.0612 - acc: 0.6385 - val_loss: 1.4738 - val_acc: 0.4924\n",
      "Epoch 21/50\n",
      "50000/50000 [==============================] - 4s 76us/step - loss: 1.0389 - acc: 0.6459 - val_loss: 1.4621 - val_acc: 0.4924\n",
      "Epoch 22/50\n",
      "50000/50000 [==============================] - 4s 75us/step - loss: 1.0172 - acc: 0.6550 - val_loss: 1.4773 - val_acc: 0.4920\n",
      "Epoch 23/50\n",
      "50000/50000 [==============================] - 4s 74us/step - loss: 0.9991 - acc: 0.6602 - val_loss: 1.4732 - val_acc: 0.4970\n",
      "Epoch 24/50\n",
      "50000/50000 [==============================] - 4s 74us/step - loss: 0.9755 - acc: 0.6689 - val_loss: 1.4629 - val_acc: 0.5040\n",
      "Epoch 25/50\n",
      "50000/50000 [==============================] - 4s 74us/step - loss: 0.9556 - acc: 0.6770 - val_loss: 1.4693 - val_acc: 0.4988\n",
      "Epoch 26/50\n",
      "50000/50000 [==============================] - 4s 75us/step - loss: 0.9338 - acc: 0.6840 - val_loss: 1.4742 - val_acc: 0.4993\n",
      "Epoch 27/50\n",
      "50000/50000 [==============================] - 4s 74us/step - loss: 0.9137 - acc: 0.6951 - val_loss: 1.4799 - val_acc: 0.5002\n",
      "Epoch 28/50\n",
      "50000/50000 [==============================] - 4s 73us/step - loss: 0.8927 - acc: 0.7018 - val_loss: 1.4803 - val_acc: 0.4991\n",
      "Epoch 29/50\n",
      "50000/50000 [==============================] - 4s 73us/step - loss: 0.8730 - acc: 0.7097 - val_loss: 1.4910 - val_acc: 0.4985\n",
      "Epoch 30/50\n",
      "50000/50000 [==============================] - 4s 73us/step - loss: 0.8502 - acc: 0.7206 - val_loss: 1.5049 - val_acc: 0.4934\n",
      "Epoch 31/50\n",
      "50000/50000 [==============================] - 4s 75us/step - loss: 0.8330 - acc: 0.7255 - val_loss: 1.5022 - val_acc: 0.5010\n",
      "Epoch 32/50\n",
      "50000/50000 [==============================] - 4s 75us/step - loss: 0.8116 - acc: 0.7339 - val_loss: 1.5184 - val_acc: 0.4989\n",
      "Epoch 33/50\n",
      "50000/50000 [==============================] - 4s 76us/step - loss: 0.7926 - acc: 0.7405 - val_loss: 1.5125 - val_acc: 0.5031\n",
      "Epoch 34/50\n",
      "50000/50000 [==============================] - 4s 73us/step - loss: 0.7753 - acc: 0.7487 - val_loss: 1.5278 - val_acc: 0.4967\n",
      "Epoch 00034: early stopping\n",
      "_________________________________________________________________\n",
      "Layer (type)                 Output Shape              Param #   \n",
      "=================================================================\n",
      "input_1 (InputLayer)         (None, 3072)              0         \n",
      "_________________________________________________________________\n",
      "hidden_layer1 (Dense)        (None, 512)               1573376   \n",
      "_________________________________________________________________\n",
      "batch_normalization_1 (Batch (None, 512)               2048      \n",
      "_________________________________________________________________\n",
      "hidden_layer2 (Dense)        (None, 256)               131328    \n",
      "_________________________________________________________________\n",
      "batch_normalization_2 (Batch (None, 256)               1024      \n",
      "_________________________________________________________________\n",
      "hidden_layer3 (Dense)        (None, 128)               32896     \n",
      "_________________________________________________________________\n",
      "batch_normalization_3 (Batch (None, 128)               512       \n",
      "_________________________________________________________________\n",
      "output (Dense)               (None, 10)                1290      \n",
      "=================================================================\n",
      "Total params: 1,742,474\n",
      "Trainable params: 1,740,682\n",
      "Non-trainable params: 1,792\n",
      "_________________________________________________________________\n"
     ]
    },
    {
     "name": "stdout",
     "output_type": "stream",
     "text": [
      "Train on 50000 samples, validate on 10000 samples\n",
      "Epoch 1/50\n",
      "50000/50000 [==============================] - 5s 97us/step - loss: 2.2257 - acc: 0.2659 - val_loss: 2.0587 - val_acc: 0.3266\n",
      "Epoch 2/50\n",
      "50000/50000 [==============================] - 4s 73us/step - loss: 1.7529 - acc: 0.3917 - val_loss: 1.8495 - val_acc: 0.3690\n",
      "Epoch 3/50\n",
      "50000/50000 [==============================] - 4s 73us/step - loss: 1.6272 - acc: 0.4292 - val_loss: 1.7120 - val_acc: 0.3973\n",
      "Epoch 4/50\n",
      "50000/50000 [==============================] - 4s 75us/step - loss: 1.5530 - acc: 0.4567 - val_loss: 1.6311 - val_acc: 0.4322\n",
      "Epoch 5/50\n",
      "50000/50000 [==============================] - 4s 77us/step - loss: 1.4986 - acc: 0.4760 - val_loss: 1.6033 - val_acc: 0.4381\n",
      "Epoch 6/50\n",
      "50000/50000 [==============================] - 4s 75us/step - loss: 1.4528 - acc: 0.4930 - val_loss: 1.5741 - val_acc: 0.4452\n",
      "Epoch 7/50\n",
      "50000/50000 [==============================] - 4s 75us/step - loss: 1.4133 - acc: 0.5078 - val_loss: 1.5528 - val_acc: 0.4505\n",
      "Epoch 8/50\n",
      "50000/50000 [==============================] - 4s 76us/step - loss: 1.3785 - acc: 0.5201 - val_loss: 1.5393 - val_acc: 0.4574\n",
      "Epoch 9/50\n",
      "50000/50000 [==============================] - 4s 77us/step - loss: 1.3465 - acc: 0.5310 - val_loss: 1.5223 - val_acc: 0.4704\n",
      "Epoch 10/50\n",
      "50000/50000 [==============================] - 4s 80us/step - loss: 1.3157 - acc: 0.5424 - val_loss: 1.5074 - val_acc: 0.4697\n",
      "Epoch 11/50\n",
      "50000/50000 [==============================] - 4s 74us/step - loss: 1.2866 - acc: 0.5540 - val_loss: 1.4976 - val_acc: 0.4760\n",
      "Epoch 12/50\n",
      "50000/50000 [==============================] - 4s 74us/step - loss: 1.2606 - acc: 0.5634 - val_loss: 1.4861 - val_acc: 0.4795\n",
      "Epoch 13/50\n",
      "50000/50000 [==============================] - 4s 79us/step - loss: 1.2334 - acc: 0.5732 - val_loss: 1.4901 - val_acc: 0.4771\n",
      "Epoch 14/50\n",
      "50000/50000 [==============================] - 4s 77us/step - loss: 1.2099 - acc: 0.5824 - val_loss: 1.4796 - val_acc: 0.4835\n",
      "Epoch 15/50\n",
      "50000/50000 [==============================] - 4s 81us/step - loss: 1.1844 - acc: 0.5936 - val_loss: 1.4757 - val_acc: 0.4831\n",
      "Epoch 16/50\n",
      "50000/50000 [==============================] - 4s 83us/step - loss: 1.1599 - acc: 0.6016 - val_loss: 1.4729 - val_acc: 0.4899\n",
      "Epoch 17/50\n",
      "50000/50000 [==============================] - 4s 81us/step - loss: 1.1383 - acc: 0.6084 - val_loss: 1.4716 - val_acc: 0.4887\n",
      "Epoch 18/50\n",
      "50000/50000 [==============================] - 4s 82us/step - loss: 1.1173 - acc: 0.6183 - val_loss: 1.4641 - val_acc: 0.4878\n",
      "Epoch 19/50\n",
      "50000/50000 [==============================] - 4s 76us/step - loss: 1.0940 - acc: 0.6257 - val_loss: 1.4712 - val_acc: 0.4877\n",
      "Epoch 20/50\n",
      "50000/50000 [==============================] - 4s 78us/step - loss: 1.0721 - acc: 0.6343 - val_loss: 1.4713 - val_acc: 0.4857\n",
      "Epoch 21/50\n",
      "50000/50000 [==============================] - 4s 80us/step - loss: 1.0500 - acc: 0.6435 - val_loss: 1.4639 - val_acc: 0.4920\n",
      "Epoch 22/50\n",
      "50000/50000 [==============================] - 4s 78us/step - loss: 1.0278 - acc: 0.6513 - val_loss: 1.4625 - val_acc: 0.4912\n",
      "Epoch 23/50\n",
      "50000/50000 [==============================] - 4s 80us/step - loss: 1.0078 - acc: 0.6587 - val_loss: 1.4599 - val_acc: 0.4967\n",
      "Epoch 24/50\n",
      "50000/50000 [==============================] - 4s 82us/step - loss: 0.9876 - acc: 0.6662 - val_loss: 1.4782 - val_acc: 0.4906\n",
      "Epoch 25/50\n",
      "50000/50000 [==============================] - 4s 81us/step - loss: 0.9686 - acc: 0.6738 - val_loss: 1.4652 - val_acc: 0.4935\n",
      "Epoch 26/50\n",
      "50000/50000 [==============================] - 4s 80us/step - loss: 0.9470 - acc: 0.6821 - val_loss: 1.4810 - val_acc: 0.4851\n",
      "Epoch 27/50\n",
      "50000/50000 [==============================] - 4s 82us/step - loss: 0.9278 - acc: 0.6895 - val_loss: 1.4776 - val_acc: 0.4923\n",
      "Epoch 28/50\n",
      "50000/50000 [==============================] - 4s 82us/step - loss: 0.9067 - acc: 0.6988 - val_loss: 1.4712 - val_acc: 0.4969\n",
      "Epoch 29/50\n",
      "50000/50000 [==============================] - 4s 83us/step - loss: 0.8871 - acc: 0.7068 - val_loss: 1.4857 - val_acc: 0.4937\n",
      "Epoch 30/50\n",
      "50000/50000 [==============================] - 4s 81us/step - loss: 0.8668 - acc: 0.7148 - val_loss: 1.4899 - val_acc: 0.4896\n",
      "Epoch 31/50\n",
      "50000/50000 [==============================] - 4s 80us/step - loss: 0.8478 - acc: 0.7208 - val_loss: 1.4883 - val_acc: 0.4936\n",
      "Epoch 32/50\n",
      "50000/50000 [==============================] - 4s 83us/step - loss: 0.8292 - acc: 0.7293 - val_loss: 1.5133 - val_acc: 0.4879\n",
      "Epoch 33/50\n",
      "50000/50000 [==============================] - 4s 83us/step - loss: 0.8109 - acc: 0.7373 - val_loss: 1.4922 - val_acc: 0.4970\n",
      "Epoch 34/50\n",
      "50000/50000 [==============================] - 4s 81us/step - loss: 0.7898 - acc: 0.7457 - val_loss: 1.5075 - val_acc: 0.4977\n",
      "Epoch 35/50\n",
      "50000/50000 [==============================] - 4s 84us/step - loss: 0.7710 - acc: 0.7520 - val_loss: 1.5201 - val_acc: 0.4929\n",
      "Epoch 36/50\n",
      "50000/50000 [==============================] - 4s 83us/step - loss: 0.7522 - acc: 0.7596 - val_loss: 1.5435 - val_acc: 0.4902\n",
      "Epoch 37/50\n",
      "50000/50000 [==============================] - 4s 77us/step - loss: 0.7348 - acc: 0.7657 - val_loss: 1.5431 - val_acc: 0.4950\n",
      "Epoch 38/50\n",
      "50000/50000 [==============================] - 4s 74us/step - loss: 0.7159 - acc: 0.7740 - val_loss: 1.5348 - val_acc: 0.4987\n",
      "Epoch 39/50\n",
      "50000/50000 [==============================] - 4s 73us/step - loss: 0.6970 - acc: 0.7816 - val_loss: 1.5451 - val_acc: 0.4950\n",
      "Epoch 40/50\n",
      "50000/50000 [==============================] - 4s 73us/step - loss: 0.6780 - acc: 0.7900 - val_loss: 1.5571 - val_acc: 0.4939\n",
      "Epoch 41/50\n",
      "50000/50000 [==============================] - 4s 73us/step - loss: 0.6589 - acc: 0.7970 - val_loss: 1.5664 - val_acc: 0.4928\n",
      "Epoch 42/50\n",
      "50000/50000 [==============================] - 4s 75us/step - loss: 0.6407 - acc: 0.8064 - val_loss: 1.5787 - val_acc: 0.4939\n",
      "Epoch 43/50\n",
      "50000/50000 [==============================] - 4s 77us/step - loss: 0.6251 - acc: 0.8113 - val_loss: 1.5883 - val_acc: 0.4902\n",
      "Epoch 44/50\n",
      "50000/50000 [==============================] - 4s 74us/step - loss: 0.6068 - acc: 0.8194 - val_loss: 1.6090 - val_acc: 0.4899\n",
      "Epoch 45/50\n",
      "50000/50000 [==============================] - 4s 76us/step - loss: 0.5884 - acc: 0.8258 - val_loss: 1.6245 - val_acc: 0.4862\n",
      "Epoch 46/50\n",
      "50000/50000 [==============================] - 4s 76us/step - loss: 0.5714 - acc: 0.8316 - val_loss: 1.6240 - val_acc: 0.4929\n",
      "Epoch 47/50\n",
      "50000/50000 [==============================] - 4s 78us/step - loss: 0.5542 - acc: 0.8388 - val_loss: 1.6161 - val_acc: 0.4968\n",
      "Epoch 48/50\n",
      "50000/50000 [==============================] - 4s 74us/step - loss: 0.5382 - acc: 0.8465 - val_loss: 1.6448 - val_acc: 0.4956\n",
      "Epoch 49/50\n",
      "50000/50000 [==============================] - 4s 77us/step - loss: 0.5209 - acc: 0.8517 - val_loss: 1.6767 - val_acc: 0.4860\n",
      "Epoch 50/50\n",
      "50000/50000 [==============================] - 4s 72us/step - loss: 0.5045 - acc: 0.8597 - val_loss: 1.6560 - val_acc: 0.4895\n"
     ]
    }
   ],
   "source": [
    "results = {}\n",
    "\n",
    "for pat in patience:\n",
    "    keras.backend.clear_session()\n",
    "    \n",
    "    earlystop = EarlyStopping(monitor='val_acc', \n",
    "                          patience=pat, \n",
    "                          verbose=1)\n",
    "    \n",
    "    model = build_mlp(input_shape=x_train.shape[1:])\n",
    "    model.summary()\n",
    "    optimizer = keras.optimizers.SGD(lr=LEARNING_RATE, nesterov=True, momentum=MOMENTUM)\n",
    "    model.compile(loss=\"categorical_crossentropy\", metrics=[\"accuracy\"], optimizer=optimizer)\n",
    "    \n",
    "    model.fit(x_train, y_train,\n",
    "              epochs=EPOCHS,\n",
    "              batch_size=BATCH_SIZE, \n",
    "              validation_data=(x_test, y_test), \n",
    "              shuffle=True,\n",
    "              callbacks = [earlystop]\n",
    "             )\n",
    "    \n",
    "    # Collect results\n",
    "    results[('patience:{}'.format(pat))] = {'train_loss': model.history.history[\"loss\"],\n",
    "                             'valid_loss': model.history.history[\"val_loss\"],\n",
    "                             'train_acc': model.history.history[\"acc\"],\n",
    "                             'valid_acc': model.history.history[\"val_acc\"]\n",
    "                            }"
   ]
  },
  {
   "cell_type": "code",
   "execution_count": 37,
   "metadata": {
    "ExecuteTime": {
     "end_time": "2019-07-28T09:14:30.346196Z",
     "start_time": "2019-07-28T09:14:29.616086Z"
    }
   },
   "outputs": [
    {
     "data": {
      "image/png": "[encoded data removed]",
      "text/plain": [
       "<Figure size 576x432 with 1 Axes>"
      ]
     },
     "metadata": {
      "needs_background": "light"
     },
     "output_type": "display_data"
    },
    {
     "data": {
      "image/png": "[encoded data removed]",
      "text/plain": [
       "<Figure size 576x432 with 1 Axes>"
      ]
     },
     "metadata": {
      "needs_background": "light"
     },
     "output_type": "display_data"
    }
   ],
   "source": [
    "import matplotlib.pyplot as plt\n",
    "%matplotlib inline\n",
    "color_bar = [\"r\", \"g\", \"b\", \"y\", \"m\", \"k\"]\n",
    "\n",
    "plt.figure(figsize=(8,6))\n",
    "for i, cond in enumerate(results.keys()):\n",
    "    plt.plot(range(len(results[cond]['train_loss'])),results[cond]['train_loss'], '-', label=cond, color=color_bar[i])\n",
    "    plt.plot(range(len(results[cond]['valid_loss'])),results[cond]['valid_loss'], '--', label=cond, color=color_bar[i])\n",
    "plt.title(\"Loss\")\n",
    "plt.legend()\n",
    "plt.show()\n",
    "\n",
    "plt.figure(figsize=(8,6))\n",
    "for i, cond in enumerate(results.keys()):\n",
    "    plt.plot(range(len(results[cond]['train_acc'])),results[cond]['train_acc'], '-', label=cond, color=color_bar[i])\n",
    "    plt.plot(range(len(results[cond]['valid_acc'])),results[cond]['valid_acc'], '--', label=cond, color=color_bar[i])\n",
    "plt.title(\"Accuracy\")\n",
    "plt.legend()\n",
    "plt.show()"
   ]
  },
  {
   "cell_type": "code",
   "execution_count": null,
   "metadata": {},
   "outputs": [],
   "source": []
  }
 ],
 "metadata": {
  "kernelspec": {
   "display_name": "Python 3",
   "language": "python",
   "name": "python3"
  },
  "language_info": {
   "codemirror_mode": {
    "name": "ipython",
    "version": 3
   },
   "file_extension": ".py",
   "mimetype": "text/x-python",
   "name": "python",
   "nbconvert_exporter": "python",
   "pygments_lexer": "ipython3",
   "version": "3.7.3"
  },
  "toc": {
   "base_numbering": 1,
   "nav_menu": {},
   "number_sections": true,
   "sideBar": true,
   "skip_h1_title": false,
   "title_cell": "Table of Contents",
   "title_sidebar": "Contents",
   "toc_cell": false,
   "toc_position": {},
   "toc_section_display": true,
   "toc_window_display": false
  },
  "varInspector": {
   "cols": {
    "lenName": 16,
    "lenType": 16,
    "lenVar": 40
   },
   "kernels_config": {
    "python": {
     "delete_cmd_postfix": "",
     "delete_cmd_prefix": "del ",
     "library": "var_list.py",
     "varRefreshCmd": "print(var_dic_list())"
    },
    "r": {
     "delete_cmd_postfix": ") ",
     "delete_cmd_prefix": "rm(",
     "library": "var_list.r",
     "varRefreshCmd": "cat(var_dic_list()) "
    }
   },
   "types_to_exclude": [
    "module",
    "function",
    "builtin_function_or_method",
    "instance",
    "_Feature"
   ],
   "window_display": false
  }
 },
 "nbformat": 4,
 "nbformat_minor": 2
}
