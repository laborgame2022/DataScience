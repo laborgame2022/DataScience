{
 "cells": [
  {
   "cell_type": "markdown",
   "metadata": {},
   "source": [
    "# 範例"
   ]
  },
  {
   "cell_type": "code",
   "execution_count": 1,
   "metadata": {
    "ExecuteTime": {
     "end_time": "2019-07-21T13:26:56.669132Z",
     "start_time": "2019-07-21T13:26:56.634480Z"
    }
   },
   "outputs": [
    {
     "name": "stderr",
     "output_type": "stream",
     "text": [
      "'nvidia-smi' 不是內部或外部命令、可執行的程式或批次檔。\n"
     ]
    }
   ],
   "source": [
    "## 確認硬體資源\n",
    "!nvidia-smi"
   ]
  },
  {
   "cell_type": "code",
   "execution_count": 2,
   "metadata": {
    "ExecuteTime": {
     "end_time": "2019-07-21T13:31:52.602443Z",
     "start_time": "2019-07-21T13:31:38.818227Z"
    }
   },
   "outputs": [
    {
     "name": "stderr",
     "output_type": "stream",
     "text": [
      "Using TensorFlow backend.\n"
     ]
    }
   ],
   "source": [
    "import os\n",
    "import keras\n",
    "\n",
    "# Disable GPU\n",
    "os.environ[\"CUDA_VISIBLE_DEVICES\"] = \"\""
   ]
  },
  {
   "cell_type": "code",
   "execution_count": 3,
   "metadata": {
    "ExecuteTime": {
     "end_time": "2019-07-21T13:32:01.664755Z",
     "start_time": "2019-07-21T13:32:01.216873Z"
    }
   },
   "outputs": [],
   "source": [
    "train, test = keras.datasets.cifar10.load_data()"
   ]
  },
  {
   "cell_type": "code",
   "execution_count": 5,
   "metadata": {
    "ExecuteTime": {
     "end_time": "2019-07-21T13:33:13.725182Z",
     "start_time": "2019-07-21T13:33:13.717947Z"
    }
   },
   "outputs": [],
   "source": [
    "## 資料前處理\n",
    "def preproc_x(x, flatten=True):\n",
    "    x = x / 255.\n",
    "    if flatten:\n",
    "        x = x.reshape((len(x), -1))\n",
    "    return x\n",
    "\n",
    "def preproc_y(y, num_classes=10):\n",
    "    if y.shape[-1] == 1:\n",
    "        y = keras.utils.to_categorical(y, num_classes)\n",
    "    return y    "
   ]
  },
  {
   "cell_type": "code",
   "execution_count": 6,
   "metadata": {
    "ExecuteTime": {
     "end_time": "2019-07-21T13:33:16.502202Z",
     "start_time": "2019-07-21T13:33:13.980608Z"
    }
   },
   "outputs": [],
   "source": [
    "x_train, y_train = train\n",
    "x_test, y_test = test\n",
    "\n",
    "# Preproc the inputs\n",
    "x_train = preproc_x(x_train)\n",
    "x_test = preproc_x(x_test)\n",
    "\n",
    "# Preprc the outputs\n",
    "y_train = preproc_y(y_train)\n",
    "y_test = preproc_y(y_test)"
   ]
  },
  {
   "cell_type": "code",
   "execution_count": 10,
   "metadata": {
    "ExecuteTime": {
     "end_time": "2019-07-21T13:34:52.366580Z",
     "start_time": "2019-07-21T13:34:52.356593Z"
    }
   },
   "outputs": [],
   "source": [
    "def build_mlp(input_shape, output_units=10, num_neurons=[512, 256, 128]):\n",
    "    input_layer = keras.layers.Input(input_shape)\n",
    "    \n",
    "    for i, n_units in enumerate(num_neurons):\n",
    "        if i == 0:\n",
    "            x = keras.layers.Dense(units=n_units, activation=\"relu\", name=\"hidden_layer\"+str(i+1))(input_layer)\n",
    "        else:\n",
    "            x = keras.layers.Dense(units=n_units, activation=\"relu\", name=\"hidden_layer\"+str(i+1))(x)\n",
    "    \n",
    "    out = keras.layers.Dense(units=output_units, activation=\"softmax\", name=\"output\")(x)\n",
    "    \n",
    "    model = keras.models.Model(inputs=[input_layer], outputs=[out])\n",
    "    return model"
   ]
  },
  {
   "cell_type": "code",
   "execution_count": 11,
   "metadata": {
    "ExecuteTime": {
     "end_time": "2019-07-21T13:35:02.354841Z",
     "start_time": "2019-07-21T13:35:02.180499Z"
    }
   },
   "outputs": [
    {
     "name": "stderr",
     "output_type": "stream",
     "text": [
      "WARNING: Logging before flag parsing goes to stderr.\n",
      "W0721 21:35:02.181494  8592 deprecation_wrapper.py:119] From C:\\ProgramData\\Anaconda3\\envs\\TensorFlow\\lib\\site-packages\\keras\\backend\\tensorflow_backend.py:74: The name tf.get_default_graph is deprecated. Please use tf.compat.v1.get_default_graph instead.\n",
      "\n",
      "W0721 21:35:02.247246  8592 deprecation_wrapper.py:119] From C:\\ProgramData\\Anaconda3\\envs\\TensorFlow\\lib\\site-packages\\keras\\backend\\tensorflow_backend.py:517: The name tf.placeholder is deprecated. Please use tf.compat.v1.placeholder instead.\n",
      "\n",
      "W0721 21:35:02.260097  8592 deprecation_wrapper.py:119] From C:\\ProgramData\\Anaconda3\\envs\\TensorFlow\\lib\\site-packages\\keras\\backend\\tensorflow_backend.py:4138: The name tf.random_uniform is deprecated. Please use tf.random.uniform instead.\n",
      "\n"
     ]
    },
    {
     "name": "stdout",
     "output_type": "stream",
     "text": [
      "_________________________________________________________________\n",
      "Layer (type)                 Output Shape              Param #   \n",
      "=================================================================\n",
      "input_1 (InputLayer)         (None, 3072)              0         \n",
      "_________________________________________________________________\n",
      "hidden_layer1 (Dense)        (None, 512)               1573376   \n",
      "_________________________________________________________________\n",
      "hidden_layer2 (Dense)        (None, 256)               131328    \n",
      "_________________________________________________________________\n",
      "hidden_layer3 (Dense)        (None, 128)               32896     \n",
      "_________________________________________________________________\n",
      "output (Dense)               (None, 10)                1290      \n",
      "=================================================================\n",
      "Total params: 1,738,890\n",
      "Trainable params: 1,738,890\n",
      "Non-trainable params: 0\n",
      "_________________________________________________________________\n"
     ]
    }
   ],
   "source": [
    "model = build_mlp(input_shape=x_train.shape[1:])\n",
    "model.summary()"
   ]
  },
  {
   "cell_type": "code",
   "execution_count": 12,
   "metadata": {
    "ExecuteTime": {
     "end_time": "2019-07-21T13:35:18.165979Z",
     "start_time": "2019-07-21T13:35:18.161974Z"
    }
   },
   "outputs": [],
   "source": [
    "## 超參數設定\n",
    "LEARNING_RATE = 0.001\n",
    "EPOCHS = 100\n",
    "BATCH_SIZE = 256"
   ]
  },
  {
   "cell_type": "code",
   "execution_count": 13,
   "metadata": {
    "ExecuteTime": {
     "end_time": "2019-07-21T13:35:23.868219Z",
     "start_time": "2019-07-21T13:35:23.773361Z"
    }
   },
   "outputs": [
    {
     "name": "stderr",
     "output_type": "stream",
     "text": [
      "W0721 21:35:23.812308  8592 deprecation_wrapper.py:119] From C:\\ProgramData\\Anaconda3\\envs\\TensorFlow\\lib\\site-packages\\keras\\optimizers.py:790: The name tf.train.Optimizer is deprecated. Please use tf.compat.v1.train.Optimizer instead.\n",
      "\n",
      "W0721 21:35:23.834040  8592 deprecation_wrapper.py:119] From C:\\ProgramData\\Anaconda3\\envs\\TensorFlow\\lib\\site-packages\\keras\\backend\\tensorflow_backend.py:3295: The name tf.log is deprecated. Please use tf.math.log instead.\n",
      "\n"
     ]
    }
   ],
   "source": [
    "optimizer = keras.optimizers.Adam(lr=LEARNING_RATE)\n",
    "model.compile(loss=\"categorical_crossentropy\", metrics=[\"accuracy\"], optimizer=optimizer)"
   ]
  },
  {
   "cell_type": "code",
   "execution_count": 14,
   "metadata": {
    "ExecuteTime": {
     "end_time": "2019-07-21T13:44:15.410321Z",
     "start_time": "2019-07-21T13:35:30.275109Z"
    }
   },
   "outputs": [
    {
     "name": "stderr",
     "output_type": "stream",
     "text": [
      "W0721 21:35:30.433469  8592 deprecation.py:323] From C:\\ProgramData\\Anaconda3\\envs\\TensorFlow\\lib\\site-packages\\tensorflow\\python\\ops\\math_grad.py:1250: add_dispatch_support.<locals>.wrapper (from tensorflow.python.ops.array_ops) is deprecated and will be removed in a future version.\n",
      "Instructions for updating:\n",
      "Use tf.where in 2.0, which has the same broadcast rule as np.where\n",
      "W0721 21:35:30.593042  8592 deprecation_wrapper.py:119] From C:\\ProgramData\\Anaconda3\\envs\\TensorFlow\\lib\\site-packages\\keras\\backend\\tensorflow_backend.py:986: The name tf.assign_add is deprecated. Please use tf.compat.v1.assign_add instead.\n",
      "\n"
     ]
    },
    {
     "name": "stdout",
     "output_type": "stream",
     "text": [
      "Train on 50000 samples, validate on 10000 samples\n",
      "Epoch 1/100\n",
      "50000/50000 [==============================] - 10s 210us/step - loss: 1.9697 - acc: 0.2911 - val_loss: 1.8107 - val_acc: 0.3606\n",
      "Epoch 2/100\n",
      "50000/50000 [==============================] - 6s 112us/step - loss: 1.7345 - acc: 0.3780 - val_loss: 1.6455 - val_acc: 0.4082\n",
      "Epoch 3/100\n",
      "50000/50000 [==============================] - 6s 111us/step - loss: 1.6304 - acc: 0.4170 - val_loss: 1.6131 - val_acc: 0.4231\n",
      "Epoch 4/100\n",
      "50000/50000 [==============================] - 5s 109us/step - loss: 1.5689 - acc: 0.4436 - val_loss: 1.5772 - val_acc: 0.4421\n",
      "Epoch 5/100\n",
      "50000/50000 [==============================] - 5s 106us/step - loss: 1.5135 - acc: 0.4598 - val_loss: 1.4948 - val_acc: 0.4705\n",
      "Epoch 6/100\n",
      "50000/50000 [==============================] - 6s 119us/step - loss: 1.4822 - acc: 0.4727 - val_loss: 1.4832 - val_acc: 0.4669\n",
      "Epoch 7/100\n",
      "50000/50000 [==============================] - 6s 114us/step - loss: 1.4462 - acc: 0.4826 - val_loss: 1.5336 - val_acc: 0.4581\n",
      "Epoch 8/100\n",
      "50000/50000 [==============================] - 6s 124us/step - loss: 1.4180 - acc: 0.4935 - val_loss: 1.4283 - val_acc: 0.4961\n",
      "Epoch 9/100\n",
      "50000/50000 [==============================] - 6s 113us/step - loss: 1.3857 - acc: 0.5051 - val_loss: 1.5460 - val_acc: 0.4542\n",
      "Epoch 10/100\n",
      "50000/50000 [==============================] - 5s 110us/step - loss: 1.3635 - acc: 0.5153 - val_loss: 1.4224 - val_acc: 0.4970\n",
      "Epoch 11/100\n",
      "50000/50000 [==============================] - 6s 117us/step - loss: 1.3387 - acc: 0.5227 - val_loss: 1.4445 - val_acc: 0.4862\n",
      "Epoch 12/100\n",
      "50000/50000 [==============================] - 6s 112us/step - loss: 1.3083 - acc: 0.5335 - val_loss: 1.3894 - val_acc: 0.5062\n",
      "Epoch 13/100\n",
      "50000/50000 [==============================] - 6s 120us/step - loss: 1.2993 - acc: 0.5352 - val_loss: 1.4362 - val_acc: 0.4904\n",
      "Epoch 14/100\n",
      "50000/50000 [==============================] - 6s 121us/step - loss: 1.2646 - acc: 0.5489 - val_loss: 1.3722 - val_acc: 0.5140\n",
      "Epoch 15/100\n",
      "50000/50000 [==============================] - 6s 113us/step - loss: 1.2441 - acc: 0.5564 - val_loss: 1.3850 - val_acc: 0.5101\n",
      "Epoch 16/100\n",
      "50000/50000 [==============================] - 6s 113us/step - loss: 1.2227 - acc: 0.5622 - val_loss: 1.3627 - val_acc: 0.5196\n",
      "Epoch 17/100\n",
      "50000/50000 [==============================] - 5s 107us/step - loss: 1.2080 - acc: 0.5655 - val_loss: 1.3870 - val_acc: 0.5148\n",
      "Epoch 18/100\n",
      "50000/50000 [==============================] - 6s 111us/step - loss: 1.1821 - acc: 0.5781 - val_loss: 1.3682 - val_acc: 0.5179\n",
      "Epoch 19/100\n",
      "50000/50000 [==============================] - 6s 114us/step - loss: 1.1637 - acc: 0.5841 - val_loss: 1.3521 - val_acc: 0.5232\n",
      "Epoch 20/100\n",
      "50000/50000 [==============================] - 6s 114us/step - loss: 1.1571 - acc: 0.5875 - val_loss: 1.3580 - val_acc: 0.5259\n",
      "Epoch 21/100\n",
      "50000/50000 [==============================] - 6s 123us/step - loss: 1.1299 - acc: 0.5988 - val_loss: 1.4116 - val_acc: 0.5079\n",
      "Epoch 22/100\n",
      "50000/50000 [==============================] - 5s 109us/step - loss: 1.1190 - acc: 0.6000 - val_loss: 1.3606 - val_acc: 0.5290\n",
      "Epoch 23/100\n",
      "50000/50000 [==============================] - 5s 106us/step - loss: 1.0991 - acc: 0.6063 - val_loss: 1.3834 - val_acc: 0.5261\n",
      "Epoch 24/100\n",
      "50000/50000 [==============================] - 5s 104us/step - loss: 1.0789 - acc: 0.6152 - val_loss: 1.3675 - val_acc: 0.5293\n",
      "Epoch 25/100\n",
      "50000/50000 [==============================] - 5s 105us/step - loss: 1.0614 - acc: 0.6215 - val_loss: 1.3801 - val_acc: 0.5264\n",
      "Epoch 26/100\n",
      "50000/50000 [==============================] - 5s 106us/step - loss: 1.0487 - acc: 0.6276 - val_loss: 1.3715 - val_acc: 0.5388\n",
      "Epoch 27/100\n",
      "50000/50000 [==============================] - 5s 103us/step - loss: 1.0364 - acc: 0.6305 - val_loss: 1.3547 - val_acc: 0.5346\n",
      "Epoch 28/100\n",
      "50000/50000 [==============================] - 5s 106us/step - loss: 1.0161 - acc: 0.6360 - val_loss: 1.3848 - val_acc: 0.5326\n",
      "Epoch 29/100\n",
      "50000/50000 [==============================] - 5s 105us/step - loss: 0.9973 - acc: 0.6432 - val_loss: 1.3889 - val_acc: 0.5343\n",
      "Epoch 30/100\n",
      "50000/50000 [==============================] - 6s 117us/step - loss: 0.9883 - acc: 0.6452 - val_loss: 1.4009 - val_acc: 0.5290\n",
      "Epoch 31/100\n",
      "50000/50000 [==============================] - 5s 104us/step - loss: 0.9729 - acc: 0.6545 - val_loss: 1.4640 - val_acc: 0.5113\n",
      "Epoch 32/100\n",
      "50000/50000 [==============================] - 5s 104us/step - loss: 0.9433 - acc: 0.6628 - val_loss: 1.4083 - val_acc: 0.5308\n",
      "Epoch 33/100\n",
      "50000/50000 [==============================] - 5s 106us/step - loss: 0.9437 - acc: 0.6623 - val_loss: 1.4151 - val_acc: 0.5245\n",
      "Epoch 34/100\n",
      "50000/50000 [==============================] - 5s 104us/step - loss: 0.9196 - acc: 0.6681 - val_loss: 1.4496 - val_acc: 0.5233\n",
      "Epoch 35/100\n",
      "50000/50000 [==============================] - 5s 109us/step - loss: 0.9115 - acc: 0.6742 - val_loss: 1.4346 - val_acc: 0.5327\n",
      "Epoch 36/100\n",
      "50000/50000 [==============================] - 5s 107us/step - loss: 0.8805 - acc: 0.6830 - val_loss: 1.4594 - val_acc: 0.5304\n",
      "Epoch 37/100\n",
      "50000/50000 [==============================] - 5s 106us/step - loss: 0.8758 - acc: 0.6879 - val_loss: 1.4621 - val_acc: 0.5290\n",
      "Epoch 38/100\n",
      "50000/50000 [==============================] - 5s 107us/step - loss: 0.8689 - acc: 0.6872 - val_loss: 1.4759 - val_acc: 0.5308\n",
      "Epoch 39/100\n",
      "50000/50000 [==============================] - 5s 108us/step - loss: 0.8566 - acc: 0.6942 - val_loss: 1.5021 - val_acc: 0.5216\n",
      "Epoch 40/100\n",
      "50000/50000 [==============================] - 5s 107us/step - loss: 0.8353 - acc: 0.7008 - val_loss: 1.5052 - val_acc: 0.5247\n",
      "Epoch 41/100\n",
      "50000/50000 [==============================] - 5s 102us/step - loss: 0.8223 - acc: 0.7057 - val_loss: 1.5328 - val_acc: 0.5192\n",
      "Epoch 42/100\n",
      "50000/50000 [==============================] - 5s 106us/step - loss: 0.8057 - acc: 0.7121 - val_loss: 1.5300 - val_acc: 0.5244\n",
      "Epoch 43/100\n",
      "50000/50000 [==============================] - 5s 103us/step - loss: 0.7999 - acc: 0.7137 - val_loss: 1.5321 - val_acc: 0.5261\n",
      "Epoch 44/100\n",
      "50000/50000 [==============================] - 5s 109us/step - loss: 0.7791 - acc: 0.7202 - val_loss: 1.5914 - val_acc: 0.5287\n",
      "Epoch 45/100\n",
      "50000/50000 [==============================] - 5s 105us/step - loss: 0.7789 - acc: 0.7212 - val_loss: 1.5763 - val_acc: 0.5285\n",
      "Epoch 46/100\n",
      "50000/50000 [==============================] - 5s 105us/step - loss: 0.7531 - acc: 0.7294 - val_loss: 1.6602 - val_acc: 0.5146\n",
      "Epoch 47/100\n",
      "50000/50000 [==============================] - 6s 116us/step - loss: 0.7444 - acc: 0.7329 - val_loss: 1.5982 - val_acc: 0.5269\n",
      "Epoch 48/100\n",
      "50000/50000 [==============================] - 6s 114us/step - loss: 0.7369 - acc: 0.7370 - val_loss: 1.6216 - val_acc: 0.5117\n",
      "Epoch 49/100\n",
      "50000/50000 [==============================] - 6s 112us/step - loss: 0.7196 - acc: 0.7420 - val_loss: 1.7100 - val_acc: 0.5168\n",
      "Epoch 50/100\n",
      "50000/50000 [==============================] - 5s 106us/step - loss: 0.7023 - acc: 0.7489 - val_loss: 1.6405 - val_acc: 0.5250\n",
      "Epoch 51/100\n",
      "50000/50000 [==============================] - 5s 105us/step - loss: 0.6848 - acc: 0.7552 - val_loss: 1.7039 - val_acc: 0.5184\n",
      "Epoch 52/100\n",
      "50000/50000 [==============================] - 5s 107us/step - loss: 0.6917 - acc: 0.7522 - val_loss: 1.6816 - val_acc: 0.5250\n",
      "Epoch 53/100\n",
      "50000/50000 [==============================] - 5s 106us/step - loss: 0.6650 - acc: 0.7622 - val_loss: 1.7461 - val_acc: 0.5170\n",
      "Epoch 54/100\n",
      "50000/50000 [==============================] - 6s 117us/step - loss: 0.6660 - acc: 0.7623 - val_loss: 1.6874 - val_acc: 0.5243\n",
      "Epoch 55/100\n",
      "50000/50000 [==============================] - 6s 111us/step - loss: 0.6405 - acc: 0.7723 - val_loss: 1.7686 - val_acc: 0.5185\n",
      "Epoch 56/100\n",
      "50000/50000 [==============================] - 5s 97us/step - loss: 0.6291 - acc: 0.7754 - val_loss: 1.8300 - val_acc: 0.5158\n",
      "Epoch 57/100\n",
      "50000/50000 [==============================] - 5s 95us/step - loss: 0.6270 - acc: 0.7747 - val_loss: 1.8896 - val_acc: 0.5041\n",
      "Epoch 58/100\n",
      "50000/50000 [==============================] - 5s 96us/step - loss: 0.6163 - acc: 0.7788 - val_loss: 1.8164 - val_acc: 0.5226\n",
      "Epoch 59/100\n"
     ]
    },
    {
     "name": "stdout",
     "output_type": "stream",
     "text": [
      "50000/50000 [==============================] - 5s 93us/step - loss: 0.6057 - acc: 0.7832 - val_loss: 1.8547 - val_acc: 0.5172\n",
      "Epoch 60/100\n",
      "50000/50000 [==============================] - 5s 95us/step - loss: 0.5987 - acc: 0.7865 - val_loss: 1.8871 - val_acc: 0.5096\n",
      "Epoch 61/100\n",
      "50000/50000 [==============================] - 5s 104us/step - loss: 0.5882 - acc: 0.7905 - val_loss: 1.9409 - val_acc: 0.5098\n",
      "Epoch 62/100\n",
      "50000/50000 [==============================] - 5s 97us/step - loss: 0.5666 - acc: 0.7991 - val_loss: 1.9446 - val_acc: 0.5133\n",
      "Epoch 63/100\n",
      "50000/50000 [==============================] - 5s 92us/step - loss: 0.5603 - acc: 0.7994 - val_loss: 1.9416 - val_acc: 0.5145\n",
      "Epoch 64/100\n",
      "50000/50000 [==============================] - 5s 93us/step - loss: 0.5601 - acc: 0.8007 - val_loss: 1.9319 - val_acc: 0.5160\n",
      "Epoch 65/100\n",
      "50000/50000 [==============================] - 5s 94us/step - loss: 0.5592 - acc: 0.7979 - val_loss: 2.0125 - val_acc: 0.5101\n",
      "Epoch 66/100\n",
      "50000/50000 [==============================] - 5s 95us/step - loss: 0.5374 - acc: 0.8082 - val_loss: 2.0358 - val_acc: 0.5138\n",
      "Epoch 67/100\n",
      "50000/50000 [==============================] - 5s 96us/step - loss: 0.5368 - acc: 0.8057 - val_loss: 2.0192 - val_acc: 0.5130\n",
      "Epoch 68/100\n",
      "50000/50000 [==============================] - 5s 102us/step - loss: 0.5298 - acc: 0.8074 - val_loss: 2.0690 - val_acc: 0.5140\n",
      "Epoch 69/100\n",
      "50000/50000 [==============================] - 5s 100us/step - loss: 0.5158 - acc: 0.8147 - val_loss: 2.0663 - val_acc: 0.5092\n",
      "Epoch 70/100\n",
      "50000/50000 [==============================] - 5s 99us/step - loss: 0.5033 - acc: 0.8196 - val_loss: 2.1201 - val_acc: 0.5107\n",
      "Epoch 71/100\n",
      "50000/50000 [==============================] - 5s 98us/step - loss: 0.4986 - acc: 0.8229 - val_loss: 2.1759 - val_acc: 0.5004\n",
      "Epoch 72/100\n",
      "50000/50000 [==============================] - 5s 98us/step - loss: 0.4905 - acc: 0.8244 - val_loss: 2.1547 - val_acc: 0.5150\n",
      "Epoch 73/100\n",
      "50000/50000 [==============================] - 5s 103us/step - loss: 0.4858 - acc: 0.8251 - val_loss: 2.2282 - val_acc: 0.4971\n",
      "Epoch 74/100\n",
      "50000/50000 [==============================] - 5s 95us/step - loss: 0.4847 - acc: 0.8257 - val_loss: 2.2179 - val_acc: 0.5115\n",
      "Epoch 75/100\n",
      "50000/50000 [==============================] - 5s 95us/step - loss: 0.4690 - acc: 0.8320 - val_loss: 2.2257 - val_acc: 0.5051\n",
      "Epoch 76/100\n",
      "50000/50000 [==============================] - 5s 95us/step - loss: 0.4672 - acc: 0.8311 - val_loss: 2.2757 - val_acc: 0.5007\n",
      "Epoch 77/100\n",
      "50000/50000 [==============================] - 5s 95us/step - loss: 0.4508 - acc: 0.8390 - val_loss: 2.2147 - val_acc: 0.5157\n",
      "Epoch 78/100\n",
      "50000/50000 [==============================] - 5s 94us/step - loss: 0.4421 - acc: 0.8412 - val_loss: 2.3273 - val_acc: 0.5092\n",
      "Epoch 79/100\n",
      "50000/50000 [==============================] - 5s 95us/step - loss: 0.4484 - acc: 0.8382 - val_loss: 2.3364 - val_acc: 0.5070\n",
      "Epoch 80/100\n",
      "50000/50000 [==============================] - 5s 94us/step - loss: 0.4313 - acc: 0.8443 - val_loss: 2.3469 - val_acc: 0.5113\n",
      "Epoch 81/100\n",
      "50000/50000 [==============================] - 5s 94us/step - loss: 0.4348 - acc: 0.8426 - val_loss: 2.3907 - val_acc: 0.5018\n",
      "Epoch 82/100\n",
      "50000/50000 [==============================] - 5s 95us/step - loss: 0.4198 - acc: 0.8506 - val_loss: 2.4400 - val_acc: 0.5030\n",
      "Epoch 83/100\n",
      "50000/50000 [==============================] - 5s 95us/step - loss: 0.4071 - acc: 0.8538 - val_loss: 2.4297 - val_acc: 0.5083\n",
      "Epoch 84/100\n",
      "50000/50000 [==============================] - 5s 94us/step - loss: 0.4008 - acc: 0.8566 - val_loss: 2.5174 - val_acc: 0.5000\n",
      "Epoch 85/100\n",
      "50000/50000 [==============================] - 5s 95us/step - loss: 0.4342 - acc: 0.8435 - val_loss: 2.4757 - val_acc: 0.5045\n",
      "Epoch 86/100\n",
      "50000/50000 [==============================] - 5s 95us/step - loss: 0.3829 - acc: 0.8622 - val_loss: 2.5269 - val_acc: 0.4984\n",
      "Epoch 87/100\n",
      "50000/50000 [==============================] - 5s 95us/step - loss: 0.3934 - acc: 0.8587 - val_loss: 2.5439 - val_acc: 0.4981\n",
      "Epoch 88/100\n",
      "50000/50000 [==============================] - 5s 95us/step - loss: 0.3879 - acc: 0.8607 - val_loss: 2.5182 - val_acc: 0.4903\n",
      "Epoch 89/100\n",
      "50000/50000 [==============================] - 5s 95us/step - loss: 0.3736 - acc: 0.8661 - val_loss: 2.5883 - val_acc: 0.5088\n",
      "Epoch 90/100\n",
      "50000/50000 [==============================] - 5s 95us/step - loss: 0.3881 - acc: 0.8612 - val_loss: 2.5471 - val_acc: 0.5088\n",
      "Epoch 91/100\n",
      "50000/50000 [==============================] - 5s 95us/step - loss: 0.3802 - acc: 0.8637 - val_loss: 2.6293 - val_acc: 0.5065\n",
      "Epoch 92/100\n",
      "50000/50000 [==============================] - 5s 95us/step - loss: 0.3910 - acc: 0.8614 - val_loss: 2.5560 - val_acc: 0.5038\n",
      "Epoch 93/100\n",
      "50000/50000 [==============================] - 5s 94us/step - loss: 0.3821 - acc: 0.8616 - val_loss: 2.6890 - val_acc: 0.4937\n",
      "Epoch 94/100\n",
      "50000/50000 [==============================] - 5s 95us/step - loss: 0.3714 - acc: 0.8664 - val_loss: 2.7864 - val_acc: 0.4964\n",
      "Epoch 95/100\n",
      "50000/50000 [==============================] - 5s 98us/step - loss: 0.3581 - acc: 0.8713 - val_loss: 2.6764 - val_acc: 0.5070\n",
      "Epoch 96/100\n",
      "50000/50000 [==============================] - 6s 114us/step - loss: 0.3446 - acc: 0.8766 - val_loss: 2.7409 - val_acc: 0.5056\n",
      "Epoch 97/100\n",
      "50000/50000 [==============================] - 5s 110us/step - loss: 0.3434 - acc: 0.8782 - val_loss: 2.7229 - val_acc: 0.5041\n",
      "Epoch 98/100\n",
      "50000/50000 [==============================] - 5s 95us/step - loss: 0.3770 - acc: 0.8651 - val_loss: 2.7524 - val_acc: 0.4969\n",
      "Epoch 99/100\n",
      "50000/50000 [==============================] - 5s 96us/step - loss: 0.3143 - acc: 0.8894 - val_loss: 2.8265 - val_acc: 0.4931\n",
      "Epoch 100/100\n",
      "50000/50000 [==============================] - 5s 95us/step - loss: 0.3141 - acc: 0.8873 - val_loss: 2.8131 - val_acc: 0.5029\n"
     ]
    },
    {
     "data": {
      "text/plain": [
       "<keras.callbacks.History at 0x2be5fe53588>"
      ]
     },
     "execution_count": 14,
     "metadata": {},
     "output_type": "execute_result"
    }
   ],
   "source": [
    "\n",
    "model.fit(x_train, y_train, \n",
    "          epochs=EPOCHS, \n",
    "          batch_size=BATCH_SIZE, \n",
    "          validation_data=(x_test, y_test), \n",
    "          shuffle=True)"
   ]
  },
  {
   "cell_type": "code",
   "execution_count": 16,
   "metadata": {
    "ExecuteTime": {
     "end_time": "2019-07-21T13:44:16.392781Z",
     "start_time": "2019-07-21T13:44:16.055130Z"
    }
   },
   "outputs": [
    {
     "data": {
      "image/png": "[encoded data removed]",
      "text/plain": [
       "<Figure size 432x288 with 1 Axes>"
      ]
     },
     "metadata": {
      "needs_background": "light"
     },
     "output_type": "display_data"
    },
    {
     "data": {
      "image/png": "[encoded data removed]",
      "text/plain": [
       "<Figure size 432x288 with 1 Axes>"
      ]
     },
     "metadata": {
      "needs_background": "light"
     },
     "output_type": "display_data"
    }
   ],
   "source": [
    "import matplotlib.pyplot as plt\n",
    "\n",
    "\n",
    "train_loss = model.history.history[\"loss\"]\n",
    "valid_loss = model.history.history[\"val_loss\"]\n",
    "\n",
    "train_acc = model.history.history[\"acc\"]\n",
    "valid_acc = model.history.history[\"val_acc\"]\n",
    "\n",
    "plt.plot(range(len(train_loss)), train_loss, label=\"train loss\")\n",
    "plt.plot(range(len(valid_loss)), valid_loss, label=\"valid loss\")\n",
    "plt.legend()\n",
    "plt.title(\"Loss\")\n",
    "plt.show()\n",
    "\n",
    "plt.plot(range(len(train_acc)), train_acc, label=\"train accuracy\")\n",
    "plt.plot(range(len(valid_acc)), valid_acc, label=\"valid accuracy\")\n",
    "plt.legend()\n",
    "plt.title(\"Accuracy\")\n",
    "plt.show()"
   ]
  },
  {
   "cell_type": "markdown",
   "metadata": {},
   "source": [
    "# Homework\n",
    "1. 請嘗試將 preproc_x 替換成以每筆資料的 min/max 進行標準化至 -1 ~ 1 間，再進行訓練\n",
    "2. 請嘗試將 mlp 疊更深 (e.g 5~10 層)，進行訓練後觀察 learning curve 的走勢\n",
    "3. (optional) 請改用 GPU 進行訓練 (如果你有 GPU 的話)，比較使用 CPU 與 GPU 的訓練速度"
   ]
  },
  {
   "cell_type": "markdown",
   "metadata": {},
   "source": [
    "## 以每筆資料的 min/max 進行標準化至 -1 ~ 1 "
   ]
  },
  {
   "cell_type": "code",
   "execution_count": 17,
   "metadata": {
    "ExecuteTime": {
     "end_time": "2019-07-21T13:47:25.416711Z",
     "start_time": "2019-07-21T13:47:24.876180Z"
    }
   },
   "outputs": [],
   "source": [
    "train, test = keras.datasets.cifar10.load_data()"
   ]
  },
  {
   "cell_type": "code",
   "execution_count": 18,
   "metadata": {
    "ExecuteTime": {
     "end_time": "2019-07-21T13:48:39.137070Z",
     "start_time": "2019-07-21T13:48:39.131067Z"
    }
   },
   "outputs": [],
   "source": [
    "## 資料前處理\n",
    "def preproc_x(x, flatten = True):\n",
    "    if flatten:\n",
    "        x = x.astype(float).reshape((x.shape[0],-1))\n",
    "    for i in range(x.shape[0]):\n",
    "        x_min, x_max = x[i,:].min(), x[i,:].max()\n",
    "        x[i,:] = (((x[i,:]-x_min)/(x_max-x_min))-0.5)*2\n",
    "    return x\n",
    "\n",
    "def preproc_y(y, num_classes = 10):\n",
    "    if y.shape[-1] == 1:\n",
    "        y = keras.utils.to_categorical(y, num_classes=num_classes)\n",
    "    return y"
   ]
  },
  {
   "cell_type": "code",
   "execution_count": 19,
   "metadata": {
    "ExecuteTime": {
     "end_time": "2019-07-21T13:48:52.449393Z",
     "start_time": "2019-07-21T13:48:43.488333Z"
    }
   },
   "outputs": [],
   "source": [
    "x_train, y_train = train\n",
    "x_test, y_test = test\n",
    "\n",
    "# Preproc the inputs\n",
    "x_train = preproc_x(x_train)\n",
    "x_test = preproc_x(x_test)\n",
    "\n",
    "# Preprc the outputs\n",
    "y_train = preproc_y(y_train)\n",
    "y_test = preproc_y(y_test)"
   ]
  },
  {
   "cell_type": "markdown",
   "metadata": {},
   "source": [
    "## 將 mlp 疊更深"
   ]
  },
  {
   "cell_type": "code",
   "execution_count": 21,
   "metadata": {
    "ExecuteTime": {
     "end_time": "2019-07-21T13:50:56.325590Z",
     "start_time": "2019-07-21T13:50:55.925094Z"
    }
   },
   "outputs": [
    {
     "name": "stdout",
     "output_type": "stream",
     "text": [
      "_________________________________________________________________\n",
      "Layer (type)                 Output Shape              Param #   \n",
      "=================================================================\n",
      "input_3 (InputLayer)         (None, 3072)              0         \n",
      "_________________________________________________________________\n",
      "hidden_layer1 (Dense)        (None, 1024)              3146752   \n",
      "_________________________________________________________________\n",
      "hidden_layer2 (Dense)        (None, 512)               524800    \n",
      "_________________________________________________________________\n",
      "hidden_layer3 (Dense)        (None, 256)               131328    \n",
      "_________________________________________________________________\n",
      "hidden_layer4 (Dense)        (None, 128)               32896     \n",
      "_________________________________________________________________\n",
      "hidden_layer5 (Dense)        (None, 64)                8256      \n",
      "_________________________________________________________________\n",
      "hidden_layer6 (Dense)        (None, 32)                2080      \n",
      "_________________________________________________________________\n",
      "Output (Dense)               (None, 10)                330       \n",
      "=================================================================\n",
      "Total params: 3,846,442\n",
      "Trainable params: 3,846,442\n",
      "Non-trainable params: 0\n",
      "_________________________________________________________________\n"
     ]
    }
   ],
   "source": [
    "def build_mlp(input_shape, num_classes, num_neurons = [1024, 512, 256, 128, 64, 32]):\n",
    "    input_layer = keras.layers.Input(input_shape)\n",
    "    \n",
    "    for i, n in enumerate(num_neurons):\n",
    "        if i == 0:\n",
    "            x = keras.layers.Dense(n, activation='relu', name = 'hidden_layer'+str(i+1))(input_layer)\n",
    "        else:\n",
    "            x = keras.layers.Dense(n, activation='relu', name = 'hidden_layer'+str(i+1))(x)\n",
    "    \n",
    "    out = keras.layers.Dense(num_classes, activation='softmax', name = 'Output')(x)\n",
    "    \n",
    "    model = keras.models.Model(inputs = [input_layer], outputs = [out])\n",
    "    return model\n",
    "\n",
    "model = build_mlp(x_train.shape[1:], y_train.shape[-1])\n",
    "model.summary()"
   ]
  },
  {
   "cell_type": "code",
   "execution_count": 22,
   "metadata": {
    "ExecuteTime": {
     "end_time": "2019-07-21T13:51:15.103140Z",
     "start_time": "2019-07-21T13:51:15.098149Z"
    }
   },
   "outputs": [],
   "source": [
    "## 超參數設定\n",
    "LEARNING_RATE = 0.001\n",
    "EPOCHS = 100\n",
    "BATCH_SIZE = 256"
   ]
  },
  {
   "cell_type": "code",
   "execution_count": 23,
   "metadata": {
    "ExecuteTime": {
     "end_time": "2019-07-21T13:51:15.459828Z",
     "start_time": "2019-07-21T13:51:15.393217Z"
    }
   },
   "outputs": [],
   "source": [
    "optimizer = keras.optimizers.Adam(lr=LEARNING_RATE)\n",
    "model.compile(loss=\"categorical_crossentropy\", metrics=[\"accuracy\"], optimizer=optimizer)"
   ]
  },
  {
   "cell_type": "code",
   "execution_count": 24,
   "metadata": {
    "ExecuteTime": {
     "end_time": "2019-07-21T14:04:14.162548Z",
     "start_time": "2019-07-21T13:51:36.073148Z"
    },
    "scrolled": false
   },
   "outputs": [
    {
     "name": "stdout",
     "output_type": "stream",
     "text": [
      "Train on 50000 samples, validate on 10000 samples\n",
      "Epoch 1/100\n",
      "50000/50000 [==============================] - 9s 182us/step - loss: 1.7065 - acc: 0.3927 - val_loss: 1.5201 - val_acc: 0.4563\n",
      "Epoch 2/100\n",
      "50000/50000 [==============================] - 8s 151us/step - loss: 1.4706 - acc: 0.4787 - val_loss: 1.4587 - val_acc: 0.4859\n",
      "Epoch 3/100\n",
      "50000/50000 [==============================] - 7s 146us/step - loss: 1.3426 - acc: 0.5239 - val_loss: 1.3984 - val_acc: 0.5066\n",
      "Epoch 4/100\n",
      "50000/50000 [==============================] - 7s 145us/step - loss: 1.2490 - acc: 0.5585 - val_loss: 1.3799 - val_acc: 0.5139\n",
      "Epoch 5/100\n",
      "50000/50000 [==============================] - 7s 147us/step - loss: 1.1591 - acc: 0.5911 - val_loss: 1.3556 - val_acc: 0.5272\n",
      "Epoch 6/100\n",
      "50000/50000 [==============================] - 7s 148us/step - loss: 1.0726 - acc: 0.6222 - val_loss: 1.3443 - val_acc: 0.5428\n",
      "Epoch 7/100\n",
      "50000/50000 [==============================] - 8s 150us/step - loss: 0.9763 - acc: 0.6561 - val_loss: 1.4200 - val_acc: 0.5314\n",
      "Epoch 8/100\n",
      "50000/50000 [==============================] - 7s 149us/step - loss: 0.9004 - acc: 0.6813 - val_loss: 1.3965 - val_acc: 0.5381\n",
      "Epoch 9/100\n",
      "50000/50000 [==============================] - 8s 154us/step - loss: 0.8143 - acc: 0.7086 - val_loss: 1.4123 - val_acc: 0.5445\n",
      "Epoch 10/100\n",
      "50000/50000 [==============================] - 7s 146us/step - loss: 0.7358 - acc: 0.7390 - val_loss: 1.5530 - val_acc: 0.5409\n",
      "Epoch 11/100\n",
      "50000/50000 [==============================] - 7s 147us/step - loss: 0.6701 - acc: 0.7642 - val_loss: 1.5784 - val_acc: 0.5426\n",
      "Epoch 12/100\n",
      "50000/50000 [==============================] - 7s 146us/step - loss: 0.6008 - acc: 0.7876 - val_loss: 1.6123 - val_acc: 0.5361\n",
      "Epoch 13/100\n",
      "50000/50000 [==============================] - 7s 146us/step - loss: 0.5236 - acc: 0.8156 - val_loss: 1.7485 - val_acc: 0.5393\n",
      "Epoch 14/100\n",
      "50000/50000 [==============================] - 7s 146us/step - loss: 0.4716 - acc: 0.8342 - val_loss: 1.8952 - val_acc: 0.5379\n",
      "Epoch 15/100\n",
      "50000/50000 [==============================] - 7s 146us/step - loss: 0.4274 - acc: 0.8483 - val_loss: 1.9322 - val_acc: 0.5386\n",
      "Epoch 16/100\n",
      "50000/50000 [==============================] - 7s 146us/step - loss: 0.3924 - acc: 0.8630 - val_loss: 2.0114 - val_acc: 0.5441\n",
      "Epoch 17/100\n",
      "50000/50000 [==============================] - 7s 146us/step - loss: 0.3274 - acc: 0.8848 - val_loss: 2.1444 - val_acc: 0.5328\n",
      "Epoch 18/100\n",
      "50000/50000 [==============================] - 7s 146us/step - loss: 0.3152 - acc: 0.8884 - val_loss: 2.2711 - val_acc: 0.5408\n",
      "Epoch 19/100\n",
      "50000/50000 [==============================] - 7s 147us/step - loss: 0.2903 - acc: 0.8985 - val_loss: 2.2922 - val_acc: 0.5375\n",
      "Epoch 20/100\n",
      "50000/50000 [==============================] - 7s 147us/step - loss: 0.2410 - acc: 0.9156 - val_loss: 2.4573 - val_acc: 0.5381\n",
      "Epoch 21/100\n",
      "50000/50000 [==============================] - 7s 147us/step - loss: 0.2458 - acc: 0.9151 - val_loss: 2.4667 - val_acc: 0.5413\n",
      "Epoch 22/100\n",
      "50000/50000 [==============================] - 7s 147us/step - loss: 0.2284 - acc: 0.9205 - val_loss: 2.4650 - val_acc: 0.5438\n",
      "Epoch 23/100\n",
      "50000/50000 [==============================] - 7s 149us/step - loss: 0.1969 - acc: 0.9316 - val_loss: 2.7046 - val_acc: 0.5322\n",
      "Epoch 24/100\n",
      "50000/50000 [==============================] - 7s 147us/step - loss: 0.2061 - acc: 0.9301 - val_loss: 2.7588 - val_acc: 0.5462\n",
      "Epoch 25/100\n",
      "50000/50000 [==============================] - 7s 147us/step - loss: 0.1894 - acc: 0.9353 - val_loss: 2.8009 - val_acc: 0.5410\n",
      "Epoch 26/100\n",
      "50000/50000 [==============================] - 7s 147us/step - loss: 0.1728 - acc: 0.9414 - val_loss: 2.8017 - val_acc: 0.5384\n",
      "Epoch 27/100\n",
      "50000/50000 [==============================] - 7s 148us/step - loss: 0.1661 - acc: 0.9437 - val_loss: 2.8993 - val_acc: 0.5393\n",
      "Epoch 28/100\n",
      "50000/50000 [==============================] - 8s 152us/step - loss: 0.1701 - acc: 0.9421 - val_loss: 2.9071 - val_acc: 0.5416\n",
      "Epoch 29/100\n",
      "50000/50000 [==============================] - 8s 153us/step - loss: 0.1411 - acc: 0.9519 - val_loss: 2.9581 - val_acc: 0.5415\n",
      "Epoch 30/100\n",
      "50000/50000 [==============================] - 7s 148us/step - loss: 0.1487 - acc: 0.9507 - val_loss: 2.8821 - val_acc: 0.5491\n",
      "Epoch 31/100\n",
      "50000/50000 [==============================] - 7s 148us/step - loss: 0.1291 - acc: 0.9575 - val_loss: 3.0880 - val_acc: 0.5351\n",
      "Epoch 32/100\n",
      "50000/50000 [==============================] - 8s 150us/step - loss: 0.1484 - acc: 0.9504 - val_loss: 3.0588 - val_acc: 0.5473\n",
      "Epoch 33/100\n",
      "50000/50000 [==============================] - 7s 149us/step - loss: 0.1165 - acc: 0.9616 - val_loss: 3.0447 - val_acc: 0.5387\n",
      "Epoch 34/100\n",
      "50000/50000 [==============================] - 7s 149us/step - loss: 0.1422 - acc: 0.9523 - val_loss: 2.8783 - val_acc: 0.5490\n",
      "Epoch 35/100\n",
      "50000/50000 [==============================] - 8s 155us/step - loss: 0.1190 - acc: 0.9600 - val_loss: 3.0601 - val_acc: 0.5369\n",
      "Epoch 36/100\n",
      "50000/50000 [==============================] - 8s 160us/step - loss: 0.1249 - acc: 0.9582 - val_loss: 3.0252 - val_acc: 0.5389\n",
      "Epoch 37/100\n",
      "50000/50000 [==============================] - 8s 159us/step - loss: 0.1132 - acc: 0.9629 - val_loss: 3.1645 - val_acc: 0.5503\n",
      "Epoch 38/100\n",
      "50000/50000 [==============================] - 8s 153us/step - loss: 0.1048 - acc: 0.9655 - val_loss: 3.1995 - val_acc: 0.5369\n",
      "Epoch 39/100\n",
      "50000/50000 [==============================] - 8s 150us/step - loss: 0.1279 - acc: 0.9566 - val_loss: 3.2166 - val_acc: 0.5454\n",
      "Epoch 40/100\n",
      "50000/50000 [==============================] - 8s 151us/step - loss: 0.0921 - acc: 0.9695 - val_loss: 3.3023 - val_acc: 0.5460\n",
      "Epoch 41/100\n",
      "50000/50000 [==============================] - 8s 151us/step - loss: 0.0906 - acc: 0.9705 - val_loss: 3.2676 - val_acc: 0.5365\n",
      "Epoch 42/100\n",
      "50000/50000 [==============================] - 8s 151us/step - loss: 0.1098 - acc: 0.9644 - val_loss: 3.1314 - val_acc: 0.5463\n",
      "Epoch 43/100\n",
      "50000/50000 [==============================] - 8s 153us/step - loss: 0.0976 - acc: 0.9684 - val_loss: 3.2286 - val_acc: 0.5443\n",
      "Epoch 44/100\n",
      "50000/50000 [==============================] - 8s 152us/step - loss: 0.0802 - acc: 0.9740 - val_loss: 3.3461 - val_acc: 0.5462\n",
      "Epoch 45/100\n",
      "50000/50000 [==============================] - 8s 167us/step - loss: 0.1120 - acc: 0.9632 - val_loss: 3.2299 - val_acc: 0.5432\n",
      "Epoch 46/100\n",
      "50000/50000 [==============================] - 8s 153us/step - loss: 0.0945 - acc: 0.9693 - val_loss: 3.2523 - val_acc: 0.5435\n",
      "Epoch 47/100\n",
      "50000/50000 [==============================] - 8s 151us/step - loss: 0.0824 - acc: 0.9738 - val_loss: 3.3318 - val_acc: 0.5473\n",
      "Epoch 48/100\n",
      "50000/50000 [==============================] - 8s 151us/step - loss: 0.0850 - acc: 0.9723 - val_loss: 3.3435 - val_acc: 0.5339\n",
      "Epoch 49/100\n",
      "50000/50000 [==============================] - 8s 150us/step - loss: 0.0992 - acc: 0.9682 - val_loss: 3.2908 - val_acc: 0.5428\n",
      "Epoch 50/100\n",
      "50000/50000 [==============================] - 8s 151us/step - loss: 0.0956 - acc: 0.9685 - val_loss: 3.3478 - val_acc: 0.5384\n",
      "Epoch 51/100\n",
      "50000/50000 [==============================] - 8s 151us/step - loss: 0.0751 - acc: 0.9756 - val_loss: 3.3646 - val_acc: 0.5471\n",
      "Epoch 52/100\n",
      "50000/50000 [==============================] - 8s 151us/step - loss: 0.0797 - acc: 0.9739 - val_loss: 3.3885 - val_acc: 0.5456\n",
      "Epoch 53/100\n",
      "50000/50000 [==============================] - 8s 154us/step - loss: 0.0965 - acc: 0.9689 - val_loss: 3.2223 - val_acc: 0.5394\n",
      "Epoch 54/100\n",
      "50000/50000 [==============================] - 8s 152us/step - loss: 0.0716 - acc: 0.9764 - val_loss: 3.3960 - val_acc: 0.5498\n",
      "Epoch 55/100\n",
      "50000/50000 [==============================] - 8s 151us/step - loss: 0.0778 - acc: 0.9749 - val_loss: 3.4424 - val_acc: 0.5452\n",
      "Epoch 56/100\n",
      "50000/50000 [==============================] - 8s 152us/step - loss: 0.0928 - acc: 0.9700 - val_loss: 3.2950 - val_acc: 0.5425\n",
      "Epoch 57/100\n",
      "50000/50000 [==============================] - 8s 152us/step - loss: 0.0804 - acc: 0.9738 - val_loss: 3.3070 - val_acc: 0.5511\n",
      "Epoch 58/100\n",
      "50000/50000 [==============================] - 8s 152us/step - loss: 0.0629 - acc: 0.9798 - val_loss: 3.4247 - val_acc: 0.5486\n",
      "Epoch 59/100\n"
     ]
    },
    {
     "name": "stdout",
     "output_type": "stream",
     "text": [
      "50000/50000 [==============================] - 8s 150us/step - loss: 0.0761 - acc: 0.9755 - val_loss: 3.4446 - val_acc: 0.5489\n",
      "Epoch 60/100\n",
      "50000/50000 [==============================] - 8s 151us/step - loss: 0.0715 - acc: 0.9777 - val_loss: 3.3922 - val_acc: 0.5514\n",
      "Epoch 61/100\n",
      "50000/50000 [==============================] - 8s 151us/step - loss: 0.0812 - acc: 0.9737 - val_loss: 3.2490 - val_acc: 0.5429\n",
      "Epoch 62/100\n",
      "50000/50000 [==============================] - 8s 151us/step - loss: 0.0729 - acc: 0.9764 - val_loss: 3.4501 - val_acc: 0.5445\n",
      "Epoch 63/100\n",
      "50000/50000 [==============================] - 8s 151us/step - loss: 0.0710 - acc: 0.9774 - val_loss: 3.4492 - val_acc: 0.5459\n",
      "Epoch 64/100\n",
      "50000/50000 [==============================] - 8s 152us/step - loss: 0.0689 - acc: 0.9780 - val_loss: 3.4360 - val_acc: 0.5433\n",
      "Epoch 65/100\n",
      "50000/50000 [==============================] - 8s 151us/step - loss: 0.0718 - acc: 0.9773 - val_loss: 3.4239 - val_acc: 0.5536\n",
      "Epoch 66/100\n",
      "50000/50000 [==============================] - 8s 161us/step - loss: 0.0620 - acc: 0.9810 - val_loss: 3.4349 - val_acc: 0.5402\n",
      "Epoch 67/100\n",
      "50000/50000 [==============================] - 8s 153us/step - loss: 0.0709 - acc: 0.9774 - val_loss: 3.3945 - val_acc: 0.5445\n",
      "Epoch 68/100\n",
      "50000/50000 [==============================] - 8s 152us/step - loss: 0.0745 - acc: 0.9766 - val_loss: 3.4453 - val_acc: 0.5430\n",
      "Epoch 69/100\n",
      "50000/50000 [==============================] - 8s 152us/step - loss: 0.0716 - acc: 0.9766 - val_loss: 3.3985 - val_acc: 0.5513\n",
      "Epoch 70/100\n",
      "50000/50000 [==============================] - 8s 152us/step - loss: 0.0638 - acc: 0.9803 - val_loss: 3.4477 - val_acc: 0.5528\n",
      "Epoch 71/100\n",
      "50000/50000 [==============================] - 8s 151us/step - loss: 0.0550 - acc: 0.9825 - val_loss: 3.3752 - val_acc: 0.5477\n",
      "Epoch 72/100\n",
      "50000/50000 [==============================] - 8s 152us/step - loss: 0.0716 - acc: 0.9772 - val_loss: 3.3612 - val_acc: 0.5508\n",
      "Epoch 73/100\n",
      "50000/50000 [==============================] - 8s 152us/step - loss: 0.0523 - acc: 0.9838 - val_loss: 3.5657 - val_acc: 0.5416\n",
      "Epoch 74/100\n",
      "50000/50000 [==============================] - 8s 152us/step - loss: 0.0731 - acc: 0.9772 - val_loss: 3.3697 - val_acc: 0.5474\n",
      "Epoch 75/100\n",
      "50000/50000 [==============================] - 8s 152us/step - loss: 0.0588 - acc: 0.9816 - val_loss: 3.6226 - val_acc: 0.5455\n",
      "Epoch 76/100\n",
      "50000/50000 [==============================] - 8s 152us/step - loss: 0.0595 - acc: 0.9814 - val_loss: 3.5148 - val_acc: 0.5510\n",
      "Epoch 77/100\n",
      "50000/50000 [==============================] - 8s 152us/step - loss: 0.0674 - acc: 0.9793 - val_loss: 3.3793 - val_acc: 0.5448\n",
      "Epoch 78/100\n",
      "50000/50000 [==============================] - 8s 153us/step - loss: 0.0593 - acc: 0.9813 - val_loss: 3.4281 - val_acc: 0.5547\n",
      "Epoch 79/100\n",
      "50000/50000 [==============================] - 8s 152us/step - loss: 0.0475 - acc: 0.9856 - val_loss: 3.4385 - val_acc: 0.5521\n",
      "Epoch 80/100\n",
      "50000/50000 [==============================] - 8s 153us/step - loss: 0.0471 - acc: 0.9854 - val_loss: 3.5805 - val_acc: 0.5431\n",
      "Epoch 81/100\n",
      "50000/50000 [==============================] - 8s 152us/step - loss: 0.0724 - acc: 0.9769 - val_loss: 3.3727 - val_acc: 0.5443\n",
      "Epoch 82/100\n",
      "50000/50000 [==============================] - 8s 154us/step - loss: 0.0418 - acc: 0.9875 - val_loss: 3.5738 - val_acc: 0.5531\n",
      "Epoch 83/100\n",
      "50000/50000 [==============================] - 8s 156us/step - loss: 0.0621 - acc: 0.9799 - val_loss: 3.4422 - val_acc: 0.5533\n",
      "Epoch 84/100\n",
      "50000/50000 [==============================] - 8s 153us/step - loss: 0.0568 - acc: 0.9821 - val_loss: 3.4134 - val_acc: 0.5513\n",
      "Epoch 85/100\n",
      "50000/50000 [==============================] - 8s 153us/step - loss: 0.0469 - acc: 0.9852 - val_loss: 3.5485 - val_acc: 0.5428\n",
      "Epoch 86/100\n",
      "50000/50000 [==============================] - 8s 154us/step - loss: 0.0603 - acc: 0.9802 - val_loss: 3.5031 - val_acc: 0.5438\n",
      "Epoch 87/100\n",
      "50000/50000 [==============================] - 8s 153us/step - loss: 0.0594 - acc: 0.9817 - val_loss: 3.4485 - val_acc: 0.5515\n",
      "Epoch 88/100\n",
      "50000/50000 [==============================] - 8s 153us/step - loss: 0.0433 - acc: 0.9861 - val_loss: 3.4933 - val_acc: 0.5446\n",
      "Epoch 89/100\n",
      "50000/50000 [==============================] - 8s 153us/step - loss: 0.0465 - acc: 0.9860 - val_loss: 3.4918 - val_acc: 0.5429\n",
      "Epoch 90/100\n",
      "50000/50000 [==============================] - 8s 153us/step - loss: 0.0429 - acc: 0.9865 - val_loss: 3.5173 - val_acc: 0.5496\n",
      "Epoch 91/100\n",
      "50000/50000 [==============================] - 8s 154us/step - loss: 0.0486 - acc: 0.9853 - val_loss: 3.5283 - val_acc: 0.5483\n",
      "Epoch 92/100\n",
      "50000/50000 [==============================] - 8s 154us/step - loss: 0.0543 - acc: 0.9828 - val_loss: 3.3962 - val_acc: 0.5409\n",
      "Epoch 93/100\n",
      "50000/50000 [==============================] - 8s 153us/step - loss: 0.0655 - acc: 0.9800 - val_loss: 3.4328 - val_acc: 0.5404\n",
      "Epoch 94/100\n",
      "50000/50000 [==============================] - 8s 155us/step - loss: 0.0450 - acc: 0.9859 - val_loss: 3.5004 - val_acc: 0.5465\n",
      "Epoch 95/100\n",
      "50000/50000 [==============================] - 8s 153us/step - loss: 0.0445 - acc: 0.9858 - val_loss: 3.4926 - val_acc: 0.5436\n",
      "Epoch 96/100\n",
      "50000/50000 [==============================] - 8s 153us/step - loss: 0.0466 - acc: 0.9858 - val_loss: 3.3704 - val_acc: 0.5449\n",
      "Epoch 97/100\n",
      "50000/50000 [==============================] - 8s 153us/step - loss: 0.0469 - acc: 0.9858 - val_loss: 3.4395 - val_acc: 0.5479\n",
      "Epoch 98/100\n",
      "50000/50000 [==============================] - 8s 153us/step - loss: 0.0454 - acc: 0.9861 - val_loss: 3.5097 - val_acc: 0.5418\n",
      "Epoch 99/100\n",
      "50000/50000 [==============================] - 8s 153us/step - loss: 0.0446 - acc: 0.9868 - val_loss: 3.5414 - val_acc: 0.5458\n",
      "Epoch 100/100\n",
      "50000/50000 [==============================] - 8s 154us/step - loss: 0.0526 - acc: 0.9844 - val_loss: 3.3686 - val_acc: 0.5468\n"
     ]
    },
    {
     "data": {
      "text/plain": [
       "<keras.callbacks.History at 0x2be456b4710>"
      ]
     },
     "execution_count": 24,
     "metadata": {},
     "output_type": "execute_result"
    }
   ],
   "source": [
    "model.fit(x_train, y_train, \n",
    "          epochs=EPOCHS, \n",
    "          batch_size=BATCH_SIZE, \n",
    "          validation_data=(x_test, y_test), \n",
    "          shuffle=True)"
   ]
  },
  {
   "cell_type": "code",
   "execution_count": 26,
   "metadata": {
    "ExecuteTime": {
     "end_time": "2019-07-21T14:06:34.667308Z",
     "start_time": "2019-07-21T14:06:34.381045Z"
    }
   },
   "outputs": [
    {
     "data": {
      "image/png": "[encoded data removed]",
      "text/plain": [
       "<Figure size 432x288 with 1 Axes>"
      ]
     },
     "metadata": {
      "needs_background": "light"
     },
     "output_type": "display_data"
    },
    {
     "data": {
      "image/png": "[encoded data removed]",
      "text/plain": [
       "<Figure size 432x288 with 1 Axes>"
      ]
     },
     "metadata": {
      "needs_background": "light"
     },
     "output_type": "display_data"
    }
   ],
   "source": [
    "import matplotlib.pyplot as plt\n",
    "\n",
    "\n",
    "train_loss = model.history.history[\"loss\"]\n",
    "valid_loss = model.history.history[\"val_loss\"]\n",
    "\n",
    "train_acc = model.history.history[\"acc\"]\n",
    "valid_acc = model.history.history[\"val_acc\"]\n",
    "\n",
    "plt.plot(range(len(train_loss)), train_loss, label=\"train loss\")\n",
    "plt.plot(range(len(valid_loss)), valid_loss, label=\"valid loss\")\n",
    "plt.legend()\n",
    "plt.title(\"Loss\")\n",
    "plt.show()\n",
    "\n",
    "plt.plot(range(len(train_acc)), train_acc, label=\"train accuracy\")\n",
    "plt.plot(range(len(valid_acc)), valid_acc, label=\"valid accuracy\")\n",
    "plt.legend()\n",
    "plt.title(\"Accuracy\")\n",
    "plt.show()"
   ]
  },
  {
   "cell_type": "code",
   "execution_count": null,
   "metadata": {},
   "outputs": [],
   "source": []
  }
 ],
 "metadata": {
  "kernelspec": {
   "display_name": "Python 3",
   "language": "python",
   "name": "python3"
  },
  "language_info": {
   "codemirror_mode": {
    "name": "ipython",
    "version": 3
   },
   "file_extension": ".py",
   "mimetype": "text/x-python",
   "name": "python",
   "nbconvert_exporter": "python",
   "pygments_lexer": "ipython3",
   "version": "3.7.3"
  },
  "toc": {
   "base_numbering": 1,
   "nav_menu": {},
   "number_sections": true,
   "sideBar": true,
   "skip_h1_title": false,
   "title_cell": "Table of Contents",
   "title_sidebar": "Contents",
   "toc_cell": false,
   "toc_position": {},
   "toc_section_display": true,
   "toc_window_display": false
  },
  "varInspector": {
   "cols": {
    "lenName": 16,
    "lenType": 16,
    "lenVar": 40
   },
   "kernels_config": {
    "python": {
     "delete_cmd_postfix": "",
     "delete_cmd_prefix": "del ",
     "library": "var_list.py",
     "varRefreshCmd": "print(var_dic_list())"
    },
    "r": {
     "delete_cmd_postfix": ") ",
     "delete_cmd_prefix": "rm(",
     "library": "var_list.r",
     "varRefreshCmd": "cat(var_dic_list()) "
    }
   },
   "types_to_exclude": [
    "module",
    "function",
    "builtin_function_or_method",
    "instance",
    "_Feature"
   ],
   "window_display": false
  }
 },
 "nbformat": 4,
 "nbformat_minor": 2
}
