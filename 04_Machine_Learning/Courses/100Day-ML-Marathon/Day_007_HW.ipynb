{
 "cells": [
  {
   "cell_type": "markdown",
   "metadata": {},
   "source": [
    "# 處理 outliers\n",
    "* 新增欄位註記\n",
    "* outliers 或 NA 填補\n",
    "    1. 平均數 (mean)\n",
    "    2. 中位數 (median, or Q50)\n",
    "    3. 最大/最小值 (max/min, Q100, Q0)\n",
    "    4. 分位數 (quantile)"
   ]
  },
  {
   "cell_type": "code",
   "execution_count": 1,
   "metadata": {},
   "outputs": [],
   "source": [
    "# Import 需要的套件\n",
    "import os\n",
    "import numpy as np\n",
    "import pandas as pd\n",
    "import matplotlib.pyplot as plt\n",
    "import seaborn as sns\n",
    "\n",
    "%matplotlib inline\n",
    "\n",
    "# 設定 data_path\n",
    "dir_data = './data/'"
   ]
  },
  {
   "cell_type": "code",
   "execution_count": 2,
   "metadata": {},
   "outputs": [
    {
     "data": {
      "text/html": [
       "<div>\n",
       "<style scoped>\n",
       "    .dataframe tbody tr th:only-of-type {\n",
       "        vertical-align: middle;\n",
       "    }\n",
       "\n",
       "    .dataframe tbody tr th {\n",
       "        vertical-align: top;\n",
       "    }\n",
       "\n",
       "    .dataframe thead th {\n",
       "        text-align: right;\n",
       "    }\n",
       "</style>\n",
       "<table border=\"1\" class=\"dataframe\">\n",
       "  <thead>\n",
       "    <tr style=\"text-align: right;\">\n",
       "      <th></th>\n",
       "      <th>SK_ID_CURR</th>\n",
       "      <th>TARGET</th>\n",
       "      <th>NAME_CONTRACT_TYPE</th>\n",
       "      <th>CODE_GENDER</th>\n",
       "      <th>FLAG_OWN_CAR</th>\n",
       "      <th>FLAG_OWN_REALTY</th>\n",
       "      <th>CNT_CHILDREN</th>\n",
       "      <th>AMT_INCOME_TOTAL</th>\n",
       "      <th>AMT_CREDIT</th>\n",
       "      <th>AMT_ANNUITY</th>\n",
       "      <th>...</th>\n",
       "      <th>FLAG_DOCUMENT_18</th>\n",
       "      <th>FLAG_DOCUMENT_19</th>\n",
       "      <th>FLAG_DOCUMENT_20</th>\n",
       "      <th>FLAG_DOCUMENT_21</th>\n",
       "      <th>AMT_REQ_CREDIT_BUREAU_HOUR</th>\n",
       "      <th>AMT_REQ_CREDIT_BUREAU_DAY</th>\n",
       "      <th>AMT_REQ_CREDIT_BUREAU_WEEK</th>\n",
       "      <th>AMT_REQ_CREDIT_BUREAU_MON</th>\n",
       "      <th>AMT_REQ_CREDIT_BUREAU_QRT</th>\n",
       "      <th>AMT_REQ_CREDIT_BUREAU_YEAR</th>\n",
       "    </tr>\n",
       "  </thead>\n",
       "  <tbody>\n",
       "    <tr>\n",
       "      <th>0</th>\n",
       "      <td>100002</td>\n",
       "      <td>1</td>\n",
       "      <td>Cash loans</td>\n",
       "      <td>M</td>\n",
       "      <td>N</td>\n",
       "      <td>Y</td>\n",
       "      <td>0</td>\n",
       "      <td>202500.0</td>\n",
       "      <td>406597.5</td>\n",
       "      <td>24700.5</td>\n",
       "      <td>...</td>\n",
       "      <td>0</td>\n",
       "      <td>0</td>\n",
       "      <td>0</td>\n",
       "      <td>0</td>\n",
       "      <td>0.0</td>\n",
       "      <td>0.0</td>\n",
       "      <td>0.0</td>\n",
       "      <td>0.0</td>\n",
       "      <td>0.0</td>\n",
       "      <td>1.0</td>\n",
       "    </tr>\n",
       "    <tr>\n",
       "      <th>1</th>\n",
       "      <td>100003</td>\n",
       "      <td>0</td>\n",
       "      <td>Cash loans</td>\n",
       "      <td>F</td>\n",
       "      <td>N</td>\n",
       "      <td>N</td>\n",
       "      <td>0</td>\n",
       "      <td>270000.0</td>\n",
       "      <td>1293502.5</td>\n",
       "      <td>35698.5</td>\n",
       "      <td>...</td>\n",
       "      <td>0</td>\n",
       "      <td>0</td>\n",
       "      <td>0</td>\n",
       "      <td>0</td>\n",
       "      <td>0.0</td>\n",
       "      <td>0.0</td>\n",
       "      <td>0.0</td>\n",
       "      <td>0.0</td>\n",
       "      <td>0.0</td>\n",
       "      <td>0.0</td>\n",
       "    </tr>\n",
       "    <tr>\n",
       "      <th>2</th>\n",
       "      <td>100004</td>\n",
       "      <td>0</td>\n",
       "      <td>Revolving loans</td>\n",
       "      <td>M</td>\n",
       "      <td>Y</td>\n",
       "      <td>Y</td>\n",
       "      <td>0</td>\n",
       "      <td>67500.0</td>\n",
       "      <td>135000.0</td>\n",
       "      <td>6750.0</td>\n",
       "      <td>...</td>\n",
       "      <td>0</td>\n",
       "      <td>0</td>\n",
       "      <td>0</td>\n",
       "      <td>0</td>\n",
       "      <td>0.0</td>\n",
       "      <td>0.0</td>\n",
       "      <td>0.0</td>\n",
       "      <td>0.0</td>\n",
       "      <td>0.0</td>\n",
       "      <td>0.0</td>\n",
       "    </tr>\n",
       "    <tr>\n",
       "      <th>3</th>\n",
       "      <td>100006</td>\n",
       "      <td>0</td>\n",
       "      <td>Cash loans</td>\n",
       "      <td>F</td>\n",
       "      <td>N</td>\n",
       "      <td>Y</td>\n",
       "      <td>0</td>\n",
       "      <td>135000.0</td>\n",
       "      <td>312682.5</td>\n",
       "      <td>29686.5</td>\n",
       "      <td>...</td>\n",
       "      <td>0</td>\n",
       "      <td>0</td>\n",
       "      <td>0</td>\n",
       "      <td>0</td>\n",
       "      <td>NaN</td>\n",
       "      <td>NaN</td>\n",
       "      <td>NaN</td>\n",
       "      <td>NaN</td>\n",
       "      <td>NaN</td>\n",
       "      <td>NaN</td>\n",
       "    </tr>\n",
       "    <tr>\n",
       "      <th>4</th>\n",
       "      <td>100007</td>\n",
       "      <td>0</td>\n",
       "      <td>Cash loans</td>\n",
       "      <td>M</td>\n",
       "      <td>N</td>\n",
       "      <td>Y</td>\n",
       "      <td>0</td>\n",
       "      <td>121500.0</td>\n",
       "      <td>513000.0</td>\n",
       "      <td>21865.5</td>\n",
       "      <td>...</td>\n",
       "      <td>0</td>\n",
       "      <td>0</td>\n",
       "      <td>0</td>\n",
       "      <td>0</td>\n",
       "      <td>0.0</td>\n",
       "      <td>0.0</td>\n",
       "      <td>0.0</td>\n",
       "      <td>0.0</td>\n",
       "      <td>0.0</td>\n",
       "      <td>0.0</td>\n",
       "    </tr>\n",
       "  </tbody>\n",
       "</table>\n",
       "<p>5 rows × 122 columns</p>\n",
       "</div>"
      ],
      "text/plain": [
       "   SK_ID_CURR  TARGET NAME_CONTRACT_TYPE CODE_GENDER FLAG_OWN_CAR  \\\n",
       "0      100002       1         Cash loans           M            N   \n",
       "1      100003       0         Cash loans           F            N   \n",
       "2      100004       0    Revolving loans           M            Y   \n",
       "3      100006       0         Cash loans           F            N   \n",
       "4      100007       0         Cash loans           M            N   \n",
       "\n",
       "  FLAG_OWN_REALTY  CNT_CHILDREN  AMT_INCOME_TOTAL  AMT_CREDIT  AMT_ANNUITY  \\\n",
       "0               Y             0          202500.0    406597.5      24700.5   \n",
       "1               N             0          270000.0   1293502.5      35698.5   \n",
       "2               Y             0           67500.0    135000.0       6750.0   \n",
       "3               Y             0          135000.0    312682.5      29686.5   \n",
       "4               Y             0          121500.0    513000.0      21865.5   \n",
       "\n",
       "              ...              FLAG_DOCUMENT_18 FLAG_DOCUMENT_19  \\\n",
       "0             ...                             0                0   \n",
       "1             ...                             0                0   \n",
       "2             ...                             0                0   \n",
       "3             ...                             0                0   \n",
       "4             ...                             0                0   \n",
       "\n",
       "  FLAG_DOCUMENT_20 FLAG_DOCUMENT_21 AMT_REQ_CREDIT_BUREAU_HOUR  \\\n",
       "0                0                0                        0.0   \n",
       "1                0                0                        0.0   \n",
       "2                0                0                        0.0   \n",
       "3                0                0                        NaN   \n",
       "4                0                0                        0.0   \n",
       "\n",
       "  AMT_REQ_CREDIT_BUREAU_DAY  AMT_REQ_CREDIT_BUREAU_WEEK  \\\n",
       "0                       0.0                         0.0   \n",
       "1                       0.0                         0.0   \n",
       "2                       0.0                         0.0   \n",
       "3                       NaN                         NaN   \n",
       "4                       0.0                         0.0   \n",
       "\n",
       "   AMT_REQ_CREDIT_BUREAU_MON  AMT_REQ_CREDIT_BUREAU_QRT  \\\n",
       "0                        0.0                        0.0   \n",
       "1                        0.0                        0.0   \n",
       "2                        0.0                        0.0   \n",
       "3                        NaN                        NaN   \n",
       "4                        0.0                        0.0   \n",
       "\n",
       "   AMT_REQ_CREDIT_BUREAU_YEAR  \n",
       "0                         1.0  \n",
       "1                         0.0  \n",
       "2                         0.0  \n",
       "3                         NaN  \n",
       "4                         0.0  \n",
       "\n",
       "[5 rows x 122 columns]"
      ]
     },
     "execution_count": 2,
     "metadata": {},
     "output_type": "execute_result"
    }
   ],
   "source": [
    "f_app = os.path.join(dir_data, 'application_train.csv')\n",
    "app_train = pd.read_csv(f_app)\n",
    "app_train.head()"
   ]
  },
  {
   "cell_type": "code",
   "execution_count": 3,
   "metadata": {},
   "outputs": [
    {
     "data": {
      "text/plain": [
       "AMT_ANNUITY                         12\n",
       "AMT_GOODS_PRICE                    278\n",
       "NAME_TYPE_SUITE                   1292\n",
       "OWN_CAR_AGE                     202929\n",
       "OCCUPATION_TYPE                  96391\n",
       "CNT_FAM_MEMBERS                      2\n",
       "EXT_SOURCE_1                    173378\n",
       "EXT_SOURCE_2                       660\n",
       "EXT_SOURCE_3                     60965\n",
       "APARTMENTS_AVG                  156061\n",
       "BASEMENTAREA_AVG                179943\n",
       "YEARS_BEGINEXPLUATATION_AVG     150007\n",
       "YEARS_BUILD_AVG                 204488\n",
       "COMMONAREA_AVG                  214865\n",
       "ELEVATORS_AVG                   163891\n",
       "ENTRANCES_AVG                   154828\n",
       "FLOORSMAX_AVG                   153020\n",
       "FLOORSMIN_AVG                   208642\n",
       "LANDAREA_AVG                    182590\n",
       "LIVINGAPARTMENTS_AVG            210199\n",
       "LIVINGAREA_AVG                  154350\n",
       "NONLIVINGAPARTMENTS_AVG         213514\n",
       "NONLIVINGAREA_AVG               169682\n",
       "APARTMENTS_MODE                 156061\n",
       "BASEMENTAREA_MODE               179943\n",
       "YEARS_BEGINEXPLUATATION_MODE    150007\n",
       "YEARS_BUILD_MODE                204488\n",
       "COMMONAREA_MODE                 214865\n",
       "ELEVATORS_MODE                  163891\n",
       "ENTRANCES_MODE                  154828\n",
       "                                 ...  \n",
       "APARTMENTS_MEDI                 156061\n",
       "BASEMENTAREA_MEDI               179943\n",
       "YEARS_BEGINEXPLUATATION_MEDI    150007\n",
       "YEARS_BUILD_MEDI                204488\n",
       "COMMONAREA_MEDI                 214865\n",
       "ELEVATORS_MEDI                  163891\n",
       "ENTRANCES_MEDI                  154828\n",
       "FLOORSMAX_MEDI                  153020\n",
       "FLOORSMIN_MEDI                  208642\n",
       "LANDAREA_MEDI                   182590\n",
       "LIVINGAPARTMENTS_MEDI           210199\n",
       "LIVINGAREA_MEDI                 154350\n",
       "NONLIVINGAPARTMENTS_MEDI        213514\n",
       "NONLIVINGAREA_MEDI              169682\n",
       "FONDKAPREMONT_MODE              210295\n",
       "HOUSETYPE_MODE                  154297\n",
       "TOTALAREA_MODE                  148431\n",
       "WALLSMATERIAL_MODE              156341\n",
       "EMERGENCYSTATE_MODE             145755\n",
       "OBS_30_CNT_SOCIAL_CIRCLE          1021\n",
       "DEF_30_CNT_SOCIAL_CIRCLE          1021\n",
       "OBS_60_CNT_SOCIAL_CIRCLE          1021\n",
       "DEF_60_CNT_SOCIAL_CIRCLE          1021\n",
       "DAYS_LAST_PHONE_CHANGE               1\n",
       "AMT_REQ_CREDIT_BUREAU_HOUR       41519\n",
       "AMT_REQ_CREDIT_BUREAU_DAY        41519\n",
       "AMT_REQ_CREDIT_BUREAU_WEEK       41519\n",
       "AMT_REQ_CREDIT_BUREAU_MON        41519\n",
       "AMT_REQ_CREDIT_BUREAU_QRT        41519\n",
       "AMT_REQ_CREDIT_BUREAU_YEAR       41519\n",
       "Length: 67, dtype: int64"
      ]
     },
     "execution_count": 3,
     "metadata": {},
     "output_type": "execute_result"
    }
   ],
   "source": [
    "# 檢視每個欄位是否包含NA值\n",
    "a = app_train.isna().sum()\n",
    "# 只顯示含NA值的變數\n",
    "a[a!=0]"
   ]
  },
  {
   "cell_type": "code",
   "execution_count": 4,
   "metadata": {},
   "outputs": [
    {
     "name": "stderr",
     "output_type": "stream",
     "text": [
      "C:\\Users\\TL_Yu\\Anaconda3\\lib\\site-packages\\numpy\\lib\\function_base.py:3652: RuntimeWarning: Invalid value encountered in percentile\n",
      "  interpolation=interpolation)\n"
     ]
    },
    {
     "data": {
      "text/plain": [
       "array([nan, nan, nan, nan, nan])"
      ]
     },
     "execution_count": 4,
     "metadata": {},
     "output_type": "execute_result"
    }
   ],
   "source": [
    "# 若欄位中有NA值，會無法計算對應的分位數\n",
    "np.percentile(app_train.AMT_ANNUITY,q = [0,25,50,75,100])"
   ]
  },
  {
   "cell_type": "code",
   "execution_count": 5,
   "metadata": {},
   "outputs": [
    {
     "data": {
      "text/plain": [
       "array([  1615.5,  16524. ,  24903. ,  34596. , 258025.5])"
      ]
     },
     "execution_count": 5,
     "metadata": {},
     "output_type": "execute_result"
    }
   ],
   "source": [
    "# 剔除AMT_ANNUITY欄位中含NA值的資料，再計算q0, 25,50,75,100等分位數\n",
    "app_train2 = app_train.loc[~app_train['AMT_ANNUITY'].isnull()].copy()\n",
    "np.percentile(app_train2['AMT_ANNUITY'], q = [0,25,50,75,100])"
   ]
  },
  {
   "cell_type": "code",
   "execution_count": 6,
   "metadata": {},
   "outputs": [
    {
     "data": {
      "image/png": "[encoded data removed]",
      "text/plain": [
       "<Figure size 432x288 with 1 Axes>"
      ]
     },
     "metadata": {
      "needs_background": "light"
     },
     "output_type": "display_data"
    },
    {
     "data": {
      "image/png": "[encoded data removed]",
      "text/plain": [
       "<Figure size 432x288 with 1 Axes>"
      ]
     },
     "metadata": {
      "needs_background": "light"
     },
     "output_type": "display_data"
    }
   ],
   "source": [
    "app_train['AMT_ANNUITY'].hist(bins=100)\n",
    "plt.show()\n",
    "app_train2['AMT_ANNUITY'].hist(bins=100)\n",
    "plt.show()"
   ]
  },
  {
   "cell_type": "code",
   "execution_count": 7,
   "metadata": {},
   "outputs": [
    {
     "data": {
      "text/plain": [
       "258025.5"
      ]
     },
     "execution_count": 7,
     "metadata": {},
     "output_type": "execute_result"
    }
   ],
   "source": [
    "# 試著將 max 取代為 q99\n",
    "AMT_ANNUITY_q99 = np.percentile(app_train2['AMT_ANNUITY'], q = 99)\n",
    "app_train2['AMT_ANNUITY'].max()"
   ]
  },
  {
   "cell_type": "code",
   "execution_count": 8,
   "metadata": {},
   "outputs": [
    {
     "data": {
      "text/plain": [
       "230161.5"
      ]
     },
     "execution_count": 8,
     "metadata": {},
     "output_type": "execute_result"
    }
   ],
   "source": [
    "app_train2.loc[app_train2['AMT_ANNUITY'] == app_train2['AMT_ANNUITY'].max(), \"AMT_ANNUITY\"] = AMT_ANNUITY_q99\n",
    "app_train2['AMT_ANNUITY'].max()"
   ]
  },
  {
   "cell_type": "markdown",
   "metadata": {},
   "source": [
    "# 嘗試不同的標準化、常態化方法\n",
    "- Z分數\n",
    "- 全距(0~1)\n",
    "- 全距(-1~1)"
   ]
  },
  {
   "cell_type": "code",
   "execution_count": 9,
   "metadata": {},
   "outputs": [
    {
     "data": {
      "text/html": [
       "<div>\n",
       "<style scoped>\n",
       "    .dataframe tbody tr th:only-of-type {\n",
       "        vertical-align: middle;\n",
       "    }\n",
       "\n",
       "    .dataframe tbody tr th {\n",
       "        vertical-align: top;\n",
       "    }\n",
       "\n",
       "    .dataframe thead th {\n",
       "        text-align: right;\n",
       "    }\n",
       "</style>\n",
       "<table border=\"1\" class=\"dataframe\">\n",
       "  <thead>\n",
       "    <tr style=\"text-align: right;\">\n",
       "      <th></th>\n",
       "      <th>AMT_ANNUITY</th>\n",
       "      <th>AMT_ANNUITY_Z</th>\n",
       "      <th>AMT_ANNUITY_01</th>\n",
       "      <th>AMT_ANNUITY_02</th>\n",
       "    </tr>\n",
       "  </thead>\n",
       "  <tbody>\n",
       "    <tr>\n",
       "      <th>count</th>\n",
       "      <td>307499.000000</td>\n",
       "      <td>3.074990e+05</td>\n",
       "      <td>307499.000000</td>\n",
       "      <td>307499.000000</td>\n",
       "    </tr>\n",
       "    <tr>\n",
       "      <th>mean</th>\n",
       "      <td>27107.962463</td>\n",
       "      <td>3.052535e-16</td>\n",
       "      <td>0.111542</td>\n",
       "      <td>-0.776916</td>\n",
       "    </tr>\n",
       "    <tr>\n",
       "      <th>std</th>\n",
       "      <td>14487.960432</td>\n",
       "      <td>1.000002e+00</td>\n",
       "      <td>0.063392</td>\n",
       "      <td>0.126784</td>\n",
       "    </tr>\n",
       "    <tr>\n",
       "      <th>min</th>\n",
       "      <td>1615.500000</td>\n",
       "      <td>-1.759565e+00</td>\n",
       "      <td>0.000000</td>\n",
       "      <td>-1.000000</td>\n",
       "    </tr>\n",
       "    <tr>\n",
       "      <th>25%</th>\n",
       "      <td>16524.000000</td>\n",
       "      <td>-7.305362e-01</td>\n",
       "      <td>0.065232</td>\n",
       "      <td>-0.869536</td>\n",
       "    </tr>\n",
       "    <tr>\n",
       "      <th>50%</th>\n",
       "      <td>24903.000000</td>\n",
       "      <td>-1.521930e-01</td>\n",
       "      <td>0.101894</td>\n",
       "      <td>-0.796212</td>\n",
       "    </tr>\n",
       "    <tr>\n",
       "      <th>75%</th>\n",
       "      <td>34596.000000</td>\n",
       "      <td>5.168464e-01</td>\n",
       "      <td>0.144306</td>\n",
       "      <td>-0.711389</td>\n",
       "    </tr>\n",
       "    <tr>\n",
       "      <th>max</th>\n",
       "      <td>230161.500000</td>\n",
       "      <td>1.401535e+01</td>\n",
       "      <td>1.000000</td>\n",
       "      <td>1.000000</td>\n",
       "    </tr>\n",
       "  </tbody>\n",
       "</table>\n",
       "</div>"
      ],
      "text/plain": [
       "         AMT_ANNUITY  AMT_ANNUITY_Z  AMT_ANNUITY_01  AMT_ANNUITY_02\n",
       "count  307499.000000   3.074990e+05   307499.000000   307499.000000\n",
       "mean    27107.962463   3.052535e-16        0.111542       -0.776916\n",
       "std     14487.960432   1.000002e+00        0.063392        0.126784\n",
       "min      1615.500000  -1.759565e+00        0.000000       -1.000000\n",
       "25%     16524.000000  -7.305362e-01        0.065232       -0.869536\n",
       "50%     24903.000000  -1.521930e-01        0.101894       -0.796212\n",
       "75%     34596.000000   5.168464e-01        0.144306       -0.711389\n",
       "max    230161.500000   1.401535e+01        1.000000        1.000000"
      ]
     },
     "execution_count": 9,
     "metadata": {},
     "output_type": "execute_result"
    }
   ],
   "source": [
    "value = app_train2['AMT_ANNUITY']\n",
    "# Z分數\n",
    "app_train2['AMT_ANNUITY_Z'] = (value - np.mean(value)) / (np.std(value))\n",
    "# 全距0~1\n",
    "app_train2['AMT_ANNUITY_01'] = (value - np.min(value)) / (np.max(value)-np.min(value))\n",
    "# 全距-1~1\n",
    "app_train2['AMT_ANNUITY_02'] = (((value - np.min(value)) / (np.max(value)-np.min(value)))-0.5) * 2\n",
    "app_train2.loc[:, ['AMT_ANNUITY','AMT_ANNUITY_Z','AMT_ANNUITY_01','AMT_ANNUITY_02']].describe()"
   ]
  },
  {
   "cell_type": "markdown",
   "metadata": {},
   "source": [
    "# HW\n",
    "- 列出 AMT_ANNUITY 的 q0 - q100\n",
    "- 將 AMT_ANNUITY 中的 NAs 暫時以中位數填補\n",
    "- 將 AMT_ANNUITY 的數值標準化至 -1 ~ 1 間\n",
    "- 將 AMT_GOOD_PRICE 的 NAs 以眾數填補"
   ]
  },
  {
   "cell_type": "code",
   "execution_count": 10,
   "metadata": {},
   "outputs": [
    {
     "data": {
      "text/html": [
       "<div>\n",
       "<style scoped>\n",
       "    .dataframe tbody tr th:only-of-type {\n",
       "        vertical-align: middle;\n",
       "    }\n",
       "\n",
       "    .dataframe tbody tr th {\n",
       "        vertical-align: top;\n",
       "    }\n",
       "\n",
       "    .dataframe thead th {\n",
       "        text-align: right;\n",
       "    }\n",
       "</style>\n",
       "<table border=\"1\" class=\"dataframe\">\n",
       "  <thead>\n",
       "    <tr style=\"text-align: right;\">\n",
       "      <th></th>\n",
       "      <th>index</th>\n",
       "      <th>value</th>\n",
       "    </tr>\n",
       "  </thead>\n",
       "  <tbody>\n",
       "    <tr>\n",
       "      <th>0</th>\n",
       "      <td>0</td>\n",
       "      <td>1615.50</td>\n",
       "    </tr>\n",
       "    <tr>\n",
       "      <th>1</th>\n",
       "      <td>1</td>\n",
       "      <td>6182.91</td>\n",
       "    </tr>\n",
       "    <tr>\n",
       "      <th>2</th>\n",
       "      <td>2</td>\n",
       "      <td>6750.00</td>\n",
       "    </tr>\n",
       "    <tr>\n",
       "      <th>3</th>\n",
       "      <td>3</td>\n",
       "      <td>7875.00</td>\n",
       "    </tr>\n",
       "    <tr>\n",
       "      <th>4</th>\n",
       "      <td>4</td>\n",
       "      <td>8703.00</td>\n",
       "    </tr>\n",
       "  </tbody>\n",
       "</table>\n",
       "</div>"
      ],
      "text/plain": [
       "   index    value\n",
       "0      0  1615.50\n",
       "1      1  6182.91\n",
       "2      2  6750.00\n",
       "3      3  7875.00\n",
       "4      4  8703.00"
      ]
     },
     "execution_count": 10,
     "metadata": {},
     "output_type": "execute_result"
    }
   ],
   "source": [
    "# 列出 AMT_ANNUITY 的 q0 - q100\n",
    "q_app = pd.DataFrame({'index': list(range(0,101)),\n",
    "                      'value': np.percentile(app_train2['AMT_ANNUITY'], q = list(range(0,101)))})\n",
    "q_app.head()"
   ]
  },
  {
   "cell_type": "code",
   "execution_count": 11,
   "metadata": {},
   "outputs": [],
   "source": [
    "# 2.1 將 AMT_ANNUITY 中的 NAs 暫時以中位數填補(q50)\n",
    "median = q_app.loc[q_app['index'] == 50, ['value']]\n",
    "app_train2.loc[app_train2[\"AMT_ANNUITY\"].isna(),\"AMT_ANNUITY\"] = float(median.value)"
   ]
  },
  {
   "cell_type": "markdown",
   "metadata": {},
   "source": [
    "### Hints: Normalize function (to -1 ~ 1)\n",
    "$ y = 2*(\\frac{x - min(x)}{max(x) - min(x)} - 0.5) $"
   ]
  },
  {
   "cell_type": "code",
   "execution_count": 12,
   "metadata": {},
   "outputs": [],
   "source": [
    "# 2.2 將 AMT_ANNUITY 的數值標準化至 -1 ~ 1 間\n",
    "values = app_train2['AMT_ANNUITY'].values\n",
    "app_train2[\"AMT_ANNUITY2\"] = (((values - min(values)) / (max(values) - min(values)))-0.5) * 2"
   ]
  },
  {
   "cell_type": "code",
   "execution_count": 13,
   "metadata": {},
   "outputs": [],
   "source": [
    "# 3. 將 AMT_GOOD_PRICE 的 NAs 以眾數填補\n",
    "from statistics import mode\n",
    "mode = mode(app_train.AMT_GOODS_PRICE)\n",
    "app_train.loc[app_train.AMT_GOODS_PRICE.isnull(),\"AMT_GOODS_PRICE\"] = mode"
   ]
  },
  {
   "cell_type": "code",
   "execution_count": null,
   "metadata": {},
   "outputs": [],
   "source": []
  }
 ],
 "metadata": {
  "anaconda-cloud": {},
  "kernelspec": {
   "display_name": "Python 3",
   "language": "python",
   "name": "python3"
  },
  "language_info": {
   "codemirror_mode": {
    "name": "ipython",
    "version": 3
   },
   "file_extension": ".py",
   "mimetype": "text/x-python",
   "name": "python",
   "nbconvert_exporter": "python",
   "pygments_lexer": "ipython3",
   "version": "3.7.0"
  }
 },
 "nbformat": 4,
 "nbformat_minor": 1
}
