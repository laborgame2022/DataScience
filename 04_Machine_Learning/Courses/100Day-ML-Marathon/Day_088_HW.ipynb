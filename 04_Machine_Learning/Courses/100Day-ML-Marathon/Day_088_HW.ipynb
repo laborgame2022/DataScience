{
 "cells": [
  {
   "cell_type": "code",
   "execution_count": 1,
   "metadata": {
    "ExecuteTime": {
     "end_time": "2019-07-30T14:43:59.244397Z",
     "start_time": "2019-07-30T14:43:50.192851Z"
    }
   },
   "outputs": [
    {
     "name": "stderr",
     "output_type": "stream",
     "text": [
      "Using TensorFlow backend.\n"
     ]
    }
   ],
   "source": [
    "import os\n",
    "import keras\n",
    "\n",
    "# Disable GPU\n",
    "os.environ[\"CUDA_VISIBLE_DEVICES\"] = \"\""
   ]
  },
  {
   "cell_type": "code",
   "execution_count": 2,
   "metadata": {
    "ExecuteTime": {
     "end_time": "2019-07-30T14:43:59.774257Z",
     "start_time": "2019-07-30T14:43:59.253811Z"
    }
   },
   "outputs": [],
   "source": [
    "train, test = keras.datasets.cifar10.load_data()"
   ]
  },
  {
   "cell_type": "code",
   "execution_count": 3,
   "metadata": {
    "ExecuteTime": {
     "end_time": "2019-07-30T14:43:59.803523Z",
     "start_time": "2019-07-30T14:43:59.793602Z"
    }
   },
   "outputs": [],
   "source": [
    "## 資料前處理\n",
    "def preproc_x(x, flatten=True):\n",
    "    x = x / 255.\n",
    "    if flatten:\n",
    "        x = x.reshape((len(x), -1))\n",
    "    return x\n",
    "\n",
    "def preproc_y(y, num_classes=10):\n",
    "    if y.shape[-1] == 1:\n",
    "        y = keras.utils.to_categorical(y, num_classes)\n",
    "    return y    "
   ]
  },
  {
   "cell_type": "code",
   "execution_count": 4,
   "metadata": {
    "ExecuteTime": {
     "end_time": "2019-07-30T14:44:36.291704Z",
     "start_time": "2019-07-30T14:44:34.371691Z"
    }
   },
   "outputs": [],
   "source": [
    "x_train, y_train = train\n",
    "x_test, y_test = test\n",
    "\n",
    "# Preproc the inputs\n",
    "x_train = preproc_x(x_train)\n",
    "x_test = preproc_x(x_test)\n",
    "\n",
    "# Preprc the outputs\n",
    "y_train = preproc_y(y_train)\n",
    "y_test = preproc_y(y_test)"
   ]
  },
  {
   "cell_type": "code",
   "execution_count": 5,
   "metadata": {
    "ExecuteTime": {
     "end_time": "2019-07-30T14:45:17.106102Z",
     "start_time": "2019-07-30T14:45:17.098131Z"
    }
   },
   "outputs": [],
   "source": [
    "from keras.layers import BatchNormalization\n",
    "def build_mlp(input_shape, output_units=10, num_neurons=[512, 256, 128]):\n",
    "    input_layer = keras.layers.Input(input_shape)\n",
    "    \n",
    "    for i, n_units in enumerate(num_neurons):\n",
    "        if i == 0:\n",
    "            x = keras.layers.Dense(units=n_units, \n",
    "                                   activation=\"relu\", \n",
    "                                   name=\"hidden_layer\"+str(i+1))(input_layer)\n",
    "            x = BatchNormalization()(x)\n",
    "        else:\n",
    "            x = keras.layers.Dense(units=n_units, \n",
    "                                   activation=\"relu\", \n",
    "                                   name=\"hidden_layer\"+str(i+1))(x)\n",
    "            x = BatchNormalization()(x)\n",
    "    \n",
    "    out = keras.layers.Dense(units=output_units, activation=\"softmax\", name=\"output\")(x)\n",
    "    \n",
    "    model = keras.models.Model(inputs=[input_layer], outputs=[out])\n",
    "    return model"
   ]
  },
  {
   "cell_type": "code",
   "execution_count": 6,
   "metadata": {
    "ExecuteTime": {
     "end_time": "2019-07-30T14:45:17.406018Z",
     "start_time": "2019-07-30T14:45:17.401544Z"
    }
   },
   "outputs": [],
   "source": [
    "## 超參數設定\n",
    "LEARNING_RATE = 1e-3\n",
    "EPOCHS = 50\n",
    "BATCH_SIZE = 1024\n",
    "MOMENTUM = 0.95"
   ]
  },
  {
   "cell_type": "markdown",
   "metadata": {},
   "source": [
    "# 範例"
   ]
  },
  {
   "cell_type": "code",
   "execution_count": 7,
   "metadata": {
    "ExecuteTime": {
     "end_time": "2019-07-30T14:46:53.479133Z",
     "start_time": "2019-07-30T14:46:52.217560Z"
    }
   },
   "outputs": [],
   "source": [
    "# 載入 Callbacks\n",
    "from keras.callbacks import Callback\n",
    "from sklearn.metrics import f1_score\n",
    "\n",
    "class f1sc(Callback):\n",
    "    def on_train_begin(self, epoch, logs = {}):\n",
    "        logs = logs or {}\n",
    "        record_items = [\"val_auc\", \"val_f1sc\", \"val_fp\", \"val_fn\", \"val_tp\", \"val_tn\"]\n",
    "        for i in record_items:\n",
    "            if i not in self.params['metrics']:\n",
    "                self.params['metrics'].append(i)\n",
    "    \n",
    "    def on_epoch_end(self, epoch, logs = {}, thres=0.5):\n",
    "        logs = logs or {}\n",
    "        y_true = self.validation_data[1].argmax(axis = 1)\n",
    "        y_pred = self.model.predict(self.validation_data[0])\n",
    "        y_pred = (y_pred[:, 1] >= thres) * 1\n",
    "        \n",
    "        logs[\"val_f1sc\"] = f1_score(y_true = y_true, y_pred = y_pred, average=\"weighted\")\n",
    "        \n",
    "log_f1sc = f1sc()"
   ]
  },
  {
   "cell_type": "code",
   "execution_count": 8,
   "metadata": {
    "ExecuteTime": {
     "end_time": "2019-07-30T14:50:25.848684Z",
     "start_time": "2019-07-30T14:47:15.166614Z"
    }
   },
   "outputs": [
    {
     "name": "stderr",
     "output_type": "stream",
     "text": [
      "WARNING: Logging before flag parsing goes to stderr.\n",
      "W0730 22:47:15.174579 11388 deprecation_wrapper.py:119] From C:\\ProgramData\\Anaconda3\\envs\\TensorFlow\\lib\\site-packages\\keras\\backend\\tensorflow_backend.py:74: The name tf.get_default_graph is deprecated. Please use tf.compat.v1.get_default_graph instead.\n",
      "\n",
      "W0730 22:47:15.230577 11388 deprecation_wrapper.py:119] From C:\\ProgramData\\Anaconda3\\envs\\TensorFlow\\lib\\site-packages\\keras\\backend\\tensorflow_backend.py:517: The name tf.placeholder is deprecated. Please use tf.compat.v1.placeholder instead.\n",
      "\n",
      "W0730 22:47:15.242224 11388 deprecation_wrapper.py:119] From C:\\ProgramData\\Anaconda3\\envs\\TensorFlow\\lib\\site-packages\\keras\\backend\\tensorflow_backend.py:4138: The name tf.random_uniform is deprecated. Please use tf.random.uniform instead.\n",
      "\n",
      "W0730 22:47:15.348689 11388 deprecation_wrapper.py:119] From C:\\ProgramData\\Anaconda3\\envs\\TensorFlow\\lib\\site-packages\\keras\\backend\\tensorflow_backend.py:133: The name tf.placeholder_with_default is deprecated. Please use tf.compat.v1.placeholder_with_default instead.\n",
      "\n",
      "W0730 22:47:15.551736 11388 deprecation_wrapper.py:119] From C:\\ProgramData\\Anaconda3\\envs\\TensorFlow\\lib\\site-packages\\keras\\optimizers.py:790: The name tf.train.Optimizer is deprecated. Please use tf.compat.v1.train.Optimizer instead.\n",
      "\n",
      "W0730 22:47:15.562648 11388 deprecation_wrapper.py:119] From C:\\ProgramData\\Anaconda3\\envs\\TensorFlow\\lib\\site-packages\\keras\\backend\\tensorflow_backend.py:3295: The name tf.log is deprecated. Please use tf.math.log instead.\n",
      "\n",
      "W0730 22:47:15.665711 11388 deprecation.py:323] From C:\\ProgramData\\Anaconda3\\envs\\TensorFlow\\lib\\site-packages\\tensorflow\\python\\ops\\math_grad.py:1250: add_dispatch_support.<locals>.wrapper (from tensorflow.python.ops.array_ops) is deprecated and will be removed in a future version.\n",
      "Instructions for updating:\n",
      "Use tf.where in 2.0, which has the same broadcast rule as np.where\n"
     ]
    },
    {
     "name": "stdout",
     "output_type": "stream",
     "text": [
      "_________________________________________________________________\n",
      "Layer (type)                 Output Shape              Param #   \n",
      "=================================================================\n",
      "input_1 (InputLayer)         (None, 3072)              0         \n",
      "_________________________________________________________________\n",
      "hidden_layer1 (Dense)        (None, 512)               1573376   \n",
      "_________________________________________________________________\n",
      "batch_normalization_1 (Batch (None, 512)               2048      \n",
      "_________________________________________________________________\n",
      "hidden_layer2 (Dense)        (None, 256)               131328    \n",
      "_________________________________________________________________\n",
      "batch_normalization_2 (Batch (None, 256)               1024      \n",
      "_________________________________________________________________\n",
      "hidden_layer3 (Dense)        (None, 128)               32896     \n",
      "_________________________________________________________________\n",
      "batch_normalization_3 (Batch (None, 128)               512       \n",
      "_________________________________________________________________\n",
      "output (Dense)               (None, 10)                1290      \n",
      "=================================================================\n",
      "Total params: 1,742,474\n",
      "Trainable params: 1,740,682\n",
      "Non-trainable params: 1,792\n",
      "_________________________________________________________________\n",
      "Train on 50000 samples, validate on 10000 samples\n",
      "Epoch 1/50\n",
      "50000/50000 [==============================] - 7s 150us/step - loss: 2.2210 - acc: 0.2744 - val_loss: 2.1362 - val_acc: 0.31532420 - acc: 0.2\n",
      "Epoch 2/50\n",
      " 3072/50000 [>.............................] - ETA: 2s - loss: 1.8155 - acc: 0.3662"
     ]
    },
    {
     "name": "stderr",
     "output_type": "stream",
     "text": [
      "C:\\ProgramData\\Anaconda3\\envs\\TensorFlow\\lib\\site-packages\\sklearn\\metrics\\classification.py:1143: UndefinedMetricWarning: F-score is ill-defined and being set to 0.0 in labels with no predicted samples.\n",
      "  'precision', 'predicted', average, warn_for)\n"
     ]
    },
    {
     "name": "stdout",
     "output_type": "stream",
     "text": [
      "50000/50000 [==============================] - 3s 58us/step - loss: 1.7481 - acc: 0.3906 - val_loss: 1.8388 - val_acc: 0.3798\n",
      "Epoch 3/50\n",
      "50000/50000 [==============================] - 3s 59us/step - loss: 1.6164 - acc: 0.4344 - val_loss: 1.7069 - val_acc: 0.4052\n",
      "Epoch 4/50\n",
      "50000/50000 [==============================] - 3s 59us/step - loss: 1.5413 - acc: 0.4614 - val_loss: 1.6470 - val_acc: 0.4190\n",
      "Epoch 5/50\n",
      "50000/50000 [==============================] - 3s 62us/step - loss: 1.4825 - acc: 0.4802 - val_loss: 1.6113 - val_acc: 0.4332\n",
      "Epoch 6/50\n",
      "50000/50000 [==============================] - 3s 57us/step - loss: 1.4381 - acc: 0.4955 - val_loss: 1.5771 - val_acc: 0.4439\n",
      "Epoch 7/50\n",
      "50000/50000 [==============================] - 3s 57us/step - loss: 1.3971 - acc: 0.5144 - val_loss: 1.5518 - val_acc: 0.4502\n",
      "Epoch 8/50\n",
      "50000/50000 [==============================] - 3s 57us/step - loss: 1.3624 - acc: 0.5248 - val_loss: 1.5306 - val_acc: 0.4573\n",
      "Epoch 9/50\n",
      "50000/50000 [==============================] - 3s 57us/step - loss: 1.3290 - acc: 0.5372 - val_loss: 1.5172 - val_acc: 0.4660\n",
      "Epoch 10/50\n",
      "50000/50000 [==============================] - 3s 57us/step - loss: 1.2961 - acc: 0.5488 - val_loss: 1.5043 - val_acc: 0.4681\n",
      "Epoch 11/50\n",
      "50000/50000 [==============================] - 3s 59us/step - loss: 1.2683 - acc: 0.5597 - val_loss: 1.4910 - val_acc: 0.4751\n",
      "Epoch 12/50\n",
      "50000/50000 [==============================] - 3s 61us/step - loss: 1.2400 - acc: 0.5705 - val_loss: 1.4876 - val_acc: 0.4762\n",
      "Epoch 13/50\n",
      "50000/50000 [==============================] - 3s 59us/step - loss: 1.2134 - acc: 0.5806 - val_loss: 1.4963 - val_acc: 0.4777\n",
      "Epoch 14/50\n",
      "50000/50000 [==============================] - 3s 58us/step - loss: 1.1872 - acc: 0.5912 - val_loss: 1.4768 - val_acc: 0.4861\n",
      "Epoch 15/50\n",
      "50000/50000 [==============================] - 3s 60us/step - loss: 1.1646 - acc: 0.5991 - val_loss: 1.4691 - val_acc: 0.4839\n",
      "Epoch 16/50\n",
      "50000/50000 [==============================] - 3s 60us/step - loss: 1.1391 - acc: 0.6078 - val_loss: 1.4701 - val_acc: 0.4859\n",
      "Epoch 17/50\n",
      "50000/50000 [==============================] - 3s 61us/step - loss: 1.1157 - acc: 0.6155 - val_loss: 1.4640 - val_acc: 0.4879\n",
      "Epoch 18/50\n",
      "50000/50000 [==============================] - 3s 63us/step - loss: 1.0939 - acc: 0.6255 - val_loss: 1.4758 - val_acc: 0.4910\n",
      "Epoch 19/50\n",
      "50000/50000 [==============================] - 3s 60us/step - loss: 1.0717 - acc: 0.6331 - val_loss: 1.4688 - val_acc: 0.4868\n",
      "Epoch 20/50\n",
      "50000/50000 [==============================] - 3s 60us/step - loss: 1.0500 - acc: 0.6420 - val_loss: 1.4650 - val_acc: 0.4899\n",
      "Epoch 21/50\n",
      "50000/50000 [==============================] - 3s 61us/step - loss: 1.0280 - acc: 0.6504 - val_loss: 1.4646 - val_acc: 0.4928\n",
      "Epoch 22/50\n",
      "50000/50000 [==============================] - 3s 64us/step - loss: 1.0049 - acc: 0.6587 - val_loss: 1.4646 - val_acc: 0.4936\n",
      "Epoch 23/50\n",
      "50000/50000 [==============================] - 3s 61us/step - loss: 0.9831 - acc: 0.6673 - val_loss: 1.4727 - val_acc: 0.4880\n",
      "Epoch 24/50\n",
      "50000/50000 [==============================] - 3s 60us/step - loss: 0.9620 - acc: 0.6769 - val_loss: 1.4613 - val_acc: 0.4953\n",
      "Epoch 25/50\n",
      "50000/50000 [==============================] - 3s 61us/step - loss: 0.9415 - acc: 0.6834 - val_loss: 1.4821 - val_acc: 0.4915\n",
      "Epoch 26/50\n",
      "50000/50000 [==============================] - 3s 60us/step - loss: 0.9233 - acc: 0.6888 - val_loss: 1.4830 - val_acc: 0.4949\n",
      "Epoch 27/50\n",
      "50000/50000 [==============================] - 3s 61us/step - loss: 0.9006 - acc: 0.6996 - val_loss: 1.4704 - val_acc: 0.4959\n",
      "Epoch 28/50\n",
      "50000/50000 [==============================] - 3s 61us/step - loss: 0.8792 - acc: 0.7070 - val_loss: 1.4785 - val_acc: 0.5000\n",
      "Epoch 29/50\n",
      "50000/50000 [==============================] - 3s 61us/step - loss: 0.8583 - acc: 0.7159 - val_loss: 1.4870 - val_acc: 0.4962\n",
      "Epoch 30/50\n",
      "50000/50000 [==============================] - 3s 61us/step - loss: 0.8381 - acc: 0.7239 - val_loss: 1.4933 - val_acc: 0.4969\n",
      "Epoch 31/50\n",
      "50000/50000 [==============================] - 3s 60us/step - loss: 0.8169 - acc: 0.7344 - val_loss: 1.4994 - val_acc: 0.4950\n",
      "Epoch 32/50\n",
      "50000/50000 [==============================] - 3s 60us/step - loss: 0.7969 - acc: 0.7405 - val_loss: 1.4911 - val_acc: 0.4996\n",
      "Epoch 33/50\n",
      "50000/50000 [==============================] - 3s 60us/step - loss: 0.7773 - acc: 0.7494 - val_loss: 1.5052 - val_acc: 0.4961\n",
      "Epoch 34/50\n",
      "50000/50000 [==============================] - 3s 61us/step - loss: 0.7575 - acc: 0.7583 - val_loss: 1.5206 - val_acc: 0.4908\n",
      "Epoch 35/50\n",
      "50000/50000 [==============================] - 3s 61us/step - loss: 0.7374 - acc: 0.7642 - val_loss: 1.5364 - val_acc: 0.4890\n",
      "Epoch 36/50\n",
      "50000/50000 [==============================] - 3s 61us/step - loss: 0.7187 - acc: 0.7732 - val_loss: 1.5385 - val_acc: 0.4926\n",
      "Epoch 37/50\n",
      "50000/50000 [==============================] - 3s 62us/step - loss: 0.7004 - acc: 0.7798 - val_loss: 1.5455 - val_acc: 0.4881\n",
      "Epoch 38/50\n",
      "50000/50000 [==============================] - 3s 61us/step - loss: 0.6817 - acc: 0.7886 - val_loss: 1.5496 - val_acc: 0.4941\n",
      "Epoch 39/50\n",
      "50000/50000 [==============================] - 3s 63us/step - loss: 0.6620 - acc: 0.7948 - val_loss: 1.5506 - val_acc: 0.4932\n",
      "Epoch 40/50\n",
      "50000/50000 [==============================] - 3s 61us/step - loss: 0.6449 - acc: 0.8023 - val_loss: 1.5709 - val_acc: 0.4908\n",
      "Epoch 41/50\n",
      "50000/50000 [==============================] - 3s 63us/step - loss: 0.6271 - acc: 0.8086 - val_loss: 1.5809 - val_acc: 0.4911\n",
      "Epoch 42/50\n",
      "50000/50000 [==============================] - 3s 63us/step - loss: 0.6094 - acc: 0.8177 - val_loss: 1.5870 - val_acc: 0.4906\n",
      "Epoch 43/50\n",
      "50000/50000 [==============================] - 3s 62us/step - loss: 0.5910 - acc: 0.8233 - val_loss: 1.6020 - val_acc: 0.4899\n",
      "Epoch 44/50\n",
      "50000/50000 [==============================] - 3s 64us/step - loss: 0.5707 - acc: 0.8324 - val_loss: 1.5938 - val_acc: 0.4944\n",
      "Epoch 45/50\n",
      "50000/50000 [==============================] - 3s 63us/step - loss: 0.5533 - acc: 0.8394 - val_loss: 1.6263 - val_acc: 0.4910\n",
      "Epoch 46/50\n",
      "50000/50000 [==============================] - 3s 62us/step - loss: 0.5353 - acc: 0.8475 - val_loss: 1.6448 - val_acc: 0.4911\n",
      "Epoch 47/50\n",
      "50000/50000 [==============================] - 3s 61us/step - loss: 0.5208 - acc: 0.8517 - val_loss: 1.6455 - val_acc: 0.4879\n",
      "Epoch 48/50\n",
      "50000/50000 [==============================] - 3s 61us/step - loss: 0.5010 - acc: 0.8593 - val_loss: 1.6580 - val_acc: 0.4896\n",
      "Epoch 49/50\n",
      "50000/50000 [==============================] - 3s 61us/step - loss: 0.4852 - acc: 0.8660 - val_loss: 1.6677 - val_acc: 0.4865\n",
      "Epoch 50/50\n",
      "50000/50000 [==============================] - 3s 62us/step - loss: 0.4695 - acc: 0.8730 - val_loss: 1.7051 - val_acc: 0.4848\n"
     ]
    }
   ],
   "source": [
    "model = build_mlp(input_shape=x_train.shape[1:])\n",
    "model.summary()\n",
    "optimizer = keras.optimizers.SGD(lr=LEARNING_RATE, nesterov=True, momentum=MOMENTUM)\n",
    "model.compile(loss=\"categorical_crossentropy\", metrics=[\"accuracy\"], optimizer=optimizer)\n",
    "\n",
    "model.fit(x_train, y_train, \n",
    "          epochs=EPOCHS, \n",
    "          batch_size=BATCH_SIZE, \n",
    "          validation_data=(x_test, y_test), \n",
    "          shuffle=True,\n",
    "          callbacks=[log_f1sc]\n",
    "         )\n",
    "\n",
    "# Collect results\n",
    "train_loss = model.history.history[\"loss\"]\n",
    "valid_loss = model.history.history[\"val_loss\"]\n",
    "train_acc = model.history.history[\"acc\"]\n",
    "valid_acc = model.history.history[\"val_acc\"]\n",
    "\n",
    "valid_f1sc = model.history.history['val_f1sc']"
   ]
  },
  {
   "cell_type": "code",
   "execution_count": 9,
   "metadata": {
    "ExecuteTime": {
     "end_time": "2019-07-30T15:00:26.516644Z",
     "start_time": "2019-07-30T15:00:25.551664Z"
    }
   },
   "outputs": [
    {
     "data": {
      "image/png": "[encoded data removed]",
      "text/plain": [
       "<Figure size 432x288 with 1 Axes>"
      ]
     },
     "metadata": {
      "needs_background": "light"
     },
     "output_type": "display_data"
    },
    {
     "data": {
      "image/png": "[encoded data removed]",
      "text/plain": [
       "<Figure size 432x288 with 1 Axes>"
      ]
     },
     "metadata": {
      "needs_background": "light"
     },
     "output_type": "display_data"
    },
    {
     "data": {
      "image/png": "[encoded data removed]",
      "text/plain": [
       "<Figure size 432x288 with 1 Axes>"
      ]
     },
     "metadata": {
      "needs_background": "light"
     },
     "output_type": "display_data"
    }
   ],
   "source": [
    "import matplotlib.pyplot as plt\n",
    "%matplotlib inline\n",
    "\n",
    "plt.plot(range(len(train_loss)), train_loss, label=\"train loss\")\n",
    "plt.plot(range(len(valid_loss)), valid_loss, label=\"valid loss\")\n",
    "plt.legend()\n",
    "plt.title(\"Loss\")\n",
    "plt.show()\n",
    "\n",
    "plt.plot(range(len(train_acc)), train_acc, label=\"train accuracy\")\n",
    "plt.plot(range(len(valid_acc)), valid_acc, label=\"valid accuracy\")\n",
    "plt.legend()\n",
    "plt.title(\"Accuracy\")\n",
    "plt.show()\n",
    "\n",
    "plt.plot(range(len(valid_f1sc)), valid_f1sc, label=\"valid f1-score\")\n",
    "plt.legend()\n",
    "plt.title(\"F1-score\")\n",
    "plt.show()"
   ]
  },
  {
   "cell_type": "markdown",
   "metadata": {},
   "source": [
    "# Work\n",
    "1. 請嘗試寫一個 callback 用來記錄各類別在訓練過程中，對驗證集的 True Positive 與 True Negative"
   ]
  },
  {
   "cell_type": "code",
   "execution_count": null,
   "metadata": {},
   "outputs": [],
   "source": [
    "from keras.layers import BatchNormalization\n",
    "def build_mlp(input_shape, output_units=10, num_neurons=[512, 256, 128]):\n",
    "    input_layer = keras.layers.Input(input_shape)\n",
    "    \n",
    "    for i, n_units in enumerate(num_neurons):\n",
    "        if i == 0:\n",
    "            x = keras.layers.Dense(units=n_units, \n",
    "                                   activation=\"relu\", \n",
    "                                   name=\"hidden_layer\"+str(i+1))(input_layer)\n",
    "            x = BatchNormalization()(x)\n",
    "        else:\n",
    "            x = keras.layers.Dense(units=n_units, \n",
    "                                   activation=\"relu\", \n",
    "                                   name=\"hidden_layer\"+str(i+1))(x)\n",
    "            x = BatchNormalization()(x)\n",
    "    \n",
    "    out = keras.layers.Dense(units=output_units, activation=\"softmax\", name=\"output\")(x)\n",
    "    \n",
    "    model = keras.models.Model(inputs=[input_layer], outputs=[out])\n",
    "    return model"
   ]
  },
  {
   "cell_type": "code",
   "execution_count": 12,
   "metadata": {
    "ExecuteTime": {
     "end_time": "2019-07-30T15:26:34.415560Z",
     "start_time": "2019-07-30T15:26:34.406629Z"
    }
   },
   "outputs": [
    {
     "data": {
      "text/plain": [
       "array([[3, 0],\n",
       "       [1, 2]], dtype=int64)"
      ]
     },
     "execution_count": 12,
     "metadata": {},
     "output_type": "execute_result"
    }
   ],
   "source": [
    "## 超參數設定\n",
    "LEARNING_RATE = 1e-3\n",
    "EPOCHS = 50\n",
    "BATCH_SIZE = 1024\n",
    "MOMENTUM = 0.95"
   ]
  },
  {
   "cell_type": "code",
   "execution_count": 14,
   "metadata": {
    "ExecuteTime": {
     "end_time": "2019-07-30T22:58:19.120166Z",
     "start_time": "2019-07-30T22:58:19.094372Z"
    }
   },
   "outputs": [],
   "source": [
    "# 載入 Callbacks\n",
    "from keras.callbacks import Callback\n",
    "from sklearn.metrics import confusion_matrix\n",
    "import numpy as np\n",
    "\n",
    "# Record_fp_tp\n",
    "class Record_tp_tn(Callback):\n",
    "    \"\"\"Define a callback function to collect tp/tn, named Record_fp_tp.\n",
    "    \n",
    "    \"\"\"\n",
    "    def on_train_begin(self, logs={}):\n",
    "        logs = logs or {}\n",
    "        record_items = ['val_auc', 'val_f1sc', 'val_fp', 'val_fn', 'val_tp', 'val_tn']\n",
    "        for i in record_items:\n",
    "            if i not in self.params['metrics']:\n",
    "                self.params['metrics'].append(i)\n",
    "    \n",
    "    def on_epoch_end(self, epoch, logs={}, thres=0.5):\n",
    "        logs = logs or {}\n",
    "        y_true = self.validation_data[1].argmax(axis=1)\n",
    "        y_pred = self.model.predict(self.validation_data[0])\n",
    "        y_pred = (y_pred[:,1] >= thres) * 1\n",
    "        \n",
    "        confusion = confusion_matrix(y_true, y_pred)\n",
    "        FP = confusion.sum(axis=0) - np.diag(confusion)\n",
    "        FN = confusion.sum(axis=1) - np.diag(confusion)\n",
    "        TP = np.diag(confusion)\n",
    "        TN = confusion.sum() - (FP + FN + TP)\n",
    "        \n",
    "        logs['val_tp'] = TP / (TP + FN)\n",
    "        logs['val_tn'] = TN / (TN + FP)\n",
    "        \n",
    "rec_tptn = Record_tp_tn()"
   ]
  },
  {
   "cell_type": "code",
   "execution_count": 15,
   "metadata": {
    "ExecuteTime": {
     "end_time": "2019-07-30T23:03:39.397230Z",
     "start_time": "2019-07-30T23:00:20.982683Z"
    },
    "scrolled": true
   },
   "outputs": [
    {
     "name": "stdout",
     "output_type": "stream",
     "text": [
      "_________________________________________________________________\n",
      "Layer (type)                 Output Shape              Param #   \n",
      "=================================================================\n",
      "input_2 (InputLayer)         (None, 3072)              0         \n",
      "_________________________________________________________________\n",
      "hidden_layer1 (Dense)        (None, 512)               1573376   \n",
      "_________________________________________________________________\n",
      "batch_normalization_4 (Batch (None, 512)               2048      \n",
      "_________________________________________________________________\n",
      "hidden_layer2 (Dense)        (None, 256)               131328    \n",
      "_________________________________________________________________\n",
      "batch_normalization_5 (Batch (None, 256)               1024      \n",
      "_________________________________________________________________\n",
      "hidden_layer3 (Dense)        (None, 128)               32896     \n",
      "_________________________________________________________________\n",
      "batch_normalization_6 (Batch (None, 128)               512       \n",
      "_________________________________________________________________\n",
      "output (Dense)               (None, 10)                1290      \n",
      "=================================================================\n",
      "Total params: 1,742,474\n",
      "Trainable params: 1,740,682\n",
      "Non-trainable params: 1,792\n",
      "_________________________________________________________________\n",
      "Train on 50000 samples, validate on 10000 samples\n",
      "Epoch 1/50\n",
      "50000/50000 [==============================] - 11s 223us/step - loss: 2.2373 - acc: 0.2615 - val_loss: 2.0655 - val_acc: 0.3365\n",
      "Epoch 2/50\n",
      "50000/50000 [==============================] - 3s 61us/step - loss: 1.7421 - acc: 0.3907 - val_loss: 1.8017 - val_acc: 0.3869\n",
      "Epoch 3/50\n",
      "50000/50000 [==============================] - 3s 61us/step - loss: 1.6156 - acc: 0.4316 - val_loss: 1.6845 - val_acc: 0.4101\n",
      "Epoch 4/50\n",
      "50000/50000 [==============================] - 3s 60us/step - loss: 1.5425 - acc: 0.4605 - val_loss: 1.6176 - val_acc: 0.4385\n",
      "Epoch 5/50\n",
      "50000/50000 [==============================] - 3s 64us/step - loss: 1.4883 - acc: 0.4779 - val_loss: 1.5933 - val_acc: 0.4430\n",
      "Epoch 6/50\n",
      "50000/50000 [==============================] - 3s 60us/step - loss: 1.4418 - acc: 0.4961 - val_loss: 1.5586 - val_acc: 0.4503\n",
      "Epoch 7/50\n",
      "50000/50000 [==============================] - 3s 65us/step - loss: 1.4014 - acc: 0.5095 - val_loss: 1.5443 - val_acc: 0.4570\n",
      "Epoch 8/50\n",
      "50000/50000 [==============================] - 3s 61us/step - loss: 1.3652 - acc: 0.5250 - val_loss: 1.5140 - val_acc: 0.4695\n",
      "Epoch 9/50\n",
      "50000/50000 [==============================] - 3s 65us/step - loss: 1.3318 - acc: 0.5373 - val_loss: 1.5070 - val_acc: 0.4731\n",
      "Epoch 10/50\n",
      "50000/50000 [==============================] - 3s 62us/step - loss: 1.3026 - acc: 0.5471 - val_loss: 1.4846 - val_acc: 0.4754\n",
      "Epoch 11/50\n",
      "50000/50000 [==============================] - 3s 61us/step - loss: 1.2723 - acc: 0.5598 - val_loss: 1.4846 - val_acc: 0.4763\n",
      "Epoch 12/50\n",
      "50000/50000 [==============================] - 3s 61us/step - loss: 1.2459 - acc: 0.5688 - val_loss: 1.4734 - val_acc: 0.4813\n",
      "Epoch 13/50\n",
      "50000/50000 [==============================] - 3s 59us/step - loss: 1.2199 - acc: 0.5757 - val_loss: 1.4680 - val_acc: 0.4833\n",
      "Epoch 14/50\n",
      "50000/50000 [==============================] - 3s 59us/step - loss: 1.1932 - acc: 0.5869 - val_loss: 1.4549 - val_acc: 0.4843\n",
      "Epoch 15/50\n",
      "50000/50000 [==============================] - 3s 59us/step - loss: 1.1678 - acc: 0.5981 - val_loss: 1.4533 - val_acc: 0.4896\n",
      "Epoch 16/50\n",
      "50000/50000 [==============================] - 3s 59us/step - loss: 1.1405 - acc: 0.6083 - val_loss: 1.4503 - val_acc: 0.4896\n",
      "Epoch 17/50\n",
      "50000/50000 [==============================] - 3s 60us/step - loss: 1.1195 - acc: 0.6165 - val_loss: 1.4673 - val_acc: 0.4861\n",
      "Epoch 18/50\n",
      "50000/50000 [==============================] - 3s 66us/step - loss: 1.0952 - acc: 0.6266 - val_loss: 1.4480 - val_acc: 0.4938\n",
      "Epoch 19/50\n",
      "50000/50000 [==============================] - 3s 61us/step - loss: 1.0736 - acc: 0.6350 - val_loss: 1.4515 - val_acc: 0.4884\n",
      "Epoch 20/50\n",
      "50000/50000 [==============================] - 3s 66us/step - loss: 1.0516 - acc: 0.6428 - val_loss: 1.4523 - val_acc: 0.4994\n",
      "Epoch 21/50\n",
      "50000/50000 [==============================] - 3s 65us/step - loss: 1.0286 - acc: 0.6516 - val_loss: 1.4532 - val_acc: 0.4913\n",
      "Epoch 22/50\n",
      "50000/50000 [==============================] - 3s 61us/step - loss: 1.0088 - acc: 0.6585 - val_loss: 1.4546 - val_acc: 0.4954\n",
      "Epoch 23/50\n",
      "50000/50000 [==============================] - 3s 60us/step - loss: 0.9863 - acc: 0.6685 - val_loss: 1.4852 - val_acc: 0.4832\n",
      "Epoch 24/50\n",
      "50000/50000 [==============================] - 3s 60us/step - loss: 0.9656 - acc: 0.6773 - val_loss: 1.4519 - val_acc: 0.4940\n",
      "Epoch 25/50\n",
      "50000/50000 [==============================] - 3s 60us/step - loss: 0.9456 - acc: 0.6828 - val_loss: 1.4605 - val_acc: 0.4926\n",
      "Epoch 26/50\n",
      "50000/50000 [==============================] - 3s 60us/step - loss: 0.9228 - acc: 0.6913 - val_loss: 1.4645 - val_acc: 0.4977\n",
      "Epoch 27/50\n",
      "50000/50000 [==============================] - 3s 60us/step - loss: 0.9032 - acc: 0.7002 - val_loss: 1.4636 - val_acc: 0.4984\n",
      "Epoch 28/50\n",
      "50000/50000 [==============================] - 3s 60us/step - loss: 0.8811 - acc: 0.7084 - val_loss: 1.4757 - val_acc: 0.4928\n",
      "Epoch 29/50\n",
      "50000/50000 [==============================] - 3s 60us/step - loss: 0.8624 - acc: 0.7146 - val_loss: 1.4736 - val_acc: 0.4956\n",
      "Epoch 30/50\n",
      "50000/50000 [==============================] - 3s 60us/step - loss: 0.8413 - acc: 0.7227 - val_loss: 1.4928 - val_acc: 0.4943\n",
      "Epoch 31/50\n",
      "50000/50000 [==============================] - 3s 66us/step - loss: 0.8203 - acc: 0.7331 - val_loss: 1.4735 - val_acc: 0.4952\n",
      "Epoch 32/50\n",
      "50000/50000 [==============================] - 3s 60us/step - loss: 0.7982 - acc: 0.7414 - val_loss: 1.4985 - val_acc: 0.4933\n",
      "Epoch 33/50\n",
      "50000/50000 [==============================] - 3s 60us/step - loss: 0.7809 - acc: 0.7469 - val_loss: 1.4964 - val_acc: 0.4930\n",
      "Epoch 34/50\n",
      "50000/50000 [==============================] - 3s 62us/step - loss: 0.7602 - acc: 0.7551 - val_loss: 1.5203 - val_acc: 0.4907\n",
      "Epoch 35/50\n",
      "50000/50000 [==============================] - 3s 64us/step - loss: 0.7421 - acc: 0.7629 - val_loss: 1.5445 - val_acc: 0.4910\n",
      "Epoch 36/50\n",
      "50000/50000 [==============================] - 3s 64us/step - loss: 0.7230 - acc: 0.7704 - val_loss: 1.5440 - val_acc: 0.4870\n",
      "Epoch 37/50\n",
      "50000/50000 [==============================] - 3s 67us/step - loss: 0.7011 - acc: 0.7797 - val_loss: 1.5292 - val_acc: 0.4988\n",
      "Epoch 38/50\n",
      "50000/50000 [==============================] - 3s 61us/step - loss: 0.6805 - acc: 0.7877 - val_loss: 1.5444 - val_acc: 0.4895\n",
      "Epoch 39/50\n",
      "50000/50000 [==============================] - 3s 62us/step - loss: 0.6644 - acc: 0.7936 - val_loss: 1.5559 - val_acc: 0.4881\n",
      "Epoch 40/50\n",
      "50000/50000 [==============================] - 3s 62us/step - loss: 0.6446 - acc: 0.8022 - val_loss: 1.5856 - val_acc: 0.4819\n",
      "Epoch 41/50\n",
      "50000/50000 [==============================] - 3s 66us/step - loss: 0.6291 - acc: 0.8094 - val_loss: 1.5726 - val_acc: 0.4899\n",
      "Epoch 42/50\n",
      "50000/50000 [==============================] - 3s 61us/step - loss: 0.6090 - acc: 0.8154 - val_loss: 1.5892 - val_acc: 0.4902\n",
      "Epoch 43/50\n",
      "50000/50000 [==============================] - 3s 66us/step - loss: 0.5910 - acc: 0.8239 - val_loss: 1.5895 - val_acc: 0.4888\n",
      "Epoch 44/50\n",
      "50000/50000 [==============================] - 3s 62us/step - loss: 0.5732 - acc: 0.8299 - val_loss: 1.6222 - val_acc: 0.4854\n",
      "Epoch 45/50\n",
      "50000/50000 [==============================] - 3s 62us/step - loss: 0.5567 - acc: 0.8382 - val_loss: 1.6257 - val_acc: 0.4869\n",
      "Epoch 46/50\n",
      "50000/50000 [==============================] - 3s 66us/step - loss: 0.5398 - acc: 0.8441 - val_loss: 1.6179 - val_acc: 0.4944\n",
      "Epoch 47/50\n",
      "50000/50000 [==============================] - 3s 62us/step - loss: 0.5200 - acc: 0.8514 - val_loss: 1.6413 - val_acc: 0.4895\n",
      "Epoch 48/50\n",
      "50000/50000 [==============================] - 3s 61us/step - loss: 0.5046 - acc: 0.8574 - val_loss: 1.6657 - val_acc: 0.4887\n",
      "Epoch 49/50\n",
      "50000/50000 [==============================] - 3s 61us/step - loss: 0.4869 - acc: 0.8656 - val_loss: 1.6657 - val_acc: 0.4865\n"
     ]
    },
    {
     "name": "stdout",
     "output_type": "stream",
     "text": [
      "Epoch 50/50\n",
      "50000/50000 [==============================] - 3s 59us/step - loss: 0.4701 - acc: 0.8717 - val_loss: 1.7045 - val_acc: 0.4800\n"
     ]
    }
   ],
   "source": [
    "model = build_mlp(input_shape=x_train.shape[1:])\n",
    "model.summary()\n",
    "optimizer = keras.optimizers.SGD(lr=LEARNING_RATE, nesterov=True, momentum=MOMENTUM)\n",
    "model.compile(loss=\"categorical_crossentropy\", metrics=[\"accuracy\"], optimizer=optimizer)\n",
    "\n",
    "\"\"\"\n",
    "To do:\n",
    "Fit the model with rec_tptn callback_fn\n",
    "\"\"\"\n",
    "model.fit(x_train, y_train,\n",
    "         epochs=EPOCHS,\n",
    "         batch_size=BATCH_SIZE,\n",
    "         validation_data=(x_test, y_test),\n",
    "         shuffle=True,\n",
    "         callbacks=[rec_tptn])\n",
    "\n",
    "# Collect results\n",
    "train_loss = model.history.history[\"loss\"]\n",
    "valid_loss = model.history.history[\"val_loss\"]\n",
    "train_acc = model.history.history[\"acc\"]\n",
    "valid_acc = model.history.history[\"val_acc\"]\n",
    "\n",
    "\"\"\"\n",
    "To do:\n",
    "Collect tp/tn from model history\n",
    "\"\"\"\n",
    "valid_tp = model.history.history['val_tp']\n",
    "valid_tn = model.history.history['val_tn']"
   ]
  },
  {
   "cell_type": "code",
   "execution_count": 18,
   "metadata": {
    "ExecuteTime": {
     "end_time": "2019-07-30T23:04:22.609024Z",
     "start_time": "2019-07-30T23:04:22.585216Z"
    }
   },
   "outputs": [
    {
     "data": {
      "text/plain": [
       "[array([0.99 , 0.166, 0.   , 0.   , 0.   , 0.   , 0.   , 0.   , 0.   ,\n",
       "        0.   ]),\n",
       " array([0.98 , 0.286, 0.   , 0.   , 0.   , 0.   , 0.   , 0.   , 0.   ,\n",
       "        0.   ]),\n",
       " array([0.984, 0.309, 0.   , 0.   , 0.   , 0.   , 0.   , 0.   , 0.   ,\n",
       "        0.   ]),\n",
       " array([0.984, 0.343, 0.   , 0.   , 0.   , 0.   , 0.   , 0.   , 0.   ,\n",
       "        0.   ]),\n",
       " array([0.983, 0.359, 0.   , 0.   , 0.   , 0.   , 0.   , 0.   , 0.   ,\n",
       "        0.   ]),\n",
       " array([0.979, 0.407, 0.   , 0.   , 0.   , 0.   , 0.   , 0.   , 0.   ,\n",
       "        0.   ]),\n",
       " array([0.975, 0.453, 0.   , 0.   , 0.   , 0.   , 0.   , 0.   , 0.   ,\n",
       "        0.   ]),\n",
       " array([0.984, 0.426, 0.   , 0.   , 0.   , 0.   , 0.   , 0.   , 0.   ,\n",
       "        0.   ]),\n",
       " array([0.988, 0.403, 0.   , 0.   , 0.   , 0.   , 0.   , 0.   , 0.   ,\n",
       "        0.   ]),\n",
       " array([0.986, 0.373, 0.   , 0.   , 0.   , 0.   , 0.   , 0.   , 0.   ,\n",
       "        0.   ]),\n",
       " array([0.975, 0.475, 0.   , 0.   , 0.   , 0.   , 0.   , 0.   , 0.   ,\n",
       "        0.   ]),\n",
       " array([0.986, 0.43 , 0.   , 0.   , 0.   , 0.   , 0.   , 0.   , 0.   ,\n",
       "        0.   ]),\n",
       " array([0.988, 0.416, 0.   , 0.   , 0.   , 0.   , 0.   , 0.   , 0.   ,\n",
       "        0.   ]),\n",
       " array([0.991, 0.407, 0.   , 0.   , 0.   , 0.   , 0.   , 0.   , 0.   ,\n",
       "        0.   ]),\n",
       " array([0.982, 0.471, 0.   , 0.   , 0.   , 0.   , 0.   , 0.   , 0.   ,\n",
       "        0.   ]),\n",
       " array([0.985, 0.48 , 0.   , 0.   , 0.   , 0.   , 0.   , 0.   , 0.   ,\n",
       "        0.   ]),\n",
       " array([0.975, 0.524, 0.   , 0.   , 0.   , 0.   , 0.   , 0.   , 0.   ,\n",
       "        0.   ]),\n",
       " array([0.985, 0.433, 0.   , 0.   , 0.   , 0.   , 0.   , 0.   , 0.   ,\n",
       "        0.   ]),\n",
       " array([0.981, 0.499, 0.   , 0.   , 0.   , 0.   , 0.   , 0.   , 0.   ,\n",
       "        0.   ]),\n",
       " array([0.976, 0.519, 0.   , 0.   , 0.   , 0.   , 0.   , 0.   , 0.   ,\n",
       "        0.   ]),\n",
       " array([0.984, 0.457, 0.   , 0.   , 0.   , 0.   , 0.   , 0.   , 0.   ,\n",
       "        0.   ]),\n",
       " array([0.979, 0.498, 0.   , 0.   , 0.   , 0.   , 0.   , 0.   , 0.   ,\n",
       "        0.   ]),\n",
       " array([0.979, 0.471, 0.   , 0.   , 0.   , 0.   , 0.   , 0.   , 0.   ,\n",
       "        0.   ]),\n",
       " array([0.989, 0.466, 0.   , 0.   , 0.   , 0.   , 0.   , 0.   , 0.   ,\n",
       "        0.   ]),\n",
       " array([0.982, 0.464, 0.   , 0.   , 0.   , 0.   , 0.   , 0.   , 0.   ,\n",
       "        0.   ]),\n",
       " array([0.979, 0.49 , 0.   , 0.   , 0.   , 0.   , 0.   , 0.   , 0.   ,\n",
       "        0.   ]),\n",
       " array([0.978, 0.522, 0.   , 0.   , 0.   , 0.   , 0.   , 0.   , 0.   ,\n",
       "        0.   ]),\n",
       " array([0.979, 0.513, 0.   , 0.   , 0.   , 0.   , 0.   , 0.   , 0.   ,\n",
       "        0.   ]),\n",
       " array([0.986, 0.448, 0.   , 0.   , 0.   , 0.   , 0.   , 0.   , 0.   ,\n",
       "        0.   ]),\n",
       " array([0.975, 0.521, 0.   , 0.   , 0.   , 0.   , 0.   , 0.   , 0.   ,\n",
       "        0.   ]),\n",
       " array([0.978, 0.533, 0.   , 0.   , 0.   , 0.   , 0.   , 0.   , 0.   ,\n",
       "        0.   ]),\n",
       " array([0.985, 0.459, 0.   , 0.   , 0.   , 0.   , 0.   , 0.   , 0.   ,\n",
       "        0.   ]),\n",
       " array([0.981, 0.488, 0.   , 0.   , 0.   , 0.   , 0.   , 0.   , 0.   ,\n",
       "        0.   ]),\n",
       " array([0.967, 0.574, 0.   , 0.   , 0.   , 0.   , 0.   , 0.   , 0.   ,\n",
       "        0.   ]),\n",
       " array([0.982, 0.476, 0.   , 0.   , 0.   , 0.   , 0.   , 0.   , 0.   ,\n",
       "        0.   ]),\n",
       " array([0.975, 0.517, 0.   , 0.   , 0.   , 0.   , 0.   , 0.   , 0.   ,\n",
       "        0.   ]),\n",
       " array([0.976, 0.514, 0.   , 0.   , 0.   , 0.   , 0.   , 0.   , 0.   ,\n",
       "        0.   ]),\n",
       " array([0.979, 0.514, 0.   , 0.   , 0.   , 0.   , 0.   , 0.   , 0.   ,\n",
       "        0.   ]),\n",
       " array([0.981, 0.473, 0.   , 0.   , 0.   , 0.   , 0.   , 0.   , 0.   ,\n",
       "        0.   ]),\n",
       " array([0.958, 0.589, 0.   , 0.   , 0.   , 0.   , 0.   , 0.   , 0.   ,\n",
       "        0.   ]),\n",
       " array([0.962, 0.558, 0.   , 0.   , 0.   , 0.   , 0.   , 0.   , 0.   ,\n",
       "        0.   ]),\n",
       " array([0.968, 0.548, 0.   , 0.   , 0.   , 0.   , 0.   , 0.   , 0.   ,\n",
       "        0.   ]),\n",
       " array([0.968, 0.533, 0.   , 0.   , 0.   , 0.   , 0.   , 0.   , 0.   ,\n",
       "        0.   ]),\n",
       " array([0.967, 0.562, 0.   , 0.   , 0.   , 0.   , 0.   , 0.   , 0.   ,\n",
       "        0.   ]),\n",
       " array([0.964, 0.541, 0.   , 0.   , 0.   , 0.   , 0.   , 0.   , 0.   ,\n",
       "        0.   ]),\n",
       " array([0.969, 0.52 , 0.   , 0.   , 0.   , 0.   , 0.   , 0.   , 0.   ,\n",
       "        0.   ]),\n",
       " array([0.97 , 0.507, 0.   , 0.   , 0.   , 0.   , 0.   , 0.   , 0.   ,\n",
       "        0.   ]),\n",
       " array([0.972, 0.513, 0.   , 0.   , 0.   , 0.   , 0.   , 0.   , 0.   ,\n",
       "        0.   ]),\n",
       " array([0.971, 0.533, 0.   , 0.   , 0.   , 0.   , 0.   , 0.   , 0.   ,\n",
       "        0.   ]),\n",
       " array([0.978, 0.486, 0.   , 0.   , 0.   , 0.   , 0.   , 0.   , 0.   ,\n",
       "        0.   ])]"
      ]
     },
     "execution_count": 18,
     "metadata": {},
     "output_type": "execute_result"
    }
   ],
   "source": [
    "valid_tp"
   ]
  },
  {
   "cell_type": "code",
   "execution_count": null,
   "metadata": {},
   "outputs": [],
   "source": []
  },
  {
   "cell_type": "code",
   "execution_count": 16,
   "metadata": {
    "ExecuteTime": {
     "end_time": "2019-07-30T23:03:41.678408Z",
     "start_time": "2019-07-30T23:03:41.102137Z"
    }
   },
   "outputs": [
    {
     "data": {
      "image/png": "[encoded data removed]",
      "text/plain": [
       "<Figure size 432x288 with 1 Axes>"
      ]
     },
     "metadata": {
      "needs_background": "light"
     },
     "output_type": "display_data"
    },
    {
     "data": {
      "image/png": "[encoded data removed]",
      "text/plain": [
       "<Figure size 432x288 with 1 Axes>"
      ]
     },
     "metadata": {
      "needs_background": "light"
     },
     "output_type": "display_data"
    },
    {
     "data": {
      "image/png": "[encoded data removed]",
      "text/plain": [
       "<Figure size 432x288 with 1 Axes>"
      ]
     },
     "metadata": {
      "needs_background": "light"
     },
     "output_type": "display_data"
    }
   ],
   "source": [
    "import matplotlib.pyplot as plt\n",
    "%matplotlib inline\n",
    "\n",
    "plt.plot(range(len(train_loss)), train_loss, label=\"train loss\")\n",
    "plt.plot(range(len(valid_loss)), valid_loss, label=\"valid loss\")\n",
    "plt.legend()\n",
    "plt.title(\"Loss\")\n",
    "plt.show()\n",
    "\n",
    "plt.plot(range(len(train_acc)), train_acc, label=\"train accuracy\")\n",
    "plt.plot(range(len(valid_acc)), valid_acc, label=\"valid accuracy\")\n",
    "plt.legend()\n",
    "plt.title(\"Accuracy\")\n",
    "plt.show()\n",
    "\n",
    "plt.plot(range(len(valid_tp)), valid_tp, label=\"valid tp\", color=\"navy\")\n",
    "plt.plot(range(len(valid_tn)), valid_tn, label=\"valid tn\", color=\"red\")\n",
    "plt.legend()\n",
    "plt.title(\"True positives and True Negatives\")\n",
    "plt.show()"
   ]
  },
  {
   "cell_type": "code",
   "execution_count": null,
   "metadata": {},
   "outputs": [],
   "source": []
  }
 ],
 "metadata": {
  "kernelspec": {
   "display_name": "Python 3",
   "language": "python",
   "name": "python3"
  },
  "language_info": {
   "codemirror_mode": {
    "name": "ipython",
    "version": 3
   },
   "file_extension": ".py",
   "mimetype": "text/x-python",
   "name": "python",
   "nbconvert_exporter": "python",
   "pygments_lexer": "ipython3",
   "version": "3.7.3"
  },
  "toc": {
   "base_numbering": 1,
   "nav_menu": {},
   "number_sections": true,
   "sideBar": true,
   "skip_h1_title": false,
   "title_cell": "Table of Contents",
   "title_sidebar": "Contents",
   "toc_cell": false,
   "toc_position": {},
   "toc_section_display": true,
   "toc_window_display": false
  },
  "varInspector": {
   "cols": {
    "lenName": 16,
    "lenType": 16,
    "lenVar": 40
   },
   "kernels_config": {
    "python": {
     "delete_cmd_postfix": "",
     "delete_cmd_prefix": "del ",
     "library": "var_list.py",
     "varRefreshCmd": "print(var_dic_list())"
    },
    "r": {
     "delete_cmd_postfix": ") ",
     "delete_cmd_prefix": "rm(",
     "library": "var_list.r",
     "varRefreshCmd": "cat(var_dic_list()) "
    }
   },
   "types_to_exclude": [
    "module",
    "function",
    "builtin_function_or_method",
    "instance",
    "_Feature"
   ],
   "window_display": false
  }
 },
 "nbformat": 4,
 "nbformat_minor": 2
}
