{
 "cells": [
  {
   "cell_type": "markdown",
   "metadata": {},
   "source": [
    "# 範例"
   ]
  },
  {
   "cell_type": "code",
   "execution_count": 1,
   "metadata": {
    "ExecuteTime": {
     "end_time": "2019-07-16T13:08:28.560906Z",
     "start_time": "2019-07-16T13:08:24.594013Z"
    }
   },
   "outputs": [
    {
     "name": "stderr",
     "output_type": "stream",
     "text": [
      "Using TensorFlow backend.\n"
     ]
    }
   ],
   "source": [
    "#  Import Library\n",
    "from keras.datasets import cifar10\n",
    "import numpy as np\n",
    "np.random.seed(10)"
   ]
  },
  {
   "cell_type": "markdown",
   "metadata": {},
   "source": [
    "## 資料準備"
   ]
  },
  {
   "cell_type": "code",
   "execution_count": 2,
   "metadata": {
    "ExecuteTime": {
     "end_time": "2019-07-16T13:08:30.648048Z",
     "start_time": "2019-07-16T13:08:30.341904Z"
    }
   },
   "outputs": [],
   "source": [
    "#取得Keras Dataset\n",
    "(x_img_train,y_label_train),(x_img_test,y_label_test)=cifar10.load_data()"
   ]
  },
  {
   "cell_type": "code",
   "execution_count": 3,
   "metadata": {
    "ExecuteTime": {
     "end_time": "2019-07-16T13:08:30.701905Z",
     "start_time": "2019-07-16T13:08:30.695922Z"
    }
   },
   "outputs": [
    {
     "name": "stdout",
     "output_type": "stream",
     "text": [
      "train data: images: (50000, 32, 32, 3)  labels: (50000, 1)\n",
      "test  data: images: (10000, 32, 32, 3)  labels: (10000, 1)\n"
     ]
    }
   ],
   "source": [
    "#確認 CIFAR10 Dataset 資料維度\n",
    "print(\"train data:\",'images:',x_img_train.shape,\n",
    "      \" labels:\",y_label_train.shape) \n",
    "print(\"test  data:\",'images:',x_img_test.shape ,\n",
    "      \" labels:\",y_label_test.shape) "
   ]
  },
  {
   "cell_type": "code",
   "execution_count": 4,
   "metadata": {
    "ExecuteTime": {
     "end_time": "2019-07-16T13:08:31.501816Z",
     "start_time": "2019-07-16T13:08:30.767731Z"
    }
   },
   "outputs": [],
   "source": [
    "#資料正規化\n",
    "x_img_train_normalize = x_img_train.astype('float32') / 255.0\n",
    "x_img_test_normalize = x_img_test.astype('float32') / 255.0"
   ]
  },
  {
   "cell_type": "code",
   "execution_count": 5,
   "metadata": {
    "ExecuteTime": {
     "end_time": "2019-07-16T13:08:31.594436Z",
     "start_time": "2019-07-16T13:08:31.577482Z"
    }
   },
   "outputs": [
    {
     "data": {
      "text/plain": [
       "(10000, 10)"
      ]
     },
     "execution_count": 5,
     "metadata": {},
     "output_type": "execute_result"
    }
   ],
   "source": [
    "#針對Label 做 ONE HOT ENCODE\n",
    "from keras.utils import np_utils\n",
    "y_label_train_OneHot = np_utils.to_categorical(y_label_train)\n",
    "y_label_test_OneHot = np_utils.to_categorical(y_label_test)\n",
    "y_label_test_OneHot.shape"
   ]
  },
  {
   "cell_type": "markdown",
   "metadata": {},
   "source": [
    "# 建立模型"
   ]
  },
  {
   "cell_type": "code",
   "execution_count": 6,
   "metadata": {
    "ExecuteTime": {
     "end_time": "2019-07-16T13:08:33.667507Z",
     "start_time": "2019-07-16T13:08:33.664006Z"
    }
   },
   "outputs": [],
   "source": [
    "from keras.models import Sequential\n",
    "from keras.layers import Dense, Dropout, Activation, Flatten\n",
    "from keras.layers import Conv2D, MaxPooling2D, ZeroPadding2D"
   ]
  },
  {
   "cell_type": "code",
   "execution_count": 7,
   "metadata": {
    "ExecuteTime": {
     "end_time": "2019-07-16T13:08:33.852381Z",
     "start_time": "2019-07-16T13:08:33.828482Z"
    }
   },
   "outputs": [
    {
     "name": "stderr",
     "output_type": "stream",
     "text": [
      "WARNING: Logging before flag parsing goes to stderr.\n",
      "W0716 21:08:33.830475  7848 deprecation_wrapper.py:119] From C:\\ProgramData\\Anaconda3\\envs\\TensorFlow\\lib\\site-packages\\keras\\backend\\tensorflow_backend.py:74: The name tf.get_default_graph is deprecated. Please use tf.compat.v1.get_default_graph instead.\n",
      "\n"
     ]
    }
   ],
   "source": [
    "model = Sequential()"
   ]
  },
  {
   "cell_type": "code",
   "execution_count": 8,
   "metadata": {
    "ExecuteTime": {
     "end_time": "2019-07-16T13:08:34.098882Z",
     "start_time": "2019-07-16T13:08:34.027075Z"
    }
   },
   "outputs": [
    {
     "name": "stderr",
     "output_type": "stream",
     "text": [
      "W0716 21:08:34.030081  7848 deprecation_wrapper.py:119] From C:\\ProgramData\\Anaconda3\\envs\\TensorFlow\\lib\\site-packages\\keras\\backend\\tensorflow_backend.py:517: The name tf.placeholder is deprecated. Please use tf.compat.v1.placeholder instead.\n",
      "\n",
      "W0716 21:08:34.034056  7848 deprecation_wrapper.py:119] From C:\\ProgramData\\Anaconda3\\envs\\TensorFlow\\lib\\site-packages\\keras\\backend\\tensorflow_backend.py:4138: The name tf.random_uniform is deprecated. Please use tf.random.uniform instead.\n",
      "\n",
      "W0716 21:08:34.058990  7848 deprecation_wrapper.py:119] From C:\\ProgramData\\Anaconda3\\envs\\TensorFlow\\lib\\site-packages\\keras\\backend\\tensorflow_backend.py:133: The name tf.placeholder_with_default is deprecated. Please use tf.compat.v1.placeholder_with_default instead.\n",
      "\n",
      "W0716 21:08:34.072953  7848 deprecation.py:506] From C:\\ProgramData\\Anaconda3\\envs\\TensorFlow\\lib\\site-packages\\keras\\backend\\tensorflow_backend.py:3445: calling dropout (from tensorflow.python.ops.nn_ops) with keep_prob is deprecated and will be removed in a future version.\n",
      "Instructions for updating:\n",
      "Please use `rate` instead of `keep_prob`. Rate should be set to `rate = 1 - keep_prob`.\n"
     ]
    }
   ],
   "source": [
    "#卷積層1\n",
    "model.add(Conv2D(filters=32,\n",
    "                 kernel_size=(3,3),\n",
    "                 input_shape=(32, 32,3), \n",
    "                 activation='relu', \n",
    "                 padding='same'))\n",
    "model.add(Dropout(rate=0.25))"
   ]
  },
  {
   "cell_type": "code",
   "execution_count": 9,
   "metadata": {
    "ExecuteTime": {
     "end_time": "2019-07-16T13:08:35.986542Z",
     "start_time": "2019-07-16T13:08:35.969661Z"
    }
   },
   "outputs": [
    {
     "name": "stderr",
     "output_type": "stream",
     "text": [
      "W0716 21:08:35.971656  7848 deprecation_wrapper.py:119] From C:\\ProgramData\\Anaconda3\\envs\\TensorFlow\\lib\\site-packages\\keras\\backend\\tensorflow_backend.py:3976: The name tf.nn.max_pool is deprecated. Please use tf.nn.max_pool2d instead.\n",
      "\n"
     ]
    }
   ],
   "source": [
    "model.add(MaxPooling2D(pool_size=(2, 2)))"
   ]
  },
  {
   "cell_type": "code",
   "execution_count": 10,
   "metadata": {
    "ExecuteTime": {
     "end_time": "2019-07-16T13:08:36.222213Z",
     "start_time": "2019-07-16T13:08:36.218228Z"
    }
   },
   "outputs": [],
   "source": [
    "#卷積層2與池化層2"
   ]
  },
  {
   "cell_type": "code",
   "execution_count": 11,
   "metadata": {
    "ExecuteTime": {
     "end_time": "2019-07-16T13:08:36.673611Z",
     "start_time": "2019-07-16T13:08:36.619179Z"
    }
   },
   "outputs": [],
   "source": [
    "model.add(Conv2D(filters=64, kernel_size=(3, 3), \n",
    "                 activation='relu', padding='same'))\n",
    "model.add(Dropout(0.25))"
   ]
  },
  {
   "cell_type": "code",
   "execution_count": 12,
   "metadata": {
    "ExecuteTime": {
     "end_time": "2019-07-16T13:08:36.985956Z",
     "start_time": "2019-07-16T13:08:36.979935Z"
    }
   },
   "outputs": [],
   "source": [
    "model.add(MaxPooling2D(pool_size=(2, 2)))"
   ]
  },
  {
   "cell_type": "code",
   "execution_count": 13,
   "metadata": {
    "ExecuteTime": {
     "end_time": "2019-07-16T13:08:37.393675Z",
     "start_time": "2019-07-16T13:08:37.350565Z"
    }
   },
   "outputs": [],
   "source": [
    "#建立神經網路(平坦層、隱藏層、輸出層)\n",
    "model.add(Flatten())\n",
    "model.add(Dropout(rate=0.25))"
   ]
  },
  {
   "cell_type": "code",
   "execution_count": 14,
   "metadata": {
    "ExecuteTime": {
     "end_time": "2019-07-16T13:08:37.764073Z",
     "start_time": "2019-07-16T13:08:37.714167Z"
    }
   },
   "outputs": [],
   "source": [
    "model.add(Dense(1024, activation='relu'))\n",
    "model.add(Dropout(rate=0.25))"
   ]
  },
  {
   "cell_type": "code",
   "execution_count": 15,
   "metadata": {
    "ExecuteTime": {
     "end_time": "2019-07-16T13:08:38.200532Z",
     "start_time": "2019-07-16T13:08:38.172641Z"
    }
   },
   "outputs": [],
   "source": [
    "model.add(Dense(10, activation='softmax'))"
   ]
  },
  {
   "cell_type": "code",
   "execution_count": 16,
   "metadata": {
    "ExecuteTime": {
     "end_time": "2019-07-16T13:08:38.453117Z",
     "start_time": "2019-07-16T13:08:38.446145Z"
    }
   },
   "outputs": [
    {
     "name": "stdout",
     "output_type": "stream",
     "text": [
      "_________________________________________________________________\n",
      "Layer (type)                 Output Shape              Param #   \n",
      "=================================================================\n",
      "conv2d_1 (Conv2D)            (None, 32, 32, 32)        896       \n",
      "_________________________________________________________________\n",
      "dropout_1 (Dropout)          (None, 32, 32, 32)        0         \n",
      "_________________________________________________________________\n",
      "max_pooling2d_1 (MaxPooling2 (None, 16, 16, 32)        0         \n",
      "_________________________________________________________________\n",
      "conv2d_2 (Conv2D)            (None, 16, 16, 64)        18496     \n",
      "_________________________________________________________________\n",
      "dropout_2 (Dropout)          (None, 16, 16, 64)        0         \n",
      "_________________________________________________________________\n",
      "max_pooling2d_2 (MaxPooling2 (None, 8, 8, 64)          0         \n",
      "_________________________________________________________________\n",
      "flatten_1 (Flatten)          (None, 4096)              0         \n",
      "_________________________________________________________________\n",
      "dropout_3 (Dropout)          (None, 4096)              0         \n",
      "_________________________________________________________________\n",
      "dense_1 (Dense)              (None, 1024)              4195328   \n",
      "_________________________________________________________________\n",
      "dropout_4 (Dropout)          (None, 1024)              0         \n",
      "_________________________________________________________________\n",
      "dense_2 (Dense)              (None, 10)                10250     \n",
      "=================================================================\n",
      "Total params: 4,224,970\n",
      "Trainable params: 4,224,970\n",
      "Non-trainable params: 0\n",
      "_________________________________________________________________\n",
      "None\n"
     ]
    }
   ],
   "source": [
    "#檢查model 的STACK\n",
    "print(model.summary())"
   ]
  },
  {
   "cell_type": "markdown",
   "metadata": {},
   "source": [
    "# 載入之前訓練的模型"
   ]
  },
  {
   "cell_type": "code",
   "execution_count": 17,
   "metadata": {
    "ExecuteTime": {
     "end_time": "2019-07-16T13:08:58.527521Z",
     "start_time": "2019-07-16T13:08:58.511880Z"
    }
   },
   "outputs": [
    {
     "name": "stdout",
     "output_type": "stream",
     "text": [
      "載入模型失敗!開始訓練一個新模型\n"
     ]
    }
   ],
   "source": [
    "try:\n",
    "    model.load_weights(\"SaveModel/cifarCnnModel.h5\")\n",
    "    print(\"載入模型成功!繼續訓練模型\")\n",
    "except :    \n",
    "    print(\"載入模型失敗!開始訓練一個新模型\")"
   ]
  },
  {
   "cell_type": "markdown",
   "metadata": {},
   "source": [
    "# 訓練模型\n",
    "請分別選用\"categorical_crossentropy\", \"MSE\", \"binary_crossentropy\"\n",
    "\n",
    "查看Train/test accurancy and loss rate"
   ]
  },
  {
   "cell_type": "code",
   "execution_count": 23,
   "metadata": {
    "ExecuteTime": {
     "end_time": "2019-07-16T13:25:10.811740Z",
     "start_time": "2019-07-16T13:25:10.808411Z"
    }
   },
   "outputs": [],
   "source": [
    "model_categorical_crossentropy = model\n",
    "model_MSE = model\n",
    "model_binary_crossentropy = model"
   ]
  },
  {
   "cell_type": "markdown",
   "metadata": {},
   "source": [
    "## categorical_crossentropy"
   ]
  },
  {
   "cell_type": "code",
   "execution_count": 19,
   "metadata": {
    "ExecuteTime": {
     "end_time": "2019-07-16T13:25:09.451993Z",
     "start_time": "2019-07-16T13:17:02.155339Z"
    }
   },
   "outputs": [
    {
     "name": "stderr",
     "output_type": "stream",
     "text": [
      "W0716 21:17:02.157335  7848 deprecation_wrapper.py:119] From C:\\ProgramData\\Anaconda3\\envs\\TensorFlow\\lib\\site-packages\\keras\\optimizers.py:790: The name tf.train.Optimizer is deprecated. Please use tf.compat.v1.train.Optimizer instead.\n",
      "\n",
      "W0716 21:17:02.184303  7848 deprecation_wrapper.py:119] From C:\\ProgramData\\Anaconda3\\envs\\TensorFlow\\lib\\site-packages\\keras\\backend\\tensorflow_backend.py:3295: The name tf.log is deprecated. Please use tf.math.log instead.\n",
      "\n",
      "W0716 21:17:02.311139  7848 deprecation.py:323] From C:\\ProgramData\\Anaconda3\\envs\\TensorFlow\\lib\\site-packages\\tensorflow\\python\\ops\\math_grad.py:1250: add_dispatch_support.<locals>.wrapper (from tensorflow.python.ops.array_ops) is deprecated and will be removed in a future version.\n",
      "Instructions for updating:\n",
      "Use tf.where in 2.0, which has the same broadcast rule as np.where\n"
     ]
    },
    {
     "name": "stdout",
     "output_type": "stream",
     "text": [
      "Train on 40000 samples, validate on 10000 samples\n",
      "Epoch 1/10\n",
      "40000/40000 [==============================] - 54s 1ms/step - loss: 1.8138 - acc: 0.3421 - val_loss: 1.6163 - val_acc: 0.4551\n",
      "Epoch 2/10\n",
      "40000/40000 [==============================] - 48s 1ms/step - loss: 1.4492 - acc: 0.4775 - val_loss: 1.3863 - val_acc: 0.5357\n",
      "Epoch 3/10\n",
      "40000/40000 [==============================] - 48s 1ms/step - loss: 1.2952 - acc: 0.5396 - val_loss: 1.3027 - val_acc: 0.5811\n",
      "Epoch 4/10\n",
      "40000/40000 [==============================] - 48s 1ms/step - loss: 1.1875 - acc: 0.5799 - val_loss: 1.2130 - val_acc: 0.6138\n",
      "Epoch 5/10\n",
      "40000/40000 [==============================] - 48s 1ms/step - loss: 1.1011 - acc: 0.6096 - val_loss: 1.1467 - val_acc: 0.6348\n",
      "Epoch 6/10\n",
      "40000/40000 [==============================] - 48s 1ms/step - loss: 1.0319 - acc: 0.6346 - val_loss: 1.1093 - val_acc: 0.6310\n",
      "Epoch 7/10\n",
      "40000/40000 [==============================] - 48s 1ms/step - loss: 0.9684 - acc: 0.6575 - val_loss: 1.0550 - val_acc: 0.6594\n",
      "Epoch 8/10\n",
      "40000/40000 [==============================] - 48s 1ms/step - loss: 0.9160 - acc: 0.6760 - val_loss: 1.0061 - val_acc: 0.6754\n",
      "Epoch 9/10\n",
      "40000/40000 [==============================] - 48s 1ms/step - loss: 0.8681 - acc: 0.6962 - val_loss: 0.9825 - val_acc: 0.6749\n",
      "Epoch 10/10\n",
      "40000/40000 [==============================] - 49s 1ms/step - loss: 0.8151 - acc: 0.7126 - val_loss: 0.9615 - val_acc: 0.6834\n"
     ]
    }
   ],
   "source": [
    "model_categorical_crossentropy.compile(loss='categorical_crossentropy', optimizer='sgd', metrics=['accuracy'])\n",
    "train_history=model_categorical_crossentropy.fit(x_img_train_normalize, y_label_train_OneHot,\n",
    "                                                 validation_split=0.2,\n",
    "                                                 epochs=10, batch_size=16, verbose=1)  "
   ]
  },
  {
   "cell_type": "code",
   "execution_count": 20,
   "metadata": {
    "ExecuteTime": {
     "end_time": "2019-07-16T13:25:10.152483Z",
     "start_time": "2019-07-16T13:25:09.551724Z"
    }
   },
   "outputs": [],
   "source": [
    "import matplotlib.pyplot as plt\n",
    "def show_train_history(train_acc,test_acc):\n",
    "    plt.plot(train_history.history[train_acc])\n",
    "    plt.plot(train_history.history[test_acc])\n",
    "    plt.title('Train History')\n",
    "    plt.ylabel('Accuracy')\n",
    "    plt.xlabel('Epoch')\n",
    "    plt.legend(['train', 'test'], loc='upper left')\n",
    "    plt.show()"
   ]
  },
  {
   "cell_type": "code",
   "execution_count": 21,
   "metadata": {
    "ExecuteTime": {
     "end_time": "2019-07-16T13:25:10.465777Z",
     "start_time": "2019-07-16T13:25:10.262927Z"
    }
   },
   "outputs": [
    {
     "data": {
      "image/png": "[encoded data removed]",
      "text/plain": [
       "<Figure size 432x288 with 1 Axes>"
      ]
     },
     "metadata": {
      "needs_background": "light"
     },
     "output_type": "display_data"
    }
   ],
   "source": [
    "show_train_history('acc','val_acc')"
   ]
  },
  {
   "cell_type": "code",
   "execution_count": 22,
   "metadata": {
    "ExecuteTime": {
     "end_time": "2019-07-16T13:25:10.714696Z",
     "start_time": "2019-07-16T13:25:10.569581Z"
    }
   },
   "outputs": [
    {
     "data": {
      "image/png": "[encoded data removed]",
      "text/plain": [
       "<Figure size 432x288 with 1 Axes>"
      ]
     },
     "metadata": {
      "needs_background": "light"
     },
     "output_type": "display_data"
    }
   ],
   "source": [
    "show_train_history('loss','val_loss')"
   ]
  },
  {
   "cell_type": "markdown",
   "metadata": {},
   "source": [
    "## MSE"
   ]
  },
  {
   "cell_type": "code",
   "execution_count": 24,
   "metadata": {
    "ExecuteTime": {
     "end_time": "2019-07-16T13:33:50.724007Z",
     "start_time": "2019-07-16T13:25:16.231910Z"
    }
   },
   "outputs": [
    {
     "name": "stdout",
     "output_type": "stream",
     "text": [
      "Train on 40000 samples, validate on 10000 samples\n",
      "Epoch 1/10\n",
      "40000/40000 [==============================] - 50s 1ms/step - loss: 0.0350 - acc: 0.7483 - val_loss: 0.0420 - val_acc: 0.7075\n",
      "Epoch 2/10\n",
      "40000/40000 [==============================] - 51s 1ms/step - loss: 0.0342 - acc: 0.7562 - val_loss: 0.0417 - val_acc: 0.7072\n",
      "Epoch 3/10\n",
      "40000/40000 [==============================] - 49s 1ms/step - loss: 0.0339 - acc: 0.7568 - val_loss: 0.0414 - val_acc: 0.7117\n",
      "Epoch 4/10\n",
      "40000/40000 [==============================] - 49s 1ms/step - loss: 0.0335 - acc: 0.7626 - val_loss: 0.0411 - val_acc: 0.7124\n",
      "Epoch 5/10\n",
      "40000/40000 [==============================] - 48s 1ms/step - loss: 0.0331 - acc: 0.7644 - val_loss: 0.0408 - val_acc: 0.7160\n",
      "Epoch 6/10\n",
      "40000/40000 [==============================] - 54s 1ms/step - loss: 0.0328 - acc: 0.7637 - val_loss: 0.0408 - val_acc: 0.7149\n",
      "Epoch 7/10\n",
      "40000/40000 [==============================] - 52s 1ms/step - loss: 0.0325 - acc: 0.7675 - val_loss: 0.0406 - val_acc: 0.7174\n",
      "Epoch 8/10\n",
      "40000/40000 [==============================] - 52s 1ms/step - loss: 0.0325 - acc: 0.7688 - val_loss: 0.0407 - val_acc: 0.7143\n",
      "Epoch 9/10\n",
      "40000/40000 [==============================] - 54s 1ms/step - loss: 0.0323 - acc: 0.7708 - val_loss: 0.0405 - val_acc: 0.7179\n",
      "Epoch 10/10\n",
      "40000/40000 [==============================] - 55s 1ms/step - loss: 0.0322 - acc: 0.7699 - val_loss: 0.0406 - val_acc: 0.7146- acc: 0.77\n"
     ]
    }
   ],
   "source": [
    "model_MSE.compile(loss='MSE', optimizer='sgd', metrics=['accuracy'])\n",
    "train_history=model_MSE.fit(x_img_train_normalize, y_label_train_OneHot,\n",
    "                            validation_split=0.2,\n",
    "                            epochs=10, batch_size=16, verbose=1)  "
   ]
  },
  {
   "cell_type": "code",
   "execution_count": 25,
   "metadata": {
    "ExecuteTime": {
     "end_time": "2019-07-16T13:33:51.157848Z",
     "start_time": "2019-07-16T13:33:50.894552Z"
    }
   },
   "outputs": [
    {
     "data": {
      "image/png": "[encoded data removed]",
      "text/plain": [
       "<Figure size 432x288 with 1 Axes>"
      ]
     },
     "metadata": {
      "needs_background": "light"
     },
     "output_type": "display_data"
    }
   ],
   "source": [
    "show_train_history('acc','val_acc')"
   ]
  },
  {
   "cell_type": "code",
   "execution_count": 26,
   "metadata": {
    "ExecuteTime": {
     "end_time": "2019-07-16T13:33:51.556432Z",
     "start_time": "2019-07-16T13:33:51.325401Z"
    }
   },
   "outputs": [
    {
     "data": {
      "image/png": "[encoded data removed]",
      "text/plain": [
       "<Figure size 432x288 with 1 Axes>"
      ]
     },
     "metadata": {
      "needs_background": "light"
     },
     "output_type": "display_data"
    }
   ],
   "source": [
    "show_train_history('loss','val_loss')"
   ]
  },
  {
   "cell_type": "markdown",
   "metadata": {},
   "source": [
    "## binary _crossentropy"
   ]
  },
  {
   "cell_type": "code",
   "execution_count": 27,
   "metadata": {
    "ExecuteTime": {
     "end_time": "2019-07-16T13:43:04.824379Z",
     "start_time": "2019-07-16T13:33:51.694668Z"
    }
   },
   "outputs": [
    {
     "name": "stdout",
     "output_type": "stream",
     "text": [
      "Train on 40000 samples, validate on 10000 samples\n",
      "Epoch 1/10\n",
      "40000/40000 [==============================] - 56s 1ms/step - loss: 0.1105 - acc: 0.9569 - val_loss: 0.1386 - val_acc: 0.9466\n",
      "Epoch 2/10\n",
      "40000/40000 [==============================] - 55s 1ms/step - loss: 0.1099 - acc: 0.9571 - val_loss: 0.1377 - val_acc: 0.9470\n",
      "Epoch 3/10\n",
      "40000/40000 [==============================] - 55s 1ms/step - loss: 0.1082 - acc: 0.9579 - val_loss: 0.1391 - val_acc: 0.9465\n",
      "Epoch 4/10\n",
      "40000/40000 [==============================] - 55s 1ms/step - loss: 0.1070 - acc: 0.9581 - val_loss: 0.1368 - val_acc: 0.9475\n",
      "Epoch 5/10\n",
      "40000/40000 [==============================] - 55s 1ms/step - loss: 0.1058 - acc: 0.9587 - val_loss: 0.1356 - val_acc: 0.9478\n",
      "Epoch 6/10\n",
      "40000/40000 [==============================] - 55s 1ms/step - loss: 0.1039 - acc: 0.9597 - val_loss: 0.1354 - val_acc: 0.9478\n",
      "Epoch 7/10\n",
      "40000/40000 [==============================] - 56s 1ms/step - loss: 0.1026 - acc: 0.9602 - val_loss: 0.1342 - val_acc: 0.9484\n",
      "Epoch 8/10\n",
      "40000/40000 [==============================] - 58s 1ms/step - loss: 0.1012 - acc: 0.9606 - val_loss: 0.1338 - val_acc: 0.9488\n",
      "Epoch 9/10\n",
      "40000/40000 [==============================] - 55s 1ms/step - loss: 0.1010 - acc: 0.9606 - val_loss: 0.1333 - val_acc: 0.9489\n",
      "Epoch 10/10\n",
      "40000/40000 [==============================] - 53s 1ms/step - loss: 0.0988 - acc: 0.9616 - val_loss: 0.1323 - val_acc: 0.9493\n"
     ]
    }
   ],
   "source": [
    "model_binary_crossentropy.compile(loss='binary_crossentropy', optimizer='sgd', metrics=['accuracy'])\n",
    "train_history=model_binary_crossentropy.fit(x_img_train_normalize, y_label_train_OneHot,\n",
    "                                            validation_split=0.2,\n",
    "                                            epochs=10, batch_size=16, verbose=1)  "
   ]
  },
  {
   "cell_type": "code",
   "execution_count": 28,
   "metadata": {
    "ExecuteTime": {
     "end_time": "2019-07-16T13:43:05.147326Z",
     "start_time": "2019-07-16T13:43:04.964005Z"
    }
   },
   "outputs": [
    {
     "data": {
      "image/png": "[encoded data removed]",
      "text/plain": [
       "<Figure size 432x288 with 1 Axes>"
      ]
     },
     "metadata": {
      "needs_background": "light"
     },
     "output_type": "display_data"
    }
   ],
   "source": [
    "show_train_history('acc','val_acc')"
   ]
  },
  {
   "cell_type": "code",
   "execution_count": 29,
   "metadata": {
    "ExecuteTime": {
     "end_time": "2019-07-16T13:43:05.450026Z",
     "start_time": "2019-07-16T13:43:05.270961Z"
    }
   },
   "outputs": [
    {
     "data": {
      "image/png": "[encoded data removed]",
      "text/plain": [
       "<Figure size 432x288 with 1 Axes>"
      ]
     },
     "metadata": {
      "needs_background": "light"
     },
     "output_type": "display_data"
    }
   ],
   "source": [
    "show_train_history('loss','val_loss')"
   ]
  }
 ],
 "metadata": {
  "anaconda-cloud": {},
  "kernelspec": {
   "display_name": "Python 3",
   "language": "python",
   "name": "python3"
  },
  "toc": {
   "base_numbering": 1,
   "nav_menu": {},
   "number_sections": true,
   "sideBar": true,
   "skip_h1_title": false,
   "title_cell": "Table of Contents",
   "title_sidebar": "Contents",
   "toc_cell": false,
   "toc_position": {},
   "toc_section_display": true,
   "toc_window_display": false
  },
  "varInspector": {
   "cols": {
    "lenName": 16,
    "lenType": 16,
    "lenVar": 40
   },
   "kernels_config": {
    "python": {
     "delete_cmd_postfix": "",
     "delete_cmd_prefix": "del ",
     "library": "var_list.py",
     "varRefreshCmd": "print(var_dic_list())"
    },
    "r": {
     "delete_cmd_postfix": ") ",
     "delete_cmd_prefix": "rm(",
     "library": "var_list.r",
     "varRefreshCmd": "cat(var_dic_list()) "
    }
   },
   "types_to_exclude": [
    "module",
    "function",
    "builtin_function_or_method",
    "instance",
    "_Feature"
   ],
   "window_display": false
  }
 },
 "nbformat": 4,
 "nbformat_minor": 1
}
