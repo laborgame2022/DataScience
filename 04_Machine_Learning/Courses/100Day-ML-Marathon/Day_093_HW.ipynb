{
 "cells": [
  {
   "cell_type": "markdown",
   "metadata": {},
   "source": [
    "# 目標:\n",
    "    運用 Keras 模組建構CNN, 了解 CNN 的架構\n",
    "    \n",
    "    "
   ]
  },
  {
   "cell_type": "markdown",
   "metadata": {},
   "source": [
    "# 範例重點\n",
    "    CNN 模型必要的: Convolution, Pooling, Flatten, Fully connection, Output, "
   ]
  },
  {
   "cell_type": "code",
   "execution_count": 1,
   "metadata": {
    "ExecuteTime": {
     "end_time": "2019-08-05T04:28:26.187232Z",
     "start_time": "2019-08-05T04:28:22.061001Z"
    }
   },
   "outputs": [
    {
     "name": "stderr",
     "output_type": "stream",
     "text": [
      "Using TensorFlow backend.\n"
     ]
    },
    {
     "name": "stdout",
     "output_type": "stream",
     "text": [
      "2.2.4\n"
     ]
    }
   ],
   "source": [
    "#導入相關模組\n",
    "import keras\n",
    "from keras import layers\n",
    "from keras import models\n",
    "from keras.models import Sequential\n",
    "from keras.layers import Conv2D, Activation, MaxPooling2D, Flatten, Dense\n",
    "\n",
    "#確認keras 版本\n",
    "print(keras.__version__)"
   ]
  },
  {
   "cell_type": "markdown",
   "metadata": {},
   "source": [
    "## CNN"
   ]
  },
  {
   "cell_type": "code",
   "execution_count": 2,
   "metadata": {
    "ExecuteTime": {
     "end_time": "2019-08-05T04:28:28.946691Z",
     "start_time": "2019-08-05T04:28:28.896782Z"
    }
   },
   "outputs": [
    {
     "name": "stderr",
     "output_type": "stream",
     "text": [
      "WARNING: Logging before flag parsing goes to stderr.\n",
      "W0805 12:28:28.899773 11292 deprecation_wrapper.py:119] From C:\\ProgramData\\Anaconda3\\envs\\TensorFlow\\lib\\site-packages\\keras\\backend\\tensorflow_backend.py:74: The name tf.get_default_graph is deprecated. Please use tf.compat.v1.get_default_graph instead.\n",
      "\n",
      "W0805 12:28:28.924717 11292 deprecation_wrapper.py:119] From C:\\ProgramData\\Anaconda3\\envs\\TensorFlow\\lib\\site-packages\\keras\\backend\\tensorflow_backend.py:517: The name tf.placeholder is deprecated. Please use tf.compat.v1.placeholder instead.\n",
      "\n",
      "W0805 12:28:28.926711 11292 deprecation_wrapper.py:119] From C:\\ProgramData\\Anaconda3\\envs\\TensorFlow\\lib\\site-packages\\keras\\backend\\tensorflow_backend.py:4138: The name tf.random_uniform is deprecated. Please use tf.random.uniform instead.\n",
      "\n"
     ]
    }
   ],
   "source": [
    "#建立一個序列模型\n",
    "model = models.Sequential()\n",
    "#建立一個卷積層, 32 個內核, 內核大小 3x3, \n",
    "#輸入影像大小 28x28x1\n",
    "model.add(layers.Conv2D(32, (3, 3), input_shape=(28, 28, 1)))"
   ]
  },
  {
   "cell_type": "code",
   "execution_count": 3,
   "metadata": {
    "ExecuteTime": {
     "end_time": "2019-08-05T04:28:29.501344Z",
     "start_time": "2019-08-05T04:28:29.492935Z"
    }
   },
   "outputs": [
    {
     "name": "stderr",
     "output_type": "stream",
     "text": [
      "W0805 12:28:29.494930 11292 deprecation_wrapper.py:119] From C:\\ProgramData\\Anaconda3\\envs\\TensorFlow\\lib\\site-packages\\keras\\backend\\tensorflow_backend.py:3976: The name tf.nn.max_pool is deprecated. Please use tf.nn.max_pool2d instead.\n",
      "\n"
     ]
    }
   ],
   "source": [
    "#新增一池化層, 採用maxpooling\n",
    "model.add(MaxPooling2D(2,2))"
   ]
  },
  {
   "cell_type": "code",
   "execution_count": 4,
   "metadata": {
    "ExecuteTime": {
     "end_time": "2019-08-05T04:28:29.989949Z",
     "start_time": "2019-08-05T04:28:29.959066Z"
    }
   },
   "outputs": [],
   "source": [
    "#建立第二個卷積層, 池化層, \n",
    "#請注意, 不需要再輸入 input_shape\n",
    "model.add(layers.Conv2D(25, (3, 3)))\n",
    "model.add(MaxPooling2D(2,2))"
   ]
  },
  {
   "cell_type": "code",
   "execution_count": 5,
   "metadata": {
    "ExecuteTime": {
     "end_time": "2019-08-05T04:28:39.633048Z",
     "start_time": "2019-08-05T04:28:39.605184Z"
    }
   },
   "outputs": [],
   "source": [
    "#新增平坦層\n",
    "model.add(Flatten())"
   ]
  },
  {
   "cell_type": "code",
   "execution_count": 6,
   "metadata": {
    "ExecuteTime": {
     "end_time": "2019-08-05T04:28:48.080676Z",
     "start_time": "2019-08-05T04:28:48.036533Z"
    }
   },
   "outputs": [],
   "source": [
    "#建立一個全連接層\n",
    "model.add(Dense(units=100))\n",
    "model.add(Activation('relu'))\n",
    "\n",
    "#建立一個輸出層, 並採用softmax\n",
    "model.add(Dense(units=10))\n",
    "model.add(Activation('softmax'))"
   ]
  },
  {
   "cell_type": "code",
   "execution_count": 7,
   "metadata": {
    "ExecuteTime": {
     "end_time": "2019-08-05T04:29:01.709642Z",
     "start_time": "2019-08-05T04:29:01.703657Z"
    }
   },
   "outputs": [
    {
     "name": "stdout",
     "output_type": "stream",
     "text": [
      "_________________________________________________________________\n",
      "Layer (type)                 Output Shape              Param #   \n",
      "=================================================================\n",
      "conv2d_1 (Conv2D)            (None, 26, 26, 32)        320       \n",
      "_________________________________________________________________\n",
      "max_pooling2d_1 (MaxPooling2 (None, 13, 13, 32)        0         \n",
      "_________________________________________________________________\n",
      "conv2d_2 (Conv2D)            (None, 11, 11, 25)        7225      \n",
      "_________________________________________________________________\n",
      "max_pooling2d_2 (MaxPooling2 (None, 5, 5, 25)          0         \n",
      "_________________________________________________________________\n",
      "flatten_1 (Flatten)          (None, 625)               0         \n",
      "_________________________________________________________________\n",
      "dense_1 (Dense)              (None, 100)               62600     \n",
      "_________________________________________________________________\n",
      "activation_1 (Activation)    (None, 100)               0         \n",
      "_________________________________________________________________\n",
      "dense_2 (Dense)              (None, 10)                1010      \n",
      "_________________________________________________________________\n",
      "activation_2 (Activation)    (None, 10)                0         \n",
      "=================================================================\n",
      "Total params: 71,155\n",
      "Trainable params: 71,155\n",
      "Non-trainable params: 0\n",
      "_________________________________________________________________\n"
     ]
    }
   ],
   "source": [
    "#輸出模型的堆疊\n",
    "model.summary()"
   ]
  },
  {
   "cell_type": "markdown",
   "metadata": {},
   "source": [
    "## Dense"
   ]
  },
  {
   "cell_type": "code",
   "execution_count": 10,
   "metadata": {
    "ExecuteTime": {
     "end_time": "2019-08-05T04:32:17.566337Z",
     "start_time": "2019-08-05T04:32:17.508530Z"
    }
   },
   "outputs": [
    {
     "name": "stdout",
     "output_type": "stream",
     "text": [
      "_________________________________________________________________\n",
      "Layer (type)                 Output Shape              Param #   \n",
      "=================================================================\n",
      "dense_1 (Dense)              (None, 32)                25120     \n",
      "_________________________________________________________________\n",
      "dense_2 (Dense)              (None, 32)                1056      \n",
      "_________________________________________________________________\n",
      "activation_1 (Activation)    (None, 32)                0         \n",
      "_________________________________________________________________\n",
      "dense_3 (Dense)              (None, 10)                330       \n",
      "_________________________________________________________________\n",
      "activation_2 (Activation)    (None, 10)                0         \n",
      "=================================================================\n",
      "Total params: 26,506\n",
      "Trainable params: 26,506\n",
      "Non-trainable params: 0\n",
      "_________________________________________________________________\n"
     ]
    }
   ],
   "source": [
    "from keras.models import Sequential\n",
    "from keras.layers import Dense, Activation\n",
    "keras.backend.clear_session()\n",
    "model = Sequential([\n",
    "    Dense(32, input_shape=(784,)),\n",
    "    Dense(32),\n",
    "    Activation('relu'),\n",
    "    Dense(10),\n",
    "    Activation('softmax'),\n",
    "])\n",
    "model.summary()"
   ]
  },
  {
   "cell_type": "markdown",
   "metadata": {},
   "source": [
    "## CNN without Pooling"
   ]
  },
  {
   "cell_type": "code",
   "execution_count": 11,
   "metadata": {
    "ExecuteTime": {
     "end_time": "2019-08-05T04:36:33.798928Z",
     "start_time": "2019-08-05T04:36:33.791947Z"
    }
   },
   "outputs": [],
   "source": [
    "keras.backend.clear_session()"
   ]
  },
  {
   "cell_type": "code",
   "execution_count": 12,
   "metadata": {
    "ExecuteTime": {
     "end_time": "2019-08-05T04:37:52.032898Z",
     "start_time": "2019-08-05T04:37:51.956098Z"
    }
   },
   "outputs": [
    {
     "name": "stdout",
     "output_type": "stream",
     "text": [
      "_________________________________________________________________\n",
      "Layer (type)                 Output Shape              Param #   \n",
      "=================================================================\n",
      "conv2d_1 (Conv2D)            (None, 26, 26, 32)        320       \n",
      "_________________________________________________________________\n",
      "conv2d_2 (Conv2D)            (None, 24, 24, 25)        7225      \n",
      "_________________________________________________________________\n",
      "flatten_1 (Flatten)          (None, 14400)             0         \n",
      "_________________________________________________________________\n",
      "dense_1 (Dense)              (None, 100)               1440100   \n",
      "_________________________________________________________________\n",
      "activation_1 (Activation)    (None, 100)               0         \n",
      "_________________________________________________________________\n",
      "dense_2 (Dense)              (None, 10)                1010      \n",
      "_________________________________________________________________\n",
      "activation_2 (Activation)    (None, 10)                0         \n",
      "=================================================================\n",
      "Total params: 1,448,655\n",
      "Trainable params: 1,448,655\n",
      "Non-trainable params: 0\n",
      "_________________________________________________________________\n"
     ]
    }
   ],
   "source": [
    "#建立一個序列模型\n",
    "model = models.Sequential()\n",
    "#建立一個卷積層, 32 個內核, 內核大小 3x3, \n",
    "#輸入影像大小 28x28x1\n",
    "model.add(layers.Conv2D(32, (3, 3), input_shape=(28, 28, 1)))\n",
    "\n",
    "#新增一池化層, 採用maxpooling\n",
    "# model.add(MaxPooling2D(2,2))\n",
    "\n",
    "#建立第二個卷積層, 池化層, \n",
    "#請注意, 不需要再輸入 input_shape\n",
    "model.add(layers.Conv2D(25, (3, 3)))\n",
    "# model.add(MaxPooling2D(2,2))\n",
    "\n",
    "#新增平坦層\n",
    "model.add(Flatten())\n",
    "\n",
    "#建立一個全連接層\n",
    "model.add(Dense(units=100))\n",
    "model.add(Activation('relu'))\n",
    "\n",
    "#建立一個輸出層, 並採用softmax\n",
    "model.add(Dense(units=10))\n",
    "model.add(Activation('softmax'))\n",
    "\n",
    "#輸出模型的堆疊\n",
    "model.summary()"
   ]
  },
  {
   "cell_type": "markdown",
   "metadata": {},
   "source": [
    "# 作業¶\n",
    "(1)嘗試比對 Dense 與 layers.Conv2D 架構NN 的差異\n",
    "\n",
    "(2) 有沒有Pooling layer, 對於參數量的差異\n",
    "\n",
    "注意: input_shape 請勿修改"
   ]
  }
 ],
 "metadata": {
  "kernelspec": {
   "display_name": "Python 3",
   "language": "python",
   "name": "python3"
  },
  "toc": {
   "base_numbering": 1,
   "nav_menu": {},
   "number_sections": true,
   "sideBar": true,
   "skip_h1_title": false,
   "title_cell": "Table of Contents",
   "title_sidebar": "Contents",
   "toc_cell": false,
   "toc_position": {},
   "toc_section_display": true,
   "toc_window_display": false
  },
  "varInspector": {
   "cols": {
    "lenName": 16,
    "lenType": 16,
    "lenVar": 40
   },
   "kernels_config": {
    "python": {
     "delete_cmd_postfix": "",
     "delete_cmd_prefix": "del ",
     "library": "var_list.py",
     "varRefreshCmd": "print(var_dic_list())"
    },
    "r": {
     "delete_cmd_postfix": ") ",
     "delete_cmd_prefix": "rm(",
     "library": "var_list.r",
     "varRefreshCmd": "cat(var_dic_list()) "
    }
   },
   "types_to_exclude": [
    "module",
    "function",
    "builtin_function_or_method",
    "instance",
    "_Feature"
   ],
   "window_display": false
  }
 },
 "nbformat": 4,
 "nbformat_minor": 2
}
